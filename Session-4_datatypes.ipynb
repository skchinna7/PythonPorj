{
 "cells": [
  {
   "cell_type": "code",
   "execution_count": null,
   "id": "9265eeb9",
   "metadata": {},
   "outputs": [],
   "source": [
    "python ========== naresh it \n",
    "\n",
    "statistisc ======= theory by the time you should perfect python\n",
    "\n",
    "Data anlysis:  in python\n",
    "    \n",
    "SQL SQL+ data analysis\n",
    "\n",
    "Power BI \n",
    "\n",
    "any job\n",
    "\n",
    "application  as part of capstone project\n",
    "\n",
    "\n",
    "- digital :\n",
    "    \n",
    "    1.github: \n",
    "    2.linkidin\n",
    "    3.medium"
   ]
  },
  {
   "cell_type": "markdown",
   "id": "27b2d3db",
   "metadata": {},
   "source": [
    "**What are default data types**\n",
    "\n",
    "- int  (integer)\n",
    "\n",
    "- float (float)\n",
    "\n",
    "- bool  (boolean)\n",
    "\n",
    "- str  (string)\n",
    "\n",
    "- complex (complex conjugate)"
   ]
  },
  {
   "cell_type": "markdown",
   "id": "abeeb906",
   "metadata": {},
   "source": [
    "**How to import the packages**\n",
    "\n",
    "import package_name\n",
    "\n",
    "dir package_name\n",
    "\n",
    "help(package_name.method_name)\n",
    "\n",
    "\n"
   ]
  },
  {
   "cell_type": "markdown",
   "id": "006ca6e1",
   "metadata": {},
   "source": [
    "$Integer$"
   ]
  },
  {
   "cell_type": "code",
   "execution_count": 1,
   "id": "1184002c",
   "metadata": {},
   "outputs": [
    {
     "data": {
      "text/plain": [
       "int"
      ]
     },
     "execution_count": 1,
     "metadata": {},
     "output_type": "execute_result"
    }
   ],
   "source": [
    "num=1000\n",
    "type(num)"
   ]
  },
  {
   "cell_type": "markdown",
   "id": "64924ae9",
   "metadata": {},
   "source": [
    "under integer we have 4 number systetms\n",
    "\n",
    "- binary\n",
    "\n",
    "- octal\n",
    "\n",
    "- decimal\n",
    "\n",
    "- hexa\n",
    "\n",
    "\n",
    "The default number system decimal"
   ]
  },
  {
   "cell_type": "markdown",
   "id": "15230172",
   "metadata": {},
   "source": [
    "$binary$\n",
    "\n",
    "- binary means two digits only\n",
    "\n",
    "- the allowed digits are 0 and 1\n",
    "\n",
    "- represent by 'b'  or   'B'\n",
    "\n",
    "- example:  0b010, 0B111\n",
    "    \n",
    "- is 0b10002  = not a binary number\n",
    "\n",
    "- in python the default answer in the form of decimal only"
   ]
  },
  {
   "cell_type": "code",
   "execution_count": 2,
   "id": "ad6d0166",
   "metadata": {},
   "outputs": [
    {
     "data": {
      "text/plain": [
       "8"
      ]
     },
     "execution_count": 2,
     "metadata": {},
     "output_type": "execute_result"
    }
   ],
   "source": [
    "0b 1000\n",
    "\n",
    "# how many digits are there after b=4 {0,1,2,3}\n",
    "# 2^3=8    2^2=4    2^1=2    2^0=1\n",
    "# in your mind:    8     4    2    1\n",
    "# check the postions of 1's\n"
   ]
  },
  {
   "cell_type": "code",
   "execution_count": 4,
   "id": "11136b0c",
   "metadata": {},
   "outputs": [
    {
     "data": {
      "text/plain": [
       "18"
      ]
     },
     "execution_count": 4,
     "metadata": {},
     "output_type": "execute_result"
    }
   ],
   "source": [
    "0b10010\n",
    "# 5 digits are there (0,1,2,3,4)\n",
    "#  2^4      2^3       2^2       2^1      2^0\n",
    "#  16*1  +  8*0  +   4*0   +   2*1  +   1*0\n",
    "#   16   +   0   +    0    +    2   +    0= 18"
   ]
  },
  {
   "cell_type": "code",
   "execution_count": 5,
   "id": "6cadc43e",
   "metadata": {},
   "outputs": [
    {
     "ename": "SyntaxError",
     "evalue": "invalid digit '2' in binary literal (1056624435.py, line 1)",
     "output_type": "error",
     "traceback": [
      "\u001b[1;36m  Cell \u001b[1;32mIn [5], line 1\u001b[1;36m\u001b[0m\n\u001b[1;33m    0b1002\u001b[0m\n\u001b[1;37m         ^\u001b[0m\n\u001b[1;31mSyntaxError\u001b[0m\u001b[1;31m:\u001b[0m invalid digit '2' in binary literal\n"
     ]
    }
   ],
   "source": [
    "0b1002"
   ]
  },
  {
   "cell_type": "markdown",
   "id": "86fb4f48",
   "metadata": {},
   "source": [
    "$Octal$:\n",
    "    \n",
    "- octal means 8 digits only\n",
    "\n",
    "- the allowed digits are 0 to 7 : [0,1,2,3,4,5,6,7]\n",
    "\n",
    "- represent by 'o'  or   'O'\n",
    "\n",
    "- example:  0o123, 0o111\n",
    "    \n",
    "- is 0o786  = not a octa number\n",
    "\n",
    "- in python the default answer in the form of decimal only"
   ]
  },
  {
   "cell_type": "code",
   "execution_count": 6,
   "id": "5458d9ad",
   "metadata": {},
   "outputs": [
    {
     "data": {
      "text/plain": [
       "83"
      ]
     },
     "execution_count": 6,
     "metadata": {},
     "output_type": "execute_result"
    }
   ],
   "source": [
    "0o123 #83\n",
    "\n",
    "# how many digit are there after o: 3 {0,1,2}\n",
    "# it is octa: base=== > 8\n",
    "# 8^2        8^1          8^0\n",
    "# 64*1 +    8*2    +      1*3=\n",
    "# 64    +    16    +       3= 83"
   ]
  },
  {
   "cell_type": "code",
   "execution_count": 9,
   "id": "a99e1ea5",
   "metadata": {},
   "outputs": [
    {
     "data": {
      "text/plain": [
       "4293"
      ]
     },
     "execution_count": 9,
     "metadata": {},
     "output_type": "execute_result"
    }
   ],
   "source": [
    "0o10305 #83\n",
    "\n",
    "# how many digit are there after o: 5 {0,1,2,3,4}\n",
    "# it is octa: base=== > 8\n",
    "# 8^4        8^3          8^2    +  8^1   +  8^0\n",
    "# 4096*1 +    512*0    +   64*3  +   8*0    + 1*5\n"
   ]
  },
  {
   "cell_type": "code",
   "execution_count": 10,
   "id": "fec01bcd",
   "metadata": {},
   "outputs": [
    {
     "ename": "SyntaxError",
     "evalue": "invalid digit '8' in octal literal (3171049937.py, line 1)",
     "output_type": "error",
     "traceback": [
      "\u001b[1;36m  Cell \u001b[1;32mIn [10], line 1\u001b[1;36m\u001b[0m\n\u001b[1;33m    0o786\u001b[0m\n\u001b[1;37m       ^\u001b[0m\n\u001b[1;31mSyntaxError\u001b[0m\u001b[1;31m:\u001b[0m invalid digit '8' in octal literal\n"
     ]
    }
   ],
   "source": [
    "0o786"
   ]
  },
  {
   "cell_type": "markdown",
   "id": "8b2b7348",
   "metadata": {},
   "source": [
    "$hexa$:\n",
    "    \n",
    "- hexa means 16 digits only\n",
    "\n",
    "- the allowed digits are 0 to 9 abd A to F \n",
    "\n",
    "- [0,1,2,3,4,5,6,7,8,9,A(10),B(11),C(12),D(13),E(14),F(15)]\n",
    "\n",
    "- represent by 'x'  or   'X'\n",
    "\n",
    "- example:  0x9ab, 0XABCD\n",
    "    \n",
    "- is 0xabch  = not a hexa number\n",
    "\n",
    "- in python the default answer in the form of decimal only"
   ]
  },
  {
   "cell_type": "markdown",
   "id": "4fef0bc8",
   "metadata": {},
   "source": [
    "$Float$"
   ]
  },
  {
   "cell_type": "code",
   "execution_count": 11,
   "id": "15812579",
   "metadata": {},
   "outputs": [
    {
     "data": {
      "text/plain": [
       "float"
      ]
     },
     "execution_count": 11,
     "metadata": {},
     "output_type": "execute_result"
    }
   ],
   "source": [
    "num=10.5\n",
    "type(num)"
   ]
  },
  {
   "cell_type": "code",
   "execution_count": 15,
   "id": "fdbdcb2f",
   "metadata": {},
   "outputs": [
    {
     "data": {
      "text/plain": [
       "10000.0"
      ]
     },
     "execution_count": 15,
     "metadata": {},
     "output_type": "execute_result"
    }
   ],
   "source": [
    "1e4\n",
    "# e= expoentiatl\n",
    "# 1e2= 1*100\n",
    "# 2e3= 2*1000\n",
    "# 3e4= 3*10000\n",
    "# 1e15 = 1*10000000000000\n",
    "# 1e-15= 1/(100000000000)"
   ]
  },
  {
   "cell_type": "code",
   "execution_count": 16,
   "id": "f5b4ed22",
   "metadata": {},
   "outputs": [
    {
     "data": {
      "text/plain": [
       "0.0001"
      ]
     },
     "execution_count": 16,
     "metadata": {},
     "output_type": "execute_result"
    }
   ],
   "source": [
    "1e-4"
   ]
  },
  {
   "cell_type": "code",
   "execution_count": 22,
   "id": "8a9d1333",
   "metadata": {},
   "outputs": [
    {
     "data": {
      "text/plain": [
       "1e-05"
      ]
     },
     "execution_count": 22,
     "metadata": {},
     "output_type": "execute_result"
    }
   ],
   "source": [
    "1e-5"
   ]
  },
  {
   "cell_type": "markdown",
   "id": "6ff76a94",
   "metadata": {},
   "source": [
    "$boolean$"
   ]
  },
  {
   "cell_type": "code",
   "execution_count": 23,
   "id": "9b015688",
   "metadata": {},
   "outputs": [
    {
     "data": {
      "text/plain": [
       "bool"
      ]
     },
     "execution_count": 23,
     "metadata": {},
     "output_type": "execute_result"
    }
   ],
   "source": [
    "a=True\n",
    "type(a)"
   ]
  },
  {
   "cell_type": "code",
   "execution_count": 24,
   "id": "3bde5d3f",
   "metadata": {},
   "outputs": [
    {
     "data": {
      "text/plain": [
       "bool"
      ]
     },
     "execution_count": 24,
     "metadata": {},
     "output_type": "execute_result"
    }
   ],
   "source": [
    "b=False\n",
    "type(b)"
   ]
  },
  {
   "cell_type": "markdown",
   "id": "b9d13d7d",
   "metadata": {},
   "source": [
    "- True means 1\n",
    "\n",
    "- False means 0"
   ]
  },
  {
   "cell_type": "markdown",
   "id": "475a52a2",
   "metadata": {},
   "source": [
    "$string$"
   ]
  },
  {
   "cell_type": "code",
   "execution_count": 25,
   "id": "8968db3c",
   "metadata": {},
   "outputs": [
    {
     "data": {
      "text/plain": [
       "str"
      ]
     },
     "execution_count": 25,
     "metadata": {},
     "output_type": "execute_result"
    }
   ],
   "source": [
    "str1=\"hello python\"\n",
    "type(str1)"
   ]
  },
  {
   "cell_type": "code",
   "execution_count": 26,
   "id": "df4a93a3",
   "metadata": {},
   "outputs": [
    {
     "data": {
      "text/plain": [
       "'hello python'"
      ]
     },
     "execution_count": 26,
     "metadata": {},
     "output_type": "execute_result"
    }
   ],
   "source": [
    "str1"
   ]
  },
  {
   "cell_type": "code",
   "execution_count": 27,
   "id": "628bca59",
   "metadata": {},
   "outputs": [
    {
     "data": {
      "text/plain": [
       "'I like python'"
      ]
     },
     "execution_count": 27,
     "metadata": {},
     "output_type": "execute_result"
    }
   ],
   "source": [
    "str2='I like python'\n",
    "str2"
   ]
  },
  {
   "cell_type": "code",
   "execution_count": 28,
   "id": "2aacac70",
   "metadata": {},
   "outputs": [
    {
     "ename": "SyntaxError",
     "evalue": "unterminated string literal (detected at line 1) (892520144.py, line 1)",
     "output_type": "error",
     "traceback": [
      "\u001b[1;36m  Cell \u001b[1;32mIn [28], line 1\u001b[1;36m\u001b[0m\n\u001b[1;33m    str3='I dont like python\"\u001b[0m\n\u001b[1;37m         ^\u001b[0m\n\u001b[1;31mSyntaxError\u001b[0m\u001b[1;31m:\u001b[0m unterminated string literal (detected at line 1)\n"
     ]
    }
   ],
   "source": [
    "str3='I dont like python\"\n",
    "str3"
   ]
  },
  {
   "cell_type": "code",
   "execution_count": 31,
   "id": "26f9c999",
   "metadata": {},
   "outputs": [
    {
     "data": {
      "text/plain": [
       "'abc'"
      ]
     },
     "execution_count": 31,
     "metadata": {},
     "output_type": "execute_result"
    }
   ],
   "source": [
    "value='abc'\n",
    "value\n",
    "\n",
    "# we are intializing 'abc' in a variable value"
   ]
  },
  {
   "cell_type": "code",
   "execution_count": 34,
   "id": "a45e0962",
   "metadata": {},
   "outputs": [
    {
     "data": {
      "text/plain": [
       "['__add__',\n",
       " '__class__',\n",
       " '__contains__',\n",
       " '__delattr__',\n",
       " '__dir__',\n",
       " '__doc__',\n",
       " '__eq__',\n",
       " '__format__',\n",
       " '__ge__',\n",
       " '__getattribute__',\n",
       " '__getitem__',\n",
       " '__getnewargs__',\n",
       " '__gt__',\n",
       " '__hash__',\n",
       " '__init__',\n",
       " '__init_subclass__',\n",
       " '__iter__',\n",
       " '__le__',\n",
       " '__len__',\n",
       " '__lt__',\n",
       " '__mod__',\n",
       " '__mul__',\n",
       " '__ne__',\n",
       " '__new__',\n",
       " '__reduce__',\n",
       " '__reduce_ex__',\n",
       " '__repr__',\n",
       " '__rmod__',\n",
       " '__rmul__',\n",
       " '__setattr__',\n",
       " '__sizeof__',\n",
       " '__str__',\n",
       " '__subclasshook__',\n",
       " 'capitalize',\n",
       " 'casefold',\n",
       " 'center',\n",
       " 'count',\n",
       " 'encode',\n",
       " 'endswith',\n",
       " 'expandtabs',\n",
       " 'find',\n",
       " 'format',\n",
       " 'format_map',\n",
       " 'index',\n",
       " 'isalnum',\n",
       " 'isalpha',\n",
       " 'isascii',\n",
       " 'isdecimal',\n",
       " 'isdigit',\n",
       " 'isidentifier',\n",
       " 'islower',\n",
       " 'isnumeric',\n",
       " 'isprintable',\n",
       " 'isspace',\n",
       " 'istitle',\n",
       " 'isupper',\n",
       " 'join',\n",
       " 'ljust',\n",
       " 'lower',\n",
       " 'lstrip',\n",
       " 'maketrans',\n",
       " 'partition',\n",
       " 'removeprefix',\n",
       " 'removesuffix',\n",
       " 'replace',\n",
       " 'rfind',\n",
       " 'rindex',\n",
       " 'rjust',\n",
       " 'rpartition',\n",
       " 'rsplit',\n",
       " 'rstrip',\n",
       " 'split',\n",
       " 'splitlines',\n",
       " 'startswith',\n",
       " 'strip',\n",
       " 'swapcase',\n",
       " 'title',\n",
       " 'translate',\n",
       " 'upper',\n",
       " 'zfill']"
      ]
     },
     "execution_count": 34,
     "metadata": {},
     "output_type": "execute_result"
    }
   ],
   "source": [
    "dir(value)"
   ]
  },
  {
   "cell_type": "code",
   "execution_count": 35,
   "id": "0d3643db",
   "metadata": {},
   "outputs": [
    {
     "ename": "SyntaxError",
     "evalue": "invalid syntax (3990304974.py, line 1)",
     "output_type": "error",
     "traceback": [
      "\u001b[1;36m  Cell \u001b[1;32mIn [35], line 1\u001b[1;36m\u001b[0m\n\u001b[1;33m    i dont_like_python=\"i like python\"\u001b[0m\n\u001b[1;37m      ^\u001b[0m\n\u001b[1;31mSyntaxError\u001b[0m\u001b[1;31m:\u001b[0m invalid syntax\n"
     ]
    }
   ],
   "source": [
    "i_dont_like_python=\"i like python\"\n",
    "\n"
   ]
  },
  {
   "cell_type": "code",
   "execution_count": 38,
   "id": "4f630d4c",
   "metadata": {},
   "outputs": [
    {
     "data": {
      "text/plain": [
       "100"
      ]
     },
     "execution_count": 38,
     "metadata": {},
     "output_type": "execute_result"
    }
   ],
   "source": [
    "num=100\n",
    "num"
   ]
  },
  {
   "cell_type": "code",
   "execution_count": 37,
   "id": "0bfa5468",
   "metadata": {},
   "outputs": [
    {
     "data": {
      "text/plain": [
       "200"
      ]
     },
     "execution_count": 37,
     "metadata": {},
     "output_type": "execute_result"
    }
   ],
   "source": [
    "num=200\n",
    "num"
   ]
  },
  {
   "cell_type": "code",
   "execution_count": 39,
   "id": "b70ec41d",
   "metadata": {},
   "outputs": [
    {
     "data": {
      "text/plain": [
       "100"
      ]
     },
     "execution_count": 39,
     "metadata": {},
     "output_type": "execute_result"
    }
   ],
   "source": [
    "num"
   ]
  },
  {
   "cell_type": "code",
   "execution_count": 41,
   "id": "556c7364",
   "metadata": {},
   "outputs": [
    {
     "name": "stdout",
     "output_type": "stream",
     "text": [
      "i like 'python'\n"
     ]
    }
   ],
   "source": [
    "str1=\"i like 'python'\"\n",
    "# one rule: string should be in quotes either single or double\n",
    "print(str1)"
   ]
  },
  {
   "cell_type": "code",
   "execution_count": 42,
   "id": "21996166",
   "metadata": {},
   "outputs": [
    {
     "data": {
      "text/plain": [
       "'i like \"python\"'"
      ]
     },
     "execution_count": 42,
     "metadata": {},
     "output_type": "execute_result"
    }
   ],
   "source": [
    "str1='i like \"python\"'\n",
    "str1"
   ]
  },
  {
   "cell_type": "code",
   "execution_count": null,
   "id": "8afcc188",
   "metadata": {},
   "outputs": [],
   "source": [
    "# if you want highlite a word with single quotes, provide\n",
    "# entire string double quotes vice versa"
   ]
  },
  {
   "cell_type": "code",
   "execution_count": 44,
   "id": "4312dae6",
   "metadata": {},
   "outputs": [
    {
     "name": "stdout",
     "output_type": "stream",
     "text": [
      "i like python\n"
     ]
    }
   ],
   "source": [
    "print('i like python')  # string only"
   ]
  },
  {
   "cell_type": "code",
   "execution_count": null,
   "id": "c0172543",
   "metadata": {},
   "outputs": [],
   "source": [
    "str1='i like python'\n",
    "str2=\"i like python\"\n",
    "\n",
    "str3='i like \"python\"'\n",
    "str4=\"i like 'python'\""
   ]
  },
  {
   "cell_type": "code",
   "execution_count": 45,
   "id": "816de362",
   "metadata": {},
   "outputs": [
    {
     "data": {
      "text/plain": [
       "'\\nto day i learn python data types\\n'"
      ]
     },
     "execution_count": 45,
     "metadata": {},
     "output_type": "execute_result"
    }
   ],
   "source": [
    "# if you want to write some lines \n",
    "\n",
    "# docstring\n",
    "\n",
    "\"\"\"\n",
    "to day i learn python data types\n",
    "\"\"\""
   ]
  },
  {
   "cell_type": "markdown",
   "id": "748ba96a",
   "metadata": {},
   "source": [
    "$Complex$ $conjugate$"
   ]
  },
  {
   "cell_type": "code",
   "execution_count": null,
   "id": "e8eb5bb6",
   "metadata": {},
   "outputs": [],
   "source": [
    "- It is a complex number\n",
    "\n",
    "- represent by = a+jb\n",
    "\n",
    "- where a= real number and b= imaginary number\n",
    "\n",
    "- 10+20j   \n",
    "\n",
    "- where 10= real number and 20 = imaginary number"
   ]
  },
  {
   "cell_type": "code",
   "execution_count": 46,
   "id": "c12aa8a6",
   "metadata": {},
   "outputs": [
    {
     "data": {
      "text/plain": [
       "complex"
      ]
     },
     "execution_count": 46,
     "metadata": {},
     "output_type": "execute_result"
    }
   ],
   "source": [
    "num=10+20j\n",
    "type(num)"
   ]
  },
  {
   "cell_type": "code",
   "execution_count": 47,
   "id": "5274aa92",
   "metadata": {},
   "outputs": [
    {
     "data": {
      "text/plain": [
       "['__abs__',\n",
       " '__add__',\n",
       " '__bool__',\n",
       " '__class__',\n",
       " '__delattr__',\n",
       " '__dir__',\n",
       " '__doc__',\n",
       " '__eq__',\n",
       " '__format__',\n",
       " '__ge__',\n",
       " '__getattribute__',\n",
       " '__getnewargs__',\n",
       " '__gt__',\n",
       " '__hash__',\n",
       " '__init__',\n",
       " '__init_subclass__',\n",
       " '__le__',\n",
       " '__lt__',\n",
       " '__mul__',\n",
       " '__ne__',\n",
       " '__neg__',\n",
       " '__new__',\n",
       " '__pos__',\n",
       " '__pow__',\n",
       " '__radd__',\n",
       " '__reduce__',\n",
       " '__reduce_ex__',\n",
       " '__repr__',\n",
       " '__rmul__',\n",
       " '__rpow__',\n",
       " '__rsub__',\n",
       " '__rtruediv__',\n",
       " '__setattr__',\n",
       " '__sizeof__',\n",
       " '__str__',\n",
       " '__sub__',\n",
       " '__subclasshook__',\n",
       " '__truediv__',\n",
       " 'conjugate',\n",
       " 'imag',\n",
       " 'real']"
      ]
     },
     "execution_count": 47,
     "metadata": {},
     "output_type": "execute_result"
    }
   ],
   "source": [
    "dir(num)"
   ]
  },
  {
   "cell_type": "code",
   "execution_count": 48,
   "id": "e0c347f1",
   "metadata": {},
   "outputs": [
    {
     "data": {
      "text/plain": [
       "20.0"
      ]
     },
     "execution_count": 48,
     "metadata": {},
     "output_type": "execute_result"
    }
   ],
   "source": [
    "# image\n",
    "num.imag   # return imaginary value"
   ]
  },
  {
   "cell_type": "code",
   "execution_count": 49,
   "id": "f52d7b77",
   "metadata": {},
   "outputs": [
    {
     "data": {
      "text/plain": [
       "10.0"
      ]
     },
     "execution_count": 49,
     "metadata": {},
     "output_type": "execute_result"
    }
   ],
   "source": [
    "num.real  # return real value"
   ]
  },
  {
   "cell_type": "code",
   "execution_count": 50,
   "id": "fa592c54",
   "metadata": {},
   "outputs": [
    {
     "name": "stdout",
     "output_type": "stream",
     "text": [
      "Help on float object:\n",
      "\n",
      "class float(object)\n",
      " |  float(x=0, /)\n",
      " |  \n",
      " |  Convert a string or number to a floating point number, if possible.\n",
      " |  \n",
      " |  Methods defined here:\n",
      " |  \n",
      " |  __abs__(self, /)\n",
      " |      abs(self)\n",
      " |  \n",
      " |  __add__(self, value, /)\n",
      " |      Return self+value.\n",
      " |  \n",
      " |  __bool__(self, /)\n",
      " |      True if self else False\n",
      " |  \n",
      " |  __ceil__(self, /)\n",
      " |      Return the ceiling as an Integral.\n",
      " |  \n",
      " |  __divmod__(self, value, /)\n",
      " |      Return divmod(self, value).\n",
      " |  \n",
      " |  __eq__(self, value, /)\n",
      " |      Return self==value.\n",
      " |  \n",
      " |  __float__(self, /)\n",
      " |      float(self)\n",
      " |  \n",
      " |  __floor__(self, /)\n",
      " |      Return the floor as an Integral.\n",
      " |  \n",
      " |  __floordiv__(self, value, /)\n",
      " |      Return self//value.\n",
      " |  \n",
      " |  __format__(self, format_spec, /)\n",
      " |      Formats the float according to format_spec.\n",
      " |  \n",
      " |  __ge__(self, value, /)\n",
      " |      Return self>=value.\n",
      " |  \n",
      " |  __getattribute__(self, name, /)\n",
      " |      Return getattr(self, name).\n",
      " |  \n",
      " |  __getnewargs__(self, /)\n",
      " |  \n",
      " |  __gt__(self, value, /)\n",
      " |      Return self>value.\n",
      " |  \n",
      " |  __hash__(self, /)\n",
      " |      Return hash(self).\n",
      " |  \n",
      " |  __int__(self, /)\n",
      " |      int(self)\n",
      " |  \n",
      " |  __le__(self, value, /)\n",
      " |      Return self<=value.\n",
      " |  \n",
      " |  __lt__(self, value, /)\n",
      " |      Return self<value.\n",
      " |  \n",
      " |  __mod__(self, value, /)\n",
      " |      Return self%value.\n",
      " |  \n",
      " |  __mul__(self, value, /)\n",
      " |      Return self*value.\n",
      " |  \n",
      " |  __ne__(self, value, /)\n",
      " |      Return self!=value.\n",
      " |  \n",
      " |  __neg__(self, /)\n",
      " |      -self\n",
      " |  \n",
      " |  __pos__(self, /)\n",
      " |      +self\n",
      " |  \n",
      " |  __pow__(self, value, mod=None, /)\n",
      " |      Return pow(self, value, mod).\n",
      " |  \n",
      " |  __radd__(self, value, /)\n",
      " |      Return value+self.\n",
      " |  \n",
      " |  __rdivmod__(self, value, /)\n",
      " |      Return divmod(value, self).\n",
      " |  \n",
      " |  __repr__(self, /)\n",
      " |      Return repr(self).\n",
      " |  \n",
      " |  __rfloordiv__(self, value, /)\n",
      " |      Return value//self.\n",
      " |  \n",
      " |  __rmod__(self, value, /)\n",
      " |      Return value%self.\n",
      " |  \n",
      " |  __rmul__(self, value, /)\n",
      " |      Return value*self.\n",
      " |  \n",
      " |  __round__(self, ndigits=None, /)\n",
      " |      Return the Integral closest to x, rounding half toward even.\n",
      " |      \n",
      " |      When an argument is passed, work like built-in round(x, ndigits).\n",
      " |  \n",
      " |  __rpow__(self, value, mod=None, /)\n",
      " |      Return pow(value, self, mod).\n",
      " |  \n",
      " |  __rsub__(self, value, /)\n",
      " |      Return value-self.\n",
      " |  \n",
      " |  __rtruediv__(self, value, /)\n",
      " |      Return value/self.\n",
      " |  \n",
      " |  __sub__(self, value, /)\n",
      " |      Return self-value.\n",
      " |  \n",
      " |  __truediv__(self, value, /)\n",
      " |      Return self/value.\n",
      " |  \n",
      " |  __trunc__(self, /)\n",
      " |      Return the Integral closest to x between 0 and x.\n",
      " |  \n",
      " |  as_integer_ratio(self, /)\n",
      " |      Return integer ratio.\n",
      " |      \n",
      " |      Return a pair of integers, whose ratio is exactly equal to the original float\n",
      " |      and with a positive denominator.\n",
      " |      \n",
      " |      Raise OverflowError on infinities and a ValueError on NaNs.\n",
      " |      \n",
      " |      >>> (10.0).as_integer_ratio()\n",
      " |      (10, 1)\n",
      " |      >>> (0.0).as_integer_ratio()\n",
      " |      (0, 1)\n",
      " |      >>> (-.25).as_integer_ratio()\n",
      " |      (-1, 4)\n",
      " |  \n",
      " |  conjugate(self, /)\n",
      " |      Return self, the complex conjugate of any float.\n",
      " |  \n",
      " |  hex(self, /)\n",
      " |      Return a hexadecimal representation of a floating-point number.\n",
      " |      \n",
      " |      >>> (-0.1).hex()\n",
      " |      '-0x1.999999999999ap-4'\n",
      " |      >>> 3.14159.hex()\n",
      " |      '0x1.921f9f01b866ep+1'\n",
      " |  \n",
      " |  is_integer(self, /)\n",
      " |      Return True if the float is an integer.\n",
      " |  \n",
      " |  ----------------------------------------------------------------------\n",
      " |  Class methods defined here:\n",
      " |  \n",
      " |  __getformat__(typestr, /) from builtins.type\n",
      " |      You probably don't want to use this function.\n",
      " |      \n",
      " |        typestr\n",
      " |          Must be 'double' or 'float'.\n",
      " |      \n",
      " |      It exists mainly to be used in Python's test suite.\n",
      " |      \n",
      " |      This function returns whichever of 'unknown', 'IEEE, big-endian' or 'IEEE,\n",
      " |      little-endian' best describes the format of floating point numbers used by the\n",
      " |      C type named by typestr.\n",
      " |  \n",
      " |  __setformat__(typestr, fmt, /) from builtins.type\n",
      " |      You probably don't want to use this function.\n",
      " |      \n",
      " |        typestr\n",
      " |          Must be 'double' or 'float'.\n",
      " |        fmt\n",
      " |          Must be one of 'unknown', 'IEEE, big-endian' or 'IEEE, little-endian',\n",
      " |          and in addition can only be one of the latter two if it appears to\n",
      " |          match the underlying C reality.\n",
      " |      \n",
      " |      It exists mainly to be used in Python's test suite.\n",
      " |      \n",
      " |      Override the automatic determination of C-level floating point type.\n",
      " |      This affects how floats are converted to and from binary strings.\n",
      " |  \n",
      " |  fromhex(string, /) from builtins.type\n",
      " |      Create a floating-point number from a hexadecimal string.\n",
      " |      \n",
      " |      >>> float.fromhex('0x1.ffffp10')\n",
      " |      2047.984375\n",
      " |      >>> float.fromhex('-0x1p-1074')\n",
      " |      -5e-324\n",
      " |  \n",
      " |  ----------------------------------------------------------------------\n",
      " |  Static methods defined here:\n",
      " |  \n",
      " |  __new__(*args, **kwargs) from builtins.type\n",
      " |      Create and return a new object.  See help(type) for accurate signature.\n",
      " |  \n",
      " |  ----------------------------------------------------------------------\n",
      " |  Data descriptors defined here:\n",
      " |  \n",
      " |  imag\n",
      " |      the imaginary part of a complex number\n",
      " |  \n",
      " |  real\n",
      " |      the real part of a complex number\n",
      "\n"
     ]
    }
   ],
   "source": [
    "help(num.imag)"
   ]
  },
  {
   "cell_type": "code",
   "execution_count": null,
   "id": "bd4b6388",
   "metadata": {},
   "outputs": [],
   "source": []
  }
 ],
 "metadata": {
  "kernelspec": {
   "display_name": "Python 3 (ipykernel)",
   "language": "python",
   "name": "python3"
  },
  "language_info": {
   "codemirror_mode": {
    "name": "ipython",
    "version": 3
   },
   "file_extension": ".py",
   "mimetype": "text/x-python",
   "name": "python",
   "nbconvert_exporter": "python",
   "pygments_lexer": "ipython3",
   "version": "3.10.9"
  }
 },
 "nbformat": 4,
 "nbformat_minor": 5
}
