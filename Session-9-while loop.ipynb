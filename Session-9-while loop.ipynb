{
 "cells": [
  {
   "cell_type": "code",
   "execution_count": null,
   "id": "7034c5fb",
   "metadata": {},
   "outputs": [],
   "source": [
    "# loop\n",
    "\n",
    "1. intialization\n",
    "\n",
    "2. condition\n",
    "\n",
    "3. increment/decrement\n",
    "\n",
    "for i in range(1,10)\n",
    "intializtion :  i=1\n",
    "condition :     i<10  i=9\n",
    "increment :     i++ "
   ]
  },
  {
   "cell_type": "code",
   "execution_count": null,
   "id": "9dfd0fc3",
   "metadata": {},
   "outputs": [],
   "source": [
    "i=1    # intialization\n",
    "\n",
    "while i<10:\n",
    "    print(i,end=' ')\n",
    "    i+=1\n",
    "    \n",
    "# step-1:  i=1   i<10 (1<10) True   print(1)  i=2\n",
    "# step-2:  i=2   2<10        True   print(2)  i=3\n",
    "# step-3:  i=3   3<10        True   print(3)  i=4\n",
    "\n",
    "# step-9   i=9   9<10       True   print(9)   i=10\n",
    "# step-10: i=10  10<10      False  out of the loop"
   ]
  },
  {
   "cell_type": "code",
   "execution_count": null,
   "id": "bbfd7a99",
   "metadata": {},
   "outputs": [],
   "source": [
    "for i in range(1,10):print(i,end=' ')"
   ]
  },
  {
   "cell_type": "code",
   "execution_count": null,
   "id": "0da6971c",
   "metadata": {},
   "outputs": [],
   "source": [
    "i=1    # intialization\n",
    "\n",
    "while i!=10:\n",
    "    print(i,end=' ')\n",
    "    i+=1"
   ]
  },
  {
   "cell_type": "code",
   "execution_count": null,
   "id": "88a9e018",
   "metadata": {},
   "outputs": [],
   "source": [
    "i=1    # intialization\n",
    "\n",
    "while True:\n",
    "    print(i,end=' ')\n",
    "    i+=1\n",
    "    if i==10:\n",
    "        break"
   ]
  },
  {
   "cell_type": "code",
   "execution_count": null,
   "id": "ae320b22",
   "metadata": {},
   "outputs": [],
   "source": [
    "i=1    # intialization\n",
    "\n",
    "while i<10:\n",
    "    print(i,end=' ')\n",
    "    i+=1\n",
    " \n",
    "####################################################################\n",
    "    \n",
    "i=1    # intialization\n",
    "\n",
    "while i!=10:\n",
    "    print(i,end=' ')\n",
    "    i+=1  \n",
    "\n",
    "##############################################################################\n",
    "    \n",
    "i=1    # intialization\n",
    "\n",
    "while True:\n",
    "    print(i,end=' ')\n",
    "    i+=1\n",
    "    if i==10:\n",
    "        break"
   ]
  },
  {
   "cell_type": "code",
   "execution_count": null,
   "id": "3439e340",
   "metadata": {},
   "outputs": [],
   "source": [
    "for i in range(-10,1):\n",
    "    print(i,end=' ')\n",
    "    \n",
    "# while\n",
    "# intial point = -10\n",
    "# increment\n",
    "# condition: "
   ]
  },
  {
   "cell_type": "code",
   "execution_count": null,
   "id": "8219cc8d",
   "metadata": {},
   "outputs": [],
   "source": [
    "i=-10\n",
    "while i<-1:\n",
    "    print(i,end=' ')\n",
    "    i+=1  \n",
    "    \n",
    "# printing and increment"
   ]
  },
  {
   "cell_type": "code",
   "execution_count": null,
   "id": "d39f5dcc",
   "metadata": {},
   "outputs": [],
   "source": [
    "i=-10\n",
    "while i<-1:\n",
    "    i=i+1\n",
    "    print(i,end=\" \")  # -9 \n",
    "    \n",
    "# increment and then printing"
   ]
  },
  {
   "cell_type": "code",
   "execution_count": null,
   "id": "fe4d43c3",
   "metadata": {},
   "outputs": [],
   "source": [
    "# WAP ask the user enter a number 3 times \n",
    "# and print the square of the number\n",
    "\n",
    "for i in range(3):  # -------> while\n",
    "    num=eval(input(\"enter the number1:\"))\n",
    "    print(\"the sqaure of {} is {}\".format(num,num*num))"
   ]
  },
  {
   "cell_type": "code",
   "execution_count": null,
   "id": "af5629c0",
   "metadata": {},
   "outputs": [],
   "source": [
    "i=1\n",
    "while i<=3:\n",
    "    num=eval(input(\"enter the number1:\"))\n",
    "    print(\"the sqaure of {} is {}\".format(num,num*num))\n",
    "    i+=1"
   ]
  },
  {
   "cell_type": "code",
   "execution_count": null,
   "id": "4fa61272",
   "metadata": {},
   "outputs": [],
   "source": [
    "# print the even and odd number between 20 to 30\n",
    "for i in range(20,31): # while wrapper\n",
    "    if i%2==0:\n",
    "        print(\"{} is even number\".format(i))\n",
    "    else:\n",
    "        print(\"{} is odd number\".format(i))\n",
    "        \n",
    "# print the numbers 20 to 30 using while loop\n",
    "# i=20\n",
    "# increment\n",
    "# condition"
   ]
  },
  {
   "cell_type": "code",
   "execution_count": null,
   "id": "c7d0273a",
   "metadata": {},
   "outputs": [],
   "source": [
    "i=20\n",
    "while i<=30:\n",
    "    if i%2==0:\n",
    "        print(\"{} is even number\".format(i))\n",
    "    else:\n",
    "        print(\"{} is odd number\".format(i))\n",
    "    i+=1"
   ]
  },
  {
   "cell_type": "code",
   "execution_count": null,
   "id": "cebee580",
   "metadata": {},
   "outputs": [],
   "source": [
    "# WAP sum of first 10 natural numbers using while loop\n",
    "\n",
    "sum1=0\n",
    "for i in range(1,11):\n",
    "    sum1= sum1 + i\n",
    "    \n",
    "print(sum1)"
   ]
  },
  {
   "cell_type": "code",
   "execution_count": null,
   "id": "9a5d0b16",
   "metadata": {},
   "outputs": [],
   "source": [
    "sum1=0\n",
    "i=1\n",
    "while i<11:\n",
    "    sum1= sum1 + i\n",
    "    i+=1\n",
    "    \n",
    "print(sum1)"
   ]
  },
  {
   "cell_type": "code",
   "execution_count": null,
   "id": "3be51ba4",
   "metadata": {},
   "outputs": [],
   "source": [
    "while True:\n",
    "    no = eval(\"enter a number:\")\n",
    "    print('{}no sq is {}'.format(no, no*no))"
   ]
  },
  {
   "cell_type": "code",
   "execution_count": null,
   "id": "db479c4b",
   "metadata": {},
   "outputs": [],
   "source": [
    "while True:\n",
    "    no = input('Enter the number (STOP to Stop) :- ')\n",
    "    if(no.lower() == 'stop'):\n",
    "        print('Thank u')\n",
    "        break\n",
    "    else:\n",
    "        no = eval(no)\n",
    "        print('{}no sq is {}'.format(no, no*no))"
   ]
  },
  {
   "cell_type": "code",
   "execution_count": null,
   "id": "49531a2a",
   "metadata": {},
   "outputs": [],
   "source": [
    "# ask the user enter a number1\n",
    "# take an another number2 as random using random package between 1 to 10\n",
    "# if number1==number2  then print you won\n",
    "# otherwise print you lost\n",
    "\n",
    "# unlimited chances (True)"
   ]
  },
  {
   "cell_type": "code",
   "execution_count": null,
   "id": "c52b0160",
   "metadata": {},
   "outputs": [],
   "source": [
    "import random\n",
    "while True:    \n",
    "    num1 = eval(input(\"Enter number:- \"))\n",
    "    num2 = random.randint(1,10)\n",
    "    if(num1 == num2):\n",
    "        print('You won')\n",
    "        break\n",
    "    else:\n",
    "        print('You lost because num2 = {} Try again till you won'.format(num2))"
   ]
  },
  {
   "cell_type": "code",
   "execution_count": null,
   "id": "afff846f",
   "metadata": {},
   "outputs": [],
   "source": [
    "import random\n",
    "num1=eval(input(\"enter num1:\"))\n",
    "num2=random.randint(1,10)\n",
    "print(num2)\n",
    "while True:\n",
    "    if num1==num2:\n",
    "        print(\"win\")\n",
    "        break\n",
    "    else:\n",
    "        print(\"Lost\")"
   ]
  },
  {
   "cell_type": "markdown",
   "id": "8987a346",
   "metadata": {},
   "source": [
    "Suppose that a player wants to play a game which requires him Rs. 1,000 to start. If the current balance in his account is less than Rs. 1,000 he needs to withdraw the extra money from his e-wallet.\n",
    "\n",
    "Note that if the sum of money in his courrent account and the amount withdrawn is greater than or equal to Rs. 1,000 then he can start playing the game. However if the sum is less than Rs. 1,000 then the program should keep displaying the user the message “You still do not have enough money to start playing.” and keep prompting the user to withdraw money unless it crosses Rs. 1,000. Once ready, i.e. if his current account balance crosses Rs. 1,000, it will display a message “Now, you are ready to play the game.” Your program should also display the account balance and the current amount in the e-wallet.\n",
    "\n",
    "(consider: initial account balance is Rs. 200 and money in the e-wallet is Rs. 5,000)\n",
    "\n",
    "(Do further improvement by checking if the e-wallet balance becomes NIL, etc.)"
   ]
  },
  {
   "cell_type": "code",
   "execution_count": null,
   "id": "175ecd90",
   "metadata": {},
   "outputs": [],
   "source": [
    "# amount start=eval(input(\"enter the amount\"))\n",
    "if amount_start==1000:\n",
    "    # play the game\n",
    "    \n",
    "else:\n",
    "    # amount_withdrawn= eval(input(\"enter the amoun\"))\n",
    "    # sum=amount_start+amount_wit"
   ]
  },
  {
   "cell_type": "code",
   "execution_count": 3,
   "id": "4f040e24",
   "metadata": {},
   "outputs": [
    {
     "data": {
      "text/plain": [
       "True"
      ]
     },
     "execution_count": 3,
     "metadata": {},
     "output_type": "execute_result"
    }
   ],
   "source": [
    "import webbrowser\n",
    "import time\n",
    "time.sleep(5) # 5 seconds\n",
    "webbrowser.open(\"https://nareshit.in/course-schedule/\")"
   ]
  },
  {
   "cell_type": "code",
   "execution_count": 4,
   "id": "d61899ad",
   "metadata": {},
   "outputs": [
    {
     "name": "stdout",
     "output_type": "stream",
     "text": [
      "Enter number:- 4\n",
      "You lost because num2 = 3 Try again till you won\n",
      "Enter number:- 3\n",
      "You lost because num2 = 1 Try again till you won\n",
      "Enter number:- 1\n",
      "You lost because num2 = 3 Try again till you won\n",
      "Enter number:- 3\n",
      "You lost because num2 = 1 Try again till you won\n",
      "Enter number:- 1\n",
      "You lost because num2 = 9 Try again till you won\n",
      "Enter number:- 9\n",
      "You lost because num2 = 10 Try again till you won\n",
      "Enter number:- 10\n",
      "You lost because num2 = 9 Try again till you won\n",
      "Enter number:- 9\n",
      "You lost because num2 = 5 Try again till you won\n",
      "Enter number:- 5\n",
      "You lost because num2 = 4 Try again till you won\n",
      "Enter number:- 4\n",
      "You lost because num2 = 7 Try again till you won\n",
      "Enter number:- 7\n",
      "You lost because num2 = 9 Try again till you won\n",
      "Enter number:- 9\n",
      "You won\n",
      "total time taken is: 25.78842282295227\n"
     ]
    }
   ],
   "source": [
    "import time\n",
    "start= time.time()\n",
    "\n",
    "import random\n",
    "while True:    \n",
    "    num1 = eval(input(\"Enter number:- \"))\n",
    "    num2 = random.randint(1,10)\n",
    "    if(num1 == num2):\n",
    "        print('You won')\n",
    "        break\n",
    "    else:\n",
    "        print('You lost because num2 = {} Try again till you won'.format(num2))\n",
    "        \n",
    "end=time.time()\n",
    "\n",
    "print(\"total time taken is:\",(end-start))"
   ]
  },
  {
   "cell_type": "code",
   "execution_count": null,
   "id": "91bc8e93",
   "metadata": {},
   "outputs": [],
   "source": []
  }
 ],
 "metadata": {
  "kernelspec": {
   "display_name": "Python 3 (ipykernel)",
   "language": "python",
   "name": "python3"
  },
  "language_info": {
   "codemirror_mode": {
    "name": "ipython",
    "version": 3
   },
   "file_extension": ".py",
   "mimetype": "text/x-python",
   "name": "python",
   "nbconvert_exporter": "python",
   "pygments_lexer": "ipython3",
   "version": "3.10.9"
  }
 },
 "nbformat": 4,
 "nbformat_minor": 5
}
