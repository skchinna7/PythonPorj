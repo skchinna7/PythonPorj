{
 "cells": [
  {
   "cell_type": "markdown",
   "id": "282500da",
   "metadata": {},
   "source": [
    "**Conditional-Statements**"
   ]
  },
  {
   "cell_type": "code",
   "execution_count": null,
   "id": "6f91717b",
   "metadata": {},
   "outputs": [],
   "source": [
    "# I provide one conndition ===== > some task\n",
    "# if that condition is False === > another task\n",
    "\n",
    "# if-else block"
   ]
  },
  {
   "cell_type": "code",
   "execution_count": 8,
   "id": "30b12414",
   "metadata": {},
   "outputs": [
    {
     "name": "stdout",
     "output_type": "stream",
     "text": [
      "enter a name:p\n"
     ]
    },
    {
     "ename": "NameError",
     "evalue": "name 'name1' is not defined",
     "output_type": "error",
     "traceback": [
      "\u001b[1;31m---------------------------------------------------------------------------\u001b[0m",
      "\u001b[1;31mNameError\u001b[0m                                 Traceback (most recent call last)",
      "Cell \u001b[1;32mIn [8], line 3\u001b[0m\n\u001b[0;32m      1\u001b[0m name\u001b[38;5;241m=\u001b[39m\u001b[38;5;28minput\u001b[39m(\u001b[38;5;124m\"\u001b[39m\u001b[38;5;124menter a name:\u001b[39m\u001b[38;5;124m\"\u001b[39m)  \u001b[38;5;66;03m# name='python'\u001b[39;00m\n\u001b[1;32m----> 3\u001b[0m \u001b[38;5;28;01mif\u001b[39;00m \u001b[43mname1\u001b[49m\u001b[38;5;241m==\u001b[39m\u001b[38;5;124m'\u001b[39m\u001b[38;5;124mpython\u001b[39m\u001b[38;5;124m'\u001b[39m:           \u001b[38;5;66;03m# 'python'=='python'\u001b[39;00m\n\u001b[0;32m      4\u001b[0m     \u001b[38;5;28mprint\u001b[39m(\u001b[38;5;124m\"\u001b[39m\u001b[38;5;124mhai\u001b[39m\u001b[38;5;124m\"\u001b[39m)                   \u001b[38;5;66;03m#hai\u001b[39;00m\n\u001b[0;32m      5\u001b[0m     \u001b[38;5;28mprint\u001b[39m(\u001b[38;5;124m\"\u001b[39m\u001b[38;5;124mhow are you\u001b[39m\u001b[38;5;124m\"\u001b[39m)           \u001b[38;5;66;03m#how are you\u001b[39;00m\n",
      "\u001b[1;31mNameError\u001b[0m: name 'name1' is not defined"
     ]
    }
   ],
   "source": [
    "name=input(\"enter a name:\")  # name='python'\n",
    "\n",
    "if name1=='python':           # 'python'=='python'\n",
    "    print(\"hai\")                   #hai\n",
    "    print(\"how are you\")           #how are you\n",
    "    \n",
    "else:                       # condition is false\n",
    "    print('bye')            # bye\n",
    "    \n",
    "print(\"im good\")"
   ]
  },
  {
   "cell_type": "code",
   "execution_count": 9,
   "id": "7ea3d293",
   "metadata": {},
   "outputs": [
    {
     "name": "stdout",
     "output_type": "stream",
     "text": [
      "enter a name:p\n",
      "name 'name1' is not defined\n",
      "im good\n"
     ]
    }
   ],
   "source": [
    "try:\n",
    "    name=input(\"enter a name:\")  # name='python'\n",
    "    if name1=='python':           # 'python'=='python'\n",
    "        print(\"hai\")                   #hai\n",
    "        print(\"how are you\")     #how are you\n",
    "    else:                       # condition is false\n",
    "        print('bye')            # bye\n",
    "        \n",
    "except Exception as e:\n",
    "    print(e)\n",
    "    \n",
    "print('im good')\n",
    "    \n",
    "# at which line name1 is there\n",
    "# above that line is name1 intialised or not?"
   ]
  },
  {
   "cell_type": "code",
   "execution_count": null,
   "id": "3bc44922",
   "metadata": {},
   "outputs": [],
   "source": [
    "# ask the user enter a number\n",
    "# print whether it is a even number or odd number\n",
    "\n",
    "# input:\n",
    "# enter a number: 5\n",
    "\n",
    "# output:\n",
    "# It is an odd number\n",
    "\n",
    "# tip :  num%2==0\n",
    "\n",
    "# number=eval(enter a number)\n",
    "# if <condition>:\n",
    "#  print(\"\")\n",
    "# else:\n",
    "#  print(\"\")"
   ]
  },
  {
   "cell_type": "code",
   "execution_count": null,
   "id": "83dbab8c",
   "metadata": {},
   "outputs": [],
   "source": [
    "2   4   6   8  10 ===== > eve\n",
    "\n",
    "2/2  4/2         ====== > reminder =0"
   ]
  },
  {
   "cell_type": "markdown",
   "id": "c0fc8733",
   "metadata": {},
   "source": [
    "- % modulus operator gives remainder"
   ]
  },
  {
   "cell_type": "code",
   "execution_count": null,
   "id": "294b0479",
   "metadata": {},
   "outputs": [],
   "source": [
    "15  divide by 2 ====== >"
   ]
  },
  {
   "cell_type": "code",
   "execution_count": 10,
   "id": "d4762227",
   "metadata": {},
   "outputs": [
    {
     "data": {
      "text/plain": [
       "1"
      ]
     },
     "execution_count": 10,
     "metadata": {},
     "output_type": "execute_result"
    }
   ],
   "source": [
    "15%2 #  modulus reminder"
   ]
  },
  {
   "cell_type": "code",
   "execution_count": 11,
   "id": "0094d416",
   "metadata": {},
   "outputs": [
    {
     "data": {
      "text/plain": [
       "7.5"
      ]
     },
     "execution_count": 11,
     "metadata": {},
     "output_type": "execute_result"
    }
   ],
   "source": [
    "15/2 # normal division"
   ]
  },
  {
   "cell_type": "code",
   "execution_count": 12,
   "id": "e0d7e143",
   "metadata": {},
   "outputs": [
    {
     "data": {
      "text/plain": [
       "7"
      ]
     },
     "execution_count": 12,
     "metadata": {},
     "output_type": "execute_result"
    }
   ],
   "source": [
    "15//2  # floor division ===== > quetiont"
   ]
  },
  {
   "cell_type": "code",
   "execution_count": 14,
   "id": "f173476e",
   "metadata": {},
   "outputs": [
    {
     "data": {
      "text/plain": [
       "12345"
      ]
     },
     "execution_count": 14,
     "metadata": {},
     "output_type": "execute_result"
    }
   ],
   "source": [
    "num1=123456%10  ===== > 6\n",
    "num2=123456//10  ====> 12345\n",
    "num3=num2%10   ====== > 5"
   ]
  },
  {
   "cell_type": "code",
   "execution_count": 15,
   "id": "8901e466",
   "metadata": {},
   "outputs": [
    {
     "data": {
      "text/plain": [
       "10"
      ]
     },
     "execution_count": 15,
     "metadata": {},
     "output_type": "execute_result"
    }
   ],
   "source": [
    "num=10   # 10 is assigned to a variable num\n",
    "num"
   ]
  },
  {
   "cell_type": "code",
   "execution_count": null,
   "id": "356b8791",
   "metadata": {},
   "outputs": [],
   "source": [
    "num==10  # you are asking a question is num equal to 10 or not"
   ]
  },
  {
   "cell_type": "code",
   "execution_count": 16,
   "id": "a2fe7382",
   "metadata": {},
   "outputs": [
    {
     "data": {
      "text/plain": [
       "True"
      ]
     },
     "execution_count": 16,
     "metadata": {},
     "output_type": "execute_result"
    }
   ],
   "source": [
    "a=10\n",
    "\n",
    "num==a  # answer? True False"
   ]
  },
  {
   "cell_type": "code",
   "execution_count": null,
   "id": "b58667bf",
   "metadata": {},
   "outputs": [],
   "source": [
    "if it is True: do my task\n",
    "    \n",
    "if <condition>:\n",
    "    <>"
   ]
  },
  {
   "cell_type": "code",
   "execution_count": 19,
   "id": "b44377cf",
   "metadata": {},
   "outputs": [
    {
     "name": "stdout",
     "output_type": "stream",
     "text": [
      "enter a number:0\n",
      "0 is an even number\n"
     ]
    }
   ],
   "source": [
    "# ask the user enter a number\n",
    "# print whether it is a even number or odd number\n",
    "\n",
    "# input:\n",
    "# enter a number: 5\n",
    "\n",
    "# output:\n",
    "# It is an odd number\n",
    "\n",
    "# tip :  num%2==0\n",
    "\n",
    "# number=eval(enter a number)\n",
    "# if <condition>:\n",
    "#  print(\"\")\n",
    "# else:\n",
    "#  print(\"\")\n",
    "\n",
    "\n",
    "number=eval(input(\"enter a number:\"))\n",
    "if number%2==0:\n",
    "    print(\"{} is an even number\".format(number))\n",
    "    \n",
    "else:\n",
    "    print(\"{} is an odd number\".format(number))"
   ]
  },
  {
   "cell_type": "code",
   "execution_count": 21,
   "id": "28a5bf14",
   "metadata": {},
   "outputs": [
    {
     "ename": "ZeroDivisionError",
     "evalue": "integer division or modulo by zero",
     "output_type": "error",
     "traceback": [
      "\u001b[1;31m---------------------------------------------------------------------------\u001b[0m",
      "\u001b[1;31mZeroDivisionError\u001b[0m                         Traceback (most recent call last)",
      "Cell \u001b[1;32mIn [21], line 1\u001b[0m\n\u001b[1;32m----> 1\u001b[0m \u001b[38;5;241;43m0\u001b[39;49m\u001b[38;5;241;43m%\u001b[39;49m\u001b[38;5;241;43m0\u001b[39;49m\n",
      "\u001b[1;31mZeroDivisionError\u001b[0m: integer division or modulo by zero"
     ]
    }
   ],
   "source": [
    "0%0"
   ]
  },
  {
   "cell_type": "code",
   "execution_count": null,
   "id": "9566459b",
   "metadata": {},
   "outputs": [],
   "source": [
    "15/2===== > 7.5\n",
    "15%2 ==== > 1\n",
    "15//2 ==== > 7"
   ]
  },
  {
   "cell_type": "code",
   "execution_count": 23,
   "id": "f20f1b68",
   "metadata": {},
   "outputs": [
    {
     "name": "stdout",
     "output_type": "stream",
     "text": [
      "enter a num:-5\n",
      "the num is negative: \n"
     ]
    }
   ],
   "source": [
    "# wap ask the user enter a number\n",
    "# if the number greater tahn zero than print postive number\n",
    "# if the number less than zero than print negative number\n",
    "# as of now do not give 0\n",
    "\n",
    "\n",
    "num1=eval(input('enter a num:'))\n",
    "\n",
    "if num1>0:\n",
    "    print(\"the num is positive: \")\n",
    "    \n",
    "else:\n",
    "    print('the num is negative: ')\n",
    "    \n",
    "    \n",
    "# how many conditions >  < ====== > python one condition\n",
    "# 3 conditions =============== > 2"
   ]
  },
  {
   "cell_type": "markdown",
   "id": "2df79fe6",
   "metadata": {},
   "source": [
    "$if$-$elif$-$else$"
   ]
  },
  {
   "cell_type": "code",
   "execution_count": null,
   "id": "fadd9af1",
   "metadata": {},
   "outputs": [],
   "source": [
    "# if num>0 : print (pos)  if\n",
    "# if num==0 : print (zero) elif\n",
    "# if num<=0: print (neg)  else"
   ]
  },
  {
   "cell_type": "code",
   "execution_count": 29,
   "id": "31f6f9e8",
   "metadata": {},
   "outputs": [
    {
     "name": "stdout",
     "output_type": "stream",
     "text": [
      "enter a num:0\n",
      "it is a zero number\n"
     ]
    }
   ],
   "source": [
    "try:\n",
    "    num1=eval(input('enter a num:'))  # step-1: num1=0\n",
    "\n",
    "    if num1>0:                        # step-2: 0>0: False: \n",
    "        print(\"the num is positive: \") # not exe\n",
    "\n",
    "    elif num1==0:                     # 0==0 : True\n",
    "        print(\"it is a zero number\")  # exe\n",
    "\n",
    "    else:                             # not redirect to else statment\n",
    "        print('the num is negative: ')\n",
    "        \n",
    "except Exception as e:\n",
    "    print(e)\n",
    "    "
   ]
  },
  {
   "cell_type": "code",
   "execution_count": null,
   "id": "3b1002c1",
   "metadata": {},
   "outputs": [],
   "source": [
    "# ask the user enter a number\n",
    "# if number =1  print One\n",
    "# if number =2  print Two\n",
    "# if number =3  print Three\n",
    "# if number>3   print bye"
   ]
  },
  {
   "cell_type": "code",
   "execution_count": null,
   "id": "202c43fe",
   "metadata": {},
   "outputs": [],
   "source": [
    "if <c-1>:\n",
    "    =======st1\n",
    "    =======st2\n",
    "    \n",
    "elif <c-2>:\n",
    "    ====== st1\n",
    "    ====== st2"
   ]
  },
  {
   "cell_type": "code",
   "execution_count": null,
   "id": "b1cff776",
   "metadata": {},
   "outputs": [],
   "source": [
    "# assignment-2:  time in the lab\n",
    "# "
   ]
  },
  {
   "cell_type": "code",
   "execution_count": 1,
   "id": "ab37bdde",
   "metadata": {},
   "outputs": [
    {
     "name": "stdout",
     "output_type": "stream",
     "text": [
      "enter a num:56\n",
      "the num is positive: \n"
     ]
    }
   ],
   "source": [
    "num1=eval(input('enter a num:')) \n",
    "\n",
    "if num1>0:print(\"the num is positive: \") \n",
    "\n",
    "elif num1==0:print(\"it is a zero number\") \n",
    "\n",
    "else:print('the num is negative: ')"
   ]
  },
  {
   "cell_type": "code",
   "execution_count": null,
   "id": "296bc7b4",
   "metadata": {},
   "outputs": [],
   "source": [
    "# WAP ask the user enter a percentage\n",
    "# if percentage >75   print Grade A\n",
    "# if perecentage between 60 to 75  print Grade B\n",
    "# if perecentage between 45 to 60  print Grade C\n",
    "# if perecentage less than 45 print Fail\n",
    "\n",
    "# How many conditions 1(if)   2(elif)   3(elif)    4(else)"
   ]
  },
  {
   "cell_type": "code",
   "execution_count": 6,
   "id": "1d5975e4",
   "metadata": {},
   "outputs": [
    {
     "name": "stdout",
     "output_type": "stream",
     "text": [
      "Enter the percentage75\n",
      "Grade B\n"
     ]
    }
   ],
   "source": [
    "percent = eval(input(\"Enter the percentage\"))  # step-1: 62  95\n",
    "\n",
    "if percent>75:  # 75>75                  # 62>75 False \n",
    "    print(\"Grade A\")    \n",
    "elif percent>60:   #75>60               # 62>60 : True\n",
    "    print(\"Grade B\")    \n",
    "elif percent>45:  #45>45\n",
    "    print(\"Grade C\")    \n",
    "else:\n",
    "    print(\"Fail\")"
   ]
  },
  {
   "cell_type": "code",
   "execution_count": 3,
   "id": "1a426447",
   "metadata": {},
   "outputs": [
    {
     "name": "stdout",
     "output_type": "stream",
     "text": [
      "Enter the percentage62\n",
      "Grade B\n",
      "Grade C\n"
     ]
    }
   ],
   "source": [
    "percent = eval(input(\"Enter the percentage\"))  # step-1: 62  95\n",
    "\n",
    "if percent>75:  # 95>75                  # 62>75 False \n",
    "    print(\"Grade A\")    \n",
    "if percent>60:   #95>60               # 62>60 : True\n",
    "    print(\"Grade B\")    \n",
    "if percent>45:  #95>45\n",
    "    print(\"Grade C\")    \n",
    "else:\n",
    "    print(\"Fail\")"
   ]
  },
  {
   "cell_type": "code",
   "execution_count": null,
   "id": "db737c94",
   "metadata": {},
   "outputs": [],
   "source": [
    "- elif it will check particular condition\n",
    "\n",
    "- if that condition is true , it will not execute below lines"
   ]
  },
  {
   "cell_type": "code",
   "execution_count": 4,
   "id": "1c2b3752",
   "metadata": {},
   "outputs": [
    {
     "name": "stdout",
     "output_type": "stream",
     "text": [
      "Enter the percentage62\n",
      "Grade B\n"
     ]
    }
   ],
   "source": [
    "percent = eval(input(\"Enter the percentage\"))\n",
    "if percent > 75:\n",
    "    print(\"Grade A\")\n",
    "elif percent < 75 and percent > 60:\n",
    "    print(\"Grade B\")\n",
    "elif percent < 60 and percent > 45:\n",
    "    print(\"Grade C\")\n",
    "else:\n",
    "    print(\"Fail\")"
   ]
  },
  {
   "cell_type": "code",
   "execution_count": 9,
   "id": "cf5a030f",
   "metadata": {},
   "outputs": [
    {
     "name": "stdout",
     "output_type": "stream",
     "text": [
      "Enter age:python\n",
      "name 'python' is not defined\n"
     ]
    }
   ],
   "source": [
    "# ask the user enter a age\n",
    "# if age greater than 60 print old\n",
    "# if age between  45 and 60  print MA\n",
    "# if age between 30 to 45   print adult\n",
    "# if age between 18-30   print  young\n",
    "# if age between less than <18 print kid\n",
    "\n",
    "try:\n",
    "    age=eval(input(\"Enter age:\"))\n",
    "    if age> 60:     #  25>60   F\n",
    "        print(\"Old\")\n",
    "    elif age>45:    #  25>45   F\n",
    "        print(\"Middle Age\")\n",
    "    elif age>30:    # 25>30   F\n",
    "        print(\"Adult\")\n",
    "    elif age>18:   # 25>18    T\n",
    "        print(\"Young\")\n",
    "    else:\n",
    "        print(\"Kid\")\n",
    "        \n",
    "except Exception as e:\n",
    "    print(e)"
   ]
  },
  {
   "cell_type": "code",
   "execution_count": null,
   "id": "ba85983e",
   "metadata": {},
   "outputs": [],
   "source": [
    "# WAP ask the user enter three numbers find the greatest number\n",
    "\n",
    "n1=45   n2=60   n3=75\n",
    "\n",
    "# if:what is the condition:  n1>n2 and n1>n3\n",
    "\n",
    "# suppose the above condition is Flase ==== n1 out of the race\n",
    "\n",
    "# elif:condition is  n2>n3============ >False\n",
    "\n",
    "# else: n3 automatically greater"
   ]
  },
  {
   "cell_type": "code",
   "execution_count": 11,
   "id": "135dcbe1",
   "metadata": {},
   "outputs": [
    {
     "name": "stdout",
     "output_type": "stream",
     "text": [
      "95 is greater\n"
     ]
    }
   ],
   "source": [
    "num1,num2,num3=95,60,80\n",
    "if num1>num2 and num1>num3:\n",
    "    print(\"{} is greater\".format(num1))\n",
    "    \n",
    "elif num2>num3:\n",
    "    print(\"{} is greater\".format(num2))\n",
    "    \n",
    "else:\n",
    "    print(\"{} is greater\".format(num3))"
   ]
  },
  {
   "cell_type": "code",
   "execution_count": null,
   "id": "7a8c3f10",
   "metadata": {},
   "outputs": [],
   "source": [
    "# Nested if \n",
    "# chcek the condition first if num >= zero :\n",
    "# if condition is satisfy : if num==0 : print it is zero else: print postive number\n",
    "\n",
    "# else: it is a negative number\n",
    "\n",
    "if <condition>:\n",
    "    if <condition>:\n",
    "        print()\n",
    "    else:\n",
    "        print()\n",
    "        \n",
    "else:\n",
    "    "
   ]
  },
  {
   "cell_type": "code",
   "execution_count": 15,
   "id": "fe4114c0",
   "metadata": {},
   "outputs": [
    {
     "name": "stdout",
     "output_type": "stream",
     "text": [
      "enter a number:0\n",
      "it is a zero\n"
     ]
    }
   ],
   "source": [
    "num=eval(input(\"enter a number:\"))\n",
    "if num>=0:   # -45   -45>=0  True\n",
    "    if num==0:      \n",
    "        print(\"it is a zero\")\n",
    "    else:\n",
    "        print(\"It is a postive number\")\n",
    "        \n",
    "else:\n",
    "    print(\"It is a negative number\")"
   ]
  },
  {
   "cell_type": "code",
   "execution_count": null,
   "id": "027edf18",
   "metadata": {},
   "outputs": [],
   "source": []
  },
  {
   "cell_type": "code",
   "execution_count": null,
   "id": "026f6eca",
   "metadata": {},
   "outputs": [],
   "source": []
  },
  {
   "cell_type": "code",
   "execution_count": null,
   "id": "6c352e31",
   "metadata": {},
   "outputs": [],
   "source": []
  },
  {
   "cell_type": "code",
   "execution_count": null,
   "id": "34938bfd",
   "metadata": {},
   "outputs": [],
   "source": []
  }
 ],
 "metadata": {
  "kernelspec": {
   "display_name": "Python 3 (ipykernel)",
   "language": "python",
   "name": "python3"
  },
  "language_info": {
   "codemirror_mode": {
    "name": "ipython",
    "version": 3
   },
   "file_extension": ".py",
   "mimetype": "text/x-python",
   "name": "python",
   "nbconvert_exporter": "python",
   "pygments_lexer": "ipython3",
   "version": "3.10.9"
  }
 },
 "nbformat": 4,
 "nbformat_minor": 5
}
