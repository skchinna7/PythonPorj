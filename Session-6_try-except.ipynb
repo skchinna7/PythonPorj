{
 "cells": [
  {
   "cell_type": "markdown",
   "id": "4d0ec4e5",
   "metadata": {},
   "source": [
    "$try$- $exception$"
   ]
  },
  {
   "cell_type": "code",
   "execution_count": null,
   "id": "7da60309",
   "metadata": {},
   "outputs": [],
   "source": [
    "#m-1\n",
    "num1=float(input(\"enter a value num1:\")) # first line can be int/float\n",
    "num2=int(input(\"enter a value num2\"))   # second int only\n",
    "add=num1+num2\n",
    "print(\"the value of {} and {} is {}\".format(num1,num2,add))\n",
    "\n",
    "\n",
    "# what are the possible error from above code\n",
    "\n",
    "# 1. python :  value error\n",
    "# 2. 10.5 :    value error\n",
    "# 3. num not defined : name error\n",
    "# 4. indentation error\n",
    "# 5. syntax error"
   ]
  },
  {
   "cell_type": "code",
   "execution_count": null,
   "id": "bd2a058d",
   "metadata": {},
   "outputs": [],
   "source": [
    "1000 lines of code\n",
    "500 line you might be get error ==== > remaining 500 lines of code"
   ]
  },
  {
   "cell_type": "markdown",
   "id": "f193aeb4",
   "metadata": {},
   "source": [
    "- try-exception are two blocks\n",
    "\n",
    "- your original code should write in try block\n",
    "\n",
    "- your error should write in exception block\n",
    "\n",
    "- after semicolon press enter key\n",
    "\n",
    "- automatically cursor will take come gap\n",
    "\n",
    "- this gap is called indentation"
   ]
  },
  {
   "cell_type": "code",
   "execution_count": null,
   "id": "c5a6c3f8",
   "metadata": {},
   "outputs": [],
   "source": [
    "try:\n",
    "    num1=float(input(\"enter a value num1:\")) \n",
    "    num2=int(input(\"enter a value num2\"))   \n",
    "    add=num1+num2\n",
    "    print(\"the value of {} and {} is {}\".format(num1,num2,add))\n",
    "\n",
    "except:\n",
    "    print(\"error: DANGER\")\n",
    "    \n"
   ]
  },
  {
   "cell_type": "code",
   "execution_count": 6,
   "id": "a4c72845",
   "metadata": {},
   "outputs": [
    {
     "name": "stdout",
     "output_type": "stream",
     "text": [
      "enter a value num1:p\n",
      "could not convert string to float: 'p'\n",
      "hello\n"
     ]
    }
   ],
   "source": [
    "try:\n",
    "    num1=float(input(\"enter a value num1:\")) \n",
    "    num2=int(input(\"enter a value num2\"))  \n",
    "    add=num1+num\n",
    "    print(\"the value of {} and {} is {}\".format(num1,num2,add))\n",
    "\n",
    "except Exception as e:\n",
    "    print(e)\n",
    "    \n",
    "print(\"hello\")\n",
    "    \n",
    "# indentation syntax is not working"
   ]
  },
  {
   "cell_type": "code",
   "execution_count": 7,
   "id": "adcb26b9",
   "metadata": {},
   "outputs": [
    {
     "name": "stdout",
     "output_type": "stream",
     "text": [
      "enter a number1:20\n",
      "enter a number2:40\n",
      "enter a number3:60\n",
      "The avergae of 20 40 and 60 is 40.0\n"
     ]
    }
   ],
   "source": [
    "# write your normal code\n",
    "num1=eval(input(\"enter a number1:\"))\n",
    "num2=eval(input(\"enter a number2:\"))\n",
    "num3=eval(input(\"enter a number3:\"))\n",
    "add=num1+num2+num3\n",
    "avg=add/3\n",
    "print(\"The avergae of {} {} and {} is {}\".format(num1,num2,num3,avg))"
   ]
  },
  {
   "cell_type": "code",
   "execution_count": 9,
   "id": "2806cfb8",
   "metadata": {},
   "outputs": [
    {
     "name": "stdout",
     "output_type": "stream",
     "text": [
      "enter a number1:p\n",
      "The error is: name 'p' is not defined\n"
     ]
    }
   ],
   "source": [
    "try:\n",
    "    num1=eval(input(\"enter a number1:\"))\n",
    "    num2=eval(input(\"enter a number2:\"))\n",
    "    num3=eval(input(\"enter a number3:\"))\n",
    "    add=num1+num2+num3\n",
    "    avg=add/3\n",
    "    print(\"The avergae of {} {} and {} is {}\".format(num1,num2,num3,avg))\n",
    "    \n",
    "except Exception as e:\n",
    "    print(\"The error is:\",e)\n",
    "    \n"
   ]
  },
  {
   "cell_type": "code",
   "execution_count": null,
   "id": "b31c7f45",
   "metadata": {},
   "outputs": [],
   "source": [
    "A lot of cell phones have tip calculators. \n",
    "Write one. \n",
    "Ask the user for the price of the meal and the percent tip they want to leave. \n",
    "Then print both the tip amount and the total bill with the tip included"
   ]
  },
  {
   "cell_type": "code",
   "execution_count": 10,
   "id": "ce6c6c24",
   "metadata": {},
   "outputs": [
    {
     "name": "stdout",
     "output_type": "stream",
     "text": [
      "Enter the price of the meal :1000\n",
      "Enter the percent tip want to leave :10\n",
      "tip amount(100) and the total bill(1100)\n"
     ]
    }
   ],
   "source": [
    "try:\n",
    "    meal_price=eval(input(\"Enter the price of the meal :\"))\n",
    "    percent=eval(input(\"Enter the percent tip want to leave :\"))\n",
    "    tip_amt=round(meal_price*(percent/100))\n",
    "    print(\"tip amount({}) and the total bill({})\".format(tip_amt,meal_price+tip_amt))\n",
    "    \n",
    "except Exception as e:\n",
    "    print(\"The error is :\",e)"
   ]
  },
  {
   "cell_type": "code",
   "execution_count": null,
   "id": "dfa02f88",
   "metadata": {},
   "outputs": [],
   "source": []
  }
 ],
 "metadata": {
  "kernelspec": {
   "display_name": "Python 3 (ipykernel)",
   "language": "python",
   "name": "python3"
  },
  "language_info": {
   "codemirror_mode": {
    "name": "ipython",
    "version": 3
   },
   "file_extension": ".py",
   "mimetype": "text/x-python",
   "name": "python",
   "nbconvert_exporter": "python",
   "pygments_lexer": "ipython3",
   "version": "3.10.9"
  }
 },
 "nbformat": 4,
 "nbformat_minor": 5
}
