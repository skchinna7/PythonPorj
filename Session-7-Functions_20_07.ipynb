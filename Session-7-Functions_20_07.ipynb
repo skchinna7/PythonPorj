{
 "cells": [
  {
   "cell_type": "markdown",
   "id": "34e5ad76",
   "metadata": {},
   "source": [
    "$Function$"
   ]
  },
  {
   "cell_type": "code",
   "execution_count": null,
   "id": "3331688e",
   "metadata": {},
   "outputs": [],
   "source": [
    "- To re-use the piece of code "
   ]
  },
  {
   "cell_type": "code",
   "execution_count": null,
   "id": "cd21dac6",
   "metadata": {},
   "outputs": [],
   "source": [
    "i want to say heloo to each and every of my student\n",
    "100\n",
    "print(\"Hemanth hello\")\n",
    "print(\"jayesh hello\")\n",
    "print(\"nabila hello\")\n",
    "print(\"bhaskar hello\")  ====== generlised\n",
    "\n",
    "print(x,\"hello\")"
   ]
  },
  {
   "cell_type": "code",
   "execution_count": null,
   "id": "07696391",
   "metadata": {},
   "outputs": [],
   "source": [
    "def <function_name>():\n",
    "    #=======st1\n",
    "    #=======st2"
   ]
  },
  {
   "cell_type": "code",
   "execution_count": null,
   "id": "3a74ec66",
   "metadata": {},
   "outputs": [],
   "source": [
    "# Normal code\n",
    "a,b=20,30\n",
    "c=a+b\n",
    "print(\"the summation of {} and {} is {}\".format(a,b,c))"
   ]
  },
  {
   "cell_type": "code",
   "execution_count": null,
   "id": "5d438e1d",
   "metadata": {},
   "outputs": [],
   "source": [
    "def add():\n",
    "    a,b=20,30\n",
    "    c=a+b\n",
    "    print(\"the summation of {} and {} is {}\".format(a,b,c))"
   ]
  },
  {
   "cell_type": "code",
   "execution_count": null,
   "id": "16e42e01",
   "metadata": {},
   "outputs": [],
   "source": [
    "add()"
   ]
  },
  {
   "cell_type": "code",
   "execution_count": null,
   "id": "643da4d6",
   "metadata": {},
   "outputs": [],
   "source": [
    "a=eval(input(\"enter a:\"))\n",
    "b=eval(input(\"enter b:\"))\n",
    "c=a+b\n",
    "print(\"the summation of {} and {} is {}\".format(a,b,c))"
   ]
  },
  {
   "cell_type": "code",
   "execution_count": null,
   "id": "777bcc1a",
   "metadata": {},
   "outputs": [],
   "source": [
    "def add1():\n",
    "    a=eval(input(\"enter a:\"))\n",
    "    b=eval(input(\"enter b:\"))\n",
    "    c=a+b\n",
    "    print(\"the summation of {} and {} is {}\".format(a,b,c))"
   ]
  },
  {
   "cell_type": "code",
   "execution_count": null,
   "id": "7644b3f7",
   "metadata": {},
   "outputs": [],
   "source": [
    "add1()"
   ]
  },
  {
   "cell_type": "code",
   "execution_count": null,
   "id": "d2c99ace",
   "metadata": {},
   "outputs": [],
   "source": [
    "# create a function call with name average\n",
    "# print the average of two numbers\n",
    "\n",
    "# first wtite normal avergae code\n",
    "# then keep that code in a function \n",
    "# next call that function"
   ]
  },
  {
   "cell_type": "code",
   "execution_count": null,
   "id": "0fff1e55",
   "metadata": {},
   "outputs": [],
   "source": [
    "# Step-1: will create the function\n",
    "# Step-2: will call the function with function name\n",
    "\n",
    "a,b=20,30\n",
    "avg=(a+b)/2\n",
    "print(\"The avergae of {} and {} is: {}\".format(a,b,avg))"
   ]
  },
  {
   "cell_type": "code",
   "execution_count": null,
   "id": "f124bfc1",
   "metadata": {},
   "outputs": [],
   "source": [
    "# step-1: define the function\n",
    "def average():  # manager \n",
    "    a,b=20,30\n",
    "    avg=(a+b)/2\n",
    "    print(\"The avergae of {} and {} is: {}\".format(a,b,avg)) "
   ]
  },
  {
   "cell_type": "code",
   "execution_count": null,
   "id": "0506dce9",
   "metadata": {},
   "outputs": [],
   "source": [
    "# step-2: call the function\n",
    "average()"
   ]
  },
  {
   "cell_type": "code",
   "execution_count": null,
   "id": "434ec6c1",
   "metadata": {},
   "outputs": [],
   "source": [
    "def average():  # manager \n",
    "    a,b=20,30\n",
    "    avg=(a+b)/2\n",
    "    print(\"The avergae of {} and {} is: {}\".format(a,b)) "
   ]
  },
  {
   "cell_type": "code",
   "execution_count": null,
   "id": "c20041f1",
   "metadata": {},
   "outputs": [],
   "source": [
    "average()"
   ]
  },
  {
   "cell_type": "markdown",
   "id": "a81351c5",
   "metadata": {},
   "source": [
    "$Without$ $Arguments$"
   ]
  },
  {
   "cell_type": "code",
   "execution_count": null,
   "id": "b4000248",
   "metadata": {},
   "outputs": [],
   "source": [
    "# Function with out arguments"
   ]
  },
  {
   "cell_type": "code",
   "execution_count": null,
   "id": "24fc6385",
   "metadata": {},
   "outputs": [],
   "source": [
    "def add1():\n",
    "    a=eval(input(\"enter a:\"))\n",
    "    b=eval(input(\"enter b:\"))\n",
    "    c=a+b\n",
    "    print(\"the summation of {} and {} is {}\".format(a,b,c))\n",
    "    \n",
    "    \n",
    "add1()"
   ]
  },
  {
   "cell_type": "code",
   "execution_count": null,
   "id": "6c11c51d",
   "metadata": {},
   "outputs": [],
   "source": [
    "def add1(num1,num2):\n",
    "    print(num1+num2)\n",
    "    \n",
    "() ====== empty : there is no arguments/parameters\n",
    "(a,b)===== not empty : there are two arguments/parameters"
   ]
  },
  {
   "cell_type": "code",
   "execution_count": null,
   "id": "802806da",
   "metadata": {},
   "outputs": [],
   "source": [
    "def add1_with(num1,num2):\n",
    "    print(\"the summation of num1 and num2 is:\",num1+num2)\n",
    "    \n",
    "    \n",
    "add1_with(140,150)  # num1=40  num2=50"
   ]
  },
  {
   "cell_type": "code",
   "execution_count": null,
   "id": "0b0769f9",
   "metadata": {},
   "outputs": [],
   "source": [
    "def add1_without():\n",
    "    num1=140\n",
    "    num2=150\n",
    "    print(\"the summation of num1 and num2 is:\",num1+num2)\n",
    "    \n",
    "    \n",
    "add1_without()  "
   ]
  },
  {
   "cell_type": "code",
   "execution_count": null,
   "id": "8010e1d5",
   "metadata": {},
   "outputs": [],
   "source": [
    "def add1_with(num1,num2):\n",
    "    print(\"the summation of num1 and num2 is:\",num1+num2)"
   ]
  },
  {
   "cell_type": "code",
   "execution_count": null,
   "id": "e4595419",
   "metadata": {},
   "outputs": [],
   "source": [
    "add1_with(30,20)"
   ]
  },
  {
   "cell_type": "code",
   "execution_count": null,
   "id": "80091ce2",
   "metadata": {},
   "outputs": [],
   "source": [
    "# make avge code into with arguments\n",
    "\n",
    "def average():  # manager \n",
    "    a,b=20,30\n",
    "    avg=(a+b)/2\n",
    "    print(\"The avergae of {} and {} is: {}\".format(a,b))\n",
    "    \n",
    "# how many variable are there in original code\n",
    "# a,b,avg ====== > a and b"
   ]
  },
  {
   "cell_type": "code",
   "execution_count": null,
   "id": "dce5f025",
   "metadata": {},
   "outputs": [],
   "source": [
    "def average_with(a,b):\n",
    "    avg=(a+b)/2\n",
    "    print(\"the average is:\",avg)"
   ]
  },
  {
   "cell_type": "code",
   "execution_count": null,
   "id": "e85c4450",
   "metadata": {},
   "outputs": [],
   "source": [
    "average_with(100,20)   # a=10   b=20"
   ]
  },
  {
   "cell_type": "code",
   "execution_count": null,
   "id": "eaac9a1c",
   "metadata": {},
   "outputs": [],
   "source": [
    "def greet(name):\n",
    "    print(\"{} hello\".format(name))\n",
    "    "
   ]
  },
  {
   "cell_type": "code",
   "execution_count": null,
   "id": "ca106554",
   "metadata": {},
   "outputs": [],
   "source": [
    "greet(\"akshay\")"
   ]
  },
  {
   "cell_type": "markdown",
   "id": "d1423d2d",
   "metadata": {},
   "source": [
    "# you can implemnt all 15 codes in functions \n",
    "\n",
    "- normal avg\n",
    "\n",
    "- try-ecept\n",
    "\n",
    "- with arguments\n",
    "\n",
    "- with out arguments"
   ]
  },
  {
   "cell_type": "markdown",
   "id": "7c59858e",
   "metadata": {},
   "source": [
    "- we started with functions\n",
    "\n",
    "- reuse the code\n",
    "\n",
    "- any python code 95% you can implement using functions\n",
    "\n",
    "- first write a normal code , then insert the code in the function\n",
    "\n",
    "- while writing a function, it will never show any error\n",
    "\n",
    "- when you call the function only it will show the error\n"
   ]
  },
  {
   "cell_type": "code",
   "execution_count": null,
   "id": "d01783bd",
   "metadata": {},
   "outputs": [],
   "source": [
    "a=10"
   ]
  },
  {
   "cell_type": "code",
   "execution_count": null,
   "id": "4898115a",
   "metadata": {},
   "outputs": [],
   "source": [
    "a"
   ]
  },
  {
   "cell_type": "code",
   "execution_count": null,
   "id": "a923615e",
   "metadata": {},
   "outputs": [],
   "source": [
    "try-exception\n",
    "if -else"
   ]
  },
  {
   "cell_type": "code",
   "execution_count": null,
   "id": "c6375b1b",
   "metadata": {},
   "outputs": [],
   "source": [
    "num=input(\"enter a number:\")  # num=hi\n",
    "if num%2==0:                hi%2==0\n",
    "    print(\"even\")\n",
    "else:\n",
    "    print(\"odd\")"
   ]
  },
  {
   "cell_type": "code",
   "execution_count": null,
   "id": "9cde38d5",
   "metadata": {},
   "outputs": [],
   "source": [
    "num=eval(input(\"enter a number:\"))  \n",
    "if num%2==0:               \n",
    "    print(\"{} is even\".format(num))\n",
    "else:\n",
    "    print(\"{} is odd\".format(num))\n",
    "    "
   ]
  },
  {
   "cell_type": "code",
   "execution_count": null,
   "id": "e3ad8cf5",
   "metadata": {},
   "outputs": [],
   "source": [
    "def even_odd():\n",
    "    num=eval(input(\"enter a number:\"))  \n",
    "    if num%2==0:               \n",
    "        print(\"{} is even\".format(num))\n",
    "    else:\n",
    "        print(\"{} is odd\".format(num))\n"
   ]
  },
  {
   "cell_type": "code",
   "execution_count": null,
   "id": "c3ef4487",
   "metadata": {},
   "outputs": [],
   "source": [
    "even_odd()\n",
    "\n",
    "# this function does not have any arguments \n",
    "# see your bracket() ----- > empty : no arguments"
   ]
  },
  {
   "cell_type": "code",
   "execution_count": null,
   "id": "afbcfd74",
   "metadata": {},
   "outputs": [],
   "source": [
    "def even_odd(num): \n",
    "    if num%2==0:               \n",
    "        print(\"{} is even\".format(num))\n",
    "    else:\n",
    "        print(\"{} is odd\".format(num))\n",
    "\n",
    "        \n",
    "even_odd(50)  \n",
    "\n",
    "# with arguments"
   ]
  },
  {
   "cell_type": "code",
   "execution_count": null,
   "id": "b92a153b",
   "metadata": {},
   "outputs": [],
   "source": [
    "try:\n",
    "    num=eval(input(\"enter a number:\"))  \n",
    "    if num%2==0:               \n",
    "        print(\"{} is even\".format(num))\n",
    "    else:\n",
    "        print(\"{} is odd\".format(num))\n",
    "        \n",
    "except Exception as e:\n",
    "    print(e)"
   ]
  },
  {
   "cell_type": "code",
   "execution_count": null,
   "id": "c4bf99f4",
   "metadata": {},
   "outputs": [],
   "source": [
    "def even_odd1():\n",
    "    try:\n",
    "        num=eval(input(\"enter a number:\")) # '75'  \n",
    "        if num%2==0:               \n",
    "            print(\"{} is even\".format(num))\n",
    "        else:\n",
    "            print(\"{} is odd\".format(num))\n",
    "        \n",
    "    except Exception as e:\n",
    "        print(e)\n",
    "        \n",
    "even_odd1()"
   ]
  },
  {
   "cell_type": "code",
   "execution_count": null,
   "id": "0a509cf4",
   "metadata": {},
   "outputs": [],
   "source": [
    "def even_odd2(num):\n",
    "    try:  \n",
    "        if num%2==0:  # '75'%2==0               \n",
    "            print(\"{} is even\".format(num))\n",
    "        else:\n",
    "            print(\"{} is odd\".format(num))\n",
    "        \n",
    "    except Exception as e:\n",
    "        print(e)\n",
    "        \n",
    "even_odd2(100)\n",
    "even_odd2('75')"
   ]
  },
  {
   "cell_type": "code",
   "execution_count": null,
   "id": "7065e3fb",
   "metadata": {},
   "outputs": [],
   "source": [
    "#5. A lot of cell phones have tip calculators. \n",
    "#Write one. \n",
    "#Ask the user for the price of the meal and the percent tip they want to leave. \n",
    "#Then print both the tip amount and the total bill with the tip included.\n",
    "\n",
    "# 1. implement function with out arguments\n",
    "# 2. implement function with arguments"
   ]
  },
  {
   "cell_type": "code",
   "execution_count": null,
   "id": "7ce032f0",
   "metadata": {},
   "outputs": [],
   "source": [
    "in string '5' is invalid,\n",
    "but for int('5') is not<"
   ]
  },
  {
   "cell_type": "code",
   "execution_count": null,
   "id": "47f1e7e6",
   "metadata": {},
   "outputs": [],
   "source": [
    "str1='5'\n",
    "int(str1)"
   ]
  },
  {
   "cell_type": "code",
   "execution_count": null,
   "id": "d20547b7",
   "metadata": {},
   "outputs": [],
   "source": [
    "# Normal code\n",
    "price_of_meal=eval(input(\"enter the value for price :\"))\n",
    "percent_tip=eval(input(\"enter the tip :\"))\n",
    "total_amount=price_of_meal*(percent_tip/100)\n",
    "total_bill=price_of_meal+total_amount\n",
    "print(\"the value of tip amount :\",total_amount)\n",
    "print(\"the value of total bill(with bill): \",total_bill)"
   ]
  },
  {
   "cell_type": "code",
   "execution_count": null,
   "id": "ac53008e",
   "metadata": {},
   "outputs": [],
   "source": [
    "def bill_pay():\n",
    "    price_of_meal=eval(input(\"enter the value for price :\"))\n",
    "    percent_tip=eval(input(\"enter the tip :\"))\n",
    "    total_amount=price_of_meal*(percent_tip/100)\n",
    "    total_bill=price_of_meal+total_amount\n",
    "    print(\"the value of tip amount :\",total_amount)\n",
    "    print(\"the value of total bill(with bill): \",total_bill)\n",
    "    \n",
    "bill_pay()\n",
    "\n",
    "# price_of_meal,perecent_tip,\n",
    "#total_amount,total_bill"
   ]
  },
  {
   "cell_type": "code",
   "execution_count": null,
   "id": "07294c3a",
   "metadata": {},
   "outputs": [],
   "source": [
    "def bill_pay(price_of_meal,percent_tip,percent_tip2):\n",
    "    try:\n",
    "        total_amount=price_of_meal*(percent_tip/100)    # 2000*'20'/100\n",
    "        total_bill=price_of_meal+total_amount\n",
    "        print(\"the value of tip amount :\",total_amount)\n",
    "        print(\"the value of total bill(with bill): \",total_bill)\n",
    "    except Exception as e:\n",
    "        print(e)\n",
    "        total_amount2=price_of_meal*(percent_tip2/100)  # 2000*20/100\n",
    "        total_bill2=price_of_meal+total_amount2        # \n",
    "        #print(\"total_bill2:\",total_bill2)\n",
    "        print(\"the value of tip amount :\",total_amount2)\n",
    "        print(\"the value of total bill(with bill): \",total_bill2)\n",
    "    \n",
    "bill_pay(2000,'20',20)  # price_of_meal=2000, perecent_tip='20', perecent_tip2=20"
   ]
  },
  {
   "cell_type": "code",
   "execution_count": null,
   "id": "ca7a8741",
   "metadata": {},
   "outputs": [],
   "source": [
    "num1,num2,num3=95,60,80\n",
    "if num1>num2 and num1>num3:\n",
    "    print(\"{} is greater\".format(num1))\n",
    "    \n",
    "elif num2>num3:\n",
    "    print(\"{} is greater\".format(num2))\n",
    "    \n",
    "else:\n",
    "    print(\"{} is greater\".format(num3))"
   ]
  },
  {
   "cell_type": "code",
   "execution_count": null,
   "id": "ce00712b",
   "metadata": {},
   "outputs": [],
   "source": [
    "# how many variable are there"
   ]
  },
  {
   "cell_type": "code",
   "execution_count": null,
   "id": "b89b79c6",
   "metadata": {},
   "outputs": [],
   "source": [
    "num=eval(input(\"enter a number:\"))"
   ]
  },
  {
   "cell_type": "code",
   "execution_count": null,
   "id": "ee3e3a6e",
   "metadata": {},
   "outputs": [],
   "source": [
    "num1,num2,num3=95,60,80\n",
    "if num1>num2 and num1>num3:\n",
    "    print(\"{} is greater\".format(num1))\n",
    "    \n",
    "elif num2>num3:\n",
    "    print(\"{} is greater\".format(num2))\n",
    "    \n",
    "else:\n",
    "    print(\"{} is greater\".format(num3))"
   ]
  },
  {
   "cell_type": "code",
   "execution_count": null,
   "id": "4d74ae20",
   "metadata": {},
   "outputs": [],
   "source": []
  },
  {
   "cell_type": "code",
   "execution_count": null,
   "id": "ed0a0ef3",
   "metadata": {},
   "outputs": [],
   "source": []
  },
  {
   "cell_type": "code",
   "execution_count": null,
   "id": "c4e43241",
   "metadata": {},
   "outputs": [],
   "source": []
  },
  {
   "cell_type": "code",
   "execution_count": null,
   "id": "fa380752",
   "metadata": {},
   "outputs": [],
   "source": [
    "def grt_num():\n",
    "    num1=eval(input(\"Enter first number\"))\n",
    "    num2=eval(input(\"Enter 2nd number\"))\n",
    "    num3=eval(input(\"Enter 3rd number\"))\n",
    "    if ((num1>num2) and (num1>num3)):\n",
    "        print(\" greater num is = {}\".format(num1))\n",
    "    elif num2>num3: \n",
    "        print(\" greater num is = {}\".format(num2))\n",
    "    else:\n",
    "        print(\" greater num is = {}\".format(num3))\n",
    "grt_num()"
   ]
  },
  {
   "cell_type": "code",
   "execution_count": null,
   "id": "ee2e664c",
   "metadata": {},
   "outputs": [],
   "source": [
    "def greater_num():\n",
    "    num1,num2,num3=50,100,120\n",
    "    if num1>num2 and num1>num3:\n",
    "        print(\"{} is greater\".format(num1))\n",
    "    elif num2>num3:\n",
    "        print(\"{} is greater\".format(num2))\n",
    "    else:\n",
    "        print(\"{} is greater\".format(num3))\n",
    "        \n",
    "greater_num()"
   ]
  },
  {
   "cell_type": "code",
   "execution_count": null,
   "id": "a682330e",
   "metadata": {},
   "outputs": [],
   "source": [
    "def greater_num(num1,num2,num3):\n",
    "    if num1>num2 and num1>num3:\n",
    "        print(\"{} is greater\".format(num1))\n",
    "    elif num2>num3:\n",
    "        print(\"{} is greater\".format(num2))\n",
    "    else:\n",
    "        print(\"{} is greater\".format(num3))\n",
    "        \n",
    "greater_num(20,30,40.5)"
   ]
  },
  {
   "cell_type": "markdown",
   "id": "d0321e36",
   "metadata": {},
   "source": [
    "$Default$ $Arguments$"
   ]
  },
  {
   "cell_type": "code",
   "execution_count": null,
   "id": "022ce112",
   "metadata": {},
   "outputs": [],
   "source": [
    "def bill_pay(price_of_meal,percent_tip=10):\n",
    "    print(\"Price of meal value:\",price_of_meal)\n",
    "    print(\"perecent_tip:\",percent_tip)\n",
    "    total_amount=price_of_meal*(percent_tip/100)\n",
    "    total_bill=price_of_meal+total_amount\n",
    "    print(\"the value of tip amount :\",total_amount)\n",
    "    print(\"the value of total bill(with bill): \",total_bill)\n",
    "    \n",
    "bill_pay(2000)\n",
    "\n",
    "# assume tip value always fixed value\n",
    "# we are using two arguments in a function call\n",
    "# only one argument value vary\n",
    "# other argument value is fixed : defualt argument\n",
    "# in above code percent_tip = default argument"
   ]
  },
  {
   "cell_type": "code",
   "execution_count": null,
   "id": "7526ba72",
   "metadata": {},
   "outputs": [],
   "source": [
    "def greater_num(num1,num2=100,num3=200):\n",
    "    print(\"num1:\",num1) # 20\n",
    "    print(\"num2:\",num2) # 100\n",
    "    print(\"num3:\",num3) # 200\n",
    "    if num1>num2 and num1>num3:\n",
    "        print(\"{} is greater\".format(num1))\n",
    "    elif num2>num3:\n",
    "        print(\"{} is greater\".format(num2))\n",
    "    else:\n",
    "        print(\"{} is greater\".format(num3))\n",
    "        \n",
    "greater_num(20)\n",
    "\n",
    "# here num2 and num3 keep Default arguments"
   ]
  },
  {
   "cell_type": "code",
   "execution_count": null,
   "id": "60492051",
   "metadata": {},
   "outputs": [],
   "source": [
    "def greater_num(num1,num2=100,num3):\n",
    "    print(\"num1:\",num1) # 20\n",
    "    print(\"num2:\",num2) # 100\n",
    "    print(\"num3:\",num3) # 200\n",
    "    if num1>num2 and num1>num3:\n",
    "        print(\"{} is greater\".format(num1))\n",
    "    elif num2>num3:\n",
    "        print(\"{} is greater\".format(num2))\n",
    "    else:\n",
    "        print(\"{} is greater\".format(num3))\n",
    "        \n",
    "greater_num(20,200)"
   ]
  },
  {
   "cell_type": "code",
   "execution_count": null,
   "id": "d222c0a3",
   "metadata": {},
   "outputs": [],
   "source": [
    "def greater_num(num1,num3,num2=100):\n",
    "    print(\"num1:\",num1) # 20\n",
    "    print(\"num2:\",num2) # 100\n",
    "    print(\"num3:\",num3) # 200\n",
    "    if num1>num2 and num1>num3:\n",
    "        print(\"{} is greater\".format(num1))\n",
    "    elif num2>num3:\n",
    "        print(\"{} is greater\".format(num2))\n",
    "    else:\n",
    "        print(\"{} is greater\".format(num3))\n",
    "        \n",
    "greater_num(20,200)"
   ]
  },
  {
   "cell_type": "markdown",
   "id": "24c91916",
   "metadata": {},
   "source": [
    "- without arguments\n",
    "\n",
    "- with arguments\n",
    "\n",
    "- Default arguments"
   ]
  },
  {
   "cell_type": "code",
   "execution_count": null,
   "id": "b0c39342",
   "metadata": {},
   "outputs": [],
   "source": [
    "def bill_pay():\n",
    "    price_of_meal=eval(input(\"enter the value for price :\"))\n",
    "    percent_tip=eval(input(\"enter the tip :\"))\n",
    "    total_amount=price_of_meal*(percent_tip/100)\n",
    "    total_bill=price_of_meal+total_amount\n",
    "    print(\"the value of tip amount :\",total_amount)\n",
    "    print(\"the value of total bill(with bill): \",total_bill)\n",
    "    \n",
    "bill_pay()"
   ]
  },
  {
   "cell_type": "code",
   "execution_count": null,
   "id": "8fc98ade",
   "metadata": {},
   "outputs": [],
   "source": [
    "total_bill # how to return the values"
   ]
  },
  {
   "cell_type": "code",
   "execution_count": null,
   "id": "a6ac115c",
   "metadata": {},
   "outputs": [],
   "source": [
    "def bill_pay():\n",
    "    price_of_meal=eval(input(\"enter the value for price :\"))\n",
    "    percent_tip=eval(input(\"enter the tip :\"))\n",
    "    total_amount=price_of_meal*(percent_tip/100)\n",
    "    total_bill=price_of_meal+total_amount\n",
    "    print(\"the value of tip amount :\",total_amount)\n",
    "    print(\"the value of total bill(with bill): \",total_bill)\n",
    "    return(total_bill,total_amount)\n",
    "    \n",
    "    \n",
    "# this bill_pay function is returning one value\n",
    "# how many value we want to return\n",
    "# while you are call the function intialise that many variable\n",
    "# so that your return values will save in that variable"
   ]
  },
  {
   "cell_type": "code",
   "execution_count": null,
   "id": "588051f3",
   "metadata": {},
   "outputs": [],
   "source": [
    "total_bill,total_amount=bill_pay()\n",
    "\n",
    "# the output return value from bill pay im saving in variable called total_bill"
   ]
  },
  {
   "cell_type": "code",
   "execution_count": null,
   "id": "a030bbaa",
   "metadata": {},
   "outputs": [],
   "source": [
    "total_bill"
   ]
  },
  {
   "cell_type": "code",
   "execution_count": null,
   "id": "be2c755f",
   "metadata": {},
   "outputs": [],
   "source": [
    "total_amount"
   ]
  },
  {
   "cell_type": "code",
   "execution_count": null,
   "id": "00fd9b3b",
   "metadata": {},
   "outputs": [],
   "source": []
  },
  {
   "cell_type": "code",
   "execution_count": null,
   "id": "1f5ad5b1",
   "metadata": {},
   "outputs": [],
   "source": [
    "Write a program that asks the user to enter three numbers (use three\n",
    "separate input statements).Create variables called total and average\n",
    "that hold the sum and average of the three numbers and print out the\n",
    "values of total and average.\n",
    "\n",
    "return total and average"
   ]
  },
  {
   "cell_type": "code",
   "execution_count": null,
   "id": "380f040d",
   "metadata": {},
   "outputs": [],
   "source": [
    "def is_Greater2(num1 = 10,num3 = 30):\n",
    "    num2=eval(input(\"enter number\"))\n",
    "    if(num1 > num2 and num1 > num3):\n",
    "        print(\"{} is greater\".format(num1))\n",
    "    elif num2 > num3:\n",
    "        print(\"{} is greater\".format(num2))\n",
    "    else:\n",
    "        print(\"{} is greater\".format(num3))\n",
    "\n",
    "in this case how to skip second argument ?"
   ]
  },
  {
   "cell_type": "code",
   "execution_count": null,
   "id": "12c941b8",
   "metadata": {},
   "outputs": [],
   "source": [
    "# M-1:\n",
    "\n",
    "n1=eval(input(\"Enter first numbers:\"))\n",
    "n2=eval(input(\"Enter second numbers:\"))\n",
    "n3=eval(input(\"Enter third numbers:\"))\n",
    "total=n1+n2+n3\n",
    "avg=total/3\n",
    "print(\"Total= \",total)\n",
    "print(\"Average= \",avg)"
   ]
  },
  {
   "cell_type": "code",
   "execution_count": null,
   "id": "6f6848d7",
   "metadata": {},
   "outputs": [],
   "source": [
    "# M-2:\n",
    "\n",
    "def total_avg():\n",
    "\n",
    "    n1=eval(input(\"Enter first numbers:\"))\n",
    "    n2=eval(input(\"Enter second numbers:\"))\n",
    "    n3=eval(input(\"Enter third numbers:\"))\n",
    "    total=n1+n2+n3\n",
    "    avg=total/3\n",
    "    print(\"Total= \",total)\n",
    "    print(\"Average= \",avg)\n",
    "    \n",
    "total_avg()"
   ]
  },
  {
   "cell_type": "code",
   "execution_count": null,
   "id": "e1a1365a",
   "metadata": {},
   "outputs": [],
   "source": [
    "# M-2:\n",
    "\n",
    "def total_avg(n1,n2,n3):\n",
    "    total=n1+n2+n3\n",
    "    avg=total/3\n",
    "    print(\"Total= \",total)\n",
    "    print(\"Average= \",avg)\n",
    "    \n",
    "total_avg(20,30,40)"
   ]
  },
  {
   "cell_type": "code",
   "execution_count": null,
   "id": "7842975c",
   "metadata": {},
   "outputs": [],
   "source": [
    "# M-3:\n",
    "\n",
    "def total_avg(n1,n2,n3=100):\n",
    "    total=n1+n2+n3\n",
    "    avg=total/3\n",
    "    print(\"Total= \",total)\n",
    "    print(\"Average= \",avg)\n",
    "    \n",
    "total_avg(20,30)"
   ]
  },
  {
   "cell_type": "code",
   "execution_count": null,
   "id": "3cd30e89",
   "metadata": {},
   "outputs": [],
   "source": [
    "# M-4:\n",
    "\n",
    "def total_avg(n1,n2,n3):\n",
    "    total=n1+n2+n3\n",
    "    avg=total/3\n",
    "    print(\"Total= \",total)\n",
    "    print(\"Average= \",avg)\n",
    "    return(total,avg)\n",
    "    \n",
    "total,avg=total_avg(20,30,40)\n",
    "\n",
    "\n",
    "# who is giving the values:  function"
   ]
  },
  {
   "cell_type": "code",
   "execution_count": null,
   "id": "2045f021",
   "metadata": {},
   "outputs": [],
   "source": [
    "total"
   ]
  },
  {
   "cell_type": "code",
   "execution_count": null,
   "id": "69f55f44",
   "metadata": {},
   "outputs": [],
   "source": [
    "avg"
   ]
  },
  {
   "cell_type": "code",
   "execution_count": null,
   "id": "20466e48",
   "metadata": {},
   "outputs": [],
   "source": [
    "def number():\n",
    "    n1=eval(input(\"Enter first numbers\"))\n",
    "    n2=eval(input(\"Enter second numbers\"))\n",
    "    n3=eval(input(\"Enter third numbers\"))\n",
    "    total=n1+n2+n3\n",
    "    avg=total/3\n",
    "    print(\"Total= \",total)\n",
    "    print(\"Average= \",avg)\n",
    "    return total,avg"
   ]
  },
  {
   "cell_type": "code",
   "execution_count": null,
   "id": "f60791e7",
   "metadata": {},
   "outputs": [],
   "source": [
    "# local variable\n",
    "# global \n",
    "try-exception\n",
    "if-else\n",
    "\n",
    "10days =========== statistics  Ml \n"
   ]
  },
  {
   "cell_type": "code",
   "execution_count": null,
   "id": "dec3f70a",
   "metadata": {},
   "outputs": [],
   "source": []
  },
  {
   "cell_type": "markdown",
   "id": "0df01fd2",
   "metadata": {},
   "source": [
    "- Defining the functions\n",
    "\n",
    "- with out arguement\n",
    "\n",
    "- with argument argument \n",
    "\n",
    "- return statement"
   ]
  },
  {
   "cell_type": "markdown",
   "id": "ba084c8a",
   "metadata": {},
   "source": [
    "$Local$ $Variable$ - $Global$ $Variable$"
   ]
  },
  {
   "cell_type": "markdown",
   "id": "d5559a91",
   "metadata": {},
   "source": [
    "- local : within area ----- inside the function\n",
    "    \n",
    "- global: out side the function call\n",
    "    \n",
    "- local variable"
   ]
  },
  {
   "cell_type": "markdown",
   "id": "8c17b4da",
   "metadata": {},
   "source": [
    "**n1 n2 and n3 are variables**\n",
    "\n",
    "**these variables are defined inside the function**\n",
    "\n",
    "**hence these variables are called local variables**\n",
    "\n",
    "**total and avg also local variable only**"
   ]
  },
  {
   "cell_type": "code",
   "execution_count": null,
   "id": "8404def4",
   "metadata": {},
   "outputs": [],
   "source": [
    "def number():\n",
    "    n1=eval(input(\"Enter first numbers\"))\n",
    "    n2=eval(input(\"Enter second numbers\"))\n",
    "    n3=eval(input(\"Enter third numbers\"))\n",
    "    total=n1+n2+n3\n",
    "    avg=total/3\n",
    "    print(\"Total= \",total)\n",
    "    print(\"Average= \",avg)\n",
    "    return total,avg\n"
   ]
  },
  {
   "cell_type": "code",
   "execution_count": null,
   "id": "e03fe404",
   "metadata": {},
   "outputs": [],
   "source": [
    "n1=eval(input(\"Enter first numbers\"))\n",
    "n2=eval(input(\"Enter second numbers\"))\n",
    "n3=eval(input(\"Enter third numbers\"))\n",
    "print(\"*********************************\")\n",
    "\n",
    "def number():\n",
    "    print(\"===================================\")\n",
    "    print(\"n1:\",n1)\n",
    "    print(\"n2:\",n2)\n",
    "    print(\"n3:\",n3)\n",
    "    total=n1+n2+n3\n",
    "    avg=total/3\n",
    "    print(\"Total= \",total)\n",
    "    print(\"Average= \",avg)\n",
    "    return total,avg\n",
    "\n",
    "# n1 number\n",
    "# n2 number\n",
    "# n3 number\n",
    "# number(): just defination will hapend\n",
    "# you need to call the function\n",
    "\n",
    "print(\"first i will define the function\")\n",
    "number()"
   ]
  },
  {
   "cell_type": "code",
   "execution_count": null,
   "id": "ef8830c8",
   "metadata": {},
   "outputs": [],
   "source": [
    "n1,n2,n3=100,200,300\n",
    "\n",
    "def total():\n",
    "    n1=500   # now n1 local variable\n",
    "    summ=n1+n2+n3  # 500+200+300 1000\n",
    "    print(\"summation:\",summ) \n",
    "    return(summ)\n",
    "\n",
    "print(\"n1:\",n1)\n",
    "\n",
    "def average():\n",
    "    avg=(n1+n2+n3)/3 # 100+200+300/3   avg=200\n",
    "    print(\"average:\",avg)\n",
    "    return(avg)\n",
    "\n",
    "mul=n1*n2*n3  # 100*200*300\n",
    "print(\"mul:\",mul)\n",
    "\n",
    "sum1=total()  # value 1000 you are returning\n",
    "avg1=average()\n",
    "print(summ)"
   ]
  },
  {
   "cell_type": "code",
   "execution_count": null,
   "id": "c15d7ea5",
   "metadata": {},
   "outputs": [],
   "source": [
    "def total():\n",
    "    n1=500   # now n1 local variable\n",
    "    summ=n1+n2+n3  # 500+200+300\n",
    "    print(\"summation:\",summ)\n",
    "    return(summ)"
   ]
  },
  {
   "cell_type": "code",
   "execution_count": null,
   "id": "2a75dd8f",
   "metadata": {},
   "outputs": [],
   "source": [
    "n1,n2,n3=100,200,300\n",
    "\n",
    "# n1 = global variable\n",
    "\n",
    "def total():\n",
    "    n1=n2+n3  # n1= local variable   n1=500 \n",
    "    summ=n1+n2+n3  \n",
    "    print(\"summation:\",summ) \n",
    "    return(summ)\n",
    "\n",
    "sum1=total()\n",
    "print(\"n1:\",n1)   # n1=100\n",
    "print(\"sum1:\",sum1)\n"
   ]
  },
  {
   "cell_type": "code",
   "execution_count": null,
   "id": "8d189324",
   "metadata": {},
   "outputs": [],
   "source": [
    "n1,n2,n3=100,200,300\n",
    "# here n1 is global variable \n",
    "# but value=100\n",
    "\n",
    "def total():\n",
    "    global n1    # global variable by making a global keyword\n",
    "    n1=n2+n3       # updating n1 value with 500  \n",
    "    summ=n1+n2+n3  \n",
    "    print(\"summation:\",summ) \n",
    "    return(summ)\n",
    "\n",
    "sum1=total()\n",
    "print(\"n1:\",n1)\n",
    "print(\"sum1:\",sum1)\n",
    "\n",
    "# we are changing the value inside the function\n",
    "# the output i want to use outside the function"
   ]
  },
  {
   "cell_type": "code",
   "execution_count": null,
   "id": "9b5e2107",
   "metadata": {},
   "outputs": [],
   "source": [
    "n1,n2,n3=100,200,300\n",
    "# here n1 is global variable \n",
    "# but value=100\n",
    "\n",
    "def total():\n",
    "    global n1,summ    # global variable by making a global keyword\n",
    "    n1=n2+n3       # updating n1 value with 500  \n",
    "    summ=n1+n2+n3  \n",
    "    print(\"summation:\",summ) \n",
    "    return(summ)\n",
    "\n",
    "sum1=total()\n",
    "print(\"n1:\",n1)\n",
    "print(\"sum1:\",sum1)\n",
    "print(\"summ:\",summ)\n",
    "\n",
    "# last statement summ not defined\n",
    "# why? summ is inside the function call ==== > local variable\n",
    "# local variables cant use outside the function call\n",
    "\n",
    "# solution:  want to make summ ==== global varible\n",
    "# global summ"
   ]
  },
  {
   "cell_type": "markdown",
   "id": "0eff856e",
   "metadata": {},
   "source": [
    "- defin the function\n",
    "\n",
    "- with arguments\n",
    "\n",
    "- with out arguments\n",
    "\n",
    "- default arguments\n",
    "\n",
    "- return statements\n",
    "\n",
    "- local variable\n",
    "\n",
    "- global variable\n",
    "\n",
    "- how to convert local variable as global variable\n",
    "\n",
    "- how to use inside function outputs/ inside function variables to outside the function call\n",
    "    "
   ]
  },
  {
   "cell_type": "markdown",
   "id": "c524f874",
   "metadata": {},
   "source": [
    "**function in functions**"
   ]
  },
  {
   "cell_type": "code",
   "execution_count": null,
   "id": "2b2ee016",
   "metadata": {},
   "outputs": [],
   "source": [
    "def add(a,b):\n",
    "    return(a+b)\n",
    "\n",
    "\n",
    "ans1=add(10,20)\n",
    "print(\"ans:\",ans1)"
   ]
  },
  {
   "cell_type": "code",
   "execution_count": null,
   "id": "6315c810",
   "metadata": {},
   "outputs": [],
   "source": [
    "def add(a,b):\n",
    "    summ1=a+b\n",
    "    return(summ1)\n",
    "\n",
    "ans1=add(10,20)\n",
    "print(\"ans:\",ans1)"
   ]
  },
  {
   "cell_type": "code",
   "execution_count": null,
   "id": "1d1a5e35",
   "metadata": {},
   "outputs": [],
   "source": [
    "def add(a,b):\n",
    "    print(\"++++++++++++++++++\")\n",
    "    c=a+b\n",
    "    print(\"c:\",c)\n",
    "    return(c)\n",
    "\n",
    "def average(a,b):\n",
    "    print(\"--------------------\")\n",
    "    sum1=add(a,b)  # it is return c ======== sum1\n",
    "    print(\"******************\")\n",
    "    avg=sum1/2\n",
    "    print(\"avg:\",avg)\n",
    "    return(avg)\n",
    "\n",
    "# in order to execute the avg value\n",
    "average(10,20)\n",
    "\n",
    "# first you need to call average function\n",
    "# first line: printing ---------------------------\n",
    "# second line:  calling add()\n",
    "# it will redirect to add()\n",
    "# step-3: inside add() =================> ++++++++++++\n",
    "# step-4: c=a+b\n",
    "# step-5: print(c)\n",
    "# step-6: return value of c ========= sum1\n",
    "# step-7: ********************************\n",
    "# step-8: claculate avg value\n",
    "# step-9: print avg value\n",
    "# step-10: return avg value\n",
    "\n",
    "\n"
   ]
  },
  {
   "cell_type": "code",
   "execution_count": null,
   "id": "567c694d",
   "metadata": {},
   "outputs": [],
   "source": [
    "def add(a,b):\n",
    "    print(\"im performing addition operation\")\n",
    "    return(a+b)\n",
    "\n",
    "def sub(a,b):\n",
    "    print(\"im performing subtraction operation\")\n",
    "    return(a-b)\n",
    "\n",
    "def mul(a,b):\n",
    "    print(\"im performing multiplication operation\")\n",
    "    return(a*b)\n",
    "\n",
    "\n",
    "def calcuator(a,b):\n",
    "    add1=add(a,b)   # calling add function\n",
    "    sub1=sub(a,b)\n",
    "    mul1=mul(a,b)\n",
    "    print(\"addition of {} and {} is {}\".format(a,b,add1))  # 30\n",
    "    print(\"subtraction of {} and {} is {}\".format(a,b,sub1)) # -10\n",
    "    print(\"multiplication of {} and {} is {}\".format(a,b,mul1)) # 3000\n",
    "    \n",
    "calcuator(10,20,30,40,50,60)"
   ]
  },
  {
   "cell_type": "code",
   "execution_count": null,
   "id": "fabdbc4e",
   "metadata": {},
   "outputs": [],
   "source": [
    "def add(a,b):\n",
    "    print(\"im performing addition operation\")\n",
    "    return(a+b)\n",
    "\n",
    "def sub(c,d):\n",
    "    print(\"im performing subtraction operation\")\n",
    "    return(c-d)\n",
    "\n",
    "def mul(e,f):\n",
    "    print(\"im performing multiplication operation\")\n",
    "    return(e*f)\n",
    "\n",
    "\n",
    "def calcuator(a,b,c,d,e,f):\n",
    "    add1=add(a,b)   # calling add function\n",
    "    sub1=sub(c,d)\n",
    "    mul1=mul(e,f)\n",
    "    print(\"addition of {} and {} is {}\".format(a,b,add1))  # 30\n",
    "    print(\"subtraction of {} and {} is {}\".format(a,b,sub1)) # -10\n",
    "    print(\"multiplication of {} and {} is {}\".format(a,b,mul1)) # 3000\n",
    "    \n",
    "calcuator(10,20,30,40,50,60)"
   ]
  },
  {
   "cell_type": "code",
   "execution_count": null,
   "id": "03a9dacd",
   "metadata": {},
   "outputs": [],
   "source": [
    "a=eval(input(\"enter a:\"))\n",
    "b=eval(input(\"enter b:\"))\n",
    "\n",
    "def add():\n",
    "    print(\"im performing addition operation\")\n",
    "    return(a+b)\n",
    "\n",
    "def sub():\n",
    "    print(\"im performing subtraction operation\")\n",
    "    return(a-b)\n",
    "\n",
    "def mul():\n",
    "    print(\"im performing multiplication operation\")\n",
    "    return(a*b)\n",
    "\n",
    "\n",
    "def calcuator():\n",
    "    add1=add()   # calling add function\n",
    "    sub1=sub()\n",
    "    mul1=mul()\n",
    "    print(\"addition of {} and {} is {}\".format(a,b,add1))  # 30\n",
    "    print(\"subtraction of {} and {} is {}\".format(a,b,sub1)) # -10\n",
    "    print(\"multiplication of {} and {} is {}\".format(a,b,mul1)) # 3000\n",
    "    \n",
    "calcuator()"
   ]
  },
  {
   "cell_type": "code",
   "execution_count": 4,
   "id": "3060ac90",
   "metadata": {},
   "outputs": [
    {
     "name": "stdout",
     "output_type": "stream",
     "text": [
      "enter a:30\n",
      "enter b:40\n",
      "im performing addition operation\n",
      "im performing subtraction operation\n",
      "im performing multiplication operation\n",
      "addition of 30 and 40 is 70\n",
      "subtraction of 30 and 40 is -10\n",
      "multiplication of 30 and 40 is 1200\n"
     ]
    }
   ],
   "source": [
    "\n",
    "def add(a,b):\n",
    "    print(\"im performing addition operation\")\n",
    "    return(a+b)\n",
    "\n",
    "def sub(a,b):\n",
    "    print(\"im performing subtraction operation\")\n",
    "    return(a-b)\n",
    "\n",
    "def mul(a,b):\n",
    "    print(\"im performing multiplication operation\")\n",
    "    return(a*b)\n",
    "\n",
    "\n",
    "def calcuator1():\n",
    "    a=eval(input(\"enter a:\"))\n",
    "    b=eval(input(\"enter b:\"))\n",
    "    add1=add(a,b)   # calling add function\n",
    "    sub1=sub(a,b)\n",
    "    mul1=mul(a,b)\n",
    "    print(\"addition of {} and {} is {}\".format(a,b,add1))  # 30\n",
    "    print(\"subtraction of {} and {} is {}\".format(a,b,sub1)) # -10\n",
    "    print(\"multiplication of {} and {} is {}\".format(a,b,mul1)) # 3000\n",
    "    \n",
    "calcuator1()"
   ]
  },
  {
   "cell_type": "code",
   "execution_count": null,
   "id": "857ba9e1",
   "metadata": {},
   "outputs": [],
   "source": []
  },
  {
   "cell_type": "code",
   "execution_count": null,
   "id": "7792d253",
   "metadata": {},
   "outputs": [],
   "source": []
  },
  {
   "cell_type": "code",
   "execution_count": null,
   "id": "3d98c3e4",
   "metadata": {},
   "outputs": [],
   "source": []
  },
  {
   "cell_type": "code",
   "execution_count": null,
   "id": "c60c658b",
   "metadata": {},
   "outputs": [],
   "source": []
  },
  {
   "cell_type": "code",
   "execution_count": null,
   "id": "7a7b3e9d",
   "metadata": {},
   "outputs": [],
   "source": []
  }
 ],
 "metadata": {
  "kernelspec": {
   "display_name": "Python 3 (ipykernel)",
   "language": "python",
   "name": "python3"
  },
  "language_info": {
   "codemirror_mode": {
    "name": "ipython",
    "version": 3
   },
   "file_extension": ".py",
   "mimetype": "text/x-python",
   "name": "python",
   "nbconvert_exporter": "python",
   "pygments_lexer": "ipython3",
   "version": "3.10.9"
  }
 },
 "nbformat": 4,
 "nbformat_minor": 5
}
