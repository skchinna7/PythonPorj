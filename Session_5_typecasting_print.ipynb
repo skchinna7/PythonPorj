{
 "cells": [
  {
   "cell_type": "markdown",
   "id": "a402a2a8",
   "metadata": {},
   "source": [
    "$String$ $to$ $other$ $data$ $types$"
   ]
  },
  {
   "cell_type": "code",
   "execution_count": 1,
   "id": "58f9f581",
   "metadata": {},
   "outputs": [
    {
     "ename": "ValueError",
     "evalue": "invalid literal for int() with base 10: 'python'",
     "output_type": "error",
     "traceback": [
      "\u001b[1;31m---------------------------------------------------------------------------\u001b[0m",
      "\u001b[1;31mValueError\u001b[0m                                Traceback (most recent call last)",
      "Cell \u001b[1;32mIn [1], line 7\u001b[0m\n\u001b[0;32m      1\u001b[0m str1\u001b[38;5;241m=\u001b[39m\u001b[38;5;124m'\u001b[39m\u001b[38;5;124mpython\u001b[39m\u001b[38;5;124m'\u001b[39m    \u001b[38;5;66;03m# python is a english letter ====== maths\u001b[39;00m\n\u001b[0;32m      3\u001b[0m \u001b[38;5;66;03m# str to int\u001b[39;00m\n\u001b[0;32m      4\u001b[0m \u001b[38;5;66;03m# str to float\u001b[39;00m\n\u001b[0;32m      5\u001b[0m \u001b[38;5;66;03m# str to complex\u001b[39;00m\n\u001b[1;32m----> 7\u001b[0m \u001b[38;5;28;43mint\u001b[39;49m\u001b[43m(\u001b[49m\u001b[43mstr1\u001b[49m\u001b[43m)\u001b[49m\n",
      "\u001b[1;31mValueError\u001b[0m: invalid literal for int() with base 10: 'python'"
     ]
    }
   ],
   "source": [
    "str1='python'    # python is a english letter ====== maths\n",
    "\n",
    "# str to int\n",
    "# str to float\n",
    "# str to complex\n",
    "\n",
    "int(str1)"
   ]
  },
  {
   "cell_type": "code",
   "execution_count": 2,
   "id": "82f36b74",
   "metadata": {},
   "outputs": [
    {
     "ename": "ValueError",
     "evalue": "could not convert string to float: 'python'",
     "output_type": "error",
     "traceback": [
      "\u001b[1;31m---------------------------------------------------------------------------\u001b[0m",
      "\u001b[1;31mValueError\u001b[0m                                Traceback (most recent call last)",
      "Cell \u001b[1;32mIn [2], line 1\u001b[0m\n\u001b[1;32m----> 1\u001b[0m \u001b[38;5;28;43mfloat\u001b[39;49m\u001b[43m(\u001b[49m\u001b[43mstr1\u001b[49m\u001b[43m)\u001b[49m\n",
      "\u001b[1;31mValueError\u001b[0m: could not convert string to float: 'python'"
     ]
    }
   ],
   "source": [
    "float(str1)"
   ]
  },
  {
   "cell_type": "code",
   "execution_count": 3,
   "id": "4e8cec5b",
   "metadata": {},
   "outputs": [
    {
     "ename": "ValueError",
     "evalue": "complex() arg is a malformed string",
     "output_type": "error",
     "traceback": [
      "\u001b[1;31m---------------------------------------------------------------------------\u001b[0m",
      "\u001b[1;31mValueError\u001b[0m                                Traceback (most recent call last)",
      "Cell \u001b[1;32mIn [3], line 1\u001b[0m\n\u001b[1;32m----> 1\u001b[0m \u001b[38;5;28;43mcomplex\u001b[39;49m\u001b[43m(\u001b[49m\u001b[43mstr1\u001b[49m\u001b[43m)\u001b[49m\n",
      "\u001b[1;31mValueError\u001b[0m: complex() arg is a malformed string"
     ]
    }
   ],
   "source": [
    "complex(str1)"
   ]
  },
  {
   "cell_type": "code",
   "execution_count": 4,
   "id": "e8d77376",
   "metadata": {},
   "outputs": [
    {
     "data": {
      "text/plain": [
       "True"
      ]
     },
     "execution_count": 4,
     "metadata": {},
     "output_type": "execute_result"
    }
   ],
   "source": [
    "bool(str1)"
   ]
  },
  {
   "cell_type": "code",
   "execution_count": 5,
   "id": "9998a0c9",
   "metadata": {},
   "outputs": [
    {
     "data": {
      "text/plain": [
       "False"
      ]
     },
     "execution_count": 5,
     "metadata": {},
     "output_type": "execute_result"
    }
   ],
   "source": [
    "str2='p'   # p is one character\n",
    "str3=''    # empty string\n",
    "bool(str3)"
   ]
  },
  {
   "cell_type": "markdown",
   "id": "4174adc0",
   "metadata": {},
   "source": [
    "**Note**\n",
    "\n",
    "- if string is a normal english word\n",
    "\n",
    "- when we apply boolean type casting the answer is True\n",
    "\n",
    "- if string is empty, then boolean type casting is False"
   ]
  },
  {
   "cell_type": "code",
   "execution_count": 17,
   "id": "d136e401",
   "metadata": {},
   "outputs": [
    {
     "name": "stdout",
     "output_type": "stream",
     "text": [
      "'10' integer conversion is 10.\n",
      "'10' float conversion is 10.0\n",
      "'10' boolean conversion is True\n",
      "'10' complex conversion is (10+0j)\n"
     ]
    }
   ],
   "source": [
    "str4='10'     # here string is  a number\n",
    "int_str4=int(str4)\n",
    "print(\"'{}' integer conversion is {}.\".format(str4,int_str4))\n",
    "float_str4=float(str4)\n",
    "print(\"'{}' float conversion is {}\".format(str4,float_str4))\n",
    "bool_str4=bool(str4)\n",
    "print(\"'{}' boolean conversion is {}\".format(str4,bool_str4))\n",
    "complex_str4=complex(str4)\n",
    "print(\"'{}' complex conversion is {}\".format(str4,complex_str4))"
   ]
  },
  {
   "cell_type": "markdown",
   "id": "b13a33da",
   "metadata": {},
   "source": [
    "- str4='10.5'     # here string is  a number type: float\n",
    "\n",
    "- int_str4=int(str4) # 10\n",
    "\n",
    "- print(\"'{}' integer conversion is {}.\".format(str4,int_str4))\n",
    "\n",
    "#### check-1: if string is a number ==== > yes\n",
    "#### check-2: what is the type of a number that inside string\n",
    "         : if it is integer str1='10'\n",
    "           str to float conversion possible\n",
    "            \n",
    "#### check-3: if it is a float     ex: str1='10.5'\n",
    "           str to int conversion not possible"
   ]
  },
  {
   "cell_type": "code",
   "execution_count": null,
   "id": "3de5503d",
   "metadata": {},
   "outputs": [],
   "source": []
  },
  {
   "cell_type": "code",
   "execution_count": 19,
   "id": "4811eac4",
   "metadata": {},
   "outputs": [
    {
     "name": "stdout",
     "output_type": "stream",
     "text": [
      "'10.5' float conversion is 10.5\n",
      "'10.5' boolean conversion is True\n",
      "'10.5' complex conversion is (10.5+0j)\n"
     ]
    }
   ],
   "source": [
    "str4='10.5'     # here string is  a number\n",
    "#int_str4=int(str4) # 10\n",
    "#print(\"'{}' integer conversion is {}.\".format(str4,int_str4))\n",
    "\n",
    "float_str4=float(str4) # 10.5\n",
    "print(\"'{}' float conversion is {}\".format(str4,float_str4))\n",
    "bool_str4=bool(str4)   # True\n",
    "print(\"'{}' boolean conversion is {}\".format(str4,bool_str4))\n",
    "complex_str4=complex(str4)\n",
    "print(\"'{}' complex conversion is {}\".format(str4,complex_str4))"
   ]
  },
  {
   "cell_type": "markdown",
   "id": "f87fbcaf",
   "metadata": {},
   "source": [
    "**Note**\n",
    "\n",
    "- if string is a normal english word\n",
    "\n",
    "- when we apply boolean type casting the answer is True\n",
    "\n",
    "- if string is empty, then boolean type casting is False\n",
    "\n",
    "- if string has float number , str to int conversion will fail\n",
    "\n",
    "- complex()  : 0j   real=0,imag=0\n",
    "\n",
    "- complex(10) : 10+0j \n",
    "\n",
    "- complex(10+5j) : 10+5j\n",
    "\n"
   ]
  },
  {
   "cell_type": "code",
   "execution_count": null,
   "id": "784e7ae2",
   "metadata": {},
   "outputs": [],
   "source": [
    "# bin,oct,hex\n",
    "\n",
    "binary=0b111\n",
    "int(binary)\n",
    "float(binary)\n",
    "str(binary)\n",
    "complex(binary)\n",
    "oct(binary)\n",
    "hex(binary)\n",
    "\n",
    "octal=0o567\n",
    "int(octal)\n",
    "float(octal)\n",
    "str(octal)\n",
    "complex(octal)\n",
    "bin(octal)\n",
    "hex(octal)\n",
    "\n",
    "\n",
    "hexa=0xabc\n",
    "int(hexa)\n",
    "float(hexa)\n",
    "str(hexa)\n",
    "complex(hexa)\n",
    "oct(hexa)\n",
    "bin(hexa)"
   ]
  },
  {
   "cell_type": "code",
   "execution_count": 21,
   "id": "074f418b",
   "metadata": {},
   "outputs": [
    {
     "name": "stdout",
     "output_type": "stream",
     "text": [
      "the value of a is: 10\n",
      "the value of a is: 20\n",
      "the value of a is: 30\n"
     ]
    }
   ],
   "source": [
    "a=10\n",
    "b=20\n",
    "c=a+b\n",
    "print(\"the value of a is:\",a)\n",
    "print(\"the value of a is:\",b)\n",
    "print(\"the value of a is:\",c)"
   ]
  },
  {
   "cell_type": "code",
   "execution_count": 22,
   "id": "70645841",
   "metadata": {},
   "outputs": [
    {
     "name": "stdout",
     "output_type": "stream",
     "text": [
      "the value of a is: 10\n",
      "the value of a is: 20\n"
     ]
    }
   ],
   "source": [
    "# in the code i want to two print two statements\n",
    "print(\"the value of a is:\",a)\n",
    "print(\"the value of a is:\",b)"
   ]
  },
  {
   "cell_type": "code",
   "execution_count": null,
   "id": "46d839b1",
   "metadata": {},
   "outputs": [],
   "source": [
    "the value of a is: 10 the value of a is: 20"
   ]
  },
  {
   "cell_type": "markdown",
   "id": "d64d78bc",
   "metadata": {},
   "source": [
    "$end$:"
   ]
  },
  {
   "cell_type": "code",
   "execution_count": 27,
   "id": "14c90266",
   "metadata": {},
   "outputs": [
    {
     "name": "stdout",
     "output_type": "stream",
     "text": [
      "the value of a is: 10the value of a is: 20\n"
     ]
    }
   ],
   "source": [
    "print(\"the value of a is:\",a,end='')\n",
    "print(\"the value of a is:\",b)"
   ]
  },
  {
   "cell_type": "code",
   "execution_count": 36,
   "id": "3058b7cc",
   "metadata": {},
   "outputs": [
    {
     "name": "stdout",
     "output_type": "stream",
     "text": [
      "hai how are\n"
     ]
    }
   ],
   "source": [
    "print(\"hai\",end=' ')\n",
    "print(\"how\",end=' ')\n",
    "print(\"are\")\n",
    "\n",
    "# hai how are\n",
    "#print('hai how are')"
   ]
  },
  {
   "cell_type": "code",
   "execution_count": 39,
   "id": "a338b1a3",
   "metadata": {},
   "outputs": [
    {
     "name": "stdout",
     "output_type": "stream",
     "text": [
      "hai-->how-->are-->you\n"
     ]
    }
   ],
   "source": [
    "# take 4 print statements\n",
    "#hai\n",
    "#how\n",
    "#are\n",
    "#you\n",
    "\n",
    "# hai ---> how ---> are ----> you\n",
    "\n",
    "print('hai',end='-->')\n",
    "print('how',end='-->')\n",
    "print('are',end='-->')\n",
    "print('you')\n"
   ]
  },
  {
   "cell_type": "code",
   "execution_count": 38,
   "id": "a58748d5",
   "metadata": {},
   "outputs": [
    {
     "name": "stdout",
     "output_type": "stream",
     "text": [
      "0 1 2 3 4 5 6 7 8 9 "
     ]
    }
   ],
   "source": [
    "for i in range(10):\n",
    "    print(i,end=' ')"
   ]
  },
  {
   "cell_type": "markdown",
   "id": "f498d0dd",
   "metadata": {},
   "source": [
    "$sep$"
   ]
  },
  {
   "cell_type": "code",
   "execution_count": 42,
   "id": "9d3caf82",
   "metadata": {},
   "outputs": [
    {
     "name": "stdout",
     "output_type": "stream",
     "text": [
      "hai--->how--->are--->you\n",
      "10 20\n"
     ]
    }
   ],
   "source": [
    "print(\"hai\",\"how\",\"are\",\"you\",sep='--->')\n",
    "# hai---->how ----> are -----> you\n",
    "# in this print statements 4\n",
    "print(10,20)"
   ]
  },
  {
   "cell_type": "code",
   "execution_count": 43,
   "id": "045bf627",
   "metadata": {},
   "outputs": [
    {
     "name": "stdout",
     "output_type": "stream",
     "text": [
      "A\n",
      "B\n",
      "C\n"
     ]
    }
   ],
   "source": [
    "print('A')\n",
    "print('B')\n",
    "print('C')"
   ]
  },
  {
   "cell_type": "code",
   "execution_count": 45,
   "id": "697d8798",
   "metadata": {},
   "outputs": [
    {
     "name": "stdout",
     "output_type": "stream",
     "text": [
      "ABC\n"
     ]
    }
   ],
   "source": [
    "#ABC\n",
    "print('A',end='')\n",
    "print('B',end='')\n",
    "print('C')"
   ]
  },
  {
   "cell_type": "code",
   "execution_count": 47,
   "id": "b77465bd",
   "metadata": {},
   "outputs": [
    {
     "name": "stdout",
     "output_type": "stream",
     "text": [
      "ABC\n"
     ]
    }
   ],
   "source": [
    "print('A','B','C',sep='')"
   ]
  },
  {
   "cell_type": "code",
   "execution_count": 50,
   "id": "0d5f7fe1",
   "metadata": {},
   "outputs": [
    {
     "name": "stdout",
     "output_type": "stream",
     "text": [
      "python is good\n"
     ]
    }
   ],
   "source": [
    "print(\"python\",\"good\",sep=' is ')"
   ]
  },
  {
   "cell_type": "code",
   "execution_count": 51,
   "id": "a9694ac0",
   "metadata": {},
   "outputs": [
    {
     "name": "stdout",
     "output_type": "stream",
     "text": [
      "python is good\n"
     ]
    }
   ],
   "source": [
    "\"python is good\"\n",
    "print(\"python {} good\".format('is'))"
   ]
  },
  {
   "cell_type": "code",
   "execution_count": 56,
   "id": "c50f4eee",
   "metadata": {},
   "outputs": [
    {
     "name": "stdout",
     "output_type": "stream",
     "text": [
      "python is good\n",
      "python is good\n"
     ]
    }
   ],
   "source": [
    "print(\"python {} good\".format('is'))\n",
    "str1='is'\n",
    "print(\"python {} good\".format(str1))"
   ]
  },
  {
   "cell_type": "code",
   "execution_count": 55,
   "id": "3756d1a1",
   "metadata": {},
   "outputs": [
    {
     "name": "stdout",
     "output_type": "stream",
     "text": [
      "python is good\n",
      "python is good\n"
     ]
    }
   ],
   "source": [
    "print(\"python\",\"good\",sep=' is ')\n",
    "str1=' is '\n",
    "print(\"python\",\"good\",sep=str1)"
   ]
  },
  {
   "cell_type": "markdown",
   "id": "0c069fc0",
   "metadata": {},
   "source": [
    "- format\n",
    "\n",
    "- sep\n",
    "\n",
    "- end"
   ]
  },
  {
   "cell_type": "code",
   "execution_count": 57,
   "id": "5b9a7f62",
   "metadata": {},
   "outputs": [
    {
     "name": "stdout",
     "output_type": "stream",
     "text": [
      "30\n"
     ]
    }
   ],
   "source": [
    "# WAP sum of two numbers\n",
    "a=10\n",
    "b=20\n",
    "c=a+b\n",
    "print(c)"
   ]
  },
  {
   "cell_type": "code",
   "execution_count": 58,
   "id": "9b1cfc39",
   "metadata": {},
   "outputs": [
    {
     "name": "stdout",
     "output_type": "stream",
     "text": [
      "10\n",
      "20\n"
     ]
    }
   ],
   "source": [
    "a,b=10,20\n",
    "print(a) # a=10\n",
    "print(b) # b=20"
   ]
  },
  {
   "cell_type": "code",
   "execution_count": 59,
   "id": "bcf43eb3",
   "metadata": {},
   "outputs": [
    {
     "data": {
      "text/plain": [
       "(10, 20)"
      ]
     },
     "execution_count": 59,
     "metadata": {},
     "output_type": "execute_result"
    }
   ],
   "source": [
    "a=10,20\n",
    "a"
   ]
  },
  {
   "cell_type": "code",
   "execution_count": 60,
   "id": "b53c939b",
   "metadata": {},
   "outputs": [
    {
     "name": "stdout",
     "output_type": "stream",
     "text": [
      "20\n"
     ]
    },
    {
     "data": {
      "text/plain": [
       "'20'"
      ]
     },
     "execution_count": 60,
     "metadata": {},
     "output_type": "execute_result"
    }
   ],
   "source": [
    "# ask the user to enter a number\n",
    "input()"
   ]
  },
  {
   "cell_type": "code",
   "execution_count": 61,
   "id": "6c214597",
   "metadata": {},
   "outputs": [
    {
     "data": {
      "text/plain": [
       "10"
      ]
     },
     "execution_count": 61,
     "metadata": {},
     "output_type": "execute_result"
    }
   ],
   "source": [
    "a=10\n",
    "a"
   ]
  },
  {
   "cell_type": "code",
   "execution_count": 64,
   "id": "090868ca",
   "metadata": {},
   "outputs": [
    {
     "name": "stdout",
     "output_type": "stream",
     "text": [
      "50\n",
      "the type of a is: <class 'str'>\n",
      "50\n",
      "the type of b is: <class 'str'>\n",
      "5050\n"
     ]
    }
   ],
   "source": [
    "a=input()\n",
    "print(\"the type of a is:\",type(a))\n",
    "b=input()\n",
    "print(\"the type of b is:\",type(b))\n",
    "c=a+b\n",
    "print(c)\n",
    "\n",
    "# step-1: you need to enter some value === a\n",
    "# step-2: you need to enter some value ==== b\n",
    "# step-3: you are adding a and b\n",
    "# step-4: printing(c)"
   ]
  },
  {
   "cell_type": "code",
   "execution_count": 65,
   "id": "70692200",
   "metadata": {},
   "outputs": [
    {
     "data": {
      "text/plain": [
       "'5050'"
      ]
     },
     "execution_count": 65,
     "metadata": {},
     "output_type": "execute_result"
    }
   ],
   "source": [
    "'50'+'50'"
   ]
  },
  {
   "cell_type": "code",
   "execution_count": 63,
   "id": "2bbd0c81",
   "metadata": {},
   "outputs": [
    {
     "data": {
      "text/plain": [
       "int"
      ]
     },
     "execution_count": 63,
     "metadata": {},
     "output_type": "execute_result"
    }
   ],
   "source": [
    "a=50\n",
    "type(a)"
   ]
  },
  {
   "cell_type": "code",
   "execution_count": null,
   "id": "0e005e5a",
   "metadata": {},
   "outputs": [],
   "source": [
    "num1=int(input(\"enter a value num1:\"))\n",
    "num1=int('30')"
   ]
  },
  {
   "cell_type": "code",
   "execution_count": 69,
   "id": "ecae60ff",
   "metadata": {},
   "outputs": [
    {
     "name": "stdout",
     "output_type": "stream",
     "text": [
      "enter a value num1:100\n",
      "enter a value num2200\n",
      "100200\n"
     ]
    }
   ],
   "source": [
    "num1=input(\"enter a value num1:\") # type string\n",
    "num2=input(\"enter a value num2\")\n",
    "add=num1+num2\n",
    "print(add)"
   ]
  },
  {
   "cell_type": "code",
   "execution_count": 71,
   "id": "48ba9365",
   "metadata": {},
   "outputs": [
    {
     "name": "stdout",
     "output_type": "stream",
     "text": [
      "enter a value num1:100\n",
      "enter a value num2200\n",
      "the value of 100 and 200 is 300\n"
     ]
    }
   ],
   "source": [
    "#m-1\n",
    "num1=int(input(\"enter a value num1:\")) # type string\n",
    "num2=int(input(\"enter a value num2\"))\n",
    "add=num1+num2\n",
    "print(\"the value of {} and {} is {}\".format(num1,num2,add))"
   ]
  },
  {
   "cell_type": "code",
   "execution_count": 72,
   "id": "d9c378b9",
   "metadata": {},
   "outputs": [
    {
     "name": "stdout",
     "output_type": "stream",
     "text": [
      "enter a value num1:100\n",
      "enter a value num2200\n",
      "the value of 100 and 200 is 300\n"
     ]
    }
   ],
   "source": [
    "#m-2\n",
    "num1=input(\"enter a value num1:\")           # type string ='10'\n",
    "num2=input(\"enter a value num2\")            # '20'\n",
    "add=int(num1)+int(num2)                     # int('10')+int('20') ===> 10+20\n",
    "print(\"the value of {} and {} is {}\".format(num1,num2,add))"
   ]
  },
  {
   "cell_type": "code",
   "execution_count": 76,
   "id": "acb33b5e",
   "metadata": {},
   "outputs": [
    {
     "name": "stdout",
     "output_type": "stream",
     "text": [
      "enter a value num1:10.5\n",
      "enter a value num220\n",
      "the value of 10.5 and 20 is 30.5\n"
     ]
    }
   ],
   "source": [
    "#m-1\n",
    "num1=float(input(\"enter a value num1:\")) # first line can be int/float\n",
    "num2=int(input(\"enter a value num2\"))    # second int only\n",
    "add=num1+num2\n",
    "print(\"the value of {} and {} is {}\".format(num1,num2,add))"
   ]
  },
  {
   "cell_type": "markdown",
   "id": "3bfb5acc",
   "metadata": {},
   "source": [
    "$eval$"
   ]
  },
  {
   "cell_type": "code",
   "execution_count": 77,
   "id": "354fe119",
   "metadata": {},
   "outputs": [
    {
     "name": "stdout",
     "output_type": "stream",
     "text": [
      "enter a value num1:10.5\n",
      "enter a value num210\n",
      "the value of 10.5 and 10 is 20.5\n"
     ]
    }
   ],
   "source": [
    "#m-1\n",
    "num1=eval(input(\"enter a value num1:\")) # type string\n",
    "num2=eval(input(\"enter a value num2\"))\n",
    "add=num1+num2\n",
    "print(\"the value of {} and {} is {}\".format(num1,num2,add))"
   ]
  },
  {
   "cell_type": "code",
   "execution_count": 82,
   "id": "176ec15b",
   "metadata": {},
   "outputs": [
    {
     "name": "stdout",
     "output_type": "stream",
     "text": [
      "enter a value num1:python\n"
     ]
    },
    {
     "data": {
      "text/plain": [
       "'python'"
      ]
     },
     "execution_count": 82,
     "metadata": {},
     "output_type": "execute_result"
    }
   ],
   "source": [
    "input(\"enter a value num1:\")"
   ]
  },
  {
   "cell_type": "code",
   "execution_count": 83,
   "id": "8bba4be0",
   "metadata": {},
   "outputs": [
    {
     "name": "stdout",
     "output_type": "stream",
     "text": [
      "enter a numer100\n",
      "enter a nmber200\n",
      "150.0\n"
     ]
    }
   ],
   "source": [
    "# WAP ask the user enter two numbers\n",
    "# find the average of those two numbers\n",
    "# (num1+num2)/2\n",
    "num1=eval(input(\"enter a numer\"))\n",
    "num2=eval(input(\"enter a nmber\"))\n",
    "sum1=(num1+num2)/2\n",
    "print(sum1)"
   ]
  },
  {
   "cell_type": "code",
   "execution_count": null,
   "id": "a7fca0a8",
   "metadata": {},
   "outputs": [],
   "source": [
    "#m-1\n",
    "a=eval(input(\"enter a value num1:\")) # type string\n",
    "b=eval(input(\"enter a value num2\"))\n",
    "c=a+b\n",
    "print(\"the value of {} and {} is {}\".format(a,b,c))\n",
    "\n",
    "\n",
    "class i will be present : 7.15am\n",
    "    \n"
   ]
  }
 ],
 "metadata": {
  "kernelspec": {
   "display_name": "Python 3 (ipykernel)",
   "language": "python",
   "name": "python3"
  },
  "language_info": {
   "codemirror_mode": {
    "name": "ipython",
    "version": 3
   },
   "file_extension": ".py",
   "mimetype": "text/x-python",
   "name": "python",
   "nbconvert_exporter": "python",
   "pygments_lexer": "ipython3",
   "version": "3.10.9"
  }
 },
 "nbformat": 4,
 "nbformat_minor": 5
}
