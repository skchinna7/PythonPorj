{
 "cells": [
  {
   "cell_type": "code",
   "execution_count": 1,
   "id": "e06dfa4c",
   "metadata": {},
   "outputs": [
    {
     "data": {
      "text/plain": [
       "20"
      ]
     },
     "execution_count": 1,
     "metadata": {},
     "output_type": "execute_result"
    }
   ],
   "source": [
    "def add(x):\n",
    "    return(x+10)\n",
    "\n",
    "add(10)   # 20"
   ]
  },
  {
   "cell_type": "code",
   "execution_count": 2,
   "id": "765f5dae",
   "metadata": {},
   "outputs": [
    {
     "data": {
      "text/plain": [
       "30"
      ]
     },
     "execution_count": 2,
     "metadata": {},
     "output_type": "execute_result"
    }
   ],
   "source": [
    "def add(x):\n",
    "    summ1=x+10\n",
    "    return(summ1)\n",
    "\n",
    "add(20)\n",
    "\n"
   ]
  },
  {
   "cell_type": "code",
   "execution_count": null,
   "id": "0d9cbd91",
   "metadata": {},
   "outputs": [],
   "source": [
    "- how many arguments : only one x\n",
    "\n",
    "- calcualting: x+10"
   ]
  },
  {
   "cell_type": "code",
   "execution_count": null,
   "id": "6b0c32a9",
   "metadata": {},
   "outputs": [],
   "source": []
  },
  {
   "cell_type": "code",
   "execution_count": null,
   "id": "4d46b8a8",
   "metadata": {},
   "outputs": [],
   "source": [
    "def add(x):\n",
    "    return(x+10)\n",
    "\n",
    "add(10)\n",
    "\n",
    "\n",
    "def add(x):\n",
    "    summ1=x+10\n",
    "    return(summ1)\n",
    "\n",
    "add(20)\n",
    "\n",
    "# how many arguments\n",
    "# what is the output"
   ]
  },
  {
   "cell_type": "code",
   "execution_count": 3,
   "id": "d2ca9c08",
   "metadata": {},
   "outputs": [
    {
     "data": {
      "text/plain": [
       "30"
      ]
     },
     "execution_count": 3,
     "metadata": {},
     "output_type": "execute_result"
    }
   ],
   "source": [
    "add=lambda num:num+10\n",
    "add(20)"
   ]
  },
  {
   "cell_type": "code",
   "execution_count": null,
   "id": "ca5cd59b",
   "metadata": {},
   "outputs": [],
   "source": [
    "def mul(num):\n",
    "    return(num*num)"
   ]
  },
  {
   "cell_type": "code",
   "execution_count": 4,
   "id": "353d6f39",
   "metadata": {},
   "outputs": [
    {
     "data": {
      "text/plain": [
       "25"
      ]
     },
     "execution_count": 4,
     "metadata": {},
     "output_type": "execute_result"
    }
   ],
   "source": [
    "mul=lambda num:num*num\n",
    "mul(5)"
   ]
  },
  {
   "cell_type": "code",
   "execution_count": 5,
   "id": "a3cc2f41",
   "metadata": {},
   "outputs": [
    {
     "data": {
      "text/plain": [
       "27"
      ]
     },
     "execution_count": 5,
     "metadata": {},
     "output_type": "execute_result"
    }
   ],
   "source": [
    "mul=lambda num:num*num*num\n",
    "mul(3)"
   ]
  },
  {
   "cell_type": "markdown",
   "id": "28f21f24",
   "metadata": {},
   "source": [
    "$two-arguments$"
   ]
  },
  {
   "cell_type": "code",
   "execution_count": 6,
   "id": "bf8153b5",
   "metadata": {},
   "outputs": [
    {
     "data": {
      "text/plain": [
       "30"
      ]
     },
     "execution_count": 6,
     "metadata": {},
     "output_type": "execute_result"
    }
   ],
   "source": [
    "def sum1(a,b):\n",
    "    return(a+b)\n",
    "\n",
    "sum1(10,20)\n",
    "\n",
    "# how many arguments 2 arguments"
   ]
  },
  {
   "cell_type": "code",
   "execution_count": 7,
   "id": "b2435260",
   "metadata": {},
   "outputs": [
    {
     "data": {
      "text/plain": [
       "300"
      ]
     },
     "execution_count": 7,
     "metadata": {},
     "output_type": "execute_result"
    }
   ],
   "source": [
    "sum1=lambda a,b:a+b\n",
    "sum1(100,200)"
   ]
  },
  {
   "cell_type": "code",
   "execution_count": 9,
   "id": "784e0160",
   "metadata": {},
   "outputs": [
    {
     "data": {
      "text/plain": [
       "200.0"
      ]
     },
     "execution_count": 9,
     "metadata": {},
     "output_type": "execute_result"
    }
   ],
   "source": [
    "# find the average using 3 numbers\n",
    "avg=lambda a,b,c:(a+b+c)/3\n",
    "avg(100,200,300)"
   ]
  },
  {
   "cell_type": "code",
   "execution_count": null,
   "id": "af83337f",
   "metadata": {},
   "outputs": [],
   "source": [
    "def avg(a,b,c=500):\n",
    "    return(a+b+c/3)\n",
    "\n",
    "avg(200,300)"
   ]
  },
  {
   "cell_type": "code",
   "execution_count": 10,
   "id": "2b86c4ae",
   "metadata": {},
   "outputs": [
    {
     "data": {
      "text/plain": [
       "266.6666666666667"
      ]
     },
     "execution_count": 10,
     "metadata": {},
     "output_type": "execute_result"
    }
   ],
   "source": [
    "# find the average using 3 numbers\n",
    "avg=lambda a,b,c=500:(a+b+c)/3\n",
    "avg(100,200)"
   ]
  },
  {
   "cell_type": "code",
   "execution_count": 11,
   "id": "c8c77fdf",
   "metadata": {},
   "outputs": [
    {
     "data": {
      "text/plain": [
       "100"
      ]
     },
     "execution_count": 11,
     "metadata": {},
     "output_type": "execute_result"
    }
   ],
   "source": [
    "def greater(num1,num2):\n",
    "    if num1>num2:\n",
    "        return(num1)\n",
    "    else:\n",
    "        return(num2)\n",
    "greater(100,20)"
   ]
  },
  {
   "cell_type": "code",
   "execution_count": 12,
   "id": "1b22bd18",
   "metadata": {},
   "outputs": [
    {
     "data": {
      "text/plain": [
       "500"
      ]
     },
     "execution_count": 12,
     "metadata": {},
     "output_type": "execute_result"
    }
   ],
   "source": [
    "greater1=lambda num1,num2:num1 if num1>num2 else num2\n",
    "greater1(100,500)"
   ]
  },
  {
   "cell_type": "code",
   "execution_count": null,
   "id": "58bb8a45",
   "metadata": {},
   "outputs": [],
   "source": [
    "[num1 if num1>num2 else num2]"
   ]
  },
  {
   "cell_type": "code",
   "execution_count": null,
   "id": "671792ae",
   "metadata": {},
   "outputs": [],
   "source": []
  },
  {
   "cell_type": "code",
   "execution_count": 17,
   "id": "2007f2ab",
   "metadata": {},
   "outputs": [
    {
     "data": {
      "text/plain": [
       "['Hyd', 'Mumbai', 'Delhi']"
      ]
     },
     "execution_count": 17,
     "metadata": {},
     "output_type": "execute_result"
    }
   ],
   "source": [
    "# list of values\n",
    "\n",
    "list1=['hyd','mumbai','delhi']\n",
    "\n",
    "# output: list2=['Hyd','Mumbai','Delhi']\n",
    "\n",
    "# step-1: iterate through a list\n",
    "res=[]\n",
    "for i in list1:\n",
    "    res.append(i.capitalize())\n",
    "    \n",
    "res"
   ]
  },
  {
   "cell_type": "code",
   "execution_count": 18,
   "id": "39125eb1",
   "metadata": {},
   "outputs": [
    {
     "data": {
      "text/plain": [
       "['Hyd', 'Mumbai', 'Delhi']"
      ]
     },
     "execution_count": 18,
     "metadata": {},
     "output_type": "execute_result"
    }
   ],
   "source": [
    "res1=[i.capitalize() for i in list1]\n",
    "res1"
   ]
  },
  {
   "cell_type": "markdown",
   "id": "9cb40bb5",
   "metadata": {},
   "source": [
    "$map$"
   ]
  },
  {
   "cell_type": "code",
   "execution_count": 20,
   "id": "70c041b5",
   "metadata": {},
   "outputs": [
    {
     "data": {
      "text/plain": [
       "['A', 'B', 'C']"
      ]
     },
     "execution_count": 20,
     "metadata": {},
     "output_type": "execute_result"
    }
   ],
   "source": [
    "res=[]\n",
    "for i in list1:\n",
    "    res.append(i.capitalize())\n",
    "    \n",
    "res\n",
    "\n",
    "\n",
    "def cap(list1):\n",
    "    res=[]\n",
    "    for i in list1:\n",
    "        res.append(i.capitalize())\n",
    "    return(res)\n",
    "    \n",
    "cap(['a','b','c'])"
   ]
  },
  {
   "cell_type": "code",
   "execution_count": 29,
   "id": "be60ac23",
   "metadata": {},
   "outputs": [
    {
     "data": {
      "text/plain": [
       "['Hyd', 'Mumbai', 'Delhi']"
      ]
     },
     "execution_count": 29,
     "metadata": {},
     "output_type": "execute_result"
    }
   ],
   "source": [
    "list1=['hyd','mumbai','delhi']\n",
    "list(map(lambda i:i.capitalize(),list1))\n",
    "\n",
    "# list(map(lambda <input>:<output>,list1))"
   ]
  },
  {
   "cell_type": "code",
   "execution_count": 30,
   "id": "a52c7e77",
   "metadata": {},
   "outputs": [
    {
     "data": {
      "text/plain": [
       "('Hyd', 'Mumbai', 'Delhi')"
      ]
     },
     "execution_count": 30,
     "metadata": {},
     "output_type": "execute_result"
    }
   ],
   "source": [
    "tuple(map(lambda i:i.capitalize(),list1))"
   ]
  },
  {
   "cell_type": "code",
   "execution_count": 28,
   "id": "1d6931d3",
   "metadata": {},
   "outputs": [
    {
     "data": {
      "text/plain": [
       "[1, 2, 3]"
      ]
     },
     "execution_count": 28,
     "metadata": {},
     "output_type": "execute_result"
    }
   ],
   "source": [
    "list([1,2,3])"
   ]
  },
  {
   "cell_type": "code",
   "execution_count": 31,
   "id": "7c5f507a",
   "metadata": {},
   "outputs": [
    {
     "data": {
      "text/plain": [
       "[1, 4, 9, 16, 25]"
      ]
     },
     "execution_count": 31,
     "metadata": {},
     "output_type": "execute_result"
    }
   ],
   "source": [
    "list1=[1,2,3,4,5]\n",
    "list(map(lambda i: i*i,list1))"
   ]
  },
  {
   "cell_type": "code",
   "execution_count": 32,
   "id": "373f2409",
   "metadata": {},
   "outputs": [
    {
     "data": {
      "text/plain": [
       "[1, 4, 9, 16, 25]"
      ]
     },
     "execution_count": 32,
     "metadata": {},
     "output_type": "execute_result"
    }
   ],
   "source": [
    "[i*i for i in list1]"
   ]
  },
  {
   "cell_type": "code",
   "execution_count": null,
   "id": "337a20ab",
   "metadata": {},
   "outputs": [],
   "source": [
    "list1=['Apple','Ball','Bat','Cat']\n",
    "# len(items)>3\n",
    "# output : ['Apple','Ball']\n"
   ]
  },
  {
   "cell_type": "code",
   "execution_count": 34,
   "id": "972a51ae",
   "metadata": {},
   "outputs": [
    {
     "data": {
      "text/plain": [
       "5"
      ]
     },
     "execution_count": 34,
     "metadata": {},
     "output_type": "execute_result"
    }
   ],
   "source": [
    "len('Apple')"
   ]
  },
  {
   "cell_type": "code",
   "execution_count": 36,
   "id": "3bd3b411",
   "metadata": {},
   "outputs": [],
   "source": [
    "list1=[\"apple\",\"ball\",\"cat\"]\n",
    "#res = [i for i in list1 if len(i)>3]\n",
    "#res\n",
    "\n",
    "res=[]\n",
    "for i in list1:\n",
    "    if len(i)>3:\n",
    "        res.append(i)"
   ]
  },
  {
   "cell_type": "code",
   "execution_count": 37,
   "id": "6b6f3031",
   "metadata": {},
   "outputs": [
    {
     "data": {
      "text/plain": [
       "['apple', 'ball']"
      ]
     },
     "execution_count": 37,
     "metadata": {},
     "output_type": "execute_result"
    }
   ],
   "source": [
    "[i for i in list1 if len(i)>3]"
   ]
  },
  {
   "cell_type": "code",
   "execution_count": null,
   "id": "43898cb3",
   "metadata": {},
   "outputs": [],
   "source": [
    "# capitalize === > direct operation   ====== > map\n",
    "# len ====== > condition ====> result ====== > filter"
   ]
  },
  {
   "cell_type": "code",
   "execution_count": 41,
   "id": "62ed337b",
   "metadata": {},
   "outputs": [
    {
     "data": {
      "text/plain": [
       "['apple', 'ball']"
      ]
     },
     "execution_count": 41,
     "metadata": {},
     "output_type": "execute_result"
    }
   ],
   "source": [
    "list(filter(lambda i: len(i)>3,list1))"
   ]
  },
  {
   "cell_type": "code",
   "execution_count": null,
   "id": "fab2cc78",
   "metadata": {},
   "outputs": [],
   "source": [
    "list(filter(lambda i: <condition>,list1))"
   ]
  },
  {
   "cell_type": "code",
   "execution_count": 42,
   "id": "8a7642f7",
   "metadata": {},
   "outputs": [
    {
     "name": "stdout",
     "output_type": "stream",
     "text": [
      "bal#l\n",
      "d#g\n"
     ]
    }
   ],
   "source": [
    "list1=['apple','bal#l','cat','d#g']\n",
    "# output: ['bal#l','d#g']\n",
    "for i in list1:\n",
    "    if '#' in i:\n",
    "        print(i)"
   ]
  },
  {
   "cell_type": "code",
   "execution_count": 43,
   "id": "bd07eb0a",
   "metadata": {},
   "outputs": [
    {
     "data": {
      "text/plain": [
       "['bal#l', 'd#g']"
      ]
     },
     "execution_count": 43,
     "metadata": {},
     "output_type": "execute_result"
    }
   ],
   "source": [
    "list(filter(lambda i:'#' in i,list1))"
   ]
  },
  {
   "cell_type": "code",
   "execution_count": null,
   "id": "b81d161d",
   "metadata": {},
   "outputs": [],
   "source": [
    "# practice\n",
    "# one argument\n",
    "# two arguments\n",
    "# if-else conditon\n",
    "# list1 ==== direct operation ===== map\n",
    "# list ===== conditions ========= filter"
   ]
  },
  {
   "cell_type": "code",
   "execution_count": null,
   "id": "261528fa",
   "metadata": {},
   "outputs": [],
   "source": []
  },
  {
   "cell_type": "code",
   "execution_count": null,
   "id": "c372b7cf",
   "metadata": {},
   "outputs": [],
   "source": []
  },
  {
   "cell_type": "code",
   "execution_count": null,
   "id": "35b5149e",
   "metadata": {},
   "outputs": [],
   "source": []
  },
  {
   "cell_type": "code",
   "execution_count": null,
   "id": "d30c0550",
   "metadata": {},
   "outputs": [],
   "source": []
  }
 ],
 "metadata": {
  "kernelspec": {
   "display_name": "Python 3 (ipykernel)",
   "language": "python",
   "name": "python3"
  },
  "language_info": {
   "codemirror_mode": {
    "name": "ipython",
    "version": 3
   },
   "file_extension": ".py",
   "mimetype": "text/x-python",
   "name": "python",
   "nbconvert_exporter": "python",
   "pygments_lexer": "ipython3",
   "version": "3.10.9"
  }
 },
 "nbformat": 4,
 "nbformat_minor": 5
}
