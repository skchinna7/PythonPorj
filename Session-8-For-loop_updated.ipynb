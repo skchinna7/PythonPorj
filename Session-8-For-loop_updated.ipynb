{
 "cells": [
  {
   "cell_type": "code",
   "execution_count": null,
   "id": "c81adea4",
   "metadata": {},
   "outputs": [],
   "source": [
    "#############Part-1#######################\n",
    "\n",
    "- Basic syntax\n",
    "\n",
    "- conditional statements\n",
    "\n",
    "- pcakage information\n",
    "\n",
    "- functions\n",
    "\n",
    "- loop concept\n",
    "\n",
    "\n",
    "hacker rank ======== codes "
   ]
  },
  {
   "cell_type": "code",
   "execution_count": null,
   "id": "5aa76f6a",
   "metadata": {},
   "outputs": [],
   "source": [
    "- For loop\n",
    "\n",
    "- while loop\n"
   ]
  },
  {
   "cell_type": "code",
   "execution_count": null,
   "id": "b42c4b8e",
   "metadata": {},
   "outputs": [],
   "source": [
    "you created a code calculate student marks\n",
    "iterate through 100 members"
   ]
  },
  {
   "cell_type": "code",
   "execution_count": null,
   "id": "7a33c853",
   "metadata": {},
   "outputs": [],
   "source": [
    "name='banana'\n",
    "'b' in name\n",
    "'a' in name\n",
    "'n' in name\n",
    "\n",
    "# what is same and what is changing\n",
    "\n",
    "k in name"
   ]
  },
  {
   "cell_type": "code",
   "execution_count": null,
   "id": "2e99a45b",
   "metadata": {},
   "outputs": [],
   "source": [
    "any loop satisfy 3 conditions\n",
    "\n",
    "- intializtion\n",
    "\n",
    "- increment/decrement\n",
    "\n",
    "- condition"
   ]
  },
  {
   "cell_type": "code",
   "execution_count": null,
   "id": "a188f560",
   "metadata": {},
   "outputs": [],
   "source": [
    "1 2 3 4 5 6 7 8 9 10\n",
    "\n",
    "inital point: 1\n",
    "\n",
    "increment= one step  1+1   2+1  3+1\n",
    "\n",
    "condition : 10"
   ]
  },
  {
   "cell_type": "code",
   "execution_count": null,
   "id": "e0febd51",
   "metadata": {},
   "outputs": [],
   "source": [
    "for i in range(10):\n",
    "    print(i)\n",
    "\n",
    "# i= 0\n",
    "# i = 1 step increment\n",
    "# 10-1=9\n",
    "\n",
    "# python the index or id will start from zero"
   ]
  },
  {
   "cell_type": "code",
   "execution_count": null,
   "id": "a5d059eb",
   "metadata": {},
   "outputs": [],
   "source": [
    "# 'hello python'  3 times\n",
    "\n",
    "#i=0\n",
    "#increment =1\n",
    "#3-1=2\n",
    "\n",
    "for i in range(3):\n",
    "    print(i,\"hello python\")\n",
    "    \n",
    "# how many times loop will run : 3\n",
    "# run id : 0,1,2"
   ]
  },
  {
   "cell_type": "code",
   "execution_count": null,
   "id": "246a5573",
   "metadata": {},
   "outputs": [],
   "source": [
    "for i in range(last)\n",
    "\n",
    "# end value= lastvalue-1\n",
    "\n",
    "for i in range(200)\n",
    "\n",
    "i=0    last= 200-1 =199\n",
    "\n"
   ]
  },
  {
   "cell_type": "code",
   "execution_count": null,
   "id": "d396f9ea",
   "metadata": {},
   "outputs": [],
   "source": [
    "- range(last_value) ==== > for i in range(10)=== > i=0  last=10-1=9\n",
    "\n",
    "- range(start,last) ==== > for i in range(4,10)==> i=4  last=10-1=9"
   ]
  },
  {
   "cell_type": "code",
   "execution_count": null,
   "id": "72a83a94",
   "metadata": {},
   "outputs": [],
   "source": [
    "for i in range(20,300):  # start=20  increment=1 last=30-1=29\n",
    "    print(i,end='---')"
   ]
  },
  {
   "cell_type": "code",
   "execution_count": null,
   "id": "2e92ea91",
   "metadata": {},
   "outputs": [],
   "source": [
    "print(20,end=' ')\n",
    "print(21,end=' ')\n",
    "print(22,end=' ')\n",
    "print(30)\n",
    "# print(i,end=' ')"
   ]
  },
  {
   "cell_type": "code",
   "execution_count": null,
   "id": "891d4be2",
   "metadata": {},
   "outputs": [],
   "source": [
    "# WAP ask the user enter a number 3 times \n",
    "\n",
    "# and print the square of the number"
   ]
  },
  {
   "cell_type": "code",
   "execution_count": null,
   "id": "e0a6c861",
   "metadata": {},
   "outputs": [],
   "source": [
    "num1=eval(input(\"enter the number1:\"))\n",
    "print(\"the sqaure of {} is {}\".format(num1,num1*num1))\n",
    "num2=eval(input(\"enter the number2:\"))\n",
    "print(\"the sqaure of {} is {}\".format(num2,num2*num2))\n",
    "num3=eval(input(\"enter the number3:\"))\n",
    "print(\"the sqaure of {} is {}\".format(num3,num3*num3))"
   ]
  },
  {
   "cell_type": "code",
   "execution_count": null,
   "id": "a27bc5c3",
   "metadata": {},
   "outputs": [],
   "source": [
    "for i in range(3):\n",
    "    num=eval(input(\"enter the number1:\"))\n",
    "    print(\"the sqaure of {} is {}\".format(num,num*num))"
   ]
  },
  {
   "cell_type": "code",
   "execution_count": null,
   "id": "4e27342a",
   "metadata": {},
   "outputs": [],
   "source": [
    "# you want to print the sqaure between 5 to 10\n",
    "for py in range(5,10):\n",
    "    print(\"the square of {} is {}\".format(py,py*py))"
   ]
  },
  {
   "cell_type": "code",
   "execution_count": null,
   "id": "a3f4a15c",
   "metadata": {},
   "outputs": [],
   "source": [
    "print('Enter 3 numbers:- ')\n",
    "for i in range(3):\n",
    "    a = eval(input(\"Enter \"+str(i+1)+\"th number:- \"))\n",
    "    print(a,\" Square is:- \",a*a)"
   ]
  },
  {
   "cell_type": "code",
   "execution_count": null,
   "id": "2d53b8e4",
   "metadata": {},
   "outputs": [],
   "source": [
    "# WAP ask the user how many times he wants to run the loop\n",
    "# and print the square of the number\n",
    "num=eval(input(\"how many times you want to run the loop\"))\n",
    "for i in range(num):\n",
    "    print(i)"
   ]
  },
  {
   "cell_type": "code",
   "execution_count": null,
   "id": "fee9a988",
   "metadata": {},
   "outputs": [],
   "source": [
    "for i in range(3):\n",
    "    num=eval(input(\"enter the number1:\"))\n",
    "    print(\"the sqaure of {} is {}\".format(num,num*num))\n",
    "    \n",
    "#####################################################################\n",
    "\n",
    "# you want to print the sqaure between 5 to 10\n",
    "for py in range(5,10):\n",
    "    print(\"the square of {} is {}\".format(py,py*py))\n",
    "    \n",
    "#####################################################################\n",
    "num1=eval(input(\"how many times you want to run the loop\"))\n",
    "for i in range(num1):\n",
    "    num=eval(input(\"enter the number1:\"))\n",
    "    print(\"the sqaure of {} is {}\".format(num,num*num))"
   ]
  },
  {
   "cell_type": "code",
   "execution_count": null,
   "id": "1a210b0c",
   "metadata": {},
   "outputs": [],
   "source": [
    "A\n",
    "A\n",
    "A\n",
    "B\n",
    "C\n",
    "C\n",
    "D\n",
    "D\n",
    "D\n",
    "\n"
   ]
  },
  {
   "cell_type": "code",
   "execution_count": null,
   "id": "23099a9f",
   "metadata": {},
   "outputs": [],
   "source": [
    "for i in range(3):\n",
    "    print(\"A\")\n",
    "\n",
    "print(\"B\")\n",
    "\n",
    "for i in range(2):\n",
    "    print(\"C\")\n",
    "    \n",
    "for i in range(3):\n",
    "    print(\"D\")"
   ]
  },
  {
   "cell_type": "code",
   "execution_count": null,
   "id": "994e6b40",
   "metadata": {},
   "outputs": [],
   "source": [
    "# WAp ask the user to find which is even number and which is odd number\n",
    "# between 20 to 30"
   ]
  },
  {
   "cell_type": "code",
   "execution_count": null,
   "id": "941e5a9d",
   "metadata": {},
   "outputs": [],
   "source": [
    "for i in range(20,31):\n",
    "    if i%2==0:\n",
    "        print(\"{} is even number\".format(i))\n",
    "    else:\n",
    "        print(\"{} is odd number\".format(i))"
   ]
  },
  {
   "cell_type": "code",
   "execution_count": null,
   "id": "13763122",
   "metadata": {},
   "outputs": [],
   "source": [
    "20 is even number\n",
    "21 is odd number\n",
    "22 is even number\n",
    "23 is odd number\n",
    "24 is even number"
   ]
  },
  {
   "cell_type": "code",
   "execution_count": null,
   "id": "f2551635",
   "metadata": {},
   "outputs": [],
   "source": [
    "range(last_value) ==== > start=0  end= last_value-1   gap=1\n",
    "\n",
    "range(start_value,last_value):\n",
    "    - start= start_value\n",
    "    - end=last_value-1\n",
    "    - gap=1\n",
    "    \n",
    "range(start_value,last_value,gap):\n",
    "range(20,50,3)== > start=20  end=50-1=49  gap=3\n",
    "20 23  26  29  32  35  38  41  44  47   \n",
    "\n",
    "\n",
    "range(-1,-10)  \n",
    "\n",
    "gap is not provided means increment= +1\n",
    "\n",
    "start= -1\n",
    "end= last-1= -10-1 =-11\n",
    "\n",
    "-1+1 = 0\n",
    "0+1=1"
   ]
  },
  {
   "cell_type": "code",
   "execution_count": null,
   "id": "c1876a4e",
   "metadata": {},
   "outputs": [],
   "source": [
    "range(-1,-10)\n",
    "\n",
    "# step-1: gap is not mentioned\n",
    "# which means gap=+1 =====> direction= postive direction\n",
    "\n",
    "# start=-1\n",
    "# end= -10-1=-11"
   ]
  },
  {
   "cell_type": "code",
   "execution_count": null,
   "id": "d2b8afc4",
   "metadata": {},
   "outputs": [],
   "source": [
    "for i in range(-1,-10):\n",
    "    print(i)"
   ]
  },
  {
   "cell_type": "code",
   "execution_count": null,
   "id": "e2e18fcb",
   "metadata": {},
   "outputs": [],
   "source": [
    "for i in range(-1,-10,-1):\n",
    "    print(i)\n",
    "    \n",
    "# start= -1\n",
    "# gap= -1 ===== > negative direction\n",
    "# end= last+1\n",
    "\n",
    "\n",
    "# gap ======= > postive direction\n",
    "# end= last-1"
   ]
  },
  {
   "cell_type": "code",
   "execution_count": null,
   "id": "5dde6c67",
   "metadata": {},
   "outputs": [],
   "source": [
    "for i in range(-1,-10,-1):\n",
    "    print(i,end=' ')\n",
    "    \n",
    "# start=-1\n",
    "# gap= -1  ===== > negative (backward)\n",
    "# end= last+1 =-10+1=-9"
   ]
  },
  {
   "cell_type": "code",
   "execution_count": null,
   "id": "b372821a",
   "metadata": {},
   "outputs": [],
   "source": []
  },
  {
   "cell_type": "code",
   "execution_count": null,
   "id": "677486eb",
   "metadata": {},
   "outputs": [],
   "source": [
    "for i in range(20,50,3):\n",
    "    print(i,end=' ')"
   ]
  },
  {
   "cell_type": "code",
   "execution_count": null,
   "id": "94578063",
   "metadata": {},
   "outputs": [],
   "source": []
  },
  {
   "cell_type": "code",
   "execution_count": null,
   "id": "ed5c1430",
   "metadata": {},
   "outputs": [],
   "source": [
    "for i in range(-3,10,-2):\n",
    "    print(i)\n",
    "\n",
    "# start= -3\n",
    "# gap = -2 ====== negative\n",
    "# end= last+1 10+1=11"
   ]
  },
  {
   "cell_type": "code",
   "execution_count": null,
   "id": "4646cd28",
   "metadata": {},
   "outputs": [],
   "source": [
    "for i in range(-3,10,2):\n",
    "    print(i)\n",
    "\n",
    "# start=-3\n",
    "# gap = 2 ======= direc\n",
    "# end= last-1= 10-1=9\n",
    "\n",
    "# -3 -1 1 3 5 7 9"
   ]
  },
  {
   "cell_type": "code",
   "execution_count": null,
   "id": "ccea6e8f",
   "metadata": {},
   "outputs": [],
   "source": [
    "1.range(5,15,3) ========== > start=5   gap=3 +ve  last= 15-1=14 p\n",
    "2.range(5,15,-3) ========= > start=5   gap =-3 -ve  last =15+1=16 np\n",
    "3.range(5,-15,3) ======= > np\n",
    "4.range(5,-15,-3) ====== > p\n",
    "5.range(-5,-15,-3) ==== > p\n",
    "6.range(-5,15,3) ==== >p\n",
    "7.range(-5,-15,3) ==== > np\n",
    "8.range(-5,15,-3) ==== > np\n"
   ]
  },
  {
   "cell_type": "code",
   "execution_count": 2,
   "id": "b2b79fd5",
   "metadata": {},
   "outputs": [
    {
     "name": "stdout",
     "output_type": "stream",
     "text": [
      "55\n"
     ]
    }
   ],
   "source": [
    "# WAP ask the user to find sum of first 10 natural numbers\n",
    "# count =1  ====== > natural\n",
    "# start=1\n",
    "# end=11-1 =10\n",
    "\n",
    "sum1=0\n",
    "for i in range(1,11):\n",
    "    sum1= sum1 + i\n",
    "    \n",
    "print(sum1)\n",
    "\n",
    "\n",
    "# step-1:   sum1=0    i=1    sum1=0+1 ===> 1\n",
    "# step-2:   sum1=1    i=2    sum1=1+2 === > 3\n",
    "# step-3:   sum1=3    i=3    sum1=3+3===== > 6"
   ]
  },
  {
   "cell_type": "code",
   "execution_count": 3,
   "id": "b2779fd5",
   "metadata": {},
   "outputs": [
    {
     "name": "stdout",
     "output_type": "stream",
     "text": [
      "55\n"
     ]
    }
   ],
   "source": [
    "sum1=0\n",
    "for i in range(1,11):\n",
    "    sum1+=i  # sum1=sum1+i\n",
    "    \n",
    "print(sum1)"
   ]
  },
  {
   "cell_type": "code",
   "execution_count": 5,
   "id": "cb512c7b",
   "metadata": {},
   "outputs": [
    {
     "name": "stdout",
     "output_type": "stream",
     "text": [
      "Number of even numbers:-  50\n",
      "Number of odd  numbers:-  50\n"
     ]
    }
   ],
   "source": [
    "# wap ask the user to print how many even numbers are there between 1 to 100\n",
    "# start=1\n",
    "# end= 101-1=100\n",
    "# the number of even numbers are 50\n",
    "\n",
    "even_count = 0\n",
    "odd_count= 0\n",
    "for i in range(1,101):\n",
    "    if(i%2==0):\n",
    "        even_count += 1\n",
    "    else:\n",
    "        odd_count += 1\n",
    "print('Number of even numbers:- ',even_count)\n",
    "print('Number of odd  numbers:- ',odd_count)"
   ]
  },
  {
   "cell_type": "code",
   "execution_count": 15,
   "id": "23c22bc0",
   "metadata": {},
   "outputs": [
    {
     "name": "stdout",
     "output_type": "stream",
     "text": [
      "5\n",
      "enter the number1:7\n",
      "you lost the actual number is 5\n"
     ]
    }
   ],
   "source": [
    "# wap ask the user enter a num between 1 to 10\n",
    "# also takes another number randomly between 1 to 10\n",
    "# if both numbers are correct then print you won\n",
    "# otherwise print you lost\n",
    "\n",
    "import random\n",
    "num2=random.randint(1,10)  # number comes as random\n",
    "num1=eval(input(\"enter the number1:\")) # user enter number\n",
    "if num1==num2:\n",
    "    print(\"you won\")\n",
    "    \n",
    "else:\n",
    "    print(\"you lost the actual number is {}\".format(num2))"
   ]
  },
  {
   "cell_type": "code",
   "execution_count": null,
   "id": "9c382414",
   "metadata": {},
   "outputs": [],
   "source": [
    "# assume you want to give only 3 chances\n",
    "# not eligibile to play the game\n",
    "# case-1:  you won\n",
    "# case-2: you lost \n",
    "          # remaining chances are \n",
    "# case-3: if all chances are over better luck next time"
   ]
  },
  {
   "cell_type": "code",
   "execution_count": null,
   "id": "864f3d87",
   "metadata": {},
   "outputs": [],
   "source": [
    "even = 0\n",
    "odd = 0\n",
    "prime = 0\n",
    "for i in range(1,101):\n",
    "    if(i%2==0):\n",
    "        even += 1\n",
    "    else:\n",
    "        odd += 1\n",
    "    flag = 0\n",
    "    for j in range (2, i):\n",
    "        if(i%j == 0):\n",
    "            flag = 1\n",
    "            break\n",
    "    if(flag == 0):\n",
    "        prime += 1\n",
    "print('Number of even  numbers:- ',even)\n",
    "print('Number of odd   numbers:- ',odd)\n",
    "print('Number of prime numbers:- ',prime)"
   ]
  },
  {
   "cell_type": "code",
   "execution_count": 21,
   "id": "f849aa9d",
   "metadata": {},
   "outputs": [
    {
     "name": "stdout",
     "output_type": "stream",
     "text": [
      "5\n",
      "Enter a number:4\n",
      "You lose but still we have 2 chances\n",
      "6\n",
      "Enter a number:5\n",
      "You lose but still we have 1 chances\n",
      "4\n",
      "Enter a number:9\n",
      "You lose but still we have 0 chances\n",
      "All chances are over better luck next time\n"
     ]
    }
   ],
   "source": [
    "import random\n",
    "count=0\n",
    "for i in range(0,3):\n",
    "    rand_num=random.randint(1,10)\n",
    "    print(rand_num)\n",
    "    num=eval(input(\"Enter a number:\"))\n",
    "    count=count+1\n",
    "    if(num==rand_num):\n",
    "        print(\"You won\")\n",
    "        break\n",
    "    else:\n",
    "        print(\"You lose but still we have {} chances\".format(3-count))\n",
    "        \n",
    "print(\"All chances are over better luck next time\")"
   ]
  },
  {
   "cell_type": "code",
   "execution_count": 28,
   "id": "4d647afb",
   "metadata": {},
   "outputs": [
    {
     "name": "stdout",
     "output_type": "stream",
     "text": [
      "enter how many chances you want to provide:3\n",
      "5\n",
      "Enter a number:6\n",
      "you lost\n",
      "the remaianing chances are: 2\n",
      "5\n",
      "Enter a number:5\n",
      "you won\n"
     ]
    }
   ],
   "source": [
    "# assume you want to give only 3 chances\n",
    "# not eligibile to play the game\n",
    "# case-1:  you won\n",
    "# case-2: you lost \n",
    "          # remaining chances are \n",
    "# case-3: if all chances are over better luck next time\n",
    "\n",
    "count=0\n",
    "no_of_chances=eval(input(\"enter how many chances you want to provide:\"))\n",
    "for i in range(0,no_of_chances):\n",
    "    rand_num=random.randint(1,10) # 3 times random number \n",
    "    print(rand_num)\n",
    "    num=eval(input(\"Enter a number:\")) # 3 times it will ask the user\n",
    "    count+=1  # count=1\n",
    "    if rand_num==num:\n",
    "        print(\"you won\")\n",
    "        break\n",
    "            \n",
    "    else:\n",
    "        print(\"you lost\")\n",
    "        print(\"the remaianing chances are:\",no_of_chances-count)\n",
    "        \n",
    "    if (no_of_chances-count)==0:\n",
    "        print(\"All chances are over\")\n",
    "\n",
    "        \n",
    "        \n",
    " "
   ]
  },
  {
   "cell_type": "code",
   "execution_count": 30,
   "id": "c5e958d9",
   "metadata": {},
   "outputs": [
    {
     "name": "stdout",
     "output_type": "stream",
     "text": [
      "7\n",
      "Enter a number:8\n",
      "you lost\n",
      "the remaianing chances are: 2\n",
      "5\n",
      "Enter a number:6\n",
      "you lost\n",
      "the remaianing chances are: 1\n",
      "5\n",
      "Enter a number:5\n",
      "you won\n"
     ]
    }
   ],
   "source": [
    "def game(no_of_chances):\n",
    "    count=0\n",
    "    for i in range(0,no_of_chances):\n",
    "        rand_num=random.randint(1,10) \n",
    "        print(rand_num)\n",
    "        num=eval(input(\"Enter a number:\")) \n",
    "        count+=1 \n",
    "        if rand_num==num:\n",
    "            print(\"you won\")\n",
    "            break\n",
    "\n",
    "        else:\n",
    "            print(\"you lost\")\n",
    "            print(\"the remaianing chances are:\",no_of_chances-count)\n",
    "\n",
    "        if (no_of_chances-count)==0:\n",
    "            print(\"All chances are over\")\n",
    "            \n",
    "game(3)"
   ]
  },
  {
   "cell_type": "code",
   "execution_count": 34,
   "id": "06343bc0",
   "metadata": {},
   "outputs": [
    {
     "name": "stdout",
     "output_type": "stream",
     "text": [
      "p\n",
      "y\n",
      "t\n",
      "h\n",
      "o\n",
      "n\n"
     ]
    }
   ],
   "source": [
    "name='python'\n",
    "# print each letter \n",
    "# your code iterate trough each char / letter\n",
    "\n",
    "'p'  in  name\n",
    "'y'  in  name\n",
    "'t'  in  name\n",
    "\n",
    "for i in name:\n",
    "    print(i)"
   ]
  },
  {
   "cell_type": "code",
   "execution_count": 36,
   "id": "5295986d",
   "metadata": {},
   "outputs": [
    {
     "data": {
      "text/plain": [
       "True"
      ]
     },
     "execution_count": 36,
     "metadata": {},
     "output_type": "execute_result"
    }
   ],
   "source": [
    "'Ab'>'AB'\n",
    "# 65   65\n",
    "# 98   66\n",
    "\n",
    "# ascii value  A=65\n",
    "# ascii value  a=97\n",
    "\n"
   ]
  },
  {
   "cell_type": "code",
   "execution_count": 38,
   "id": "debf69d9",
   "metadata": {},
   "outputs": [
    {
     "data": {
      "text/plain": [
       "98"
      ]
     },
     "execution_count": 38,
     "metadata": {},
     "output_type": "execute_result"
    }
   ],
   "source": [
    "ord('b')"
   ]
  },
  {
   "cell_type": "code",
   "execution_count": 39,
   "id": "12dce583",
   "metadata": {},
   "outputs": [
    {
     "data": {
      "text/plain": [
       "'b'"
      ]
     },
     "execution_count": 39,
     "metadata": {},
     "output_type": "execute_result"
    }
   ],
   "source": [
    "chr(98)"
   ]
  },
  {
   "cell_type": "code",
   "execution_count": 46,
   "id": "89d99b05",
   "metadata": {},
   "outputs": [
    {
     "name": "stdout",
     "output_type": "stream",
     "text": [
      "33 ======> !\n",
      "34 ======> \"\n",
      "35 ======> #\n",
      "36 ======> $\n",
      "37 ======> %\n",
      "38 ======> &\n",
      "39 ======> '\n",
      "40 ======> (\n",
      "41 ======> )\n",
      "42 ======> *\n",
      "43 ======> +\n",
      "44 ======> ,\n",
      "45 ======> -\n",
      "46 ======> .\n",
      "47 ======> /\n",
      "48 ======> 0\n",
      "49 ======> 1\n",
      "50 ======> 2\n",
      "51 ======> 3\n",
      "52 ======> 4\n",
      "53 ======> 5\n",
      "54 ======> 6\n",
      "55 ======> 7\n",
      "56 ======> 8\n",
      "57 ======> 9\n",
      "58 ======> :\n",
      "59 ======> ;\n",
      "60 ======> <\n",
      "61 ======> =\n",
      "62 ======> >\n",
      "63 ======> ?\n",
      "64 ======> @\n",
      "65 ======> A\n",
      "66 ======> B\n",
      "67 ======> C\n",
      "68 ======> D\n",
      "69 ======> E\n",
      "70 ======> F\n",
      "71 ======> G\n",
      "72 ======> H\n",
      "73 ======> I\n",
      "74 ======> J\n",
      "75 ======> K\n",
      "76 ======> L\n",
      "77 ======> M\n",
      "78 ======> N\n",
      "79 ======> O\n",
      "80 ======> P\n",
      "81 ======> Q\n",
      "82 ======> R\n",
      "83 ======> S\n",
      "84 ======> T\n",
      "85 ======> U\n",
      "86 ======> V\n",
      "87 ======> W\n",
      "88 ======> X\n",
      "89 ======> Y\n",
      "90 ======> Z\n",
      "91 ======> [\n",
      "92 ======> \\\n",
      "93 ======> ]\n",
      "94 ======> ^\n",
      "95 ======> _\n",
      "96 ======> `\n",
      "97 ======> a\n",
      "98 ======> b\n",
      "99 ======> c\n",
      "100 ======> d\n",
      "101 ======> e\n",
      "102 ======> f\n",
      "103 ======> g\n",
      "104 ======> h\n",
      "105 ======> i\n",
      "106 ======> j\n",
      "107 ======> k\n",
      "108 ======> l\n",
      "109 ======> m\n",
      "110 ======> n\n",
      "111 ======> o\n",
      "112 ======> p\n",
      "113 ======> q\n",
      "114 ======> r\n",
      "115 ======> s\n",
      "116 ======> t\n",
      "117 ======> u\n",
      "118 ======> v\n",
      "119 ======> w\n",
      "120 ======> x\n",
      "121 ======> y\n",
      "122 ======> z\n",
      "123 ======> {\n",
      "124 ======> |\n",
      "125 ======> }\n",
      "126 ======> ~\n",
      "127 ======> \n"
     ]
    }
   ],
   "source": [
    "#33 to 126\n",
    "for i in range(33,128):\n",
    "    print(i,'======>',chr(i))"
   ]
  },
  {
   "cell_type": "code",
   "execution_count": 45,
   "id": "559d2238",
   "metadata": {},
   "outputs": [
    {
     "name": "stdout",
     "output_type": "stream",
     "text": [
      "A 65\n",
      "B 66\n",
      "C 67\n",
      "D 68\n",
      "E 69\n",
      "F 70\n",
      "G 71\n",
      "H 72\n",
      "I 73\n",
      "J 74\n",
      "K 75\n",
      "L 76\n",
      "M 77\n",
      "N 78\n",
      "O 79\n",
      "P 80\n",
      "Q 81\n",
      "R 82\n",
      "S 83\n",
      "T 84\n",
      "U 85\n",
      "V 86\n",
      "W 87\n",
      "A 65\n",
      "X 88\n",
      "Y 89\n",
      "Z 90\n"
     ]
    }
   ],
   "source": [
    "for i in 'ABCDEFGHIJKLMNOPQRSTUVWAXYZ':\n",
    "    print(i,ord(i))"
   ]
  },
  {
   "cell_type": "code",
   "execution_count": 47,
   "id": "59bd7d4d",
   "metadata": {},
   "outputs": [],
   "source": [
    "import string"
   ]
  },
  {
   "cell_type": "code",
   "execution_count": 48,
   "id": "e018bacb",
   "metadata": {},
   "outputs": [
    {
     "data": {
      "text/plain": [
       "['Formatter',\n",
       " 'Template',\n",
       " '_ChainMap',\n",
       " '__all__',\n",
       " '__builtins__',\n",
       " '__cached__',\n",
       " '__doc__',\n",
       " '__file__',\n",
       " '__loader__',\n",
       " '__name__',\n",
       " '__package__',\n",
       " '__spec__',\n",
       " '_re',\n",
       " '_sentinel_dict',\n",
       " '_string',\n",
       " 'ascii_letters',\n",
       " 'ascii_lowercase',\n",
       " 'ascii_uppercase',\n",
       " 'capwords',\n",
       " 'digits',\n",
       " 'hexdigits',\n",
       " 'octdigits',\n",
       " 'printable',\n",
       " 'punctuation',\n",
       " 'whitespace']"
      ]
     },
     "execution_count": 48,
     "metadata": {},
     "output_type": "execute_result"
    }
   ],
   "source": [
    "dir(string)"
   ]
  },
  {
   "cell_type": "code",
   "execution_count": 50,
   "id": "4bef0a89",
   "metadata": {},
   "outputs": [
    {
     "data": {
      "text/plain": [
       "'!\"#$%&\\'()*+,-./:;<=>?@[\\\\]^_`{|}~'"
      ]
     },
     "execution_count": 50,
     "metadata": {},
     "output_type": "execute_result"
    }
   ],
   "source": [
    "string.punctuation"
   ]
  },
  {
   "cell_type": "code",
   "execution_count": 55,
   "id": "d75fe2d7",
   "metadata": {},
   "outputs": [
    {
     "name": "stdout",
     "output_type": "stream",
     "text": [
      "punctuations are: !\"#$%&'()*+,-./:;<=>?@[\\]^_`{|}~\n",
      "letters are: abcdefghijklmnopqrstuvwxyzABCDEFGHIJKLMNOPQRSTUVWXYZ\n",
      "abcdefghijklmnopqrstuvwxyz\n",
      "ABCDEFGHIJKLMNOPQRSTUVWXYZ\n"
     ]
    }
   ],
   "source": [
    "import string\n",
    "print(\"punctuations are:\",string.punctuation)\n",
    "print(\"letters are:\",string.ascii_letters)\n",
    "print(string.ascii_lowercase)\n",
    "print(string.ascii_uppercase)"
   ]
  },
  {
   "cell_type": "code",
   "execution_count": 56,
   "id": "498b8a16",
   "metadata": {},
   "outputs": [
    {
     "name": "stdout",
     "output_type": "stream",
     "text": [
      "A 65\n",
      "B 66\n",
      "C 67\n",
      "D 68\n",
      "E 69\n",
      "F 70\n",
      "G 71\n",
      "H 72\n",
      "I 73\n",
      "J 74\n",
      "K 75\n",
      "L 76\n",
      "M 77\n",
      "N 78\n",
      "O 79\n",
      "P 80\n",
      "Q 81\n",
      "R 82\n",
      "S 83\n",
      "T 84\n",
      "U 85\n",
      "V 86\n",
      "W 87\n",
      "X 88\n",
      "Y 89\n",
      "Z 90\n"
     ]
    }
   ],
   "source": [
    "for i in string.ascii_uppercase:\n",
    "    print(i,ord(i))"
   ]
  },
  {
   "cell_type": "code",
   "execution_count": null,
   "id": "6f890bd7",
   "metadata": {},
   "outputs": [],
   "source": []
  }
 ],
 "metadata": {
  "kernelspec": {
   "display_name": "Python 3 (ipykernel)",
   "language": "python",
   "name": "python3"
  },
  "language_info": {
   "codemirror_mode": {
    "name": "ipython",
    "version": 3
   },
   "file_extension": ".py",
   "mimetype": "text/x-python",
   "name": "python",
   "nbconvert_exporter": "python",
   "pygments_lexer": "ipython3",
   "version": "3.10.9"
  }
 },
 "nbformat": 4,
 "nbformat_minor": 5
}
