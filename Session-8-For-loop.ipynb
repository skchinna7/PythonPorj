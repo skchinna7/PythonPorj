{
 "cells": [
  {
   "cell_type": "code",
   "execution_count": null,
   "id": "c81adea4",
   "metadata": {},
   "outputs": [],
   "source": [
    "#############Part-1#######################\n",
    "\n",
    "- Basic syntax\n",
    "\n",
    "- conditional statements\n",
    "\n",
    "- pcakage information\n",
    "\n",
    "- functions\n",
    "\n",
    "- loop concept\n",
    "\n",
    "\n",
    "hacker rank ======== codes "
   ]
  },
  {
   "cell_type": "code",
   "execution_count": null,
   "id": "5aa76f6a",
   "metadata": {},
   "outputs": [],
   "source": [
    "- For loop\n",
    "\n",
    "- while loop\n"
   ]
  },
  {
   "cell_type": "code",
   "execution_count": null,
   "id": "b42c4b8e",
   "metadata": {},
   "outputs": [],
   "source": [
    "you created a code calculate student marks\n",
    "iterate through 100 members"
   ]
  },
  {
   "cell_type": "code",
   "execution_count": 3,
   "id": "7a33c853",
   "metadata": {},
   "outputs": [
    {
     "data": {
      "text/plain": [
       "True"
      ]
     },
     "execution_count": 3,
     "metadata": {},
     "output_type": "execute_result"
    }
   ],
   "source": [
    "name='banana'\n",
    "'b' in name\n",
    "'a' in name\n",
    "'n' in name\n",
    "\n",
    "# what is same and what is changing\n",
    "\n",
    "k in name"
   ]
  },
  {
   "cell_type": "code",
   "execution_count": null,
   "id": "2e99a45b",
   "metadata": {},
   "outputs": [],
   "source": [
    "any loop satisfy 3 conditions\n",
    "\n",
    "- intializtion\n",
    "\n",
    "- increment/decrement\n",
    "\n",
    "- condition"
   ]
  },
  {
   "cell_type": "code",
   "execution_count": null,
   "id": "a188f560",
   "metadata": {},
   "outputs": [],
   "source": [
    "1 2 3 4 5 6 7 8 9 10\n",
    "\n",
    "inital point: 1\n",
    "\n",
    "increment= one step  1+1   2+1  3+1\n",
    "\n",
    "condition : 10"
   ]
  },
  {
   "cell_type": "code",
   "execution_count": 4,
   "id": "e0febd51",
   "metadata": {},
   "outputs": [
    {
     "name": "stdout",
     "output_type": "stream",
     "text": [
      "0\n",
      "1\n",
      "2\n",
      "3\n",
      "4\n",
      "5\n",
      "6\n",
      "7\n",
      "8\n",
      "9\n"
     ]
    }
   ],
   "source": [
    "for i in range(10):\n",
    "    print(i)\n",
    "\n",
    "# i= 0\n",
    "# i = 1 step increment\n",
    "# 10-1=9\n",
    "\n",
    "# python the index or id will start from zero"
   ]
  },
  {
   "cell_type": "code",
   "execution_count": 7,
   "id": "a5d059eb",
   "metadata": {},
   "outputs": [
    {
     "name": "stdout",
     "output_type": "stream",
     "text": [
      "0 hello python\n",
      "1 hello python\n",
      "2 hello python\n"
     ]
    }
   ],
   "source": [
    "# 'hello python'  3 times\n",
    "\n",
    "#i=0\n",
    "#increment =1\n",
    "#3-1=2\n",
    "\n",
    "for i in range(3):\n",
    "    print(i,\"hello python\")\n",
    "    \n",
    "# how many times loop will run : 3\n",
    "# run id : 0,1,2"
   ]
  },
  {
   "cell_type": "code",
   "execution_count": null,
   "id": "246a5573",
   "metadata": {},
   "outputs": [],
   "source": [
    "for i in range(last)\n",
    "\n",
    "# end value= lastvalue-1\n",
    "\n",
    "for i in range(200)\n",
    "\n",
    "i=0    last= 200-1 =199\n",
    "\n"
   ]
  },
  {
   "cell_type": "code",
   "execution_count": null,
   "id": "d396f9ea",
   "metadata": {},
   "outputs": [],
   "source": [
    "- range(last_value) ==== > for i in range(10)=== > i=0  last=10-1=9\n",
    "\n",
    "- range(start,last) ==== > for i in range(4,10)==> i=4  last=10-1=9"
   ]
  },
  {
   "cell_type": "code",
   "execution_count": 25,
   "id": "72a83a94",
   "metadata": {},
   "outputs": [
    {
     "name": "stdout",
     "output_type": "stream",
     "text": [
      "20---21---22---23---24---25---26---27---28---29---30---31---32---33---34---35---36---37---38---39---40---41---42---43---44---45---46---47---48---49---50---51---52---53---54---55---56---57---58---59---60---61---62---63---64---65---66---67---68---69---70---71---72---73---74---75---76---77---78---79---80---81---82---83---84---85---86---87---88---89---90---91---92---93---94---95---96---97---98---99---100---101---102---103---104---105---106---107---108---109---110---111---112---113---114---115---116---117---118---119---120---121---122---123---124---125---126---127---128---129---130---131---132---133---134---135---136---137---138---139---140---141---142---143---144---145---146---147---148---149---150---151---152---153---154---155---156---157---158---159---160---161---162---163---164---165---166---167---168---169---170---171---172---173---174---175---176---177---178---179---180---181---182---183---184---185---186---187---188---189---190---191---192---193---194---195---196---197---198---199---200---201---202---203---204---205---206---207---208---209---210---211---212---213---214---215---216---217---218---219---220---221---222---223---224---225---226---227---228---229---230---231---232---233---234---235---236---237---238---239---240---241---242---243---244---245---246---247---248---249---250---251---252---253---254---255---256---257---258---259---260---261---262---263---264---265---266---267---268---269---270---271---272---273---274---275---276---277---278---279---280---281---282---283---284---285---286---287---288---289---290---291---292---293---294---295---296---297---298---299---"
     ]
    }
   ],
   "source": [
    "for i in range(20,300):  # start=20  increment=1 last=30-1=29\n",
    "    print(i,end='---')"
   ]
  },
  {
   "cell_type": "code",
   "execution_count": 14,
   "id": "2e92ea91",
   "metadata": {},
   "outputs": [
    {
     "name": "stdout",
     "output_type": "stream",
     "text": [
      "20 21 22 30\n"
     ]
    }
   ],
   "source": [
    "print(20,end=' ')\n",
    "print(21,end=' ')\n",
    "print(22,end=' ')\n",
    "print(30)\n",
    "# print(i,end=' ')"
   ]
  },
  {
   "cell_type": "code",
   "execution_count": null,
   "id": "891d4be2",
   "metadata": {},
   "outputs": [],
   "source": [
    "# WAP ask the user enter a number 3 times \n",
    "\n",
    "# and print the square of the number"
   ]
  },
  {
   "cell_type": "code",
   "execution_count": 22,
   "id": "e0a6c861",
   "metadata": {},
   "outputs": [
    {
     "name": "stdout",
     "output_type": "stream",
     "text": [
      "enter the number1:5\n",
      "the sqaure of 5 is 25\n",
      "enter the number2:6\n",
      "the sqaure of 6 is 36\n",
      "enter the number3:7\n",
      "the sqaure of 7 is 49\n"
     ]
    }
   ],
   "source": [
    "num1=eval(input(\"enter the number1:\"))\n",
    "print(\"the sqaure of {} is {}\".format(num1,num1*num1))\n",
    "num2=eval(input(\"enter the number2:\"))\n",
    "print(\"the sqaure of {} is {}\".format(num2,num2*num2))\n",
    "num3=eval(input(\"enter the number3:\"))\n",
    "print(\"the sqaure of {} is {}\".format(num3,num3*num3))"
   ]
  },
  {
   "cell_type": "code",
   "execution_count": 26,
   "id": "a27bc5c3",
   "metadata": {},
   "outputs": [
    {
     "name": "stdout",
     "output_type": "stream",
     "text": [
      "enter the number1:5\n",
      "the sqaure of 5 is 25\n",
      "enter the number1:6\n",
      "the sqaure of 6 is 36\n",
      "enter the number1:9\n",
      "the sqaure of 9 is 81\n"
     ]
    }
   ],
   "source": [
    "for i in range(3):\n",
    "    num=eval(input(\"enter the number1:\"))\n",
    "    print(\"the sqaure of {} is {}\".format(num,num*num))"
   ]
  },
  {
   "cell_type": "code",
   "execution_count": 30,
   "id": "4e27342a",
   "metadata": {},
   "outputs": [
    {
     "name": "stdout",
     "output_type": "stream",
     "text": [
      "the square of 5 is 25\n",
      "the square of 6 is 36\n",
      "the square of 7 is 49\n",
      "the square of 8 is 64\n",
      "the square of 9 is 81\n"
     ]
    }
   ],
   "source": [
    "# you want to print the sqaure between 5 to 10\n",
    "for py in range(5,10):\n",
    "    print(\"the square of {} is {}\".format(py,py*py))"
   ]
  },
  {
   "cell_type": "code",
   "execution_count": 31,
   "id": "a3f4a15c",
   "metadata": {},
   "outputs": [
    {
     "name": "stdout",
     "output_type": "stream",
     "text": [
      "Enter 3 numbers:- \n",
      "Enter 1th number:- 3\n",
      "3  Square is:-  9\n",
      "Enter 2th number:- 6\n",
      "6  Square is:-  36\n",
      "Enter 3th number:- 9\n",
      "9  Square is:-  81\n"
     ]
    }
   ],
   "source": [
    "print('Enter 3 numbers:- ')\n",
    "for i in range(3):\n",
    "    a = eval(input(\"Enter \"+str(i+1)+\"th number:- \"))\n",
    "    print(a,\" Square is:- \",a*a)"
   ]
  },
  {
   "cell_type": "code",
   "execution_count": 32,
   "id": "2d53b8e4",
   "metadata": {},
   "outputs": [
    {
     "name": "stdout",
     "output_type": "stream",
     "text": [
      "how many times you want to run the loop3\n",
      "0\n",
      "1\n",
      "2\n"
     ]
    }
   ],
   "source": [
    "# WAP ask the user how many times he wants to run the loop\n",
    "# and print the square of the number\n",
    "num=eval(input(\"how many times you want to run the loop\"))\n",
    "for i in range(num):\n",
    "    print(i)"
   ]
  },
  {
   "cell_type": "code",
   "execution_count": null,
   "id": "fee9a988",
   "metadata": {},
   "outputs": [],
   "source": [
    "for i in range(3):\n",
    "    num=eval(input(\"enter the number1:\"))\n",
    "    print(\"the sqaure of {} is {}\".format(num,num*num))\n",
    "    \n",
    "#####################################################################\n",
    "\n",
    "# you want to print the sqaure between 5 to 10\n",
    "for py in range(5,10):\n",
    "    print(\"the square of {} is {}\".format(py,py*py))\n",
    "    \n",
    "#####################################################################\n",
    "num1=eval(input(\"how many times you want to run the loop\"))\n",
    "for i in range(num1):\n",
    "    num=eval(input(\"enter the number1:\"))\n",
    "    print(\"the sqaure of {} is {}\".format(num,num*num))"
   ]
  },
  {
   "cell_type": "code",
   "execution_count": null,
   "id": "1a210b0c",
   "metadata": {},
   "outputs": [],
   "source": [
    "A\n",
    "A\n",
    "A\n",
    "B\n",
    "C\n",
    "C\n",
    "D\n",
    "D\n",
    "D\n",
    "\n"
   ]
  },
  {
   "cell_type": "code",
   "execution_count": 33,
   "id": "23099a9f",
   "metadata": {},
   "outputs": [
    {
     "name": "stdout",
     "output_type": "stream",
     "text": [
      "A\n",
      "A\n",
      "A\n",
      "B\n",
      "C\n",
      "C\n",
      "D\n",
      "D\n",
      "D\n"
     ]
    }
   ],
   "source": [
    "for i in range(3):\n",
    "    print(\"A\")\n",
    "\n",
    "print(\"B\")\n",
    "\n",
    "for i in range(2):\n",
    "    print(\"C\")\n",
    "    \n",
    "for i in range(3):\n",
    "    print(\"D\")"
   ]
  },
  {
   "cell_type": "code",
   "execution_count": null,
   "id": "994e6b40",
   "metadata": {},
   "outputs": [],
   "source": [
    "# WAp ask the user to find which is even number and which is odd number\n",
    "# between 20 to 30"
   ]
  },
  {
   "cell_type": "code",
   "execution_count": 37,
   "id": "941e5a9d",
   "metadata": {},
   "outputs": [
    {
     "name": "stdout",
     "output_type": "stream",
     "text": [
      "20 is even number\n",
      "21 is odd number\n",
      "22 is even number\n",
      "23 is odd number\n",
      "24 is even number\n",
      "25 is odd number\n",
      "26 is even number\n",
      "27 is odd number\n",
      "28 is even number\n",
      "29 is odd number\n",
      "30 is even number\n"
     ]
    }
   ],
   "source": [
    "for i in range(20,31):\n",
    "    if i%2==0:\n",
    "        print(\"{} is even number\".format(i))\n",
    "    else:\n",
    "        print(\"{} is odd number\".format(i))"
   ]
  },
  {
   "cell_type": "code",
   "execution_count": null,
   "id": "13763122",
   "metadata": {},
   "outputs": [],
   "source": [
    "20 is even number\n",
    "21 is odd number\n",
    "22 is even number\n",
    "23 is odd number\n",
    "24 is even number"
   ]
  },
  {
   "cell_type": "code",
   "execution_count": null,
   "id": "f2551635",
   "metadata": {},
   "outputs": [],
   "source": [
    "range(last_value) ==== > start=0  end= last_value-1   gap=1\n",
    "\n",
    "range(start_value,last_value):\n",
    "    - start= start_value\n",
    "    - end=last_value-1\n",
    "    - gap=1\n",
    "    \n",
    "range(start_value,last_value,gap):\n",
    "range(20,50,3)== > start=20  end=50-1=49  gap=3\n",
    "20 23  26  29  32  35  38  41  44  47   \n",
    "\n",
    "\n",
    "range(-1,-10)  \n",
    "\n",
    "gap is not provided means increment= +1\n",
    "\n",
    "start= -1\n",
    "end= last-1= -10-1 =-11\n",
    "\n",
    "-1+1 = 0\n",
    "0+1=1"
   ]
  },
  {
   "cell_type": "code",
   "execution_count": null,
   "id": "c1876a4e",
   "metadata": {},
   "outputs": [],
   "source": [
    "range(-1,-10)\n",
    "\n",
    "# step-1: gap is not mentioned\n",
    "# which means gap=+1 =====> direction= postive direction\n",
    "\n",
    "# start=-1\n",
    "# end= -10-1=-11"
   ]
  },
  {
   "cell_type": "code",
   "execution_count": 40,
   "id": "d2b8afc4",
   "metadata": {},
   "outputs": [],
   "source": [
    "for i in range(-1,-10):\n",
    "    print(i)"
   ]
  },
  {
   "cell_type": "code",
   "execution_count": null,
   "id": "e2e18fcb",
   "metadata": {},
   "outputs": [],
   "source": [
    "for i in range(-1,-10,-1):\n",
    "    print(i)\n",
    "    \n",
    "# start= -1\n",
    "# gap= -1 ===== > negative direction\n",
    "# end= last+1\n",
    "\n",
    "\n",
    "# gap ======= > postive direction\n",
    "# end= last-1"
   ]
  },
  {
   "cell_type": "code",
   "execution_count": 42,
   "id": "5dde6c67",
   "metadata": {},
   "outputs": [
    {
     "name": "stdout",
     "output_type": "stream",
     "text": [
      "-1 -2 -3 -4 -5 -6 -7 -8 -9 "
     ]
    }
   ],
   "source": [
    "for i in range(-1,-10,-1):\n",
    "    print(i,end=' ')\n",
    "    \n",
    "# start=-1\n",
    "# gap= -1  ===== > negative (backward)\n",
    "# end= last+1 =-10+1=-9"
   ]
  },
  {
   "cell_type": "code",
   "execution_count": null,
   "id": "b372821a",
   "metadata": {},
   "outputs": [],
   "source": []
  },
  {
   "cell_type": "code",
   "execution_count": 39,
   "id": "677486eb",
   "metadata": {},
   "outputs": [
    {
     "name": "stdout",
     "output_type": "stream",
     "text": [
      "20 23 26 29 32 35 38 41 44 47 "
     ]
    }
   ],
   "source": [
    "for i in range(20,50,3):\n",
    "    print(i,end=' ')"
   ]
  },
  {
   "cell_type": "code",
   "execution_count": null,
   "id": "94578063",
   "metadata": {},
   "outputs": [],
   "source": []
  },
  {
   "cell_type": "code",
   "execution_count": 43,
   "id": "ed5c1430",
   "metadata": {},
   "outputs": [],
   "source": [
    "for i in range(-3,10,-2):\n",
    "    print(i)\n",
    "\n",
    "# start= -3\n",
    "# gap = -2 ====== negative\n",
    "# end= last+1 10+1=11"
   ]
  },
  {
   "cell_type": "code",
   "execution_count": 44,
   "id": "4646cd28",
   "metadata": {},
   "outputs": [
    {
     "name": "stdout",
     "output_type": "stream",
     "text": [
      "-3\n",
      "-1\n",
      "1\n",
      "3\n",
      "5\n",
      "7\n",
      "9\n"
     ]
    }
   ],
   "source": [
    "for i in range(-3,10,2):\n",
    "    print(i)\n",
    "\n",
    "# start=-3\n",
    "# gap = 2 ======= direc\n",
    "# end= last-1= 10-1=9\n",
    "\n",
    "# -3 -1 1 3 5 7 9"
   ]
  },
  {
   "cell_type": "code",
   "execution_count": null,
   "id": "ccea6e8f",
   "metadata": {},
   "outputs": [],
   "source": [
    "1.range(5,15,3) ========== > start=5   gap=3 +ve  last= 15-1=14 p\n",
    "2.range(5,15,-3) ========= > start=5   gap =-3 -ve  last =15+1=16 np\n",
    "3.range(5,-15,3) ======= > np\n",
    "4.range(5,-15,-3) ====== > p\n",
    "5.range(-5,-15,-3) ==== > p\n",
    "6.range(-5,15,3) ==== >p\n",
    "7.range(-5,-15,3) ==== > np\n",
    "8.range(-5,15,-3) ==== > np\n"
   ]
  },
  {
   "cell_type": "code",
   "execution_count": null,
   "id": "b2b79fd5",
   "metadata": {},
   "outputs": [],
   "source": []
  },
  {
   "cell_type": "code",
   "execution_count": null,
   "id": "c5e958d9",
   "metadata": {},
   "outputs": [],
   "source": []
  }
 ],
 "metadata": {
  "kernelspec": {
   "display_name": "Python 3 (ipykernel)",
   "language": "python",
   "name": "python3"
  },
  "language_info": {
   "codemirror_mode": {
    "name": "ipython",
    "version": 3
   },
   "file_extension": ".py",
   "mimetype": "text/x-python",
   "name": "python",
   "nbconvert_exporter": "python",
   "pygments_lexer": "ipython3",
   "version": "3.10.9"
  }
 },
 "nbformat": 4,
 "nbformat_minor": 5
}
