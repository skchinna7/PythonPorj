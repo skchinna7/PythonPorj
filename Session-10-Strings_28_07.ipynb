{
 "cells": [
  {
   "cell_type": "code",
   "execution_count": null,
   "id": "d925c316",
   "metadata": {},
   "outputs": [],
   "source": [
    "# ============ part1==========================\n",
    "\n",
    "- Basic python\n",
    "\n",
    "- packges\n",
    "\n",
    "- conditional statements\n",
    "\n",
    "- try-excepetion\n",
    "\n",
    "- functions\n",
    "\n",
    "- for\n",
    "\n",
    "- while\n",
    "\n",
    "#=============== Part-2 ============================\n",
    "\n",
    "- Strings\n",
    "\n",
    "- lists\n",
    "\n",
    "- dictionary\n",
    "\n",
    "- tuple  =========== > home work \n",
    "\n",
    "- sets\n",
    "\n",
    "- file handling sessions      heart of the python\n",
    "\n",
    "\n"
   ]
  },
  {
   "cell_type": "code",
   "execution_count": 1,
   "id": "535ad9f8",
   "metadata": {},
   "outputs": [],
   "source": [
    "string1='python'\n",
    "\n",
    "# string is in always quotes\n",
    "# either it is single quote or double quotes\n",
    "# red color"
   ]
  },
  {
   "cell_type": "code",
   "execution_count": 2,
   "id": "982b44b0",
   "metadata": {},
   "outputs": [
    {
     "data": {
      "text/plain": [
       "str"
      ]
     },
     "execution_count": 2,
     "metadata": {},
     "output_type": "execute_result"
    }
   ],
   "source": [
    "type(string1)   # type : str"
   ]
  },
  {
   "cell_type": "code",
   "execution_count": null,
   "id": "722674de",
   "metadata": {},
   "outputs": [],
   "source": [
    "name ----- >variable      \n",
    "\"name\" ---- > string\n"
   ]
  },
  {
   "cell_type": "code",
   "execution_count": null,
   "id": "2d017337",
   "metadata": {},
   "outputs": [],
   "source": []
  },
  {
   "cell_type": "code",
   "execution_count": 3,
   "id": "c22e1242",
   "metadata": {},
   "outputs": [
    {
     "data": {
      "text/plain": [
       "'python'"
      ]
     },
     "execution_count": 3,
     "metadata": {},
     "output_type": "execute_result"
    }
   ],
   "source": [
    "string2=\"python\"\n",
    "string2"
   ]
  },
  {
   "cell_type": "code",
   "execution_count": 4,
   "id": "ad43bc7a",
   "metadata": {},
   "outputs": [
    {
     "data": {
      "text/plain": [
       "'python'"
      ]
     },
     "execution_count": 4,
     "metadata": {},
     "output_type": "execute_result"
    }
   ],
   "source": [
    "string1"
   ]
  },
  {
   "cell_type": "code",
   "execution_count": 6,
   "id": "7a00c4a5",
   "metadata": {},
   "outputs": [
    {
     "name": "stdout",
     "output_type": "stream",
     "text": [
      "python\n"
     ]
    }
   ],
   "source": [
    "print(string2)\n",
    "# whenever you print the strings the output will print with out quotes\n",
    "# don't confuse"
   ]
  },
  {
   "cell_type": "markdown",
   "id": "3416469e",
   "metadata": {},
   "source": [
    "- python will consider default as single quotes\n",
    "\n",
    "- whenever you print the strings the output will print with out quotes"
   ]
  },
  {
   "cell_type": "markdown",
   "id": "fc1bb5f9",
   "metadata": {},
   "source": [
    "$Doc-string$"
   ]
  },
  {
   "cell_type": "code",
   "execution_count": null,
   "id": "5b49420d",
   "metadata": {},
   "outputs": [],
   "source": [
    "# for every function call it is a better approach\n",
    "# mention about what is happening inside the function call\n",
    "# which means you will write some lines of information about the function call\n",
    "# this is called doc string\n",
    "\n",
    "# doc string : multi lines\n",
    "# which are in triple quotes\n",
    "\n",
    "# markdown approach is not .py files\n",
    "# comments using ash symbol is not good write up"
   ]
  },
  {
   "cell_type": "code",
   "execution_count": null,
   "id": "6e66465e",
   "metadata": {},
   "outputs": [],
   "source": [
    "  \"\"\"\n",
    "    delete kb is method to delete knwoledge base\n",
    "    arguments: path str, content  str\n",
    "    return: None\n",
    "    \"\"\""
   ]
  },
  {
   "cell_type": "code",
   "execution_count": 7,
   "id": "efdade46",
   "metadata": {},
   "outputs": [
    {
     "data": {
      "text/plain": [
       "''"
      ]
     },
     "execution_count": 7,
     "metadata": {},
     "output_type": "execute_result"
    }
   ],
   "source": [
    "\"\"\"\n",
    "write your story\n",
    "\"\"\""
   ]
  },
  {
   "cell_type": "markdown",
   "id": "6462be0f",
   "metadata": {},
   "source": [
    "**Highlight a specific word**"
   ]
  },
  {
   "cell_type": "code",
   "execution_count": null,
   "id": "d03c1a9e",
   "metadata": {},
   "outputs": [],
   "source": [
    "# today im learning 'python'\n",
    "# python is highlighted"
   ]
  },
  {
   "cell_type": "code",
   "execution_count": 9,
   "id": "d006dd5c",
   "metadata": {},
   "outputs": [
    {
     "name": "stdout",
     "output_type": "stream",
     "text": [
      "im learning 'python'\n"
     ]
    }
   ],
   "source": [
    "string1=\"im learning 'python'\"\n",
    "print(string1)"
   ]
  },
  {
   "cell_type": "code",
   "execution_count": 10,
   "id": "8771acdf",
   "metadata": {},
   "outputs": [
    {
     "name": "stdout",
     "output_type": "stream",
     "text": [
      "im learning \"python\"\n"
     ]
    }
   ],
   "source": [
    "string2='im learning \"python\"'\n",
    "print(string2)"
   ]
  },
  {
   "cell_type": "markdown",
   "id": "0b879fd6",
   "metadata": {},
   "source": [
    "- type\n",
    "\n",
    "- len\n",
    "\n",
    "- max\n",
    "\n",
    "- min"
   ]
  },
  {
   "cell_type": "code",
   "execution_count": 28,
   "id": "6724e127",
   "metadata": {},
   "outputs": [],
   "source": [
    "string1=\"ppyython\""
   ]
  },
  {
   "cell_type": "code",
   "execution_count": 29,
   "id": "52f8b783",
   "metadata": {},
   "outputs": [
    {
     "data": {
      "text/plain": [
       "str"
      ]
     },
     "execution_count": 29,
     "metadata": {},
     "output_type": "execute_result"
    }
   ],
   "source": [
    "type(string1)   # str"
   ]
  },
  {
   "cell_type": "code",
   "execution_count": 30,
   "id": "54f689b9",
   "metadata": {},
   "outputs": [
    {
     "data": {
      "text/plain": [
       "8"
      ]
     },
     "execution_count": 30,
     "metadata": {},
     "output_type": "execute_result"
    }
   ],
   "source": [
    "# how many char  are there : p  y  t  h  o  n\n",
    "len(string1)"
   ]
  },
  {
   "cell_type": "code",
   "execution_count": 31,
   "id": "2a9d9734",
   "metadata": {},
   "outputs": [
    {
     "data": {
      "text/plain": [
       "'y'"
      ]
     },
     "execution_count": 31,
     "metadata": {},
     "output_type": "execute_result"
    }
   ],
   "source": [
    "max(string1)"
   ]
  },
  {
   "cell_type": "code",
   "execution_count": 32,
   "id": "078c2f4b",
   "metadata": {},
   "outputs": [
    {
     "data": {
      "text/plain": [
       "'h'"
      ]
     },
     "execution_count": 32,
     "metadata": {},
     "output_type": "execute_result"
    }
   ],
   "source": [
    "min(string1)"
   ]
  },
  {
   "cell_type": "code",
   "execution_count": 27,
   "id": "51c9056e",
   "metadata": {},
   "outputs": [
    {
     "data": {
      "text/plain": [
       "(112, 121, 116, 104, 111, 110)"
      ]
     },
     "execution_count": 27,
     "metadata": {},
     "output_type": "execute_result"
    }
   ],
   "source": [
    "ord('p'),ord('y'),ord('t'),ord('h'),ord('o'),ord('n')"
   ]
  },
  {
   "cell_type": "code",
   "execution_count": 65,
   "id": "8561c10c",
   "metadata": {},
   "outputs": [],
   "source": [
    "str1='hello'\n",
    "str2='python'\n",
    "str3=' ' # empty string"
   ]
  },
  {
   "cell_type": "code",
   "execution_count": 64,
   "id": "1ae0362a",
   "metadata": {},
   "outputs": [
    {
     "data": {
      "text/plain": [
       "0"
      ]
     },
     "execution_count": 64,
     "metadata": {},
     "output_type": "execute_result"
    }
   ],
   "source": [
    "len(str3)"
   ]
  },
  {
   "cell_type": "markdown",
   "id": "86679955",
   "metadata": {},
   "source": [
    "**concatination**\n",
    "\n",
    "- we can add multiple strings"
   ]
  },
  {
   "cell_type": "code",
   "execution_count": 34,
   "id": "2933cd1a",
   "metadata": {},
   "outputs": [
    {
     "data": {
      "text/plain": [
       "'hellopython'"
      ]
     },
     "execution_count": 34,
     "metadata": {},
     "output_type": "execute_result"
    }
   ],
   "source": [
    "str1+str2 "
   ]
  },
  {
   "cell_type": "code",
   "execution_count": 36,
   "id": "ebdb216c",
   "metadata": {},
   "outputs": [
    {
     "data": {
      "text/plain": [
       "'hello python'"
      ]
     },
     "execution_count": 36,
     "metadata": {},
     "output_type": "execute_result"
    }
   ],
   "source": [
    "str1+' '+str2   # hello python"
   ]
  },
  {
   "cell_type": "code",
   "execution_count": 43,
   "id": "9c4c4ed8",
   "metadata": {},
   "outputs": [
    {
     "data": {
      "text/plain": [
       "'hello python'"
      ]
     },
     "execution_count": 43,
     "metadata": {},
     "output_type": "execute_result"
    }
   ],
   "source": [
    "str1+str3+str2  # 'hello'+' '+'python'"
   ]
  },
  {
   "cell_type": "code",
   "execution_count": 44,
   "id": "0209c1e6",
   "metadata": {},
   "outputs": [
    {
     "data": {
      "text/plain": [
       "'hello python'"
      ]
     },
     "execution_count": 44,
     "metadata": {},
     "output_type": "execute_result"
    }
   ],
   "source": [
    "'hello'+' '+'python'"
   ]
  },
  {
   "cell_type": "code",
   "execution_count": 45,
   "id": "f595f3ff",
   "metadata": {},
   "outputs": [
    {
     "ename": "TypeError",
     "evalue": "unsupported operand type(s) for -: 'str' and 'str'",
     "output_type": "error",
     "traceback": [
      "\u001b[1;31m---------------------------------------------------------------------------\u001b[0m",
      "\u001b[1;31mTypeError\u001b[0m                                 Traceback (most recent call last)",
      "Cell \u001b[1;32mIn [45], line 1\u001b[0m\n\u001b[1;32m----> 1\u001b[0m \u001b[43mstr1\u001b[49m\u001b[38;5;241;43m-\u001b[39;49m\u001b[43mstr2\u001b[49m\n",
      "\u001b[1;31mTypeError\u001b[0m: unsupported operand type(s) for -: 'str' and 'str'"
     ]
    }
   ],
   "source": [
    "str1-str2   # we cant subtract the strings"
   ]
  },
  {
   "cell_type": "code",
   "execution_count": 46,
   "id": "eaeee78c",
   "metadata": {},
   "outputs": [
    {
     "ename": "TypeError",
     "evalue": "can't multiply sequence by non-int of type 'str'",
     "output_type": "error",
     "traceback": [
      "\u001b[1;31m---------------------------------------------------------------------------\u001b[0m",
      "\u001b[1;31mTypeError\u001b[0m                                 Traceback (most recent call last)",
      "Cell \u001b[1;32mIn [46], line 1\u001b[0m\n\u001b[1;32m----> 1\u001b[0m \u001b[43mstr1\u001b[49m\u001b[38;5;241;43m*\u001b[39;49m\u001b[43mstr2\u001b[49m\n",
      "\u001b[1;31mTypeError\u001b[0m: can't multiply sequence by non-int of type 'str'"
     ]
    }
   ],
   "source": [
    "str1*str2"
   ]
  },
  {
   "cell_type": "code",
   "execution_count": 48,
   "id": "433c664b",
   "metadata": {},
   "outputs": [
    {
     "data": {
      "text/plain": [
       "'hello python'"
      ]
     },
     "execution_count": 48,
     "metadata": {},
     "output_type": "execute_result"
    }
   ],
   "source": [
    "str11='hello'\n",
    "str22=' python'\n",
    "str11+str22"
   ]
  },
  {
   "cell_type": "code",
   "execution_count": 49,
   "id": "5af33b39",
   "metadata": {},
   "outputs": [
    {
     "data": {
      "text/plain": [
       "'hellohellohello'"
      ]
     },
     "execution_count": 49,
     "metadata": {},
     "output_type": "execute_result"
    }
   ],
   "source": [
    "str1*3  # str1+str1+str1"
   ]
  },
  {
   "cell_type": "code",
   "execution_count": 50,
   "id": "4c681e3e",
   "metadata": {},
   "outputs": [
    {
     "ename": "TypeError",
     "evalue": "unsupported operand type(s) for /: 'str' and 'str'",
     "output_type": "error",
     "traceback": [
      "\u001b[1;31m---------------------------------------------------------------------------\u001b[0m",
      "\u001b[1;31mTypeError\u001b[0m                                 Traceback (most recent call last)",
      "Cell \u001b[1;32mIn [50], line 1\u001b[0m\n\u001b[1;32m----> 1\u001b[0m \u001b[43mstr1\u001b[49m\u001b[38;5;241;43m/\u001b[39;49m\u001b[43mstr2\u001b[49m\n",
      "\u001b[1;31mTypeError\u001b[0m: unsupported operand type(s) for /: 'str' and 'str'"
     ]
    }
   ],
   "source": [
    "str1/str2"
   ]
  },
  {
   "cell_type": "markdown",
   "id": "77d44447",
   "metadata": {},
   "source": [
    "### only string concatenation possible"
   ]
  },
  {
   "cell_type": "markdown",
   "id": "c325acdd",
   "metadata": {},
   "source": [
    "- basic syntax\n",
    "\n",
    "- type\n",
    "\n",
    "- len\n",
    "\n",
    "- max\n",
    "\n",
    "- min\n",
    "\n",
    "- concatenation"
   ]
  },
  {
   "cell_type": "code",
   "execution_count": null,
   "id": "f7946a1e",
   "metadata": {},
   "outputs": [],
   "source": [
    "# many interview questions they will ask on strings and list\n",
    "# while creating logic you might use part-1/ conditions and loops"
   ]
  },
  {
   "cell_type": "markdown",
   "id": "2c744a1e",
   "metadata": {},
   "source": [
    "**Indexing**"
   ]
  },
  {
   "cell_type": "code",
   "execution_count": 51,
   "id": "ed2248dd",
   "metadata": {},
   "outputs": [],
   "source": [
    "string1='python'"
   ]
  },
  {
   "cell_type": "code",
   "execution_count": null,
   "id": "874844e4",
   "metadata": {},
   "outputs": [],
   "source": [
    "# in python index start with zero\n",
    "# if i want to retrive the charcter then we go for index operations"
   ]
  },
  {
   "cell_type": "code",
   "execution_count": null,
   "id": "5de34237",
   "metadata": {},
   "outputs": [],
   "source": [
    "# from the 'python' i need only 'p'"
   ]
  },
  {
   "cell_type": "code",
   "execution_count": null,
   "id": "7f9c04a5",
   "metadata": {},
   "outputs": [],
   "source": [
    "p   y    t   h    o   n\n",
    "0   1    2   3    4   5"
   ]
  },
  {
   "cell_type": "code",
   "execution_count": 53,
   "id": "665fd8ab",
   "metadata": {},
   "outputs": [
    {
     "name": "stdout",
     "output_type": "stream",
     "text": [
      "p\n",
      "y\n",
      "t\n",
      "h\n",
      "o\n",
      "n\n"
     ]
    }
   ],
   "source": [
    "print(string1[0])\n",
    "print(string1[1])\n",
    "print(string1[2])\n",
    "print(string1[3])\n",
    "print(string1[4])\n",
    "print(string1[5]) \n",
    "\n",
    "# whenever i write 5,6 same lines ====== loops\n",
    "# print(string1[i])  i=0    end 5"
   ]
  },
  {
   "cell_type": "code",
   "execution_count": null,
   "id": "eef29698",
   "metadata": {},
   "outputs": [],
   "source": [
    "# Implement for loop and print the string cahracters using index"
   ]
  },
  {
   "cell_type": "code",
   "execution_count": 56,
   "id": "097285b2",
   "metadata": {},
   "outputs": [
    {
     "name": "stdout",
     "output_type": "stream",
     "text": [
      "p\n",
      "y\n",
      "t\n",
      "h\n",
      "o\n",
      "n\n"
     ]
    }
   ],
   "source": [
    "string1='python'\n",
    "for i in range(0,6):\n",
    "    print(string1[i])"
   ]
  },
  {
   "cell_type": "code",
   "execution_count": 57,
   "id": "14ecdcb2",
   "metadata": {},
   "outputs": [
    {
     "name": "stdout",
     "output_type": "stream",
     "text": [
      "p\n",
      "y\n",
      "t\n",
      "h\n",
      "o\n",
      "n\n"
     ]
    }
   ],
   "source": [
    "# Implement using while loop:  wrapper and insert \n",
    "string=\"python\"\n",
    "i=0\n",
    "while i<6:\n",
    "    print(string[i])\n",
    "    i+=1"
   ]
  },
  {
   "cell_type": "code",
   "execution_count": 58,
   "id": "28baced1",
   "metadata": {},
   "outputs": [
    {
     "name": "stdout",
     "output_type": "stream",
     "text": [
      "25\n",
      "p\n",
      "y\n",
      "t\n",
      "h\n",
      "o\n",
      "n\n",
      " \n",
      "i\n",
      "s\n",
      " \n",
      "v\n",
      "e\n",
      "r\n",
      "y\n",
      " \n",
      "i\n",
      "n\n",
      "t\n",
      "e\n",
      "r\n",
      "s\n",
      "t\n",
      "i\n",
      "n\n",
      "g\n"
     ]
    }
   ],
   "source": [
    "string1='python is very intersting'\n",
    "print(len(string1))\n",
    "for i in range(0,len(string1)):  # for i in range(0,25)\n",
    "    print(string1[i])"
   ]
  },
  {
   "cell_type": "code",
   "execution_count": 68,
   "id": "a9f25237",
   "metadata": {},
   "outputs": [
    {
     "name": "stdout",
     "output_type": "stream",
     "text": [
      "the index of p is 0\n",
      "the index of y is 1\n",
      "the index of t is 2\n",
      "the index of h is 3\n",
      "the index of o is 4\n",
      "the index of n is 5\n"
     ]
    }
   ],
   "source": [
    "string1='good morning'\n",
    "# the index of g is 0\n",
    "# the index of o is 1\n",
    "str1=\"python\"\n",
    "i=0\n",
    "while i<len(str1):\n",
    "    print(\"the index of {} is {}\".format(str1[i],i))\n",
    "    i=i+1\n",
    "    \n",
    "# step-1 :  i=0   0!=7(True)  print   i=1\n",
    "# step-2:   i=1   1!=7(True)  print   i=2\n",
    "# step-3:   i=2   2!=7(True)  print   i=3\n",
    "# step-4:   i=3   3!=7(True)  print   i=4\n",
    "# step-5:   i=4   4!=7(True)  print   i=5\n",
    "# step-6:   i=5   5!=7(True)  print   i=6\n",
    "          "
   ]
  },
  {
   "cell_type": "code",
   "execution_count": 70,
   "id": "8492684c",
   "metadata": {},
   "outputs": [
    {
     "name": "stdout",
     "output_type": "stream",
     "text": [
      "the index of p is 0\n",
      "the index of y is 1\n",
      "the index of t is 2\n",
      "the index of h is 3\n",
      "the index of o is 4\n",
      "the index of n is 5\n"
     ]
    }
   ],
   "source": [
    "str1=\"python\"\n",
    "i=0\n",
    "while True:\n",
    "    print(\"the index of {} is {}\".format(str1[i],i))\n",
    "    i=i+1\n",
    "    if i==6:\n",
    "        break\n",
    "    \n",
    "# when i=6  str1[6]  not exist"
   ]
  },
  {
   "cell_type": "code",
   "execution_count": 66,
   "id": "bcb694c0",
   "metadata": {},
   "outputs": [
    {
     "ename": "IndexError",
     "evalue": "string index out of range",
     "output_type": "error",
     "traceback": [
      "\u001b[1;31m---------------------------------------------------------------------------\u001b[0m",
      "\u001b[1;31mIndexError\u001b[0m                                Traceback (most recent call last)",
      "Cell \u001b[1;32mIn [66], line 2\u001b[0m\n\u001b[0;32m      1\u001b[0m str1\u001b[38;5;241m=\u001b[39m\u001b[38;5;124m\"\u001b[39m\u001b[38;5;124mpython\u001b[39m\u001b[38;5;124m\"\u001b[39m\n\u001b[1;32m----> 2\u001b[0m \u001b[43mstr1\u001b[49m\u001b[43m[\u001b[49m\u001b[38;5;241;43m6\u001b[39;49m\u001b[43m]\u001b[49m\n",
      "\u001b[1;31mIndexError\u001b[0m: string index out of range"
     ]
    }
   ],
   "source": [
    "str1=\"python\"\n",
    "str1[6]"
   ]
  },
  {
   "cell_type": "code",
   "execution_count": null,
   "id": "41982fd1",
   "metadata": {},
   "outputs": [],
   "source": [
    "think like compiler ====== >"
   ]
  },
  {
   "cell_type": "code",
   "execution_count": null,
   "id": "1d287a7e",
   "metadata": {},
   "outputs": [],
   "source": [
    "-6  -5  -4   -3   -2   -1\n",
    "p   y    t    h    o    n\n",
    "0   1    2    3    4    5"
   ]
  },
  {
   "cell_type": "code",
   "execution_count": 74,
   "id": "c61e4a44",
   "metadata": {},
   "outputs": [
    {
     "name": "stdout",
     "output_type": "stream",
     "text": [
      "p\n",
      "y\n",
      "t\n",
      "h\n",
      "o\n",
      "n\n"
     ]
    }
   ],
   "source": [
    "string1='python'\n",
    "print(string1[-6])    # -6 is negative index 0 is postive index for p\n",
    "print(string1[-5])    # -5 is negative index 1 is postive index for y\n",
    "print(string1[-4])\n",
    "print(string1[-3])\n",
    "print(string1[-2])\n",
    "print(string1[-1])  # for loop"
   ]
  },
  {
   "cell_type": "code",
   "execution_count": null,
   "id": "353a69ff",
   "metadata": {},
   "outputs": [],
   "source": [
    "# length ======= postive value\n",
    "# if i want take hiegt of one person top to bottom  or bottom to top\n",
    "\n"
   ]
  },
  {
   "cell_type": "code",
   "execution_count": 76,
   "id": "5f99db68",
   "metadata": {},
   "outputs": [
    {
     "name": "stdout",
     "output_type": "stream",
     "text": [
      "The index of p is 0\n",
      "The index of y is 1\n",
      "The index of t is 2\n",
      "The index of h is 3\n",
      "The index of o is 4\n",
      "The index of n is 5\n"
     ]
    }
   ],
   "source": [
    "string1='python'\n",
    "for i in range(0,len(string1)):\n",
    "    print(\"The index of {} is {}\".format(string1[i],i))\n",
    "    \n",
    "# the negative index of p is -6\n",
    "# the negative index of y is -5"
   ]
  },
  {
   "cell_type": "code",
   "execution_count": 79,
   "id": "8c2ab6f7",
   "metadata": {},
   "outputs": [
    {
     "name": "stdout",
     "output_type": "stream",
     "text": [
      "p\n",
      "y\n",
      "t\n",
      "h\n",
      "o\n",
      "n\n"
     ]
    }
   ],
   "source": [
    "# print -6 to -1  direction postivie\n",
    "# start=-6\n",
    "# direction= post\n",
    "# last= 0-1=-1\n",
    "\n",
    "#len(string1)=6  ========= >   -1*6= -1*len(string1)= -len(string)\n",
    "\n",
    "string1='python'\n",
    "for i in range(-len(string1),0):\n",
    "    print(string1[i])"
   ]
  },
  {
   "cell_type": "code",
   "execution_count": 80,
   "id": "5bcb37a1",
   "metadata": {},
   "outputs": [
    {
     "name": "stdout",
     "output_type": "stream",
     "text": [
      "the Letter p has +ve index 0 and -ve index -6\n",
      "the Letter y has +ve index 1 and -ve index -5\n",
      "the Letter t has +ve index 2 and -ve index -4\n",
      "the Letter h has +ve index 3 and -ve index -3\n",
      "the Letter o has +ve index 4 and -ve index -2\n",
      "the Letter n has +ve index 5 and -ve index -1\n"
     ]
    }
   ],
   "source": [
    "# the letter p has postive index is 0 and negative index is -6\n",
    "# the letter y has postive index is 1 and negative index is -5\n",
    "\n",
    "string1 = 'python'\n",
    "for i in range(0-len(string1),0):\n",
    "    print('the Letter {} has +ve index {} and -ve index {}'.format(string1[i],len(string1)+i,i))"
   ]
  },
  {
   "cell_type": "code",
   "execution_count": null,
   "id": "84722be5",
   "metadata": {},
   "outputs": [],
   "source": []
  },
  {
   "cell_type": "code",
   "execution_count": 81,
   "id": "7c96ae2b",
   "metadata": {},
   "outputs": [
    {
     "name": "stdout",
     "output_type": "stream",
     "text": [
      "the positive index of p is 0 negative index of is -19\n",
      "the positive index of y is 1 negative index of is -18\n",
      "the positive index of t is 2 negative index of is -17\n",
      "the positive index of h is 3 negative index of is -16\n",
      "the positive index of o is 4 negative index of is -15\n",
      "the positive index of n is 5 negative index of is -14\n",
      "the positive index of   is 6 negative index of is -13\n",
      "the positive index of i is 7 negative index of is -12\n",
      "the positive index of s is 8 negative index of is -11\n",
      "the positive index of   is 9 negative index of is -10\n",
      "the positive index of e is 10 negative index of is -9\n",
      "the positive index of n is 11 negative index of is -8\n",
      "the positive index of j is 12 negative index of is -7\n",
      "the positive index of o is 13 negative index of is -6\n",
      "the positive index of y is 14 negative index of is -5\n",
      "the positive index of a is 15 negative index of is -4\n",
      "the positive index of b is 16 negative index of is -3\n",
      "the positive index of l is 17 negative index of is -2\n",
      "the positive index of e is 18 negative index of is -1\n"
     ]
    }
   ],
   "source": [
    "str22=\"python is enjoyable\"\n",
    "for i in range(-len(str22),0):\n",
    "    print(\"the positive index of {} is {} negative index of is {}\".format(str22[i],(i+len(str22)),i))"
   ]
  },
  {
   "cell_type": "code",
   "execution_count": 82,
   "id": "3bdc15a1",
   "metadata": {},
   "outputs": [
    {
     "name": "stdout",
     "output_type": "stream",
     "text": [
      "the letter p has + index 0 and -ve index -6\n",
      "the letter y has + index 1 and -ve index -5\n",
      "the letter t has + index 2 and -ve index -4\n",
      "the letter h has + index 3 and -ve index -3\n",
      "the letter o has + index 4 and -ve index -2\n",
      "the letter n has + index 5 and -ve index -1\n"
     ]
    }
   ],
   "source": [
    "str1=\"python\"\n",
    "ctr=len(str1)\n",
    "for i in range(-len(str1),0,1):\n",
    "    print(\"the letter {} has + index {} and -ve index {}\".format(str1[i],ctr+i,i))"
   ]
  },
  {
   "cell_type": "code",
   "execution_count": null,
   "id": "29bee4d4",
   "metadata": {},
   "outputs": [],
   "source": [
    "# itertae through postive index\n",
    "# itertae through negative index\n",
    "# iterate through both pos and neg\n",
    "\n",
    "# every one knows how to write for while\n",
    "# not able to do : you might miss logic : 30min 1hour \n",
    "# 15min ===== > search other codes wrong approach\n",
    "# extra effort : this prcatice is not enough\n",
    "# kindly spend more time\n",
    "# either you will or you will perfect\n",
    "\n",
    "# already know python c java"
   ]
  },
  {
   "cell_type": "markdown",
   "id": "7ecc96ae",
   "metadata": {},
   "source": [
    "- Basic syntax related to string\n",
    "\n",
    "- type\n",
    "\n",
    "- len\n",
    "\n",
    "- max\n",
    "\n",
    "- min\n",
    "\n",
    "- concatination\n",
    "\n",
    "- index operations"
   ]
  },
  {
   "cell_type": "markdown",
   "id": "405e09c3",
   "metadata": {},
   "source": [
    "**Slicing**"
   ]
  },
  {
   "cell_type": "code",
   "execution_count": null,
   "id": "4b210eda",
   "metadata": {},
   "outputs": [],
   "source": [
    "'hai how are you' ==== > 'how'    'you'"
   ]
  },
  {
   "cell_type": "code",
   "execution_count": 1,
   "id": "64e39a8c",
   "metadata": {},
   "outputs": [],
   "source": [
    "string1='hai how are you'"
   ]
  },
  {
   "cell_type": "code",
   "execution_count": null,
   "id": "68286976",
   "metadata": {},
   "outputs": [],
   "source": [
    "h   a   i      h  o  w     a   r   e        y    o  u\n",
    "0   1   2  3   4  5  6  7  8   9   10  11   12  13  14"
   ]
  },
  {
   "cell_type": "code",
   "execution_count": 2,
   "id": "c3d5515d",
   "metadata": {},
   "outputs": [
    {
     "data": {
      "text/plain": [
       "15"
      ]
     },
     "execution_count": 2,
     "metadata": {},
     "output_type": "execute_result"
    }
   ],
   "source": [
    "len(string1)"
   ]
  },
  {
   "cell_type": "code",
   "execution_count": 3,
   "id": "c791a18c",
   "metadata": {},
   "outputs": [
    {
     "data": {
      "text/plain": [
       "'h'"
      ]
     },
     "execution_count": 3,
     "metadata": {},
     "output_type": "execute_result"
    }
   ],
   "source": [
    "string1[<start>:<end>]   \n",
    "# range(2,20)  # start=2    gap/direction=+ 1  last=end-1=20-1=19"
   ]
  },
  {
   "cell_type": "code",
   "execution_count": 4,
   "id": "9be96eca",
   "metadata": {},
   "outputs": [
    {
     "data": {
      "text/plain": [
       "'ow are'"
      ]
     },
     "execution_count": 4,
     "metadata": {},
     "output_type": "execute_result"
    }
   ],
   "source": [
    "string1[5:11]\n",
    "# start=5   gap =1  dire +ve  last= 11-1=10"
   ]
  },
  {
   "cell_type": "code",
   "execution_count": 5,
   "id": "b74831ed",
   "metadata": {},
   "outputs": [
    {
     "data": {
      "text/plain": [
       "'ihwae'"
      ]
     },
     "execution_count": 5,
     "metadata": {},
     "output_type": "execute_result"
    }
   ],
   "source": [
    "string1[2:12:2]\n",
    "# start=2  gap=2 dire +ve  last=12-1=11\n",
    "# 2  4  6  8  10 "
   ]
  },
  {
   "cell_type": "code",
   "execution_count": 6,
   "id": "0db81357",
   "metadata": {},
   "outputs": [
    {
     "data": {
      "text/plain": [
       "'hai ho'"
      ]
     },
     "execution_count": 6,
     "metadata": {},
     "output_type": "execute_result"
    }
   ],
   "source": [
    "string1[:6]  # if we not mention start value default =0"
   ]
  },
  {
   "cell_type": "code",
   "execution_count": 8,
   "id": "d5a6212a",
   "metadata": {},
   "outputs": [
    {
     "data": {
      "text/plain": [
       "'w are you'"
      ]
     },
     "execution_count": 8,
     "metadata": {},
     "output_type": "execute_result"
    }
   ],
   "source": [
    "string1[6:] # if we not mention last value default last value consider"
   ]
  },
  {
   "cell_type": "code",
   "execution_count": 9,
   "id": "5ad12f10",
   "metadata": {},
   "outputs": [
    {
     "data": {
      "text/plain": [
       "'hai how are you'"
      ]
     },
     "execution_count": 9,
     "metadata": {},
     "output_type": "execute_result"
    }
   ],
   "source": [
    "string1[<start>:<end>:<gap>]"
   ]
  },
  {
   "cell_type": "code",
   "execution_count": 10,
   "id": "39fccedb",
   "metadata": {},
   "outputs": [
    {
     "data": {
      "text/plain": [
       "'hai how are you'"
      ]
     },
     "execution_count": 10,
     "metadata": {},
     "output_type": "execute_result"
    }
   ],
   "source": [
    "string1[::]"
   ]
  },
  {
   "cell_type": "code",
   "execution_count": 12,
   "id": "a7d0db0e",
   "metadata": {},
   "outputs": [
    {
     "data": {
      "text/plain": [
       "'hai how are you'"
      ]
     },
     "execution_count": 12,
     "metadata": {},
     "output_type": "execute_result"
    }
   ],
   "source": [
    "string1[:]"
   ]
  },
  {
   "cell_type": "code",
   "execution_count": null,
   "id": "0ddd46fb",
   "metadata": {},
   "outputs": [],
   "source": [
    " -15  -14  -13  -12  -11  -10  -9  -8  -7  -6  -5  -4  -3  -2  -1  \n",
    "\n",
    "  h   a    i         h     o    w      a   r   e        y   o   u\n",
    "    \n",
    "  0   1   2      3   4     5    6  7   8   9   10  11   12  13  14"
   ]
  },
  {
   "cell_type": "code",
   "execution_count": 14,
   "id": "54d7f092",
   "metadata": {},
   "outputs": [
    {
     "data": {
      "text/plain": [
       "''"
      ]
     },
     "execution_count": 14,
     "metadata": {},
     "output_type": "execute_result"
    }
   ],
   "source": [
    "string1[-1:-10]  \n",
    "# start=-1  gap=+1   last=-10-1=-11"
   ]
  },
  {
   "cell_type": "code",
   "execution_count": 15,
   "id": "2f1c39dc",
   "metadata": {},
   "outputs": [
    {
     "data": {
      "text/plain": [
       "'ow are yo'"
      ]
     },
     "execution_count": 15,
     "metadata": {},
     "output_type": "execute_result"
    }
   ],
   "source": [
    "string1[-10:-1]  # possibile\n",
    "\n",
    "# start=-10   gap = +1   last= -1-1=-2\n",
    "# postive direction:  last value= end-1\n",
    "# negative direction: last value = end+1"
   ]
  },
  {
   "cell_type": "code",
   "execution_count": 16,
   "id": "32a39ccf",
   "metadata": {},
   "outputs": [
    {
     "data": {
      "text/plain": [
       "'uoy era w'"
      ]
     },
     "execution_count": 16,
     "metadata": {},
     "output_type": "execute_result"
    }
   ],
   "source": [
    "string1[-1:-10:-1]    #start=-1   negative   last = -10+1=-9 "
   ]
  },
  {
   "cell_type": "code",
   "execution_count": null,
   "id": "23e4f1d7",
   "metadata": {},
   "outputs": [],
   "source": [
    "1)string1[3:13:3] ========= > possi  \n",
    "2)string1[3:13:-3] ========= > np\n",
    "3)string1[3:-13:3] ========= >np\n",
    "4)string1[3:-13:-3] ======== > p\n",
    "5)string1[-3:-13:-3] ======= > p\n",
    "6)string1[-3:13:3] ======== >  p   (y)\n",
    "7)string1[-3:-13:3] ======== > np\n",
    "8)string1[-3:13:-3]  ======= > np"
   ]
  },
  {
   "cell_type": "code",
   "execution_count": null,
   "id": "28c90245",
   "metadata": {},
   "outputs": [],
   "source": [
    " -15  -14  -13  -12  -11  -10  -9  -8  -7  -6  -5  -4  -3  -2  -1  \n",
    "\n",
    "  h   a    i         h     o    w      a   r   e        y   o   u\n",
    "    \n",
    "  0   1   2      3   4     5    6  7   8   9   10  11   12  13  14"
   ]
  },
  {
   "cell_type": "code",
   "execution_count": 22,
   "id": "802de383",
   "metadata": {},
   "outputs": [
    {
     "data": {
      "text/plain": [
       "1"
      ]
     },
     "execution_count": 22,
     "metadata": {},
     "output_type": "execute_result"
    }
   ],
   "source": [
    "len(string1[3:-13:-3]) # possibile \n",
    "# some charcters \n",
    "# 1 empty charcter"
   ]
  },
  {
   "cell_type": "code",
   "execution_count": 19,
   "id": "261a7730",
   "metadata": {},
   "outputs": [
    {
     "data": {
      "text/plain": [
       "0"
      ]
     },
     "execution_count": 19,
     "metadata": {},
     "output_type": "execute_result"
    }
   ],
   "source": [
    "len(string1[-1:-10]) # which means you are not getting charcters"
   ]
  },
  {
   "cell_type": "code",
   "execution_count": null,
   "id": "35919ab9",
   "metadata": {},
   "outputs": [],
   "source": [
    "string1[-1:-10]  # not possibile ==== > "
   ]
  },
  {
   "cell_type": "markdown",
   "id": "307b4e6f",
   "metadata": {},
   "source": [
    "**String Methods**"
   ]
  },
  {
   "cell_type": "code",
   "execution_count": 23,
   "id": "4bc33e2b",
   "metadata": {},
   "outputs": [
    {
     "data": {
      "text/plain": [
       "['BPF',\n",
       " 'LOG4',\n",
       " 'NV_MAGICCONST',\n",
       " 'RECIP_BPF',\n",
       " 'Random',\n",
       " 'SG_MAGICCONST',\n",
       " 'SystemRandom',\n",
       " 'TWOPI',\n",
       " '_ONE',\n",
       " '_Sequence',\n",
       " '_Set',\n",
       " '__all__',\n",
       " '__builtins__',\n",
       " '__cached__',\n",
       " '__doc__',\n",
       " '__file__',\n",
       " '__loader__',\n",
       " '__name__',\n",
       " '__package__',\n",
       " '__spec__',\n",
       " '_accumulate',\n",
       " '_acos',\n",
       " '_bisect',\n",
       " '_ceil',\n",
       " '_cos',\n",
       " '_e',\n",
       " '_exp',\n",
       " '_floor',\n",
       " '_index',\n",
       " '_inst',\n",
       " '_isfinite',\n",
       " '_log',\n",
       " '_os',\n",
       " '_pi',\n",
       " '_random',\n",
       " '_repeat',\n",
       " '_sha512',\n",
       " '_sin',\n",
       " '_sqrt',\n",
       " '_test',\n",
       " '_test_generator',\n",
       " '_urandom',\n",
       " '_warn',\n",
       " 'betavariate',\n",
       " 'choice',\n",
       " 'choices',\n",
       " 'expovariate',\n",
       " 'gammavariate',\n",
       " 'gauss',\n",
       " 'getrandbits',\n",
       " 'getstate',\n",
       " 'lognormvariate',\n",
       " 'normalvariate',\n",
       " 'paretovariate',\n",
       " 'randbytes',\n",
       " 'randint',\n",
       " 'random',\n",
       " 'randrange',\n",
       " 'sample',\n",
       " 'seed',\n",
       " 'setstate',\n",
       " 'shuffle',\n",
       " 'triangular',\n",
       " 'uniform',\n",
       " 'vonmisesvariate',\n",
       " 'weibullvariate']"
      ]
     },
     "execution_count": 23,
     "metadata": {},
     "output_type": "execute_result"
    }
   ],
   "source": [
    "import random\n",
    "dir(random)"
   ]
  },
  {
   "cell_type": "code",
   "execution_count": 24,
   "id": "2f900c2b",
   "metadata": {},
   "outputs": [
    {
     "data": {
      "text/plain": [
       "['__add__',\n",
       " '__class__',\n",
       " '__contains__',\n",
       " '__delattr__',\n",
       " '__dir__',\n",
       " '__doc__',\n",
       " '__eq__',\n",
       " '__format__',\n",
       " '__ge__',\n",
       " '__getattribute__',\n",
       " '__getitem__',\n",
       " '__getnewargs__',\n",
       " '__gt__',\n",
       " '__hash__',\n",
       " '__init__',\n",
       " '__init_subclass__',\n",
       " '__iter__',\n",
       " '__le__',\n",
       " '__len__',\n",
       " '__lt__',\n",
       " '__mod__',\n",
       " '__mul__',\n",
       " '__ne__',\n",
       " '__new__',\n",
       " '__reduce__',\n",
       " '__reduce_ex__',\n",
       " '__repr__',\n",
       " '__rmod__',\n",
       " '__rmul__',\n",
       " '__setattr__',\n",
       " '__sizeof__',\n",
       " '__str__',\n",
       " '__subclasshook__',\n",
       " 'capitalize',\n",
       " 'casefold',\n",
       " 'center',\n",
       " 'count',\n",
       " 'encode',\n",
       " 'endswith',\n",
       " 'expandtabs',\n",
       " 'find',\n",
       " 'format',\n",
       " 'format_map',\n",
       " 'index',\n",
       " 'isalnum',\n",
       " 'isalpha',\n",
       " 'isascii',\n",
       " 'isdecimal',\n",
       " 'isdigit',\n",
       " 'isidentifier',\n",
       " 'islower',\n",
       " 'isnumeric',\n",
       " 'isprintable',\n",
       " 'isspace',\n",
       " 'istitle',\n",
       " 'isupper',\n",
       " 'join',\n",
       " 'ljust',\n",
       " 'lower',\n",
       " 'lstrip',\n",
       " 'maketrans',\n",
       " 'partition',\n",
       " 'removeprefix',\n",
       " 'removesuffix',\n",
       " 'replace',\n",
       " 'rfind',\n",
       " 'rindex',\n",
       " 'rjust',\n",
       " 'rpartition',\n",
       " 'rsplit',\n",
       " 'rstrip',\n",
       " 'split',\n",
       " 'splitlines',\n",
       " 'startswith',\n",
       " 'strip',\n",
       " 'swapcase',\n",
       " 'title',\n",
       " 'translate',\n",
       " 'upper',\n",
       " 'zfill']"
      ]
     },
     "execution_count": 24,
     "metadata": {},
     "output_type": "execute_result"
    }
   ],
   "source": [
    "str1='h'\n",
    "dir(str1)"
   ]
  },
  {
   "cell_type": "markdown",
   "id": "a58b2ebe",
   "metadata": {},
   "source": [
    "**Mutable and immutable concept**"
   ]
  },
  {
   "cell_type": "code",
   "execution_count": 25,
   "id": "fcede893",
   "metadata": {},
   "outputs": [],
   "source": [
    "string1='hello'\n",
    "\n",
    "# I want to replace 'h'  to 'H'  by using index operations\n"
   ]
  },
  {
   "cell_type": "code",
   "execution_count": 26,
   "id": "537a5b51",
   "metadata": {},
   "outputs": [
    {
     "data": {
      "text/plain": [
       "'h'"
      ]
     },
     "execution_count": 26,
     "metadata": {},
     "output_type": "execute_result"
    }
   ],
   "source": [
    "string1[0]"
   ]
  },
  {
   "cell_type": "code",
   "execution_count": 27,
   "id": "cc4efa64",
   "metadata": {},
   "outputs": [
    {
     "ename": "TypeError",
     "evalue": "'str' object does not support item assignment",
     "output_type": "error",
     "traceback": [
      "\u001b[1;31m---------------------------------------------------------------------------\u001b[0m",
      "\u001b[1;31mTypeError\u001b[0m                                 Traceback (most recent call last)",
      "Cell \u001b[1;32mIn [27], line 1\u001b[0m\n\u001b[1;32m----> 1\u001b[0m \u001b[43mstring1\u001b[49m\u001b[43m[\u001b[49m\u001b[38;5;241;43m0\u001b[39;49m\u001b[43m]\u001b[49m\u001b[38;5;241m=\u001b[39m\u001b[38;5;124m'\u001b[39m\u001b[38;5;124mH\u001b[39m\u001b[38;5;124m'\u001b[39m\n",
      "\u001b[1;31mTypeError\u001b[0m: 'str' object does not support item assignment"
     ]
    }
   ],
   "source": [
    "string1[0]='H'   # hello ------ > Hello   possible or not\n",
    "\n",
    "# If it is a possible ==== > mutable\n",
    "# If it is not possibile ==== > immutable"
   ]
  },
  {
   "cell_type": "code",
   "execution_count": 28,
   "id": "8e9f4eb7",
   "metadata": {},
   "outputs": [
    {
     "data": {
      "text/plain": [
       "10"
      ]
     },
     "execution_count": 28,
     "metadata": {},
     "output_type": "execute_result"
    }
   ],
   "source": [
    "list1=[10,20,30]\n",
    "list1[0]"
   ]
  },
  {
   "cell_type": "code",
   "execution_count": 29,
   "id": "af7cabf4",
   "metadata": {},
   "outputs": [],
   "source": [
    "list1[0]=100"
   ]
  },
  {
   "cell_type": "code",
   "execution_count": 30,
   "id": "2d539a83",
   "metadata": {},
   "outputs": [
    {
     "data": {
      "text/plain": [
       "[100, 20, 30]"
      ]
     },
     "execution_count": 30,
     "metadata": {},
     "output_type": "execute_result"
    }
   ],
   "source": [
    "list1"
   ]
  },
  {
   "cell_type": "code",
   "execution_count": null,
   "id": "99649111",
   "metadata": {},
   "outputs": [],
   "source": []
  },
  {
   "cell_type": "markdown",
   "id": "d531529e",
   "metadata": {},
   "source": [
    "# Strings are immutable"
   ]
  },
  {
   "cell_type": "markdown",
   "id": "47ea6902",
   "metadata": {},
   "source": [
    "$1)upper$"
   ]
  },
  {
   "cell_type": "code",
   "execution_count": 31,
   "id": "13d0485e",
   "metadata": {},
   "outputs": [
    {
     "data": {
      "text/plain": [
       "'HELLO'"
      ]
     },
     "execution_count": 31,
     "metadata": {},
     "output_type": "execute_result"
    }
   ],
   "source": [
    "string1='hello'\n",
    "string1.upper()  # Upper case"
   ]
  },
  {
   "cell_type": "markdown",
   "id": "a31f69ff",
   "metadata": {},
   "source": [
    "$2)Lower$"
   ]
  },
  {
   "cell_type": "code",
   "execution_count": 32,
   "id": "73b1198c",
   "metadata": {},
   "outputs": [
    {
     "data": {
      "text/plain": [
       "'hello'"
      ]
     },
     "execution_count": 32,
     "metadata": {},
     "output_type": "execute_result"
    }
   ],
   "source": [
    "string1='HEllo'\n",
    "string1.lower()  # shift+tab"
   ]
  },
  {
   "cell_type": "code",
   "execution_count": 33,
   "id": "dcfaae03",
   "metadata": {},
   "outputs": [
    {
     "name": "stdout",
     "output_type": "stream",
     "text": [
      "Help on built-in function lower:\n",
      "\n",
      "lower() method of builtins.str instance\n",
      "    Return a copy of the string converted to lowercase.\n",
      "\n"
     ]
    }
   ],
   "source": [
    "help(string1.lower)"
   ]
  },
  {
   "cell_type": "markdown",
   "id": "4f2a1719",
   "metadata": {},
   "source": [
    "$3)casefold$"
   ]
  },
  {
   "cell_type": "code",
   "execution_count": 34,
   "id": "cdec1002",
   "metadata": {},
   "outputs": [
    {
     "data": {
      "text/plain": [
       "'hello python'"
      ]
     },
     "execution_count": 34,
     "metadata": {},
     "output_type": "execute_result"
    }
   ],
   "source": [
    "string1='Hello PYthon'\n",
    "string1.casefold()   # casefold: caseless"
   ]
  },
  {
   "cell_type": "markdown",
   "id": "becf7ba0",
   "metadata": {},
   "source": [
    "$4)Capitalize$"
   ]
  },
  {
   "cell_type": "code",
   "execution_count": 35,
   "id": "f8f110f1",
   "metadata": {},
   "outputs": [
    {
     "data": {
      "text/plain": [
       "'Hello'"
      ]
     },
     "execution_count": 35,
     "metadata": {},
     "output_type": "execute_result"
    }
   ],
   "source": [
    "string1='hello'\n",
    "string1.capitalize()"
   ]
  },
  {
   "cell_type": "code",
   "execution_count": 36,
   "id": "be89b0f2",
   "metadata": {},
   "outputs": [
    {
     "name": "stdout",
     "output_type": "stream",
     "text": [
      "upper_case: HELLO PYTHON\n",
      "lower_case: hello python\n",
      "caseless: hello python\n",
      "First letter as capital: Hello python\n"
     ]
    }
   ],
   "source": [
    "string1='hello PYthon'\n",
    "print(\"upper_case:\",string1.upper())\n",
    "print(\"lower_case:\",string1.lower())\n",
    "print(\"caseless:\",string1.casefold())\n",
    "print(\"First letter as capital:\",string1.capitalize())"
   ]
  },
  {
   "cell_type": "code",
   "execution_count": null,
   "id": "0c43f68c",
   "metadata": {},
   "outputs": [],
   "source": [
    "# when you enter s STOP ====> \n",
    "# stop ==== > lower =='stop'\n",
    "# STOP ===\n",
    "# Stop"
   ]
  },
  {
   "cell_type": "code",
   "execution_count": 41,
   "id": "77c891ff",
   "metadata": {},
   "outputs": [
    {
     "name": "stdout",
     "output_type": "stream",
     "text": [
      "4\n"
     ]
    }
   ],
   "source": [
    "string1='hai how are you able to do a work'\n",
    "# WAP to find the number of 'a'\n",
    "# Ans:4\n",
    "\n",
    "# count=0\n",
    "# Step-1: iterate through each letter (for)\n",
    "# step-2: if that letter =='a'  (if)\n",
    "#         count it\n",
    " \n",
    "count=0\n",
    "for letter in string1:\n",
    "    if letter=='a':\n",
    "        count+=1\n",
    "        \n",
    "print(count)\n",
    "\n",
    "################################################################\n",
    "\n",
    "count=0\n",
    "for i in range(len(string1)):\n",
    "    if string1[i]=='a':\n",
    "        count+=1\n",
    "print(count)"
   ]
  },
  {
   "cell_type": "code",
   "execution_count": 48,
   "id": "5848db03",
   "metadata": {},
   "outputs": [
    {
     "name": "stdout",
     "output_type": "stream",
     "text": [
      "a\n",
      "i\n",
      "o\n",
      "a\n",
      "e\n",
      "o\n",
      "u\n",
      "a\n",
      "e\n",
      "o\n",
      "o\n",
      "a\n",
      "o\n",
      "No of Vowels are : 13\n"
     ]
    }
   ],
   "source": [
    "string1='hai how are you able to do a work'\n",
    "# WAP to print the vowels 'a' 'e' 'i' 'o' 'u'  \n",
    "count=0\n",
    "for i in string1:\n",
    "    if i in 'aeiou':\n",
    "        print(i)\n",
    "        count+=1\n",
    "print(\"No of Vowels are :\",count)"
   ]
  },
  {
   "cell_type": "code",
   "execution_count": 43,
   "id": "03e2d517",
   "metadata": {},
   "outputs": [],
   "source": [
    "Str = 'hello' # 'hello'  saved in which variable str\n",
    "Str1 = Str.upper() # 'HELLO' saved str\n",
    "\n",
    "#What happens to the previously assigned ‘hello’ literal to the string given strings are immutable?"
   ]
  },
  {
   "cell_type": "code",
   "execution_count": 46,
   "id": "c77ff3e1",
   "metadata": {},
   "outputs": [
    {
     "data": {
      "text/plain": [
       "('hello', 'HELLO')"
      ]
     },
     "execution_count": 46,
     "metadata": {},
     "output_type": "execute_result"
    }
   ],
   "source": [
    "Str,Str1"
   ]
  },
  {
   "cell_type": "code",
   "execution_count": null,
   "id": "3d9cf41d",
   "metadata": {},
   "outputs": [],
   "source": [
    "- Your required some index then go for range : i ==== > num  str[i]==> char\n",
    "\n",
    "- your program not using index then go for in : i ==== > char"
   ]
  },
  {
   "cell_type": "code",
   "execution_count": 50,
   "id": "1ddb855f",
   "metadata": {},
   "outputs": [
    {
     "name": "stdout",
     "output_type": "stream",
     "text": [
      "No of Vowels are : 13\n"
     ]
    }
   ],
   "source": [
    "string1='hai how are you able to do a work'\n",
    "# WAP to print the vowels 'a' 'e' 'i' 'o' 'u'  \n",
    "count=0\n",
    "for i in range(len(string1)):\n",
    "    if string1[i] in 'aeiou':\n",
    "        count+=1\n",
    "print(\"No of Vowels are :\",count)"
   ]
  },
  {
   "cell_type": "markdown",
   "id": "583ff6f5",
   "metadata": {},
   "source": [
    "**WAP to find the index of each 'a'**"
   ]
  },
  {
   "cell_type": "code",
   "execution_count": 52,
   "id": "7c119c77",
   "metadata": {},
   "outputs": [
    {
     "name": "stdout",
     "output_type": "stream",
     "text": [
      "a index is: 1\n",
      "a index is: 8\n",
      "a index is: 16\n",
      "a index is: 27\n"
     ]
    }
   ],
   "source": [
    "string1='hai how are you able to do a work'\n",
    "# WAP to find the index of each 'a'\n",
    "\n",
    "for i in range(len(string1)):\n",
    "    if string1[i]=='a':\n",
    "        print(\"a index is:\",i)\n"
   ]
  },
  {
   "cell_type": "code",
   "execution_count": null,
   "id": "87a5ed7c",
   "metadata": {},
   "outputs": [],
   "source": [
    "1) How many unique vowels are there string1='hai how are you able to do a work'\n",
    "\n",
    "# intailise an empty string\n",
    "# whenerver you found vowel ==== > keep that vowel in empty string\n",
    "# s='ai'\n",
    "# s=s+i\n",
    "# 'a' ==== > s  if it is there in s\n",
    "# 'a' ---- > s if it is not there in s : s=s+i"
   ]
  }
 ],
 "metadata": {
  "kernelspec": {
   "display_name": "Python 3 (ipykernel)",
   "language": "python",
   "name": "python3"
  },
  "language_info": {
   "codemirror_mode": {
    "name": "ipython",
    "version": 3
   },
   "file_extension": ".py",
   "mimetype": "text/x-python",
   "name": "python",
   "nbconvert_exporter": "python",
   "pygments_lexer": "ipython3",
   "version": "3.10.9"
  }
 },
 "nbformat": 4,
 "nbformat_minor": 5
}
