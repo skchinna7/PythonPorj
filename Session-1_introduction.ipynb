{
 "cells": [
  {
   "cell_type": "code",
   "execution_count": null,
   "id": "7397fc7c",
   "metadata": {},
   "outputs": [],
   "source": [
    "- kernal \n",
    "\n",
    "- kernal is busy  ==== black circle\n",
    "\n",
    "- kernal is idle ===== white circle"
   ]
  },
  {
   "cell_type": "code",
   "execution_count": 1,
   "id": "84fbb86d",
   "metadata": {},
   "outputs": [
    {
     "data": {
      "text/plain": [
       "20"
      ]
     },
     "execution_count": 1,
     "metadata": {},
     "output_type": "execute_result"
    }
   ],
   "source": [
    "a=20\n",
    "a"
   ]
  },
  {
   "cell_type": "code",
   "execution_count": 2,
   "id": "4e8dfe5a",
   "metadata": {},
   "outputs": [
    {
     "data": {
      "text/plain": [
       "100"
      ]
     },
     "execution_count": 2,
     "metadata": {},
     "output_type": "execute_result"
    }
   ],
   "source": [
    "b=100\n",
    "b"
   ]
  },
  {
   "cell_type": "code",
   "execution_count": 6,
   "id": "744ffa4b",
   "metadata": {},
   "outputs": [
    {
     "data": {
      "text/plain": [
       "100"
      ]
     },
     "execution_count": 6,
     "metadata": {},
     "output_type": "execute_result"
    }
   ],
   "source": [
    "c=100\n",
    "c"
   ]
  },
  {
   "cell_type": "code",
   "execution_count": 5,
   "id": "d7648a28",
   "metadata": {},
   "outputs": [
    {
     "data": {
      "text/plain": [
       "130"
      ]
     },
     "execution_count": 5,
     "metadata": {},
     "output_type": "execute_result"
    }
   ],
   "source": [
    "a=100\n",
    "b=30\n",
    "a+b    # shift+enter\n"
   ]
  },
  {
   "cell_type": "markdown",
   "id": "5d7d4bf3",
   "metadata": {},
   "source": [
    "# python"
   ]
  },
  {
   "cell_type": "markdown",
   "id": "43b9df3b",
   "metadata": {},
   "source": [
    "to day im learning python"
   ]
  },
  {
   "cell_type": "markdown",
   "id": "8ec7220a",
   "metadata": {},
   "source": [
    "python is easy  # this cell is in which mode\n",
    "\n",
    "code mode  or markdown mode"
   ]
  },
  {
   "cell_type": "markdown",
   "id": "c7196edf",
   "metadata": {},
   "source": [
    "- whenever you want use code , check the code mode\n",
    "\n",
    "- whenever you want to write something, check the markdown mode"
   ]
  },
  {
   "cell_type": "code",
   "execution_count": 8,
   "id": "3a89f4a3",
   "metadata": {},
   "outputs": [],
   "source": [
    "import os"
   ]
  },
  {
   "cell_type": "code",
   "execution_count": 9,
   "id": "9b548bdc",
   "metadata": {},
   "outputs": [
    {
     "data": {
      "text/plain": [
       "'C:\\\\Users\\\\omkar\\\\OneDrive\\\\Documents\\\\Data science\\\\Naresh IT\\\\Data science\\\\Batch2\\\\python_session'"
      ]
     },
     "execution_count": 9,
     "metadata": {},
     "output_type": "execute_result"
    }
   ],
   "source": [
    "os.getcwd()   # get current working directory  (getcwd)\n",
    "\n",
    "a=20  # i saved 20 in a variable a"
   ]
  },
  {
   "cell_type": "code",
   "execution_count": 10,
   "id": "c833ff24",
   "metadata": {},
   "outputs": [],
   "source": [
    "a=20"
   ]
  },
  {
   "cell_type": "code",
   "execution_count": 11,
   "id": "b4e72f98",
   "metadata": {},
   "outputs": [],
   "source": [
    "b=30"
   ]
  },
  {
   "cell_type": "code",
   "execution_count": 12,
   "id": "333cc42d",
   "metadata": {},
   "outputs": [
    {
     "data": {
      "text/plain": [
       "50"
      ]
     },
     "execution_count": 12,
     "metadata": {},
     "output_type": "execute_result"
    }
   ],
   "source": [
    "a+b"
   ]
  },
  {
   "cell_type": "code",
   "execution_count": 13,
   "id": "25834444",
   "metadata": {},
   "outputs": [
    {
     "data": {
      "text/plain": [
       "70"
      ]
     },
     "execution_count": 13,
     "metadata": {},
     "output_type": "execute_result"
    }
   ],
   "source": [
    "a=20\n",
    "b=50\n",
    "a+b"
   ]
  },
  {
   "cell_type": "markdown",
   "id": "881b4414",
   "metadata": {},
   "source": [
    "- python\n",
    "\n",
    "- omkar"
   ]
  },
  {
   "cell_type": "code",
   "execution_count": null,
   "id": "49a85eaa",
   "metadata": {},
   "outputs": [],
   "source": []
  }
 ],
 "metadata": {
  "kernelspec": {
   "display_name": "Python 3 (ipykernel)",
   "language": "python",
   "name": "python3"
  },
  "language_info": {
   "codemirror_mode": {
    "name": "ipython",
    "version": 3
   },
   "file_extension": ".py",
   "mimetype": "text/x-python",
   "name": "python",
   "nbconvert_exporter": "python",
   "pygments_lexer": "ipython3",
   "version": "3.10.9"
  }
 },
 "nbformat": 4,
 "nbformat_minor": 5
}
