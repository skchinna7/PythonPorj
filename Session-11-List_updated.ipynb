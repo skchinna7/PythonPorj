{
 "cells": [
  {
   "cell_type": "code",
   "execution_count": null,
   "id": "76784ad7",
   "metadata": {},
   "outputs": [],
   "source": [
    "- Strings conecpt is completed ===== > Today you will get an assignemnt on Strings"
   ]
  },
  {
   "cell_type": "markdown",
   "id": "a8482ec0",
   "metadata": {},
   "source": [
    "- Basic syntax\n",
    "\n",
    "- type\n",
    "\n",
    "- len\n",
    "\n",
    "- max\n",
    "\n",
    "- min\n",
    "\n",
    "- concatination\n",
    "\n",
    "- mutable vs immutable\n",
    "\n",
    "- methods"
   ]
  },
  {
   "cell_type": "code",
   "execution_count": 1,
   "id": "cef65429",
   "metadata": {},
   "outputs": [],
   "source": [
    "list1=[1,2,3,4]"
   ]
  },
  {
   "cell_type": "code",
   "execution_count": 2,
   "id": "e5ccce73",
   "metadata": {},
   "outputs": [
    {
     "data": {
      "text/plain": [
       "list"
      ]
     },
     "execution_count": 2,
     "metadata": {},
     "output_type": "execute_result"
    }
   ],
   "source": [
    "type(list1)"
   ]
  },
  {
   "cell_type": "code",
   "execution_count": 3,
   "id": "3c640d61",
   "metadata": {},
   "outputs": [
    {
     "data": {
      "text/plain": [
       "['Apple', 'Ball', 'Bat']"
      ]
     },
     "execution_count": 3,
     "metadata": {},
     "output_type": "execute_result"
    }
   ],
   "source": [
    "list2=['Apple','Ball','Bat']\n",
    "list2"
   ]
  },
  {
   "cell_type": "code",
   "execution_count": 4,
   "id": "1c80e4cf",
   "metadata": {},
   "outputs": [
    {
     "data": {
      "text/plain": [
       "[1, 2, 3, 4, 'Apple', 'Ball', 'Bat', '10.5', 10.5, (10+20j)]"
      ]
     },
     "execution_count": 4,
     "metadata": {},
     "output_type": "execute_result"
    }
   ],
   "source": [
    "list3=[1,2,3,4,'Apple','Ball','Bat','10.5',10.5,10+20j]\n",
    "list3"
   ]
  },
  {
   "cell_type": "code",
   "execution_count": 5,
   "id": "0a00238d",
   "metadata": {},
   "outputs": [
    {
     "data": {
      "text/plain": [
       "[1, 2, 3, 4, ['A', 'B', 'C']]"
      ]
     },
     "execution_count": 5,
     "metadata": {},
     "output_type": "execute_result"
    }
   ],
   "source": [
    "list4=[1,2,3,4,['A','B','C']]\n",
    "list4"
   ]
  },
  {
   "cell_type": "code",
   "execution_count": 6,
   "id": "fc60347a",
   "metadata": {},
   "outputs": [
    {
     "data": {
      "text/plain": [
       "[100, 100, 100]"
      ]
     },
     "execution_count": 6,
     "metadata": {},
     "output_type": "execute_result"
    }
   ],
   "source": [
    "list5=[100,100,100]\n",
    "list5"
   ]
  },
  {
   "cell_type": "markdown",
   "id": "96d7cd00",
   "metadata": {},
   "source": [
    "- list values are in square brackets seperated by comma\n",
    "\n",
    "- list can have any type of values, heterogeneous type can be allowed\n",
    "\n",
    "- list inside list also possible\n",
    "\n",
    "- list can have dupilcates"
   ]
  },
  {
   "cell_type": "code",
   "execution_count": 7,
   "id": "3fd71f7d",
   "metadata": {},
   "outputs": [
    {
     "name": "stdout",
     "output_type": "stream",
     "text": [
      "[1, 2, 3, 4]\n",
      "['Apple', 'Ball', 'Bat']\n",
      "[1, 2, 3, 4, 'Apple', 'Ball', 'Bat', '10.5', 10.5, (10+20j)]\n"
     ]
    }
   ],
   "source": [
    "print(list1)\n",
    "print(list2)\n",
    "print(list3)"
   ]
  },
  {
   "cell_type": "markdown",
   "id": "bb362aa9",
   "metadata": {},
   "source": [
    "$max$"
   ]
  },
  {
   "cell_type": "code",
   "execution_count": 8,
   "id": "7a70de09",
   "metadata": {},
   "outputs": [
    {
     "data": {
      "text/plain": [
       "4"
      ]
     },
     "execution_count": 8,
     "metadata": {},
     "output_type": "execute_result"
    }
   ],
   "source": [
    "max(list1)"
   ]
  },
  {
   "cell_type": "code",
   "execution_count": 9,
   "id": "40868bad",
   "metadata": {},
   "outputs": [
    {
     "data": {
      "text/plain": [
       "'Bat'"
      ]
     },
     "execution_count": 9,
     "metadata": {},
     "output_type": "execute_result"
    }
   ],
   "source": [
    "max(list2)"
   ]
  },
  {
   "cell_type": "code",
   "execution_count": 10,
   "id": "0258457e",
   "metadata": {},
   "outputs": [
    {
     "ename": "TypeError",
     "evalue": "'>' not supported between instances of 'str' and 'int'",
     "output_type": "error",
     "traceback": [
      "\u001b[1;31m---------------------------------------------------------------------------\u001b[0m",
      "\u001b[1;31mTypeError\u001b[0m                                 Traceback (most recent call last)",
      "Cell \u001b[1;32mIn [10], line 1\u001b[0m\n\u001b[1;32m----> 1\u001b[0m \u001b[38;5;28;43mmax\u001b[39;49m\u001b[43m(\u001b[49m\u001b[43mlist3\u001b[49m\u001b[43m)\u001b[49m \n\u001b[0;32m      2\u001b[0m \u001b[38;5;66;03m# it will give an error\u001b[39;00m\n\u001b[0;32m      3\u001b[0m \u001b[38;5;66;03m# we are comparing different data types\u001b[39;00m\n",
      "\u001b[1;31mTypeError\u001b[0m: '>' not supported between instances of 'str' and 'int'"
     ]
    }
   ],
   "source": [
    "max(list3) \n",
    "# it will give an error\n",
    "# we are comparing different data types"
   ]
  },
  {
   "cell_type": "code",
   "execution_count": 11,
   "id": "b946c20a",
   "metadata": {},
   "outputs": [
    {
     "ename": "TypeError",
     "evalue": "'>' not supported between instances of 'list' and 'int'",
     "output_type": "error",
     "traceback": [
      "\u001b[1;31m---------------------------------------------------------------------------\u001b[0m",
      "\u001b[1;31mTypeError\u001b[0m                                 Traceback (most recent call last)",
      "Cell \u001b[1;32mIn [11], line 1\u001b[0m\n\u001b[1;32m----> 1\u001b[0m \u001b[38;5;28;43mmax\u001b[39;49m\u001b[43m(\u001b[49m\u001b[43mlist4\u001b[49m\u001b[43m)\u001b[49m\n",
      "\u001b[1;31mTypeError\u001b[0m: '>' not supported between instances of 'list' and 'int'"
     ]
    }
   ],
   "source": [
    "max(list4)"
   ]
  },
  {
   "cell_type": "code",
   "execution_count": 13,
   "id": "b74813a4",
   "metadata": {},
   "outputs": [
    {
     "data": {
      "text/plain": [
       "[1, 2, 3, 4, ['A', 'B', 'C']]"
      ]
     },
     "execution_count": 13,
     "metadata": {},
     "output_type": "execute_result"
    }
   ],
   "source": [
    "list4  # [int,int,int,int,list]"
   ]
  },
  {
   "cell_type": "code",
   "execution_count": 12,
   "id": "a14e5c36",
   "metadata": {},
   "outputs": [
    {
     "data": {
      "text/plain": [
       "100"
      ]
     },
     "execution_count": 12,
     "metadata": {},
     "output_type": "execute_result"
    }
   ],
   "source": [
    "max(list5)"
   ]
  },
  {
   "cell_type": "markdown",
   "id": "6c66c732",
   "metadata": {},
   "source": [
    "$Min$"
   ]
  },
  {
   "cell_type": "code",
   "execution_count": 14,
   "id": "df56e38c",
   "metadata": {},
   "outputs": [
    {
     "data": {
      "text/plain": [
       "1"
      ]
     },
     "execution_count": 14,
     "metadata": {},
     "output_type": "execute_result"
    }
   ],
   "source": [
    "min(list1)"
   ]
  },
  {
   "cell_type": "code",
   "execution_count": 15,
   "id": "014bc65e",
   "metadata": {},
   "outputs": [
    {
     "data": {
      "text/plain": [
       "'Apple'"
      ]
     },
     "execution_count": 15,
     "metadata": {},
     "output_type": "execute_result"
    }
   ],
   "source": [
    "min(list2)"
   ]
  },
  {
   "cell_type": "code",
   "execution_count": 16,
   "id": "56cab7aa",
   "metadata": {},
   "outputs": [
    {
     "data": {
      "text/plain": [
       "100"
      ]
     },
     "execution_count": 16,
     "metadata": {},
     "output_type": "execute_result"
    }
   ],
   "source": [
    "min(list5)"
   ]
  },
  {
   "cell_type": "code",
   "execution_count": 17,
   "id": "8e1b5460",
   "metadata": {},
   "outputs": [
    {
     "data": {
      "text/plain": [
       "[1, 2, 3, 4, 'Apple', 'Ball', 'Bat']"
      ]
     },
     "execution_count": 17,
     "metadata": {},
     "output_type": "execute_result"
    }
   ],
   "source": [
    "list1+list2"
   ]
  },
  {
   "cell_type": "code",
   "execution_count": 18,
   "id": "c8f601f2",
   "metadata": {},
   "outputs": [
    {
     "data": {
      "text/plain": [
       "[1, 2, 3, 4, 11, 22, 33, 44]"
      ]
     },
     "execution_count": 18,
     "metadata": {},
     "output_type": "execute_result"
    }
   ],
   "source": [
    "list1=[1,2,3,4]\n",
    "list2=[11,22,33,44]\n",
    "list1+list2  # 1+11, 2+22,3+33,4+44 --- > this will not happend"
   ]
  },
  {
   "cell_type": "code",
   "execution_count": 19,
   "id": "30a44a7c",
   "metadata": {},
   "outputs": [
    {
     "data": {
      "text/plain": [
       "[11, 22, 33, 44, 1, 2, 3, 4]"
      ]
     },
     "execution_count": 19,
     "metadata": {},
     "output_type": "execute_result"
    }
   ],
   "source": [
    "list2+list1"
   ]
  },
  {
   "cell_type": "code",
   "execution_count": null,
   "id": "c330d902",
   "metadata": {},
   "outputs": [],
   "source": [
    "list1*list2  # error\n",
    "list1/list2  # error\n",
    "list1-list2  # error\n",
    "\n",
    "# same as strings concept"
   ]
  },
  {
   "cell_type": "markdown",
   "id": "13da82ed",
   "metadata": {},
   "source": [
    "$length$:"
   ]
  },
  {
   "cell_type": "code",
   "execution_count": 29,
   "id": "622d0542",
   "metadata": {},
   "outputs": [
    {
     "name": "stdout",
     "output_type": "stream",
     "text": [
      "[1, 2, 3, 4]\n"
     ]
    },
    {
     "data": {
      "text/plain": [
       "4"
      ]
     },
     "execution_count": 29,
     "metadata": {},
     "output_type": "execute_result"
    }
   ],
   "source": [
    "print(list1)\n",
    "len(list1)"
   ]
  },
  {
   "cell_type": "code",
   "execution_count": 31,
   "id": "e724027e",
   "metadata": {},
   "outputs": [
    {
     "name": "stdout",
     "output_type": "stream",
     "text": [
      "[1, 2, 3, 4, 'Apple', 'Ball', 'Bat', '10.5', 10.5, (10+20j)]\n"
     ]
    },
    {
     "data": {
      "text/plain": [
       "10"
      ]
     },
     "execution_count": 31,
     "metadata": {},
     "output_type": "execute_result"
    }
   ],
   "source": [
    "print(list3)\n",
    "len(list3)"
   ]
  },
  {
   "cell_type": "code",
   "execution_count": null,
   "id": "4db12b1e",
   "metadata": {},
   "outputs": [],
   "source": []
  },
  {
   "cell_type": "markdown",
   "id": "1e217fc0",
   "metadata": {},
   "source": [
    "$index$:"
   ]
  },
  {
   "cell_type": "code",
   "execution_count": 24,
   "id": "c10633f3",
   "metadata": {},
   "outputs": [
    {
     "data": {
      "text/plain": [
       "[11, 22, 33, 44]"
      ]
     },
     "execution_count": 24,
     "metadata": {},
     "output_type": "execute_result"
    }
   ],
   "source": [
    "list2"
   ]
  },
  {
   "cell_type": "code",
   "execution_count": 26,
   "id": "4ae19054",
   "metadata": {},
   "outputs": [
    {
     "name": "stdout",
     "output_type": "stream",
     "text": [
      "11\n",
      "22\n",
      "33\n",
      "44\n"
     ]
    }
   ],
   "source": [
    "# 11 22 33 44\n",
    "# 0  1  2  3\n",
    "print(list2[0])\n",
    "print(list2[1])\n",
    "print(list2[2])\n",
    "print(list2[3])"
   ]
  },
  {
   "cell_type": "code",
   "execution_count": 27,
   "id": "49c0a927",
   "metadata": {},
   "outputs": [
    {
     "name": "stdout",
     "output_type": "stream",
     "text": [
      "p y t h o n "
     ]
    }
   ],
   "source": [
    "str1='python'\n",
    "for i in range(0,len(str1)):\n",
    "    print(str1[i],end=' ')"
   ]
  },
  {
   "cell_type": "code",
   "execution_count": 35,
   "id": "9dc19e1e",
   "metadata": {},
   "outputs": [
    {
     "name": "stdout",
     "output_type": "stream",
     "text": [
      "4\n",
      "0 11\n",
      "1 22\n",
      "2 33\n",
      "3 44\n"
     ]
    }
   ],
   "source": [
    "# print the list2 values using for loop\n",
    "print(len(list2)) #4\n",
    "for i in range(0,len(list2)): # range(0,4) start=0 dir=post gap=1 last=4-1=3\n",
    "    print(i,list2[i])"
   ]
  },
  {
   "cell_type": "markdown",
   "id": "cda0f2b3",
   "metadata": {},
   "source": [
    "$in$"
   ]
  },
  {
   "cell_type": "code",
   "execution_count": 36,
   "id": "adee409a",
   "metadata": {},
   "outputs": [
    {
     "name": "stdout",
     "output_type": "stream",
     "text": [
      "[11, 22, 33, 44]\n"
     ]
    }
   ],
   "source": [
    "print(list2)"
   ]
  },
  {
   "cell_type": "code",
   "execution_count": 38,
   "id": "a227469b",
   "metadata": {},
   "outputs": [
    {
     "data": {
      "text/plain": [
       "True"
      ]
     },
     "execution_count": 38,
     "metadata": {},
     "output_type": "execute_result"
    }
   ],
   "source": [
    "11 in list2\n",
    "22 in list2\n",
    "33 in list2\n",
    "44 in list2\n",
    "\n",
    "# i in list2"
   ]
  },
  {
   "cell_type": "code",
   "execution_count": 39,
   "id": "c157cfa3",
   "metadata": {},
   "outputs": [
    {
     "name": "stdout",
     "output_type": "stream",
     "text": [
      "11 22 33 44 "
     ]
    }
   ],
   "source": [
    "list2=[11,22,33,44]\n",
    "for i in list2:\n",
    "    print(i,end=\" \")"
   ]
  },
  {
   "cell_type": "code",
   "execution_count": null,
   "id": "d05b657a",
   "metadata": {},
   "outputs": [],
   "source": []
  },
  {
   "cell_type": "code",
   "execution_count": 40,
   "id": "a364dc67",
   "metadata": {},
   "outputs": [
    {
     "data": {
      "text/plain": [
       "[1, 2, 3, 4, ['A', 'B', 'C']]"
      ]
     },
     "execution_count": 40,
     "metadata": {},
     "output_type": "execute_result"
    }
   ],
   "source": [
    "list4\n",
    "# retrive the index of 'A'"
   ]
  },
  {
   "cell_type": "code",
   "execution_count": 56,
   "id": "c4e1106e",
   "metadata": {},
   "outputs": [
    {
     "data": {
      "text/plain": [
       "'A'"
      ]
     },
     "execution_count": 56,
     "metadata": {},
     "output_type": "execute_result"
    }
   ],
   "source": [
    "list12=[1,2,3,4,'A']\n",
    "# what is the index of 'A'?\n",
    "list12[4]"
   ]
  },
  {
   "cell_type": "code",
   "execution_count": null,
   "id": "aceaf8fb",
   "metadata": {},
   "outputs": [],
   "source": [
    "[1, 2, 3, 4, ['A', 'B', 'C']]\n",
    " 0  1  2  3  -------4------   "
   ]
  },
  {
   "cell_type": "code",
   "execution_count": 46,
   "id": "97fcdadf",
   "metadata": {},
   "outputs": [
    {
     "data": {
      "text/plain": [
       "'A'"
      ]
     },
     "execution_count": 46,
     "metadata": {},
     "output_type": "execute_result"
    }
   ],
   "source": [
    "new_list=list4[4]\n",
    "new_list[0]"
   ]
  },
  {
   "cell_type": "code",
   "execution_count": 49,
   "id": "660c5cab",
   "metadata": {},
   "outputs": [
    {
     "data": {
      "text/plain": [
       "'A'"
      ]
     },
     "execution_count": 49,
     "metadata": {},
     "output_type": "execute_result"
    }
   ],
   "source": [
    "list4[4][0]  # new_list[0]"
   ]
  },
  {
   "cell_type": "code",
   "execution_count": 50,
   "id": "fb4d9432",
   "metadata": {},
   "outputs": [
    {
     "data": {
      "text/plain": [
       "'B'"
      ]
     },
     "execution_count": 50,
     "metadata": {},
     "output_type": "execute_result"
    }
   ],
   "source": [
    "list4[4][1]"
   ]
  },
  {
   "cell_type": "code",
   "execution_count": 53,
   "id": "8cb8bdfc",
   "metadata": {},
   "outputs": [
    {
     "data": {
      "text/plain": [
       "3"
      ]
     },
     "execution_count": 53,
     "metadata": {},
     "output_type": "execute_result"
    }
   ],
   "source": [
    "len(list4[4])"
   ]
  },
  {
   "cell_type": "code",
   "execution_count": 55,
   "id": "eb9c25e2",
   "metadata": {},
   "outputs": [
    {
     "data": {
      "text/plain": [
       "[1, 2, 3, 4, [[[[['A', 'B', [100]]]]]]]"
      ]
     },
     "execution_count": 55,
     "metadata": {},
     "output_type": "execute_result"
    }
   ],
   "source": [
    "list11=[1,2,3,4,[[[[['A','B',[100]]]]]]]\n",
    "list11 "
   ]
  },
  {
   "cell_type": "code",
   "execution_count": null,
   "id": "c2682b2d",
   "metadata": {},
   "outputs": [],
   "source": [
    "# retrive the index of 100"
   ]
  },
  {
   "cell_type": "code",
   "execution_count": 58,
   "id": "95446d34",
   "metadata": {},
   "outputs": [
    {
     "data": {
      "text/plain": [
       "[[[[['A', 'B', [100]]]]]]"
      ]
     },
     "execution_count": 58,
     "metadata": {},
     "output_type": "execute_result"
    }
   ],
   "source": [
    "list11[4] # [100,200]"
   ]
  },
  {
   "cell_type": "code",
   "execution_count": null,
   "id": "9b5cd516",
   "metadata": {},
   "outputs": [],
   "source": [
    "[50,[50]]  # [[50]]"
   ]
  },
  {
   "cell_type": "code",
   "execution_count": null,
   "id": "0a4f0bd3",
   "metadata": {},
   "outputs": [],
   "source": [
    "[50]  # 1\n",
    "[[50]] # 1\n",
    "[[[50]]]  #1"
   ]
  },
  {
   "cell_type": "code",
   "execution_count": 61,
   "id": "1372544e",
   "metadata": {},
   "outputs": [
    {
     "data": {
      "text/plain": [
       "50"
      ]
     },
     "execution_count": 61,
     "metadata": {},
     "output_type": "execute_result"
    }
   ],
   "source": [
    "list1=[[[50]]]\n",
    "list1[0][0][0]"
   ]
  },
  {
   "cell_type": "code",
   "execution_count": 62,
   "id": "37bf78d1",
   "metadata": {},
   "outputs": [
    {
     "data": {
      "text/plain": [
       "[1, 2, 3, 4, [[[[['A', 'B', [100]]]]]]]"
      ]
     },
     "execution_count": 62,
     "metadata": {},
     "output_type": "execute_result"
    }
   ],
   "source": [
    "list11=[1,2,3,4,[[[[['A','B',[100]]]]]]]\n",
    "list11 \n",
    "# how many values are there : 5---->0 1 2 3 4"
   ]
  },
  {
   "cell_type": "code",
   "execution_count": 72,
   "id": "b97af001",
   "metadata": {},
   "outputs": [
    {
     "data": {
      "text/plain": [
       "100"
      ]
     },
     "execution_count": 72,
     "metadata": {},
     "output_type": "execute_result"
    }
   ],
   "source": [
    "list11[4][0][0][0][0][2][0]"
   ]
  },
  {
   "cell_type": "code",
   "execution_count": 66,
   "id": "0ec7fb65",
   "metadata": {},
   "outputs": [
    {
     "data": {
      "text/plain": [
       "50"
      ]
     },
     "execution_count": 66,
     "metadata": {},
     "output_type": "execute_result"
    }
   ],
   "source": [
    "a=[[50,50]]\n",
    "a[0][0]"
   ]
  },
  {
   "cell_type": "code",
   "execution_count": null,
   "id": "39680728",
   "metadata": {},
   "outputs": [],
   "source": [
    "[1, 2, 3, 4, ['A', 'B', 'C']]"
   ]
  },
  {
   "cell_type": "code",
   "execution_count": 73,
   "id": "f949c2e6",
   "metadata": {},
   "outputs": [],
   "source": [
    "list22=['A','B','C',[100,200,[300,400,[500,600,[700]]]]]\n",
    "# retrive the index of 700 \n",
    "# 3 2 2 2 0"
   ]
  },
  {
   "cell_type": "code",
   "execution_count": 79,
   "id": "576d23cc",
   "metadata": {},
   "outputs": [
    {
     "data": {
      "text/plain": [
       "700"
      ]
     },
     "execution_count": 79,
     "metadata": {},
     "output_type": "execute_result"
    }
   ],
   "source": [
    "list22[3][2][2][2][0]"
   ]
  },
  {
   "cell_type": "code",
   "execution_count": null,
   "id": "94ea89f1",
   "metadata": {},
   "outputs": [],
   "source": [
    "# jsons\n",
    "# list in list\n",
    "# matrix\n",
    "# numpy"
   ]
  },
  {
   "cell_type": "markdown",
   "id": "3d71afd8",
   "metadata": {},
   "source": [
    "$mutable$-$immutable$"
   ]
  },
  {
   "cell_type": "code",
   "execution_count": 80,
   "id": "283d61b9",
   "metadata": {},
   "outputs": [
    {
     "data": {
      "text/plain": [
       "[1, 200, 300]"
      ]
     },
     "execution_count": 80,
     "metadata": {},
     "output_type": "execute_result"
    }
   ],
   "source": [
    "list1=[1,200,300]\n",
    "list1"
   ]
  },
  {
   "cell_type": "code",
   "execution_count": 81,
   "id": "357c0bf1",
   "metadata": {},
   "outputs": [
    {
     "data": {
      "text/plain": [
       "1"
      ]
     },
     "execution_count": 81,
     "metadata": {},
     "output_type": "execute_result"
    }
   ],
   "source": [
    "# i want to change 1 to 100 by using index values\n",
    "list1[0]"
   ]
  },
  {
   "cell_type": "code",
   "execution_count": 82,
   "id": "71bf299e",
   "metadata": {},
   "outputs": [],
   "source": [
    "list1[0]=100"
   ]
  },
  {
   "cell_type": "code",
   "execution_count": 83,
   "id": "dd40b65d",
   "metadata": {},
   "outputs": [
    {
     "data": {
      "text/plain": [
       "[100, 200, 300]"
      ]
     },
     "execution_count": 83,
     "metadata": {},
     "output_type": "execute_result"
    }
   ],
   "source": [
    "list1"
   ]
  },
  {
   "cell_type": "code",
   "execution_count": 84,
   "id": "4155c083",
   "metadata": {},
   "outputs": [
    {
     "data": {
      "text/plain": [
       "['A', 'B', 'C']"
      ]
     },
     "execution_count": 84,
     "metadata": {},
     "output_type": "execute_result"
    }
   ],
   "source": [
    "list2=['A',100,'C']\n",
    "list2[1]='B' # 100 --- > B \n",
    "list2"
   ]
  },
  {
   "cell_type": "code",
   "execution_count": null,
   "id": "e734550d",
   "metadata": {},
   "outputs": [],
   "source": [
    "list3=['HYd','Mum#ai','Chennai','Bengalu#ru']\n",
    "# print the value in list which are having #\n",
    "# 'Mumb$ai','Bengalu#ru']\n",
    "\n",
    "# step-1: iterate the list3 values ======>for loop\n",
    "# step-2: apply the condition if '#' is there in that values === > if"
   ]
  },
  {
   "cell_type": "code",
   "execution_count": 86,
   "id": "f52e240c",
   "metadata": {},
   "outputs": [
    {
     "name": "stdout",
     "output_type": "stream",
     "text": [
      "Mumb#ai\n"
     ]
    }
   ],
   "source": [
    "list1 = ['Hyd', 'Mumb#ai','Chennai','Surat']\n",
    "for i in list1:\n",
    "    if '#'in i:\n",
    "        print(i)\n",
    "        "
   ]
  },
  {
   "cell_type": "code",
   "execution_count": 87,
   "id": "3c1292b3",
   "metadata": {},
   "outputs": [
    {
     "data": {
      "text/plain": [
       "True"
      ]
     },
     "execution_count": 87,
     "metadata": {},
     "output_type": "execute_result"
    }
   ],
   "source": [
    "'a' in 'pple a'"
   ]
  },
  {
   "cell_type": "code",
   "execution_count": 89,
   "id": "d910fd16",
   "metadata": {},
   "outputs": [
    {
     "name": "stdout",
     "output_type": "stream",
     "text": [
      "100 200 300 400 2 4 "
     ]
    }
   ],
   "source": [
    "list1=[100,200,300,400,1,2,3,4]\n",
    "# print the even values\n",
    "# step-1: iertae through list\n",
    "# step-2: if condition\n",
    "for i in list1:\n",
    "    if i%2==0:\n",
    "        print(i,end=' ')"
   ]
  },
  {
   "cell_type": "code",
   "execution_count": null,
   "id": "415b6359",
   "metadata": {},
   "outputs": [],
   "source": [
    "list3=['HYd','Mum#ai','Chennai','Bengalu#ru','delhi']\n",
    "# print the values whose length<=4\n"
   ]
  },
  {
   "cell_type": "code",
   "execution_count": 90,
   "id": "28664470",
   "metadata": {},
   "outputs": [
    {
     "name": "stdout",
     "output_type": "stream",
     "text": [
      "Mumb#ai\n",
      "1\n"
     ]
    }
   ],
   "source": [
    "list1 = ['Hyd', 'Mumb#ai','Chennai','Surat']\n",
    "count=0\n",
    "for i in list1:\n",
    "    if '#'in i:\n",
    "        print(i)\n",
    "        count+=1\n",
    "        \n",
    "print(count)"
   ]
  },
  {
   "cell_type": "code",
   "execution_count": 93,
   "id": "34a8fe02",
   "metadata": {},
   "outputs": [
    {
     "name": "stdout",
     "output_type": "stream",
     "text": [
      "100 200 300 400 2 4 ====================\n",
      "6\n"
     ]
    }
   ],
   "source": [
    "list1=[100,200,300,400,1,2,3,4]\n",
    "count=0\n",
    "for i in list1:\n",
    "    if i%2==0:\n",
    "        print(i,end=' ')\n",
    "        count+=1\n",
    "print(\"====================\")\n",
    "print(count)"
   ]
  },
  {
   "cell_type": "code",
   "execution_count": null,
   "id": "4f103921",
   "metadata": {},
   "outputs": [],
   "source": [
    "list3=['HYd','Mum#ai','Chennai','Bengalu#ru','delhi']\n",
    "# print the values whose length<=4   "
   ]
  },
  {
   "cell_type": "markdown",
   "id": "662b6f3d",
   "metadata": {},
   "source": [
    "$Methods$"
   ]
  },
  {
   "cell_type": "code",
   "execution_count": 94,
   "id": "9cc724e2",
   "metadata": {},
   "outputs": [
    {
     "data": {
      "text/plain": [
       "['__add__',\n",
       " '__class__',\n",
       " '__class_getitem__',\n",
       " '__contains__',\n",
       " '__delattr__',\n",
       " '__delitem__',\n",
       " '__dir__',\n",
       " '__doc__',\n",
       " '__eq__',\n",
       " '__format__',\n",
       " '__ge__',\n",
       " '__getattribute__',\n",
       " '__getitem__',\n",
       " '__gt__',\n",
       " '__hash__',\n",
       " '__iadd__',\n",
       " '__imul__',\n",
       " '__init__',\n",
       " '__init_subclass__',\n",
       " '__iter__',\n",
       " '__le__',\n",
       " '__len__',\n",
       " '__lt__',\n",
       " '__mul__',\n",
       " '__ne__',\n",
       " '__new__',\n",
       " '__reduce__',\n",
       " '__reduce_ex__',\n",
       " '__repr__',\n",
       " '__reversed__',\n",
       " '__rmul__',\n",
       " '__setattr__',\n",
       " '__setitem__',\n",
       " '__sizeof__',\n",
       " '__str__',\n",
       " '__subclasshook__',\n",
       " 'append',\n",
       " 'clear',\n",
       " 'copy',\n",
       " 'count',\n",
       " 'extend',\n",
       " 'index',\n",
       " 'insert',\n",
       " 'pop',\n",
       " 'remove',\n",
       " 'reverse',\n",
       " 'sort']"
      ]
     },
     "execution_count": 94,
     "metadata": {},
     "output_type": "execute_result"
    }
   ],
   "source": [
    "dir(list1)"
   ]
  },
  {
   "cell_type": "code",
   "execution_count": 95,
   "id": "f683e735",
   "metadata": {},
   "outputs": [
    {
     "data": {
      "text/plain": [
       "['__add__',\n",
       " '__class__',\n",
       " '__class_getitem__',\n",
       " '__contains__',\n",
       " '__delattr__',\n",
       " '__delitem__',\n",
       " '__dir__',\n",
       " '__doc__',\n",
       " '__eq__',\n",
       " '__format__',\n",
       " '__ge__',\n",
       " '__getattribute__',\n",
       " '__getitem__',\n",
       " '__gt__',\n",
       " '__hash__',\n",
       " '__iadd__',\n",
       " '__imul__',\n",
       " '__init__',\n",
       " '__init_subclass__',\n",
       " '__iter__',\n",
       " '__le__',\n",
       " '__len__',\n",
       " '__lt__',\n",
       " '__mul__',\n",
       " '__ne__',\n",
       " '__new__',\n",
       " '__reduce__',\n",
       " '__reduce_ex__',\n",
       " '__repr__',\n",
       " '__reversed__',\n",
       " '__rmul__',\n",
       " '__setattr__',\n",
       " '__setitem__',\n",
       " '__sizeof__',\n",
       " '__str__',\n",
       " '__subclasshook__',\n",
       " 'append',\n",
       " 'clear',\n",
       " 'copy',\n",
       " 'count',\n",
       " 'extend',\n",
       " 'index',\n",
       " 'insert',\n",
       " 'pop',\n",
       " 'remove',\n",
       " 'reverse',\n",
       " 'sort']"
      ]
     },
     "execution_count": 95,
     "metadata": {},
     "output_type": "execute_result"
    }
   ],
   "source": [
    "dir([1,2,3])"
   ]
  },
  {
   "cell_type": "markdown",
   "id": "1ef88eb7",
   "metadata": {},
   "source": [
    "$append$"
   ]
  },
  {
   "cell_type": "code",
   "execution_count": 96,
   "id": "a221ae55",
   "metadata": {},
   "outputs": [
    {
     "data": {
      "text/plain": [
       "[]"
      ]
     },
     "execution_count": 96,
     "metadata": {},
     "output_type": "execute_result"
    }
   ],
   "source": [
    "list1=[]\n",
    "list1"
   ]
  },
  {
   "cell_type": "code",
   "execution_count": 97,
   "id": "7160dba7",
   "metadata": {},
   "outputs": [],
   "source": [
    "list1.append(100)"
   ]
  },
  {
   "cell_type": "code",
   "execution_count": 98,
   "id": "72742917",
   "metadata": {},
   "outputs": [
    {
     "data": {
      "text/plain": [
       "[100]"
      ]
     },
     "execution_count": 98,
     "metadata": {},
     "output_type": "execute_result"
    }
   ],
   "source": [
    "list1"
   ]
  },
  {
   "cell_type": "code",
   "execution_count": 99,
   "id": "58030272",
   "metadata": {},
   "outputs": [
    {
     "data": {
      "text/plain": [
       "[100, 200]"
      ]
     },
     "execution_count": 99,
     "metadata": {},
     "output_type": "execute_result"
    }
   ],
   "source": [
    "list1.append(200)\n",
    "list1  #[100,200]"
   ]
  },
  {
   "cell_type": "code",
   "execution_count": 101,
   "id": "f4deedf5",
   "metadata": {},
   "outputs": [
    {
     "data": {
      "text/plain": [
       "['A', 'B', 'C', 'D', 100]"
      ]
     },
     "execution_count": 101,
     "metadata": {},
     "output_type": "execute_result"
    }
   ],
   "source": [
    "list2=['A','B']\n",
    "list2.append('C')  # shift + tab\n",
    "list2.append('D') \n",
    "list2.append(100)\n",
    "list2"
   ]
  },
  {
   "cell_type": "code",
   "execution_count": 104,
   "id": "18c2efba",
   "metadata": {},
   "outputs": [
    {
     "name": "stdout",
     "output_type": "stream",
     "text": [
      "Hyd\n"
     ]
    }
   ],
   "source": [
    "list3=['Hyd','Mumbai','Nagpur','delhi']\n",
    "for i in list3:\n",
    "    if len(i)<=3:   # len('hyd')  ==== >  number\n",
    "        print(i)"
   ]
  },
  {
   "cell_type": "code",
   "execution_count": 105,
   "id": "cd44e75a",
   "metadata": {},
   "outputs": [
    {
     "name": "stdout",
     "output_type": "stream",
     "text": [
      "['Mumb#ai']\n"
     ]
    }
   ],
   "source": [
    "# will save results\n",
    "list1 = ['Hyd', 'Mumb#ai','Chennai','Surat']\n",
    "res=[]\n",
    "for i in list1:\n",
    "    if '#'in i:\n",
    "        res.append(i)\n",
    "        \n",
    "print(res)"
   ]
  },
  {
   "cell_type": "code",
   "execution_count": 106,
   "id": "52c52fad",
   "metadata": {},
   "outputs": [
    {
     "data": {
      "text/plain": [
       "[100, 200, 300, 400, 2, 4]"
      ]
     },
     "execution_count": 106,
     "metadata": {},
     "output_type": "execute_result"
    }
   ],
   "source": [
    "list1=[100,200,300,400,1,2,3,4]\n",
    "res1=[]\n",
    "for i in list1:\n",
    "    if i%2==0:\n",
    "        res1.append(i)\n",
    "\n",
    "res1"
   ]
  },
  {
   "cell_type": "code",
   "execution_count": 108,
   "id": "357b8cef",
   "metadata": {},
   "outputs": [
    {
     "data": {
      "text/plain": [
       "['Hyd']"
      ]
     },
     "execution_count": 108,
     "metadata": {},
     "output_type": "execute_result"
    }
   ],
   "source": [
    "list3=['Hyd','Mumbai','Nagpur','delhi']\n",
    "res3=[]\n",
    "for i in list3:\n",
    "    if len(i)<=3:   # len('hyd')  ==== >  number\n",
    "        res3.append(i)\n",
    "res3"
   ]
  },
  {
   "cell_type": "markdown",
   "id": "57a1effa",
   "metadata": {},
   "source": [
    "$List$-$Comprehenshion$"
   ]
  },
  {
   "cell_type": "code",
   "execution_count": null,
   "id": "2e134c63",
   "metadata": {},
   "outputs": [],
   "source": [
    "# you can write a list solution in a single line\n",
    "# will save results\n",
    "list1 = ['Hyd', 'Mumb#ai','Chennai','Surat']\n",
    "res=[]\n",
    "for i in list1:\n",
    "    if '#'in i:\n",
    "        res.append(i)\n",
    "        \n",
    "print(res)\n",
    "\n",
    "#########################################################\n",
    "# In order to save the results we intialise an empty list\n",
    "# what ever the solution for loop and if condition\n",
    "# will imlement inside the list\n",
    "# so that there is no append\n",
    "\n",
    "[i for i in list1 if '#' in i]\n",
    "\n",
    "\n"
   ]
  },
  {
   "cell_type": "code",
   "execution_count": 2,
   "id": "2a191601",
   "metadata": {},
   "outputs": [
    {
     "data": {
      "text/plain": [
       "['Mumb#ai']"
      ]
     },
     "execution_count": 2,
     "metadata": {},
     "output_type": "execute_result"
    }
   ],
   "source": [
    "list1 = ['Hyd', 'Mumb#ai','Chennai','Surat']\n",
    "res=[i for i in list1 if '#' in i]\n",
    "res\n",
    "# with one if condition\n",
    "# [<output_variable> <forloop> <ifconditon>]"
   ]
  },
  {
   "cell_type": "code",
   "execution_count": 3,
   "id": "6abc54aa",
   "metadata": {},
   "outputs": [
    {
     "data": {
      "text/plain": [
       "[100, 200, 300, 400, 2, 4]"
      ]
     },
     "execution_count": 3,
     "metadata": {},
     "output_type": "execute_result"
    }
   ],
   "source": [
    "list1=[100,200,300,400,1,2,3,4]\n",
    "res1=[i for i in list1 if i%2==0]\n",
    "res1"
   ]
  },
  {
   "cell_type": "code",
   "execution_count": 4,
   "id": "15496680",
   "metadata": {},
   "outputs": [
    {
     "data": {
      "text/plain": [
       "['Hyd']"
      ]
     },
     "execution_count": 4,
     "metadata": {},
     "output_type": "execute_result"
    }
   ],
   "source": [
    "list3=['Hyd','Mumbai','Nagpur','delhi']\n",
    "res=[i for i in list3 if(len(i)<=3)]\n",
    "res"
   ]
  },
  {
   "cell_type": "code",
   "execution_count": 5,
   "id": "00b5ef9e",
   "metadata": {},
   "outputs": [
    {
     "name": "stdout",
     "output_type": "stream",
     "text": [
      "A\n",
      "B\n",
      "B\n",
      "B\n",
      "B\n",
      "A\n",
      "A\n"
     ]
    }
   ],
   "source": [
    "list4=[100,20,30,40,50,60,70]\n",
    "# if a number > 50 Grade A\n",
    "# else grade B\n",
    "# [A, B, B, B, B, A, A]\n",
    "for i in list4:\n",
    "    if i>50:\n",
    "        print(\"A\")\n",
    "    else:\n",
    "        print(\"B\")"
   ]
  },
  {
   "cell_type": "code",
   "execution_count": 6,
   "id": "dc6f3d6b",
   "metadata": {},
   "outputs": [
    {
     "data": {
      "text/plain": [
       "['A', 'B', 'B', 'B', 'B', 'A', 'A']"
      ]
     },
     "execution_count": 6,
     "metadata": {},
     "output_type": "execute_result"
    }
   ],
   "source": [
    "list4=[100,20,30,40,50,60,70]\n",
    "res4=[]\n",
    "for i in list4:\n",
    "    if i>50:\n",
    "        res4.append(\"A\")\n",
    "    else:\n",
    "        res4.append(\"B\")\n",
    "        \n",
    "res4"
   ]
  },
  {
   "cell_type": "code",
   "execution_count": 7,
   "id": "88da5141",
   "metadata": {},
   "outputs": [
    {
     "data": {
      "text/plain": [
       "['A', 'B', 'B', 'B', 'B', 'A', 'A']"
      ]
     },
     "execution_count": 7,
     "metadata": {},
     "output_type": "execute_result"
    }
   ],
   "source": [
    "list4=[100,20,30,40,50,60,70]\n",
    "res4=[\"A\" if i>50 else \"B\" for i in list4]\n",
    "res4\n",
    "\n",
    "# [<if output> <ifcondition> else <else_op> <forloop>]"
   ]
  },
  {
   "cell_type": "code",
   "execution_count": 8,
   "id": "10435e86",
   "metadata": {},
   "outputs": [
    {
     "data": {
      "text/plain": [
       "['even', 'even', 'even', 'even', 'odd', 'even', 'odd', 'even']"
      ]
     },
     "execution_count": 8,
     "metadata": {},
     "output_type": "execute_result"
    }
   ],
   "source": [
    "list1=[100,200,300,400,1,2,3,4]\n",
    "res1=[]\n",
    "for i in list1:\n",
    "    if i%2==0:\n",
    "        res1.append('even')\n",
    "    else:\n",
    "        res1.append('odd')\n",
    "\n",
    "res1"
   ]
  },
  {
   "cell_type": "code",
   "execution_count": 9,
   "id": "6dbf9846",
   "metadata": {},
   "outputs": [
    {
     "data": {
      "text/plain": [
       "[100, 200, 300, 400, 1, 2, 3, 4]"
      ]
     },
     "execution_count": 9,
     "metadata": {},
     "output_type": "execute_result"
    }
   ],
   "source": [
    "list1"
   ]
  },
  {
   "cell_type": "code",
   "execution_count": 10,
   "id": "18c86834",
   "metadata": {},
   "outputs": [
    {
     "data": {
      "text/plain": [
       "['__add__',\n",
       " '__class__',\n",
       " '__class_getitem__',\n",
       " '__contains__',\n",
       " '__delattr__',\n",
       " '__delitem__',\n",
       " '__dir__',\n",
       " '__doc__',\n",
       " '__eq__',\n",
       " '__format__',\n",
       " '__ge__',\n",
       " '__getattribute__',\n",
       " '__getitem__',\n",
       " '__gt__',\n",
       " '__hash__',\n",
       " '__iadd__',\n",
       " '__imul__',\n",
       " '__init__',\n",
       " '__init_subclass__',\n",
       " '__iter__',\n",
       " '__le__',\n",
       " '__len__',\n",
       " '__lt__',\n",
       " '__mul__',\n",
       " '__ne__',\n",
       " '__new__',\n",
       " '__reduce__',\n",
       " '__reduce_ex__',\n",
       " '__repr__',\n",
       " '__reversed__',\n",
       " '__rmul__',\n",
       " '__setattr__',\n",
       " '__setitem__',\n",
       " '__sizeof__',\n",
       " '__str__',\n",
       " '__subclasshook__',\n",
       " 'append',\n",
       " 'clear',\n",
       " 'copy',\n",
       " 'count',\n",
       " 'extend',\n",
       " 'index',\n",
       " 'insert',\n",
       " 'pop',\n",
       " 'remove',\n",
       " 'reverse',\n",
       " 'sort']"
      ]
     },
     "execution_count": 10,
     "metadata": {},
     "output_type": "execute_result"
    }
   ],
   "source": [
    "dir(list1)"
   ]
  },
  {
   "cell_type": "markdown",
   "id": "4fd39acd",
   "metadata": {},
   "source": [
    "$clear$"
   ]
  },
  {
   "cell_type": "code",
   "execution_count": 11,
   "id": "1809a7e6",
   "metadata": {},
   "outputs": [],
   "source": [
    "list1.clear()"
   ]
  },
  {
   "cell_type": "code",
   "execution_count": 12,
   "id": "51429698",
   "metadata": {},
   "outputs": [
    {
     "data": {
      "text/plain": [
       "[]"
      ]
     },
     "execution_count": 12,
     "metadata": {},
     "output_type": "execute_result"
    }
   ],
   "source": [
    "list1"
   ]
  },
  {
   "cell_type": "code",
   "execution_count": 14,
   "id": "a8d6de10",
   "metadata": {},
   "outputs": [
    {
     "data": {
      "text/plain": [
       "['Hyd', 'Mumbai', 'Nagpur', 'delhi']"
      ]
     },
     "execution_count": 14,
     "metadata": {},
     "output_type": "execute_result"
    }
   ],
   "source": [
    "list3"
   ]
  },
  {
   "cell_type": "markdown",
   "id": "8fed66aa",
   "metadata": {},
   "source": [
    "$pop$-$remove$"
   ]
  },
  {
   "cell_type": "code",
   "execution_count": null,
   "id": "cd8cbdf5",
   "metadata": {},
   "outputs": [],
   "source": [
    "list3.pop()"
   ]
  },
  {
   "cell_type": "code",
   "execution_count": 15,
   "id": "ac84bbf8",
   "metadata": {},
   "outputs": [],
   "source": [
    "list3.remove('delhi')\n",
    "# the results will save in a same list"
   ]
  },
  {
   "cell_type": "code",
   "execution_count": 16,
   "id": "6d7412ce",
   "metadata": {},
   "outputs": [
    {
     "data": {
      "text/plain": [
       "['Hyd', 'Mumbai', 'Nagpur']"
      ]
     },
     "execution_count": 16,
     "metadata": {},
     "output_type": "execute_result"
    }
   ],
   "source": [
    "list3"
   ]
  },
  {
   "cell_type": "code",
   "execution_count": 17,
   "id": "95081686",
   "metadata": {},
   "outputs": [
    {
     "data": {
      "text/plain": [
       "'Nagpur'"
      ]
     },
     "execution_count": 17,
     "metadata": {},
     "output_type": "execute_result"
    }
   ],
   "source": [
    "list3.pop()\n",
    "# pop will take one argument : index\n",
    "# if i not provide the argument: default index value =-1\n",
    "# so it will delete the last value\n",
    "# It will return the value which is deleted"
   ]
  },
  {
   "cell_type": "code",
   "execution_count": 18,
   "id": "955a8758",
   "metadata": {},
   "outputs": [
    {
     "data": {
      "text/plain": [
       "['Hyd', 'Mumbai']"
      ]
     },
     "execution_count": 18,
     "metadata": {},
     "output_type": "execute_result"
    }
   ],
   "source": [
    "list3"
   ]
  },
  {
   "cell_type": "code",
   "execution_count": 19,
   "id": "95c6dbc3",
   "metadata": {},
   "outputs": [
    {
     "data": {
      "text/plain": [
       "[100, 200, 300, 400, 500, 600, 700, 800, 900]"
      ]
     },
     "execution_count": 19,
     "metadata": {},
     "output_type": "execute_result"
    }
   ],
   "source": [
    "list1=[100,200,300,400,500,600,700,800,900]\n",
    "list1"
   ]
  },
  {
   "cell_type": "markdown",
   "id": "bdc9939f",
   "metadata": {},
   "source": [
    "$index$"
   ]
  },
  {
   "cell_type": "code",
   "execution_count": 22,
   "id": "97ae527e",
   "metadata": {},
   "outputs": [
    {
     "data": {
      "text/plain": [
       "400"
      ]
     },
     "execution_count": 22,
     "metadata": {},
     "output_type": "execute_result"
    }
   ],
   "source": [
    "# I want to remove 400 using pop operation\n",
    "# you know index of 400 is 3\n",
    "# index output provided as first occurence\n",
    "index_400=list1.index(400)\n",
    "list1.pop(index_400)"
   ]
  },
  {
   "cell_type": "code",
   "execution_count": 25,
   "id": "5ac93890",
   "metadata": {},
   "outputs": [
    {
     "data": {
      "text/plain": [
       "[100, 200, 300, 500, 600, 700, 800, 900, 400, 400, 500, 400]"
      ]
     },
     "execution_count": 25,
     "metadata": {},
     "output_type": "execute_result"
    }
   ],
   "source": [
    "list1.append(400)\n",
    "list1.append(500)\n",
    "list1.append(400)\n",
    "list1"
   ]
  },
  {
   "cell_type": "code",
   "execution_count": 27,
   "id": "56954ef7",
   "metadata": {},
   "outputs": [
    {
     "name": "stdout",
     "output_type": "stream",
     "text": [
      "first index: 8\n",
      "second index: 9\n",
      "third index: 11\n"
     ]
    },
    {
     "ename": "ValueError",
     "evalue": "400 is not in list",
     "output_type": "error",
     "traceback": [
      "\u001b[1;31m---------------------------------------------------------------------------\u001b[0m",
      "\u001b[1;31mValueError\u001b[0m                                Traceback (most recent call last)",
      "Cell \u001b[1;32mIn [27], line 13\u001b[0m\n\u001b[0;32m     11\u001b[0m \u001b[38;5;28mprint\u001b[39m(\u001b[38;5;124m\"\u001b[39m\u001b[38;5;124mthird index:\u001b[39m\u001b[38;5;124m\"\u001b[39m,third)\n\u001b[0;32m     12\u001b[0m \u001b[38;5;66;03m# Fourth 400\u001b[39;00m\n\u001b[1;32m---> 13\u001b[0m Fourth\u001b[38;5;241m=\u001b[39m\u001b[43mlist1\u001b[49m\u001b[38;5;241;43m.\u001b[39;49m\u001b[43mindex\u001b[49m\u001b[43m(\u001b[49m\u001b[38;5;241;43m400\u001b[39;49m\u001b[43m,\u001b[49m\u001b[43mthird\u001b[49m\u001b[38;5;241;43m+\u001b[39;49m\u001b[38;5;241;43m1\u001b[39;49m\u001b[43m)\u001b[49m\n\u001b[0;32m     14\u001b[0m \u001b[38;5;28mprint\u001b[39m(\u001b[38;5;124m\"\u001b[39m\u001b[38;5;124mthird index:\u001b[39m\u001b[38;5;124m\"\u001b[39m,Fourth)\n",
      "\u001b[1;31mValueError\u001b[0m: 400 is not in list"
     ]
    }
   ],
   "source": [
    "# get me the index of second occurence of 400\n",
    "list1\n",
    "# first you will find index of first 400: 7\n",
    "first=list1.index(400,0)\n",
    "print(\"first index:\",first)\n",
    "# second 400 i can find after 7 only\n",
    "second=list1.index(400,first+1)\n",
    "print(\"second index:\",second)\n",
    "# Thisr 400\n",
    "third=list1.index(400,second+1)\n",
    "print(\"third index:\",third)\n",
    "# Fourth 400\n",
    "Fourth=list1.index(400,third+1)\n",
    "print(\"third index:\",Fourth)"
   ]
  },
  {
   "cell_type": "code",
   "execution_count": 29,
   "id": "f48b07f1",
   "metadata": {},
   "outputs": [
    {
     "name": "stdout",
     "output_type": "stream",
     "text": [
      "0 7 14 -1\n"
     ]
    }
   ],
   "source": [
    "str1='python python pythhon'\n",
    "first=str1.find('p')\n",
    "second=str1.find('p',1+first)\n",
    "third=str1.find('p',1+second)\n",
    "fourh=str1.find('p',1+third)\n",
    "print(first,second,third,fourh)"
   ]
  },
  {
   "cell_type": "code",
   "execution_count": 30,
   "id": "388a686b",
   "metadata": {},
   "outputs": [
    {
     "data": {
      "text/plain": [
       "[100, 200, 300, 500, 600, 700, 800, 900, 400, 400, 500, 400]"
      ]
     },
     "execution_count": 30,
     "metadata": {},
     "output_type": "execute_result"
    }
   ],
   "source": [
    "list1"
   ]
  },
  {
   "cell_type": "code",
   "execution_count": 31,
   "id": "02a265a3",
   "metadata": {
    "scrolled": true
   },
   "outputs": [
    {
     "ename": "IndexError",
     "evalue": "pop index out of range",
     "output_type": "error",
     "traceback": [
      "\u001b[1;31m---------------------------------------------------------------------------\u001b[0m",
      "\u001b[1;31mIndexError\u001b[0m                                Traceback (most recent call last)",
      "Cell \u001b[1;32mIn [31], line 1\u001b[0m\n\u001b[1;32m----> 1\u001b[0m \u001b[43mlist1\u001b[49m\u001b[38;5;241;43m.\u001b[39;49m\u001b[43mpop\u001b[49m\u001b[43m(\u001b[49m\u001b[38;5;241;43m1000\u001b[39;49m\u001b[43m)\u001b[49m\n",
      "\u001b[1;31mIndexError\u001b[0m: pop index out of range"
     ]
    }
   ],
   "source": [
    "list1.pop(1000)"
   ]
  },
  {
   "cell_type": "code",
   "execution_count": 32,
   "id": "55075c75",
   "metadata": {},
   "outputs": [
    {
     "ename": "ValueError",
     "evalue": "list.remove(x): x not in list",
     "output_type": "error",
     "traceback": [
      "\u001b[1;31m---------------------------------------------------------------------------\u001b[0m",
      "\u001b[1;31mValueError\u001b[0m                                Traceback (most recent call last)",
      "Cell \u001b[1;32mIn [32], line 1\u001b[0m\n\u001b[1;32m----> 1\u001b[0m \u001b[43mlist1\u001b[49m\u001b[38;5;241;43m.\u001b[39;49m\u001b[43mremove\u001b[49m\u001b[43m(\u001b[49m\u001b[38;5;241;43m1000\u001b[39;49m\u001b[43m)\u001b[49m\n",
      "\u001b[1;31mValueError\u001b[0m: list.remove(x): x not in list"
     ]
    }
   ],
   "source": [
    "list1.remove(1000)"
   ]
  },
  {
   "cell_type": "code",
   "execution_count": 33,
   "id": "4df1f988",
   "metadata": {},
   "outputs": [
    {
     "ename": "ValueError",
     "evalue": "1000 is not in list",
     "output_type": "error",
     "traceback": [
      "\u001b[1;31m---------------------------------------------------------------------------\u001b[0m",
      "\u001b[1;31mValueError\u001b[0m                                Traceback (most recent call last)",
      "Cell \u001b[1;32mIn [33], line 1\u001b[0m\n\u001b[1;32m----> 1\u001b[0m \u001b[43mlist1\u001b[49m\u001b[38;5;241;43m.\u001b[39;49m\u001b[43mindex\u001b[49m\u001b[43m(\u001b[49m\u001b[38;5;241;43m1000\u001b[39;49m\u001b[43m)\u001b[49m\n",
      "\u001b[1;31mValueError\u001b[0m: 1000 is not in list"
     ]
    }
   ],
   "source": [
    "list1.index(1000)"
   ]
  },
  {
   "cell_type": "markdown",
   "id": "91a7d8b3",
   "metadata": {},
   "source": [
    "$Copy$:"
   ]
  },
  {
   "cell_type": "code",
   "execution_count": 35,
   "id": "26cbe0ce",
   "metadata": {},
   "outputs": [
    {
     "name": "stdout",
     "output_type": "stream",
     "text": [
      "[100, 200, 300, 500, 600, 700, 800, 900, 400, 400, 500, 400]\n",
      "None\n"
     ]
    }
   ],
   "source": [
    "list11=list1.copy()\n",
    "print(list11)\n",
    "print(list1.clear())"
   ]
  },
  {
   "cell_type": "markdown",
   "id": "d52c92b7",
   "metadata": {},
   "source": [
    "$Count$:"
   ]
  },
  {
   "cell_type": "code",
   "execution_count": 37,
   "id": "4261b0dc",
   "metadata": {},
   "outputs": [
    {
     "name": "stdout",
     "output_type": "stream",
     "text": [
      "3\n"
     ]
    }
   ],
   "source": [
    "count=0\n",
    "for i in list11:\n",
    "    if i==400:\n",
    "        count+=1\n",
    "        \n",
    "print(count)"
   ]
  },
  {
   "cell_type": "code",
   "execution_count": 38,
   "id": "89fec148",
   "metadata": {},
   "outputs": [
    {
     "data": {
      "text/plain": [
       "3"
      ]
     },
     "execution_count": 38,
     "metadata": {},
     "output_type": "execute_result"
    }
   ],
   "source": [
    "list11.count(400)"
   ]
  },
  {
   "cell_type": "code",
   "execution_count": 39,
   "id": "9859755f",
   "metadata": {},
   "outputs": [
    {
     "name": "stdout",
     "output_type": "stream",
     "text": [
      "[100, 200, 300, 500, 600, 700, 800, 900, 400, 400, 500, 400]\n",
      "[100, 200, 300, 500, 600, 700, 800, 900, 400, 400, 500, 400]\n"
     ]
    }
   ],
   "source": [
    "list22=list11.copy()\n",
    "list33=list11.copy()\n",
    "print(list22)\n",
    "print(list33)"
   ]
  },
  {
   "cell_type": "code",
   "execution_count": 40,
   "id": "1c3a3267",
   "metadata": {},
   "outputs": [
    {
     "data": {
      "text/plain": [
       "['__add__',\n",
       " '__class__',\n",
       " '__class_getitem__',\n",
       " '__contains__',\n",
       " '__delattr__',\n",
       " '__delitem__',\n",
       " '__dir__',\n",
       " '__doc__',\n",
       " '__eq__',\n",
       " '__format__',\n",
       " '__ge__',\n",
       " '__getattribute__',\n",
       " '__getitem__',\n",
       " '__gt__',\n",
       " '__hash__',\n",
       " '__iadd__',\n",
       " '__imul__',\n",
       " '__init__',\n",
       " '__init_subclass__',\n",
       " '__iter__',\n",
       " '__le__',\n",
       " '__len__',\n",
       " '__lt__',\n",
       " '__mul__',\n",
       " '__ne__',\n",
       " '__new__',\n",
       " '__reduce__',\n",
       " '__reduce_ex__',\n",
       " '__repr__',\n",
       " '__reversed__',\n",
       " '__rmul__',\n",
       " '__setattr__',\n",
       " '__setitem__',\n",
       " '__sizeof__',\n",
       " '__str__',\n",
       " '__subclasshook__',\n",
       " 'append',\n",
       " 'clear',\n",
       " 'copy',\n",
       " 'count',\n",
       " 'extend',\n",
       " 'index',\n",
       " 'insert',\n",
       " 'pop',\n",
       " 'remove',\n",
       " 'reverse',\n",
       " 'sort']"
      ]
     },
     "execution_count": 40,
     "metadata": {},
     "output_type": "execute_result"
    }
   ],
   "source": [
    "dir(list11)"
   ]
  },
  {
   "cell_type": "markdown",
   "id": "312984cf",
   "metadata": {},
   "source": [
    "$Extend$:"
   ]
  },
  {
   "cell_type": "markdown",
   "id": "9b5362ac",
   "metadata": {},
   "source": [
    "- Extend the two lists\n",
    "- take list1 and list2\n",
    "- list1 extended by list2\n",
    "- list1.extend(list2)"
   ]
  },
  {
   "cell_type": "code",
   "execution_count": 41,
   "id": "d4614b84",
   "metadata": {},
   "outputs": [
    {
     "name": "stdout",
     "output_type": "stream",
     "text": [
      "[1, 2, 3, 'A', 'B', 'C']\n",
      "['A', 'B', 'C', 1, 2, 3, 'A', 'B', 'C']\n"
     ]
    }
   ],
   "source": [
    "list1=[1,2,3]\n",
    "list2=['A','B','C']\n",
    "list1.extend(list2) # [1,2,3,'A','B','C']\n",
    "# the ouput will save in list1\n",
    "list2.extend(list1) # ['A','B','C',1,2,3,'A','B','C']\n",
    "# the output will save in list2\n",
    "print(list1)\n",
    "print(list2)"
   ]
  },
  {
   "cell_type": "code",
   "execution_count": 43,
   "id": "019fc78e",
   "metadata": {},
   "outputs": [
    {
     "data": {
      "text/plain": [
       "['A', 'B', 'C', 1, 2, 3]"
      ]
     },
     "execution_count": 43,
     "metadata": {},
     "output_type": "execute_result"
    }
   ],
   "source": [
    "list1=[1,2,3]\n",
    "list2=['A','B','C']\n",
    "list2.extend(list1)\n",
    "list2"
   ]
  },
  {
   "cell_type": "code",
   "execution_count": 44,
   "id": "e891826e",
   "metadata": {},
   "outputs": [
    {
     "data": {
      "text/plain": [
       "[1, 2, 3, 'A', 'B', 'C', 1, 2, 3]"
      ]
     },
     "execution_count": 44,
     "metadata": {},
     "output_type": "execute_result"
    }
   ],
   "source": [
    "list3=list1+list2"
   ]
  },
  {
   "cell_type": "markdown",
   "id": "43f5c338",
   "metadata": {},
   "source": [
    "$Insert$"
   ]
  },
  {
   "cell_type": "code",
   "execution_count": 51,
   "id": "4158435a",
   "metadata": {},
   "outputs": [],
   "source": [
    "list11\n",
    "# At 3rd index we want insert 'APPLE'\n",
    "list11.insert(3,'Apple')"
   ]
  },
  {
   "cell_type": "code",
   "execution_count": 52,
   "id": "8fab308f",
   "metadata": {},
   "outputs": [
    {
     "data": {
      "text/plain": [
       "[100, 200, 300, 'Apple', 500, 600, 700, 800, 900, 400, 400, 500, 400]"
      ]
     },
     "execution_count": 52,
     "metadata": {},
     "output_type": "execute_result"
    }
   ],
   "source": [
    "list11"
   ]
  },
  {
   "cell_type": "code",
   "execution_count": 54,
   "id": "643d9a18",
   "metadata": {},
   "outputs": [
    {
     "data": {
      "text/plain": [
       "[100,\n",
       " 200,\n",
       " 300,\n",
       " 'Apple',\n",
       " ['A', 'B'],\n",
       " 500,\n",
       " 600,\n",
       " 700,\n",
       " 800,\n",
       " 900,\n",
       " 400,\n",
       " 400,\n",
       " 500,\n",
       " 400]"
      ]
     },
     "execution_count": 54,
     "metadata": {},
     "output_type": "execute_result"
    }
   ],
   "source": [
    "list11.insert(4,['A','B'])\n",
    "list11"
   ]
  },
  {
   "cell_type": "markdown",
   "id": "f7fee472",
   "metadata": {},
   "source": [
    "$reverse$"
   ]
  },
  {
   "cell_type": "code",
   "execution_count": 55,
   "id": "6e7289ab",
   "metadata": {},
   "outputs": [
    {
     "data": {
      "text/plain": [
       "[100, 200, 300, 500, 600, 700, 800, 900, 400, 400, 500, 400]"
      ]
     },
     "execution_count": 55,
     "metadata": {},
     "output_type": "execute_result"
    }
   ],
   "source": [
    "list22"
   ]
  },
  {
   "cell_type": "code",
   "execution_count": 56,
   "id": "d689db63",
   "metadata": {},
   "outputs": [],
   "source": [
    "list22.reverse()"
   ]
  },
  {
   "cell_type": "code",
   "execution_count": 57,
   "id": "3fc1a42c",
   "metadata": {},
   "outputs": [
    {
     "data": {
      "text/plain": [
       "[400, 500, 400, 400, 900, 800, 700, 600, 500, 300, 200, 100]"
      ]
     },
     "execution_count": 57,
     "metadata": {},
     "output_type": "execute_result"
    }
   ],
   "source": [
    "list22"
   ]
  },
  {
   "cell_type": "code",
   "execution_count": 58,
   "id": "b87e9aba",
   "metadata": {},
   "outputs": [
    {
     "data": {
      "text/plain": [
       "'nohtyp'"
      ]
     },
     "execution_count": 58,
     "metadata": {},
     "output_type": "execute_result"
    }
   ],
   "source": [
    "string1='python'\n",
    "string1[::-1]"
   ]
  },
  {
   "cell_type": "code",
   "execution_count": 59,
   "id": "b7d0643f",
   "metadata": {},
   "outputs": [
    {
     "data": {
      "text/plain": [
       "200"
      ]
     },
     "execution_count": 59,
     "metadata": {},
     "output_type": "execute_result"
    }
   ],
   "source": [
    "1)list22[2:10:3]     # P\n",
    "2)list22[2:10:-3]    # NP\n",
    "3)list22[2:-10:-3]   # P\n",
    "4)list22[-2:-10:-3]  # P\n",
    "5)list22[-2:10:3]    # P\n",
    "6)list22[-2:10:-3]   # NP\n",
    "7)list22[-2:-10:3]   # NP\n"
   ]
  },
  {
   "cell_type": "code",
   "execution_count": 60,
   "id": "097c4e02",
   "metadata": {},
   "outputs": [
    {
     "data": {
      "text/plain": [
       "[100, 200, 300, 500, 600, 700, 800, 900, 400, 400, 500, 400]"
      ]
     },
     "execution_count": 60,
     "metadata": {},
     "output_type": "execute_result"
    }
   ],
   "source": [
    "list22[::-1]"
   ]
  },
  {
   "cell_type": "markdown",
   "id": "590a50a7",
   "metadata": {},
   "source": [
    "$Sort$"
   ]
  },
  {
   "cell_type": "code",
   "execution_count": 61,
   "id": "f830cac3",
   "metadata": {},
   "outputs": [
    {
     "data": {
      "text/plain": [
       "[100, 200, 300, 400, 400, 400, 500, 500, 600, 700, 800, 900]"
      ]
     },
     "execution_count": 61,
     "metadata": {},
     "output_type": "execute_result"
    }
   ],
   "source": [
    "# Sort providinf order\n",
    "# either ascending or descending\n",
    "# what is default method: ascending\n",
    "# can i provide descending\n",
    "\n",
    "list22.sort()  # default reverse=False ==== > acsending order\n",
    "list22         # results will save in list22"
   ]
  },
  {
   "cell_type": "code",
   "execution_count": 63,
   "id": "ada7ec6c",
   "metadata": {},
   "outputs": [
    {
     "data": {
      "text/plain": [
       "[900, 800, 700, 600, 500, 500, 400, 400, 400, 300, 200, 100]"
      ]
     },
     "execution_count": 63,
     "metadata": {},
     "output_type": "execute_result"
    }
   ],
   "source": [
    "list22.sort(reverse=True) # reverse =True will give descending order\n",
    "list22"
   ]
  },
  {
   "cell_type": "code",
   "execution_count": 64,
   "id": "9e0b5562",
   "metadata": {},
   "outputs": [
    {
     "ename": "TypeError",
     "evalue": "'<' not supported between instances of 'str' and 'int'",
     "output_type": "error",
     "traceback": [
      "\u001b[1;31m---------------------------------------------------------------------------\u001b[0m",
      "\u001b[1;31mTypeError\u001b[0m                                 Traceback (most recent call last)",
      "Cell \u001b[1;32mIn [64], line 2\u001b[0m\n\u001b[0;32m      1\u001b[0m list1\u001b[38;5;241m=\u001b[39m[\u001b[38;5;241m100\u001b[39m,\u001b[38;5;241m500\u001b[39m,\u001b[38;5;241m700\u001b[39m,\u001b[38;5;241m50\u001b[39m,\u001b[38;5;124m'\u001b[39m\u001b[38;5;124mA\u001b[39m\u001b[38;5;124m'\u001b[39m,\u001b[38;5;124m'\u001b[39m\u001b[38;5;124mZ\u001b[39m\u001b[38;5;124m'\u001b[39m,\u001b[38;5;124m'\u001b[39m\u001b[38;5;124ma\u001b[39m\u001b[38;5;124m'\u001b[39m,\u001b[38;5;124m'\u001b[39m\u001b[38;5;124my\u001b[39m\u001b[38;5;124m'\u001b[39m]\n\u001b[1;32m----> 2\u001b[0m \u001b[43mlist1\u001b[49m\u001b[38;5;241;43m.\u001b[39;49m\u001b[43msort\u001b[49m\u001b[43m(\u001b[49m\u001b[43m)\u001b[49m\n",
      "\u001b[1;31mTypeError\u001b[0m: '<' not supported between instances of 'str' and 'int'"
     ]
    }
   ],
   "source": [
    "list1=[100,500,700,50,'A','Z','a','y']\n",
    "list1.sort()"
   ]
  },
  {
   "cell_type": "code",
   "execution_count": 67,
   "id": "f580ef6b",
   "metadata": {},
   "outputs": [
    {
     "data": {
      "text/plain": [
       "[100, 200, 300, 400, 400, 400, 500, 500, 600, 700, 800, 900]"
      ]
     },
     "execution_count": 67,
     "metadata": {},
     "output_type": "execute_result"
    }
   ],
   "source": [
    "sorted(list33)\n",
    "# min()\n",
    "# max()\n",
    "# len()"
   ]
  },
  {
   "cell_type": "code",
   "execution_count": 68,
   "id": "9aec35a3",
   "metadata": {},
   "outputs": [
    {
     "data": {
      "text/plain": [
       "[100, 200, 300, 500, 600, 700, 800, 900, 400, 400, 500, 400]"
      ]
     },
     "execution_count": 68,
     "metadata": {},
     "output_type": "execute_result"
    }
   ],
   "source": [
    "list33"
   ]
  },
  {
   "cell_type": "code",
   "execution_count": null,
   "id": "2055327b",
   "metadata": {},
   "outputs": [],
   "source": [
    "list33.sort()  # the result will save in list33\n",
    "\n",
    "# sorted vs sort\n",
    "# sorted is a key word\n",
    "# sort is a list method\n",
    "# sort will give the flexibility to save the results in variable itslef\n",
    "# but when apply sorted we need to save the results in a new variable"
   ]
  },
  {
   "cell_type": "code",
   "execution_count": 70,
   "id": "36dc6988",
   "metadata": {},
   "outputs": [
    {
     "data": {
      "text/plain": [
       "['hai', 'how', 'are', 'you']"
      ]
     },
     "execution_count": 70,
     "metadata": {},
     "output_type": "execute_result"
    }
   ],
   "source": [
    "string1='hai how are you'\n",
    "res1=string1.split()\n",
    "res1"
   ]
  },
  {
   "cell_type": "code",
   "execution_count": 74,
   "id": "480c249f",
   "metadata": {},
   "outputs": [
    {
     "data": {
      "text/plain": [
       "'hai*how*are*you'"
      ]
     },
     "execution_count": 74,
     "metadata": {},
     "output_type": "execute_result"
    }
   ],
   "source": [
    "# res1 it is list\n",
    "'*'.join(res1)   # res1.join()\n",
    "\n",
    "# sorted()\n",
    "# join()\n",
    "# str.<methods>\n",
    "# list.<methods>"
   ]
  },
  {
   "cell_type": "code",
   "execution_count": 75,
   "id": "d0ba0e19",
   "metadata": {},
   "outputs": [
    {
     "data": {
      "text/plain": [
       "['__add__',\n",
       " '__class__',\n",
       " '__contains__',\n",
       " '__delattr__',\n",
       " '__dir__',\n",
       " '__doc__',\n",
       " '__eq__',\n",
       " '__format__',\n",
       " '__ge__',\n",
       " '__getattribute__',\n",
       " '__getitem__',\n",
       " '__getnewargs__',\n",
       " '__gt__',\n",
       " '__hash__',\n",
       " '__init__',\n",
       " '__init_subclass__',\n",
       " '__iter__',\n",
       " '__le__',\n",
       " '__len__',\n",
       " '__lt__',\n",
       " '__mod__',\n",
       " '__mul__',\n",
       " '__ne__',\n",
       " '__new__',\n",
       " '__reduce__',\n",
       " '__reduce_ex__',\n",
       " '__repr__',\n",
       " '__rmod__',\n",
       " '__rmul__',\n",
       " '__setattr__',\n",
       " '__sizeof__',\n",
       " '__str__',\n",
       " '__subclasshook__',\n",
       " 'capitalize',\n",
       " 'casefold',\n",
       " 'center',\n",
       " 'count',\n",
       " 'encode',\n",
       " 'endswith',\n",
       " 'expandtabs',\n",
       " 'find',\n",
       " 'format',\n",
       " 'format_map',\n",
       " 'index',\n",
       " 'isalnum',\n",
       " 'isalpha',\n",
       " 'isascii',\n",
       " 'isdecimal',\n",
       " 'isdigit',\n",
       " 'isidentifier',\n",
       " 'islower',\n",
       " 'isnumeric',\n",
       " 'isprintable',\n",
       " 'isspace',\n",
       " 'istitle',\n",
       " 'isupper',\n",
       " 'join',\n",
       " 'ljust',\n",
       " 'lower',\n",
       " 'lstrip',\n",
       " 'maketrans',\n",
       " 'partition',\n",
       " 'removeprefix',\n",
       " 'removesuffix',\n",
       " 'replace',\n",
       " 'rfind',\n",
       " 'rindex',\n",
       " 'rjust',\n",
       " 'rpartition',\n",
       " 'rsplit',\n",
       " 'rstrip',\n",
       " 'split',\n",
       " 'splitlines',\n",
       " 'startswith',\n",
       " 'strip',\n",
       " 'swapcase',\n",
       " 'title',\n",
       " 'translate',\n",
       " 'upper',\n",
       " 'zfill']"
      ]
     },
     "execution_count": 75,
     "metadata": {},
     "output_type": "execute_result"
    }
   ],
   "source": [
    "dir('')"
   ]
  },
  {
   "cell_type": "code",
   "execution_count": null,
   "id": "18a957ea",
   "metadata": {},
   "outputs": [],
   "source": [
    "str1.split()"
   ]
  },
  {
   "cell_type": "code",
   "execution_count": null,
   "id": "b0f73a60",
   "metadata": {},
   "outputs": [],
   "source": []
  },
  {
   "cell_type": "code",
   "execution_count": 78,
   "id": "2163e641",
   "metadata": {},
   "outputs": [
    {
     "name": "stdout",
     "output_type": "stream",
     "text": [
      "Ram 25\n",
      "Sita 22\n",
      "laxman 20\n"
     ]
    }
   ],
   "source": [
    "\n",
    "list1=['Ram','Sita','laxman'] # i\n",
    "list2=[25,22,20] #j\n",
    "for i,j in zip(list1,list2):\n",
    "    print(i,j)\n",
    "    \n",
    "# RAM   25\n",
    "# Sita   22\n",
    "# Laxman 20"
   ]
  },
  {
   "cell_type": "code",
   "execution_count": 81,
   "id": "f6be870a",
   "metadata": {},
   "outputs": [
    {
     "data": {
      "text/plain": [
       "[150, 260, 370]"
      ]
     },
     "execution_count": 81,
     "metadata": {},
     "output_type": "execute_result"
    }
   ],
   "source": [
    "list1=[100,200,300]  # i\n",
    "list2=[50,60,70]     #j\n",
    "\n",
    "#list3=[150,260,370]  # i+j\n",
    "\n",
    "# M-1:\n",
    "list3=[]\n",
    "for i,j in zip(list1,list2):\n",
    "    list3.append(i+j)\n",
    "list3"
   ]
  },
  {
   "cell_type": "code",
   "execution_count": 82,
   "id": "41b43f1b",
   "metadata": {},
   "outputs": [
    {
     "data": {
      "text/plain": [
       "[150, 260, 370]"
      ]
     },
     "execution_count": 82,
     "metadata": {},
     "output_type": "execute_result"
    }
   ],
   "source": [
    "# M-2\n",
    "list3=[i+j for i,j in zip(list1,list2)]\n",
    "list3"
   ]
  },
  {
   "cell_type": "code",
   "execution_count": null,
   "id": "dbd7907a",
   "metadata": {},
   "outputs": [],
   "source": []
  },
  {
   "cell_type": "code",
   "execution_count": null,
   "id": "99c0923a",
   "metadata": {},
   "outputs": [],
   "source": []
  },
  {
   "cell_type": "code",
   "execution_count": null,
   "id": "214960fd",
   "metadata": {},
   "outputs": [],
   "source": []
  },
  {
   "cell_type": "code",
   "execution_count": null,
   "id": "4405f465",
   "metadata": {},
   "outputs": [],
   "source": []
  },
  {
   "cell_type": "code",
   "execution_count": null,
   "id": "d3c226e7",
   "metadata": {},
   "outputs": [],
   "source": [
    "# 1. String\n",
    "# 2. Certification\n",
    "# 3. Tommorrow"
   ]
  },
  {
   "cell_type": "code",
   "execution_count": null,
   "id": "b1362cca",
   "metadata": {},
   "outputs": [],
   "source": []
  },
  {
   "cell_type": "code",
   "execution_count": null,
   "id": "a8d8241f",
   "metadata": {},
   "outputs": [],
   "source": []
  },
  {
   "cell_type": "code",
   "execution_count": null,
   "id": "53460381",
   "metadata": {},
   "outputs": [],
   "source": []
  },
  {
   "cell_type": "code",
   "execution_count": null,
   "id": "5e73ebcc",
   "metadata": {},
   "outputs": [],
   "source": []
  },
  {
   "cell_type": "code",
   "execution_count": null,
   "id": "1b06f1f9",
   "metadata": {},
   "outputs": [],
   "source": []
  },
  {
   "cell_type": "code",
   "execution_count": null,
   "id": "06af543d",
   "metadata": {},
   "outputs": [],
   "source": []
  },
  {
   "cell_type": "code",
   "execution_count": null,
   "id": "a31a2128",
   "metadata": {},
   "outputs": [],
   "source": []
  },
  {
   "cell_type": "code",
   "execution_count": null,
   "id": "44a56fed",
   "metadata": {},
   "outputs": [],
   "source": []
  }
 ],
 "metadata": {
  "kernelspec": {
   "display_name": "Python 3 (ipykernel)",
   "language": "python",
   "name": "python3"
  },
  "language_info": {
   "codemirror_mode": {
    "name": "ipython",
    "version": 3
   },
   "file_extension": ".py",
   "mimetype": "text/x-python",
   "name": "python",
   "nbconvert_exporter": "python",
   "pygments_lexer": "ipython3",
   "version": "3.10.9"
  }
 },
 "nbformat": 4,
 "nbformat_minor": 5
}
