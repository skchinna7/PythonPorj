{
 "cells": [
  {
   "cell_type": "markdown",
   "id": "34e5ad76",
   "metadata": {},
   "source": [
    "$Function$"
   ]
  },
  {
   "cell_type": "code",
   "execution_count": null,
   "id": "3331688e",
   "metadata": {},
   "outputs": [],
   "source": [
    "- To re-use the piece of code "
   ]
  },
  {
   "cell_type": "code",
   "execution_count": null,
   "id": "cd21dac6",
   "metadata": {},
   "outputs": [],
   "source": [
    "i want to say heloo to each and every of my student\n",
    "100\n",
    "print(\"Hemanth hello\")\n",
    "print(\"jayesh hello\")\n",
    "print(\"nabila hello\")\n",
    "print(\"bhaskar hello\")  ====== generlised\n",
    "\n",
    "print(x,\"hello\")"
   ]
  },
  {
   "cell_type": "code",
   "execution_count": null,
   "id": "07696391",
   "metadata": {},
   "outputs": [],
   "source": [
    "def <function_name>():\n",
    "    #=======st1\n",
    "    #=======st2"
   ]
  },
  {
   "cell_type": "code",
   "execution_count": 2,
   "id": "3a74ec66",
   "metadata": {},
   "outputs": [
    {
     "name": "stdout",
     "output_type": "stream",
     "text": [
      "the summation of 20 and 30 is 50\n"
     ]
    }
   ],
   "source": [
    "# Normal code\n",
    "a,b=20,30\n",
    "c=a+b\n",
    "print(\"the summation of {} and {} is {}\".format(a,b,c))"
   ]
  },
  {
   "cell_type": "code",
   "execution_count": 3,
   "id": "5d438e1d",
   "metadata": {},
   "outputs": [],
   "source": [
    "def add():\n",
    "    a,b=20,30\n",
    "    c=a+b\n",
    "    print(\"the summation of {} and {} is {}\".format(a,b,c))"
   ]
  },
  {
   "cell_type": "code",
   "execution_count": 4,
   "id": "16e42e01",
   "metadata": {},
   "outputs": [
    {
     "name": "stdout",
     "output_type": "stream",
     "text": [
      "the summation of 20 and 30 is 50\n"
     ]
    }
   ],
   "source": [
    "add()"
   ]
  },
  {
   "cell_type": "code",
   "execution_count": 5,
   "id": "643da4d6",
   "metadata": {},
   "outputs": [
    {
     "name": "stdout",
     "output_type": "stream",
     "text": [
      "enter a:50\n",
      "enter b:60\n",
      "the summation of 50 and 60 is 110\n"
     ]
    }
   ],
   "source": [
    "a=eval(input(\"enter a:\"))\n",
    "b=eval(input(\"enter b:\"))\n",
    "c=a+b\n",
    "print(\"the summation of {} and {} is {}\".format(a,b,c))"
   ]
  },
  {
   "cell_type": "code",
   "execution_count": 6,
   "id": "777bcc1a",
   "metadata": {},
   "outputs": [],
   "source": [
    "def add1():\n",
    "    a=eval(input(\"enter a:\"))\n",
    "    b=eval(input(\"enter b:\"))\n",
    "    c=a+b\n",
    "    print(\"the summation of {} and {} is {}\".format(a,b,c))"
   ]
  },
  {
   "cell_type": "code",
   "execution_count": 7,
   "id": "7644b3f7",
   "metadata": {},
   "outputs": [
    {
     "name": "stdout",
     "output_type": "stream",
     "text": [
      "enter a:50\n",
      "enter b:90\n",
      "the summation of 50 and 90 is 140\n"
     ]
    }
   ],
   "source": [
    "add1()"
   ]
  },
  {
   "cell_type": "code",
   "execution_count": null,
   "id": "d2c99ace",
   "metadata": {},
   "outputs": [],
   "source": [
    "# create a function call with name average\n",
    "# print the average of two numbers\n",
    "\n",
    "# first wtite normal avergae code\n",
    "# then keep that code in a function \n",
    "# next call that function"
   ]
  },
  {
   "cell_type": "code",
   "execution_count": 8,
   "id": "0fff1e55",
   "metadata": {},
   "outputs": [
    {
     "name": "stdout",
     "output_type": "stream",
     "text": [
      "The avergae of 20 and 30 is: 25.0\n"
     ]
    }
   ],
   "source": [
    "# Step-1: will create the function\n",
    "# Step-2: will call the function with function name\n",
    "\n",
    "a,b=20,30\n",
    "avg=(a+b)/2\n",
    "print(\"The avergae of {} and {} is: {}\".format(a,b,avg))"
   ]
  },
  {
   "cell_type": "code",
   "execution_count": 9,
   "id": "f124bfc1",
   "metadata": {},
   "outputs": [],
   "source": [
    "# step-1: define the function\n",
    "def average():  # manager \n",
    "    a,b=20,30\n",
    "    avg=(a+b)/2\n",
    "    print(\"The avergae of {} and {} is: {}\".format(a,b,avg)) "
   ]
  },
  {
   "cell_type": "code",
   "execution_count": 10,
   "id": "0506dce9",
   "metadata": {},
   "outputs": [
    {
     "name": "stdout",
     "output_type": "stream",
     "text": [
      "The avergae of 20 and 30 is: 25.0\n"
     ]
    }
   ],
   "source": [
    "# step-2: call the function\n",
    "average()"
   ]
  },
  {
   "cell_type": "code",
   "execution_count": 11,
   "id": "434ec6c1",
   "metadata": {},
   "outputs": [],
   "source": [
    "def average():  # manager \n",
    "    a,b=20,30\n",
    "    avg=(a+b)/2\n",
    "    print(\"The avergae of {} and {} is: {}\".format(a,b)) "
   ]
  },
  {
   "cell_type": "code",
   "execution_count": 12,
   "id": "c20041f1",
   "metadata": {},
   "outputs": [
    {
     "ename": "IndexError",
     "evalue": "Replacement index 2 out of range for positional args tuple",
     "output_type": "error",
     "traceback": [
      "\u001b[1;31m---------------------------------------------------------------------------\u001b[0m",
      "\u001b[1;31mIndexError\u001b[0m                                Traceback (most recent call last)",
      "Cell \u001b[1;32mIn [12], line 1\u001b[0m\n\u001b[1;32m----> 1\u001b[0m \u001b[43maverage\u001b[49m\u001b[43m(\u001b[49m\u001b[43m)\u001b[49m\n",
      "Cell \u001b[1;32mIn [11], line 4\u001b[0m, in \u001b[0;36maverage\u001b[1;34m()\u001b[0m\n\u001b[0;32m      2\u001b[0m a,b\u001b[38;5;241m=\u001b[39m\u001b[38;5;241m20\u001b[39m,\u001b[38;5;241m30\u001b[39m\n\u001b[0;32m      3\u001b[0m avg\u001b[38;5;241m=\u001b[39m(a\u001b[38;5;241m+\u001b[39mb)\u001b[38;5;241m/\u001b[39m\u001b[38;5;241m2\u001b[39m\n\u001b[1;32m----> 4\u001b[0m \u001b[38;5;28mprint\u001b[39m(\u001b[38;5;124;43m\"\u001b[39;49m\u001b[38;5;124;43mThe avergae of \u001b[39;49m\u001b[38;5;132;43;01m{}\u001b[39;49;00m\u001b[38;5;124;43m and \u001b[39;49m\u001b[38;5;132;43;01m{}\u001b[39;49;00m\u001b[38;5;124;43m is: \u001b[39;49m\u001b[38;5;132;43;01m{}\u001b[39;49;00m\u001b[38;5;124;43m\"\u001b[39;49m\u001b[38;5;241;43m.\u001b[39;49m\u001b[43mformat\u001b[49m\u001b[43m(\u001b[49m\u001b[43ma\u001b[49m\u001b[43m,\u001b[49m\u001b[43mb\u001b[49m\u001b[43m)\u001b[49m)\n",
      "\u001b[1;31mIndexError\u001b[0m: Replacement index 2 out of range for positional args tuple"
     ]
    }
   ],
   "source": [
    "average()"
   ]
  },
  {
   "cell_type": "markdown",
   "id": "a81351c5",
   "metadata": {},
   "source": [
    "$Without$ $Arguments$"
   ]
  },
  {
   "cell_type": "code",
   "execution_count": null,
   "id": "b4000248",
   "metadata": {},
   "outputs": [],
   "source": [
    "# Function with out arguments"
   ]
  },
  {
   "cell_type": "code",
   "execution_count": null,
   "id": "24fc6385",
   "metadata": {},
   "outputs": [],
   "source": [
    "def add1():\n",
    "    a=eval(input(\"enter a:\"))\n",
    "    b=eval(input(\"enter b:\"))\n",
    "    c=a+b\n",
    "    print(\"the summation of {} and {} is {}\".format(a,b,c))\n",
    "    \n",
    "    \n",
    "add1()"
   ]
  },
  {
   "cell_type": "code",
   "execution_count": null,
   "id": "6c11c51d",
   "metadata": {},
   "outputs": [],
   "source": [
    "def add1(num1,num2):\n",
    "    print(num1+num2)\n",
    "    \n",
    "() ====== empty : there is no arguments/parameters\n",
    "(a,b)===== not empty : there are two arguments/parameters"
   ]
  },
  {
   "cell_type": "code",
   "execution_count": 18,
   "id": "802806da",
   "metadata": {},
   "outputs": [
    {
     "name": "stdout",
     "output_type": "stream",
     "text": [
      "the summation of num1 and num2 is: 290\n"
     ]
    }
   ],
   "source": [
    "def add1_with(num1,num2):\n",
    "    print(\"the summation of num1 and num2 is:\",num1+num2)\n",
    "    \n",
    "    \n",
    "add1_with(140,150)  # num1=40  num2=50"
   ]
  },
  {
   "cell_type": "code",
   "execution_count": 19,
   "id": "0b0769f9",
   "metadata": {},
   "outputs": [
    {
     "name": "stdout",
     "output_type": "stream",
     "text": [
      "the summation of num1 and num2 is: 290\n"
     ]
    }
   ],
   "source": [
    "def add1_without():\n",
    "    num1=140\n",
    "    num2=150\n",
    "    print(\"the summation of num1 and num2 is:\",num1+num2)\n",
    "    \n",
    "    \n",
    "add1_without()  "
   ]
  },
  {
   "cell_type": "code",
   "execution_count": 20,
   "id": "8010e1d5",
   "metadata": {},
   "outputs": [],
   "source": [
    "def add1_with(num1,num2):\n",
    "    print(\"the summation of num1 and num2 is:\",num1+num2)"
   ]
  },
  {
   "cell_type": "code",
   "execution_count": 23,
   "id": "e4595419",
   "metadata": {},
   "outputs": [
    {
     "name": "stdout",
     "output_type": "stream",
     "text": [
      "the summation of num1 and num2 is: 50\n"
     ]
    }
   ],
   "source": [
    "add1_with(30,20)"
   ]
  },
  {
   "cell_type": "code",
   "execution_count": null,
   "id": "80091ce2",
   "metadata": {},
   "outputs": [],
   "source": [
    "# make avge code into with arguments\n",
    "\n",
    "def average():  # manager \n",
    "    a,b=20,30\n",
    "    avg=(a+b)/2\n",
    "    print(\"The avergae of {} and {} is: {}\".format(a,b))\n",
    "    \n",
    "# how many variable are there in original code\n",
    "# a,b,avg ====== > a and b"
   ]
  },
  {
   "cell_type": "code",
   "execution_count": 24,
   "id": "dce5f025",
   "metadata": {},
   "outputs": [],
   "source": [
    "def average_with(a,b):\n",
    "    avg=(a+b)/2\n",
    "    print(\"the average is:\",avg)"
   ]
  },
  {
   "cell_type": "code",
   "execution_count": 26,
   "id": "e85c4450",
   "metadata": {},
   "outputs": [
    {
     "name": "stdout",
     "output_type": "stream",
     "text": [
      "the average is: 60.0\n"
     ]
    }
   ],
   "source": [
    "average_with(100,20)   # a=10   b=20"
   ]
  },
  {
   "cell_type": "code",
   "execution_count": 27,
   "id": "eaac9a1c",
   "metadata": {},
   "outputs": [],
   "source": [
    "def greet(name):\n",
    "    print(\"{} hello\".format(name))\n",
    "    "
   ]
  },
  {
   "cell_type": "code",
   "execution_count": 31,
   "id": "ca106554",
   "metadata": {},
   "outputs": [
    {
     "name": "stdout",
     "output_type": "stream",
     "text": [
      "akshay hello\n"
     ]
    }
   ],
   "source": [
    "greet(\"akshay\")"
   ]
  },
  {
   "cell_type": "code",
   "execution_count": null,
   "id": "4153f32e",
   "metadata": {},
   "outputs": [],
   "source": [
    "# you can implemnt all 15 codes in functions \n",
    "\n",
    "- normal avg\n",
    "\n",
    "- try-ecept\n",
    "\n",
    "- with arguments\n",
    "\n",
    "- with out arguments"
   ]
  }
 ],
 "metadata": {
  "kernelspec": {
   "display_name": "Python 3 (ipykernel)",
   "language": "python",
   "name": "python3"
  },
  "language_info": {
   "codemirror_mode": {
    "name": "ipython",
    "version": 3
   },
   "file_extension": ".py",
   "mimetype": "text/x-python",
   "name": "python",
   "nbconvert_exporter": "python",
   "pygments_lexer": "ipython3",
   "version": "3.10.9"
  }
 },
 "nbformat": 4,
 "nbformat_minor": 5
}
