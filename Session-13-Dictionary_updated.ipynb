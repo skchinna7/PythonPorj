{
 "cells": [
  {
   "cell_type": "code",
   "execution_count": null,
   "id": "370dc408",
   "metadata": {},
   "outputs": [],
   "source": [
    "- certification\n",
    "\n",
    "- tuples\n",
    "\n",
    "- assignment on strings\n",
    "\n",
    "\n",
    "- assignment on list"
   ]
  },
  {
   "cell_type": "code",
   "execution_count": null,
   "id": "57e786cc",
   "metadata": {},
   "outputs": [],
   "source": [
    "string=''  or \"\"\n",
    "list1= []\n",
    "tuple1=()\n",
    "dictionary = {}"
   ]
  },
  {
   "cell_type": "code",
   "execution_count": 1,
   "id": "151c9fb6",
   "metadata": {},
   "outputs": [],
   "source": [
    "list1=['Ram','Sita','Laxman']\n",
    "list2=[25,22,20]\n",
    "\n",
    "# Ram age is 25\n",
    "# sita age is 22\n",
    "# laxman age is 20"
   ]
  },
  {
   "cell_type": "code",
   "execution_count": 3,
   "id": "8fa193ab",
   "metadata": {},
   "outputs": [
    {
     "name": "stdout",
     "output_type": "stream",
     "text": [
      "Ram age is 25\n",
      "Sita age is 22\n",
      "Laxman age is 20\n"
     ]
    }
   ],
   "source": [
    "for name,age in zip(list1,list2):\n",
    "    print(\"{} age is {}\".format(name,age))"
   ]
  },
  {
   "cell_type": "markdown",
   "id": "23d07350",
   "metadata": {},
   "source": [
    "dict1={\"Ram\":25,\"Sita\":22,\"Laxman\":20}\n",
    "\n",
    "- represent in curly braces\n",
    "\n",
    "- key-value pair\n",
    "\n",
    "- keys: Ram,Sita and Laxman\n",
    "    \n",
    "- values: 25,22 and 20"
   ]
  },
  {
   "cell_type": "code",
   "execution_count": 9,
   "id": "f5d98576",
   "metadata": {},
   "outputs": [],
   "source": [
    "dict1={\"A\":65,\"B\":66,\"C\":67}\n",
    "dict2={\"Apple\":\"Fruite\",\"Cat\":\"animal\"}\n",
    "dict3={\"items\":[\"sofa\",\"mobile\",\"tv\"]}\n",
    "dict4={\"A\":65,\n",
    "       \"items\":[\"radio\"],\n",
    "       65:\"A\",\n",
    "       \"A\":75}\n"
   ]
  },
  {
   "cell_type": "code",
   "execution_count": 10,
   "id": "c7321ce9",
   "metadata": {},
   "outputs": [
    {
     "data": {
      "text/plain": [
       "{'A': 75, 'items': ['radio'], 65: 'A'}"
      ]
     },
     "execution_count": 10,
     "metadata": {},
     "output_type": "execute_result"
    }
   ],
   "source": [
    "dict4"
   ]
  },
  {
   "cell_type": "markdown",
   "id": "9de3fab1",
   "metadata": {},
   "source": [
    "- dictionary with key:value pair\n",
    "\n",
    "- key can be string or a number\n",
    "\n",
    "- value can be string ,number , list ,tuple,dict\n",
    "\n",
    "- duplicates are not allowed\n",
    "\n",
    "- latest value of a key will be updated"
   ]
  },
  {
   "cell_type": "markdown",
   "id": "6ee06f8d",
   "metadata": {},
   "source": [
    "- type\n",
    "\n",
    "- len\n",
    "\n",
    "- max\n",
    "\n",
    "- min"
   ]
  },
  {
   "cell_type": "code",
   "execution_count": 11,
   "id": "059f97f1",
   "metadata": {},
   "outputs": [
    {
     "data": {
      "text/plain": [
       "dict"
      ]
     },
     "execution_count": 11,
     "metadata": {},
     "output_type": "execute_result"
    }
   ],
   "source": [
    "dict1={\"A\":65,\n",
    "       \"B\":66,\n",
    "       \"C\":67}\n",
    "type(dict1)"
   ]
  },
  {
   "cell_type": "code",
   "execution_count": null,
   "id": "f7463de2",
   "metadata": {},
   "outputs": [],
   "source": [
    "int   float  str  list  dict  tuple "
   ]
  },
  {
   "cell_type": "code",
   "execution_count": 12,
   "id": "4a5be46c",
   "metadata": {},
   "outputs": [
    {
     "data": {
      "text/plain": [
       "3"
      ]
     },
     "execution_count": 12,
     "metadata": {},
     "output_type": "execute_result"
    }
   ],
   "source": [
    "len(dict1)"
   ]
  },
  {
   "cell_type": "code",
   "execution_count": 14,
   "id": "1f9eefca",
   "metadata": {},
   "outputs": [
    {
     "data": {
      "text/html": [
       "<div>\n",
       "<style scoped>\n",
       "    .dataframe tbody tr th:only-of-type {\n",
       "        vertical-align: middle;\n",
       "    }\n",
       "\n",
       "    .dataframe tbody tr th {\n",
       "        vertical-align: top;\n",
       "    }\n",
       "\n",
       "    .dataframe thead th {\n",
       "        text-align: right;\n",
       "    }\n",
       "</style>\n",
       "<table border=\"1\" class=\"dataframe\">\n",
       "  <thead>\n",
       "    <tr style=\"text-align: right;\">\n",
       "      <th></th>\n",
       "      <th>Name</th>\n",
       "      <th>Age</th>\n",
       "    </tr>\n",
       "  </thead>\n",
       "  <tbody>\n",
       "    <tr>\n",
       "      <th>0</th>\n",
       "      <td>Ram</td>\n",
       "      <td>25</td>\n",
       "    </tr>\n",
       "    <tr>\n",
       "      <th>1</th>\n",
       "      <td>Sita</td>\n",
       "      <td>22</td>\n",
       "    </tr>\n",
       "    <tr>\n",
       "      <th>2</th>\n",
       "      <td>Laxman</td>\n",
       "      <td>20</td>\n",
       "    </tr>\n",
       "  </tbody>\n",
       "</table>\n",
       "</div>"
      ],
      "text/plain": [
       "     Name  Age\n",
       "0     Ram   25\n",
       "1    Sita   22\n",
       "2  Laxman   20"
      ]
     },
     "execution_count": 14,
     "metadata": {},
     "output_type": "execute_result"
    }
   ],
   "source": [
    "dict1={\"Name\":[\"Ram\",\"Sita\",\"Laxman\"],\n",
    "      \"Age\":[25,22,20]}\n",
    "\n",
    "import pandas as pd   # EDA \n",
    "pd.DataFrame(dict1)"
   ]
  },
  {
   "cell_type": "code",
   "execution_count": 15,
   "id": "555f55e2",
   "metadata": {},
   "outputs": [
    {
     "data": {
      "text/plain": [
       "'A'"
      ]
     },
     "execution_count": 15,
     "metadata": {},
     "output_type": "execute_result"
    }
   ],
   "source": [
    "dict1={\"A\":65,\n",
    "       \"B\":66,\n",
    "       \"C\":67}\n",
    "\n",
    "\n",
    "min(dict1)"
   ]
  },
  {
   "cell_type": "code",
   "execution_count": 16,
   "id": "b57bace6",
   "metadata": {},
   "outputs": [
    {
     "data": {
      "text/plain": [
       "'Age'"
      ]
     },
     "execution_count": 16,
     "metadata": {},
     "output_type": "execute_result"
    }
   ],
   "source": [
    "dict2={\"Name\":[\"Ram\",\"Sita\",\"Laxman\"],\n",
    "      \"Age\":[25,22,20]}\n",
    "min(dict2)"
   ]
  },
  {
   "cell_type": "code",
   "execution_count": 24,
   "id": "aa944584",
   "metadata": {},
   "outputs": [
    {
     "ename": "TypeError",
     "evalue": "'<' not supported between instances of 'str' and 'int'",
     "output_type": "error",
     "traceback": [
      "\u001b[1;31m---------------------------------------------------------------------------\u001b[0m",
      "\u001b[1;31mTypeError\u001b[0m                                 Traceback (most recent call last)",
      "Cell \u001b[1;32mIn [24], line 3\u001b[0m\n\u001b[0;32m      1\u001b[0m dict3\u001b[38;5;241m=\u001b[39m{\u001b[38;5;241m97\u001b[39m:\u001b[38;5;124m\"\u001b[39m\u001b[38;5;124mb\u001b[39m\u001b[38;5;124m\"\u001b[39m,\n\u001b[0;32m      2\u001b[0m       \u001b[38;5;124m\"\u001b[39m\u001b[38;5;124mAge\u001b[39m\u001b[38;5;124m\"\u001b[39m:\u001b[38;5;124m\"\u001b[39m\u001b[38;5;124ma\u001b[39m\u001b[38;5;124m\"\u001b[39m}\n\u001b[1;32m----> 3\u001b[0m \u001b[38;5;28;43mmin\u001b[39;49m\u001b[43m(\u001b[49m\u001b[43mdict3\u001b[49m\u001b[43m)\u001b[49m\n\u001b[0;32m      4\u001b[0m \u001b[38;5;66;03m# Compare only keys\u001b[39;00m\n",
      "\u001b[1;31mTypeError\u001b[0m: '<' not supported between instances of 'str' and 'int'"
     ]
    }
   ],
   "source": [
    "dict3={97:\"b\",\n",
    "      \"Age\":\"a\"}\n",
    "min(dict3)\n",
    "# Compare only keys \n",
    "# 97 : int\n",
    "# \"Age\": str\n",
    "\n",
    "# int and str not able to compare"
   ]
  },
  {
   "cell_type": "code",
   "execution_count": 25,
   "id": "4cd9581d",
   "metadata": {},
   "outputs": [
    {
     "ename": "TypeError",
     "evalue": "unsupported operand type(s) for +: 'dict' and 'dict'",
     "output_type": "error",
     "traceback": [
      "\u001b[1;31m---------------------------------------------------------------------------\u001b[0m",
      "\u001b[1;31mTypeError\u001b[0m                                 Traceback (most recent call last)",
      "Cell \u001b[1;32mIn [25], line 3\u001b[0m\n\u001b[0;32m      1\u001b[0m dict1\u001b[38;5;241m=\u001b[39m{\u001b[38;5;124m\"\u001b[39m\u001b[38;5;124mA\u001b[39m\u001b[38;5;124m\"\u001b[39m:\u001b[38;5;241m65\u001b[39m,\u001b[38;5;124m\"\u001b[39m\u001b[38;5;124mB\u001b[39m\u001b[38;5;124m\"\u001b[39m:\u001b[38;5;241m66\u001b[39m,\u001b[38;5;124m\"\u001b[39m\u001b[38;5;124mC\u001b[39m\u001b[38;5;124m\"\u001b[39m:\u001b[38;5;241m67\u001b[39m}\n\u001b[0;32m      2\u001b[0m dict2\u001b[38;5;241m=\u001b[39m{\u001b[38;5;124m\"\u001b[39m\u001b[38;5;124ma\u001b[39m\u001b[38;5;124m\"\u001b[39m:\u001b[38;5;241m97\u001b[39m,\u001b[38;5;124m\"\u001b[39m\u001b[38;5;124mb\u001b[39m\u001b[38;5;124m\"\u001b[39m:\u001b[38;5;241m98\u001b[39m,\u001b[38;5;124m\"\u001b[39m\u001b[38;5;124mc\u001b[39m\u001b[38;5;124m\"\u001b[39m:\u001b[38;5;241m99\u001b[39m}\n\u001b[1;32m----> 3\u001b[0m \u001b[43mdict1\u001b[49m\u001b[38;5;241;43m+\u001b[39;49m\u001b[43mdict2\u001b[49m\n",
      "\u001b[1;31mTypeError\u001b[0m: unsupported operand type(s) for +: 'dict' and 'dict'"
     ]
    }
   ],
   "source": [
    "dict1={\"A\":65,\"B\":66,\"C\":67}\n",
    "dict2={\"a\":97,\"b\":98,\"c\":99}\n",
    "dict1+dict2"
   ]
  },
  {
   "cell_type": "markdown",
   "id": "5bcd2eaf",
   "metadata": {},
   "source": [
    "- dictionary with key:value pair\n",
    "\n",
    "- key can be string or a number\n",
    "\n",
    "- value can be string ,number , list ,tuple,dict\n",
    "\n",
    "- duplicates are not allowed\n",
    "\n",
    "- latest value of a key will be updated\n",
    "\n",
    "- min and max on keys only\n",
    "\n",
    "- dictionary concatenation not possible"
   ]
  },
  {
   "cell_type": "code",
   "execution_count": null,
   "id": "878818ac",
   "metadata": {},
   "outputs": [],
   "source": [
    "str1=\"python\"\n",
    "list1=[\"p\",\"y\",\"t\"]\n",
    "tuple1=(\"p\",\"y\",\"t\")\n",
    "dict1={key:value}"
   ]
  },
  {
   "cell_type": "markdown",
   "id": "98b4746b",
   "metadata": {},
   "source": [
    "$index$"
   ]
  },
  {
   "cell_type": "code",
   "execution_count": 26,
   "id": "48ff3808",
   "metadata": {},
   "outputs": [
    {
     "ename": "KeyError",
     "evalue": "0",
     "output_type": "error",
     "traceback": [
      "\u001b[1;31m---------------------------------------------------------------------------\u001b[0m",
      "\u001b[1;31mKeyError\u001b[0m                                  Traceback (most recent call last)",
      "Cell \u001b[1;32mIn [26], line 2\u001b[0m\n\u001b[0;32m      1\u001b[0m dict1\u001b[38;5;241m=\u001b[39m{\u001b[38;5;124m\"\u001b[39m\u001b[38;5;124mA\u001b[39m\u001b[38;5;124m\"\u001b[39m:\u001b[38;5;241m65\u001b[39m,\u001b[38;5;124m\"\u001b[39m\u001b[38;5;124mB\u001b[39m\u001b[38;5;124m\"\u001b[39m:\u001b[38;5;241m66\u001b[39m,\u001b[38;5;124m\"\u001b[39m\u001b[38;5;124mC\u001b[39m\u001b[38;5;124m\"\u001b[39m:\u001b[38;5;241m67\u001b[39m}\n\u001b[1;32m----> 2\u001b[0m \u001b[43mdict1\u001b[49m\u001b[43m[\u001b[49m\u001b[38;5;241;43m0\u001b[39;49m\u001b[43m]\u001b[49m\n",
      "\u001b[1;31mKeyError\u001b[0m: 0"
     ]
    }
   ],
   "source": [
    "dict1={\"A\":65,\"B\":66,\"C\":67}\n",
    "dict1[0]"
   ]
  },
  {
   "cell_type": "markdown",
   "id": "0095fb80",
   "metadata": {},
   "source": [
    "**we need to retrive the value by using corresponding key only**"
   ]
  },
  {
   "cell_type": "code",
   "execution_count": 28,
   "id": "e0d99eac",
   "metadata": {},
   "outputs": [
    {
     "data": {
      "text/plain": [
       "66"
      ]
     },
     "execution_count": 28,
     "metadata": {},
     "output_type": "execute_result"
    }
   ],
   "source": [
    "dict1={\"A\":65,\"B\":66,\"C\":67}\n",
    "dict1['B']"
   ]
  },
  {
   "cell_type": "code",
   "execution_count": 33,
   "id": "acac3ba9",
   "metadata": {},
   "outputs": [
    {
     "data": {
      "text/plain": [
       "66"
      ]
     },
     "execution_count": 33,
     "metadata": {},
     "output_type": "execute_result"
    }
   ],
   "source": [
    "dict1={\"A\":65,\"B\":[66,96,106],\"C\":67}\n",
    "l1=dict1['B']\n",
    "l1[0]"
   ]
  },
  {
   "cell_type": "code",
   "execution_count": 32,
   "id": "03b152e2",
   "metadata": {},
   "outputs": [
    {
     "data": {
      "text/plain": [
       "66"
      ]
     },
     "execution_count": 32,
     "metadata": {},
     "output_type": "execute_result"
    }
   ],
   "source": [
    "l1[0]"
   ]
  },
  {
   "cell_type": "code",
   "execution_count": 35,
   "id": "959b61df",
   "metadata": {},
   "outputs": [
    {
     "data": {
      "text/plain": [
       "96"
      ]
     },
     "execution_count": 35,
     "metadata": {},
     "output_type": "execute_result"
    }
   ],
   "source": [
    "dict1={\"A\":65,\"B\":[66,96,106],\"C\":67}\n",
    "dict1['B'][1]\n",
    "\n",
    "# step-1: you need retrive the keys first\n",
    "# step-2: if the value is list ==== > apply list operations\n",
    "#         if the value is string === > string operations"
   ]
  },
  {
   "cell_type": "code",
   "execution_count": 37,
   "id": "f30300d2",
   "metadata": {},
   "outputs": [
    {
     "data": {
      "text/plain": [
       "98"
      ]
     },
     "execution_count": 37,
     "metadata": {},
     "output_type": "execute_result"
    }
   ],
   "source": [
    "dict1={\"A\":65,\n",
    "       \"B\":{\"ascii\":98},\n",
    "       \"C\":67}\n",
    "\n",
    "# retrive 98\n",
    "# step-1: first retrive B value\n",
    "dict1[\"B\"][\"ascii\"]"
   ]
  },
  {
   "cell_type": "code",
   "execution_count": 38,
   "id": "e59861bd",
   "metadata": {},
   "outputs": [
    {
     "data": {
      "text/plain": [
       "56000"
      ]
     },
     "execution_count": 38,
     "metadata": {},
     "output_type": "execute_result"
    }
   ],
   "source": [
    "dict1={\"employee\": { \"name\":\"sonoo\",\"salary\":56000,\"married\":True}} \n",
    "dict1[\"employee\"][\"salary\"]"
   ]
  },
  {
   "cell_type": "code",
   "execution_count": 39,
   "id": "ee48b4fb",
   "metadata": {},
   "outputs": [
    {
     "name": "stdout",
     "output_type": "stream",
     "text": [
      "A\n",
      "B\n",
      "C\n"
     ]
    }
   ],
   "source": [
    "dict1={\"A\":65,\"B\":66,\"C\":67}\n",
    "for i in dict1:\n",
    "    print(i)\n",
    "    \n",
    "# here i means only keys"
   ]
  },
  {
   "cell_type": "code",
   "execution_count": 40,
   "id": "759b402e",
   "metadata": {},
   "outputs": [
    {
     "name": "stdout",
     "output_type": "stream",
     "text": [
      "65\n",
      "66\n",
      "67\n"
     ]
    }
   ],
   "source": [
    "dict1={\"A\":65,\"B\":66,\"C\":67}\n",
    "for i in dict1:\n",
    "    print(dict1[i])   # dict1[\"A\"]   dict1[\"B\"]   dict1[\"A\"]\n",
    "    \n",
    "# how to retrive values using keys"
   ]
  },
  {
   "cell_type": "code",
   "execution_count": 42,
   "id": "e529efe6",
   "metadata": {},
   "outputs": [
    {
     "data": {
      "text/plain": [
       "{}"
      ]
     },
     "execution_count": 42,
     "metadata": {},
     "output_type": "execute_result"
    }
   ],
   "source": [
    "dict1={}\n",
    "dict1"
   ]
  },
  {
   "cell_type": "code",
   "execution_count": 43,
   "id": "4221ae81",
   "metadata": {},
   "outputs": [
    {
     "data": {
      "text/plain": [
       "{'Apple': 'fruite'}"
      ]
     },
     "execution_count": 43,
     "metadata": {},
     "output_type": "execute_result"
    }
   ],
   "source": [
    "dict1[\"Apple\"]=\"fruite\"\n",
    "dict1"
   ]
  },
  {
   "cell_type": "code",
   "execution_count": 47,
   "id": "e5046bf0",
   "metadata": {},
   "outputs": [
    {
     "data": {
      "text/plain": [
       "{'A': 100, 'B': 200, 'C': 300}"
      ]
     },
     "execution_count": 47,
     "metadata": {},
     "output_type": "execute_result"
    }
   ],
   "source": [
    "dict2={}\n",
    "dict2[\"A\"]=100\n",
    "dict2[\"B\"]=200\n",
    "dict2[\"C\"]=300\n",
    "dict2"
   ]
  },
  {
   "cell_type": "code",
   "execution_count": 48,
   "id": "c11bba40",
   "metadata": {},
   "outputs": [
    {
     "data": {
      "text/plain": [
       "{'A': 1000, 'B': 200, 'C': 300}"
      ]
     },
     "execution_count": 48,
     "metadata": {},
     "output_type": "execute_result"
    }
   ],
   "source": [
    "dict2[\"A\"]=1000\n",
    "dict2"
   ]
  },
  {
   "cell_type": "markdown",
   "id": "ad555006",
   "metadata": {},
   "source": [
    "- strings and tuple immutable\n",
    "\n",
    "- list and dictionary are mutable\n",
    "\n"
   ]
  },
  {
   "cell_type": "code",
   "execution_count": null,
   "id": "81f6d2b1",
   "metadata": {},
   "outputs": [],
   "source": [
    "#strings   list   tuple   dictionary\n",
    "#imm        m      imm     m"
   ]
  },
  {
   "cell_type": "code",
   "execution_count": null,
   "id": "9427d5ff",
   "metadata": {},
   "outputs": [],
   "source": [
    "# ask the user enter 5 numbers\n",
    "# perform even and odd operations\n",
    "# your output\n",
    "# 20  22\n",
    "\n",
    "# {\"even\":[20,22],\"odd\":[19,18,17]}\n",
    "\n",
    "# step-1: take a empty dictionary\n",
    "# step-2: two empty lists ,even_list,odd_list\n",
    "# step-3: num=ask the user how many numbers you wants to take\n",
    "# step-4: for i in range(num)\n",
    "# step-5: ask the user enter a value\n",
    "# step-6: if condition even\n",
    "# step-7: append evenlist\n",
    "# step-8: the update the dictionary\n",
    "# step-9: else condition\n",
    "# step-10: step-7 and 8"
   ]
  },
  {
   "cell_type": "code",
   "execution_count": 49,
   "id": "03016ff1",
   "metadata": {},
   "outputs": [
    {
     "name": "stdout",
     "output_type": "stream",
     "text": [
      "how many you want to enter:5\n",
      "enter the number:1\n",
      "enter the number:2\n",
      "enter the number:3\n",
      "enter the number:4\n",
      "enter the number:5\n"
     ]
    },
    {
     "data": {
      "text/plain": [
       "{'odd': [1, 3, 5], 'even': [2, 4]}"
      ]
     },
     "execution_count": 49,
     "metadata": {},
     "output_type": "execute_result"
    }
   ],
   "source": [
    "dict1={}\n",
    "even_list,odd_list=[],[]\n",
    "num=eval(input(\"how many you want to enter:\"))\n",
    "for i in range(num):\n",
    "    val=eval(input(\"enter the number:\"))\n",
    "    if val%2==0:\n",
    "        even_list.append(val)\n",
    "        dict1[\"even\"]=even_list\n",
    "        \n",
    "    else:\n",
    "        odd_list.append(val)\n",
    "        dict1[\"odd\"]=odd_list\n",
    "        \n",
    "dict1"
   ]
  },
  {
   "cell_type": "code",
   "execution_count": 50,
   "id": "074ff711",
   "metadata": {},
   "outputs": [
    {
     "data": {
      "text/plain": [
       "['__class__',\n",
       " '__class_getitem__',\n",
       " '__contains__',\n",
       " '__delattr__',\n",
       " '__delitem__',\n",
       " '__dir__',\n",
       " '__doc__',\n",
       " '__eq__',\n",
       " '__format__',\n",
       " '__ge__',\n",
       " '__getattribute__',\n",
       " '__getitem__',\n",
       " '__gt__',\n",
       " '__hash__',\n",
       " '__init__',\n",
       " '__init_subclass__',\n",
       " '__ior__',\n",
       " '__iter__',\n",
       " '__le__',\n",
       " '__len__',\n",
       " '__lt__',\n",
       " '__ne__',\n",
       " '__new__',\n",
       " '__or__',\n",
       " '__reduce__',\n",
       " '__reduce_ex__',\n",
       " '__repr__',\n",
       " '__reversed__',\n",
       " '__ror__',\n",
       " '__setattr__',\n",
       " '__setitem__',\n",
       " '__sizeof__',\n",
       " '__str__',\n",
       " '__subclasshook__',\n",
       " 'clear',\n",
       " 'copy',\n",
       " 'fromkeys',\n",
       " 'get',\n",
       " 'items',\n",
       " 'keys',\n",
       " 'pop',\n",
       " 'popitem',\n",
       " 'setdefault',\n",
       " 'update',\n",
       " 'values']"
      ]
     },
     "execution_count": 50,
     "metadata": {},
     "output_type": "execute_result"
    }
   ],
   "source": [
    "dir({})"
   ]
  },
  {
   "cell_type": "markdown",
   "id": "fc05b36c",
   "metadata": {},
   "source": [
    "$items$-$values$-$keys$"
   ]
  },
  {
   "cell_type": "code",
   "execution_count": 51,
   "id": "b49449a0",
   "metadata": {},
   "outputs": [
    {
     "data": {
      "text/plain": [
       "{'A': 65, 'B': 66, 'C': 67}"
      ]
     },
     "execution_count": 51,
     "metadata": {},
     "output_type": "execute_result"
    }
   ],
   "source": [
    "dict1={\"A\":65,\"B\":66,\"C\":67}\n",
    "dict1"
   ]
  },
  {
   "cell_type": "code",
   "execution_count": 52,
   "id": "e114f9c4",
   "metadata": {},
   "outputs": [
    {
     "data": {
      "text/plain": [
       "dict_items([('A', 65), ('B', 66), ('C', 67)])"
      ]
     },
     "execution_count": 52,
     "metadata": {},
     "output_type": "execute_result"
    }
   ],
   "source": [
    "dict1.items()"
   ]
  },
  {
   "cell_type": "code",
   "execution_count": 53,
   "id": "a7e88227",
   "metadata": {},
   "outputs": [
    {
     "data": {
      "text/plain": [
       "dict_values([65, 66, 67])"
      ]
     },
     "execution_count": 53,
     "metadata": {},
     "output_type": "execute_result"
    }
   ],
   "source": [
    "dict1.values()"
   ]
  },
  {
   "cell_type": "code",
   "execution_count": 54,
   "id": "c66b2e95",
   "metadata": {},
   "outputs": [
    {
     "data": {
      "text/plain": [
       "dict_keys(['A', 'B', 'C'])"
      ]
     },
     "execution_count": 54,
     "metadata": {},
     "output_type": "execute_result"
    }
   ],
   "source": [
    "dict1.keys()"
   ]
  },
  {
   "cell_type": "code",
   "execution_count": 55,
   "id": "6503f741",
   "metadata": {},
   "outputs": [
    {
     "data": {
      "text/plain": [
       "dict_items"
      ]
     },
     "execution_count": 55,
     "metadata": {},
     "output_type": "execute_result"
    }
   ],
   "source": [
    "type(dict1.items())"
   ]
  },
  {
   "cell_type": "code",
   "execution_count": 56,
   "id": "3ba459c9",
   "metadata": {},
   "outputs": [
    {
     "ename": "TypeError",
     "evalue": "'dict_items' object is not subscriptable",
     "output_type": "error",
     "traceback": [
      "\u001b[1;31m---------------------------------------------------------------------------\u001b[0m",
      "\u001b[1;31mTypeError\u001b[0m                                 Traceback (most recent call last)",
      "Cell \u001b[1;32mIn [56], line 1\u001b[0m\n\u001b[1;32m----> 1\u001b[0m \u001b[43mdict1\u001b[49m\u001b[38;5;241;43m.\u001b[39;49m\u001b[43mitems\u001b[49m\u001b[43m(\u001b[49m\u001b[43m)\u001b[49m\u001b[43m[\u001b[49m\u001b[38;5;241;43m0\u001b[39;49m\u001b[43m]\u001b[49m\n",
      "\u001b[1;31mTypeError\u001b[0m: 'dict_items' object is not subscriptable"
     ]
    }
   ],
   "source": [
    "dict1.items()[0]"
   ]
  },
  {
   "cell_type": "code",
   "execution_count": 57,
   "id": "fb3e1a70",
   "metadata": {},
   "outputs": [
    {
     "data": {
      "text/plain": [
       "[('A', 65), ('B', 66), ('C', 67)]"
      ]
     },
     "execution_count": 57,
     "metadata": {},
     "output_type": "execute_result"
    }
   ],
   "source": [
    "items=list(dict1.items())\n",
    "items"
   ]
  },
  {
   "cell_type": "code",
   "execution_count": 61,
   "id": "0f6e200f",
   "metadata": {},
   "outputs": [
    {
     "name": "stdout",
     "output_type": "stream",
     "text": [
      "[('A', 65), ('B', 66), ('C', 67)]\n",
      "<class 'list'>\n"
     ]
    }
   ],
   "source": [
    "dict1={\"A\":65,\"B\":66,\"C\":67}\n",
    "dict1.items()  # type of dict_items\n",
    "# we are converting dict_items to list type\n",
    "items=list(dict1.items())\n",
    "print(items)\n",
    "print(type(items))"
   ]
  },
  {
   "cell_type": "code",
   "execution_count": 65,
   "id": "29cf1906",
   "metadata": {},
   "outputs": [
    {
     "name": "stdout",
     "output_type": "stream",
     "text": [
      "('A', 65)\n",
      "('B', 66)\n",
      "('C', 67)\n"
     ]
    }
   ],
   "source": [
    "for i in items:\n",
    "    print(i)"
   ]
  },
  {
   "cell_type": "code",
   "execution_count": 62,
   "id": "d7dc5f20",
   "metadata": {},
   "outputs": [
    {
     "name": "stdout",
     "output_type": "stream",
     "text": [
      "20\n",
      "30\n"
     ]
    }
   ],
   "source": [
    "a,b=20,30\n",
    "print(a)\n",
    "print(b)"
   ]
  },
  {
   "cell_type": "code",
   "execution_count": 63,
   "id": "3cf67545",
   "metadata": {},
   "outputs": [
    {
     "data": {
      "text/plain": [
       "(20, 30)"
      ]
     },
     "execution_count": 63,
     "metadata": {},
     "output_type": "execute_result"
    }
   ],
   "source": [
    "a=20,30\n",
    "a"
   ]
  },
  {
   "cell_type": "code",
   "execution_count": 66,
   "id": "b9b04286",
   "metadata": {},
   "outputs": [
    {
     "name": "stdout",
     "output_type": "stream",
     "text": [
      "A 65\n",
      "B 66\n",
      "C 67\n"
     ]
    }
   ],
   "source": [
    "for i in items:\n",
    "    print(i)\n",
    "    \n",
    "    \n",
    "for i,j in items:\n",
    "    print(i,j)"
   ]
  },
  {
   "cell_type": "code",
   "execution_count": null,
   "id": "214607fe",
   "metadata": {},
   "outputs": [],
   "source": [
    "dict1={\"A\":65,\"B\":66,\"C\":67}\n",
    "dict1.items()  # type of dict_items                          dict_items([('A', 65), ('B', 66), ('C', 67)])\n",
    "# we are converting dict_items to list type\n",
    "items=list(dict1.items())\n",
    "print(items)                                         #      [('A', 65), ('B', 66), ('C', 67)]\n",
    "print(type(items))\n",
    "\n",
    "for i in items:\n",
    "    print(i)                                       # ('A', 65), ('B', 66), ('C', 67)\n",
    "    \n",
    "for i,j in items:\n",
    "    print(i,j)                                    # i=A j=65   i=B  j=66    i=C  j=67"
   ]
  },
  {
   "cell_type": "code",
   "execution_count": 68,
   "id": "f12e5f61",
   "metadata": {},
   "outputs": [
    {
     "name": "stdout",
     "output_type": "stream",
     "text": [
      "A 65\n",
      "B 66\n",
      "C 67\n"
     ]
    }
   ],
   "source": [
    "for i,j in dict1.items():\n",
    "    print(i,j)"
   ]
  },
  {
   "cell_type": "code",
   "execution_count": 70,
   "id": "5ed3d713",
   "metadata": {},
   "outputs": [
    {
     "name": "stdout",
     "output_type": "stream",
     "text": [
      "Ram age is 25\n",
      "Sita age is 22\n",
      "Laxman age is 20\n"
     ]
    }
   ],
   "source": [
    "dict1={\"Ram\":25,\"Sita\":22,\"Laxman\":20}\n",
    "# Ram age is 25\n",
    "for i,j in dict1.items():\n",
    "    print(\"{} age is {}\".format(i,j))"
   ]
  },
  {
   "cell_type": "code",
   "execution_count": 72,
   "id": "315ff034",
   "metadata": {},
   "outputs": [
    {
     "name": "stdout",
     "output_type": "stream",
     "text": [
      "Ram 25\n",
      "Sita 22\n",
      "Laxman 20\n"
     ]
    }
   ],
   "source": [
    "dict1={\"Ram\":25,\"Sita\":22,\"Laxman\":20}\n",
    "# Ram age is 25\n",
    "for i in dict1:\n",
    "    print(i,dict1[i])  # i= Ram Sita  Laxman dict1['ram']=25"
   ]
  },
  {
   "cell_type": "code",
   "execution_count": null,
   "id": "e13adc95",
   "metadata": {},
   "outputs": [],
   "source": []
  },
  {
   "cell_type": "code",
   "execution_count": 2,
   "id": "58d2c069",
   "metadata": {},
   "outputs": [
    {
     "data": {
      "text/plain": [
       "{'Ram': 25, 'Sita': 22, 'Laxman': 20}"
      ]
     },
     "execution_count": 2,
     "metadata": {},
     "output_type": "execute_result"
    }
   ],
   "source": [
    "dict1={\"Ram\":25,\"Sita\":22,\"Laxman\":20}\n",
    "dict1"
   ]
  },
  {
   "cell_type": "code",
   "execution_count": 3,
   "id": "dc79410f",
   "metadata": {},
   "outputs": [
    {
     "data": {
      "text/plain": [
       "['__class__',\n",
       " '__class_getitem__',\n",
       " '__contains__',\n",
       " '__delattr__',\n",
       " '__delitem__',\n",
       " '__dir__',\n",
       " '__doc__',\n",
       " '__eq__',\n",
       " '__format__',\n",
       " '__ge__',\n",
       " '__getattribute__',\n",
       " '__getitem__',\n",
       " '__gt__',\n",
       " '__hash__',\n",
       " '__init__',\n",
       " '__init_subclass__',\n",
       " '__ior__',\n",
       " '__iter__',\n",
       " '__le__',\n",
       " '__len__',\n",
       " '__lt__',\n",
       " '__ne__',\n",
       " '__new__',\n",
       " '__or__',\n",
       " '__reduce__',\n",
       " '__reduce_ex__',\n",
       " '__repr__',\n",
       " '__reversed__',\n",
       " '__ror__',\n",
       " '__setattr__',\n",
       " '__setitem__',\n",
       " '__sizeof__',\n",
       " '__str__',\n",
       " '__subclasshook__',\n",
       " 'clear',\n",
       " 'copy',\n",
       " 'fromkeys',\n",
       " 'get',\n",
       " 'items',\n",
       " 'keys',\n",
       " 'pop',\n",
       " 'popitem',\n",
       " 'setdefault',\n",
       " 'update',\n",
       " 'values']"
      ]
     },
     "execution_count": 3,
     "metadata": {},
     "output_type": "execute_result"
    }
   ],
   "source": [
    "dir(dict1)"
   ]
  },
  {
   "cell_type": "code",
   "execution_count": 5,
   "id": "aa8191ab",
   "metadata": {},
   "outputs": [
    {
     "name": "stdout",
     "output_type": "stream",
     "text": [
      "{'Ram': 25, 'Sita': 22, 'Laxman': 20}\n",
      "{}\n"
     ]
    }
   ],
   "source": [
    "# take an another dictionary dict2\n",
    "# fisrt copy of dict1 items in dict2\n",
    "# then clear the items of dict1\n",
    "dict2=dict1.copy()\n",
    "print(dict2)\n",
    "dict1.clear()\n",
    "print(dict1)"
   ]
  },
  {
   "cell_type": "markdown",
   "id": "718e84dd",
   "metadata": {},
   "source": [
    "$pop$-$popitem$-$del$"
   ]
  },
  {
   "cell_type": "code",
   "execution_count": 6,
   "id": "424b5ae1",
   "metadata": {},
   "outputs": [
    {
     "data": {
      "text/plain": [
       "{'Ram': 25, 'Sita': 22, 'Laxman': 20}"
      ]
     },
     "execution_count": 6,
     "metadata": {},
     "output_type": "execute_result"
    }
   ],
   "source": [
    "dict2"
   ]
  },
  {
   "cell_type": "code",
   "execution_count": 7,
   "id": "5a468d86",
   "metadata": {},
   "outputs": [
    {
     "data": {
      "text/plain": [
       "20"
      ]
     },
     "execution_count": 7,
     "metadata": {},
     "output_type": "execute_result"
    }
   ],
   "source": [
    "#pop\n",
    "dict2.pop('Laxman')\n",
    "# input as a key which you want to remove/delete\n",
    "# output is the value of corresponding which"
   ]
  },
  {
   "cell_type": "code",
   "execution_count": 8,
   "id": "e9d13b2d",
   "metadata": {},
   "outputs": [
    {
     "data": {
      "text/plain": [
       "{'Ram': 25, 'Sita': 22}"
      ]
     },
     "execution_count": 8,
     "metadata": {},
     "output_type": "execute_result"
    }
   ],
   "source": [
    "dict2"
   ]
  },
  {
   "cell_type": "code",
   "execution_count": 9,
   "id": "b4f26747",
   "metadata": {},
   "outputs": [],
   "source": [
    "dict2['Krsihna']=30\n",
    "dict2['Ramesh']=35\n",
    "dict2['Suresh']=40"
   ]
  },
  {
   "cell_type": "code",
   "execution_count": 10,
   "id": "6e5a0993",
   "metadata": {},
   "outputs": [
    {
     "data": {
      "text/plain": [
       "{'Ram': 25, 'Sita': 22, 'Krsihna': 30, 'Ramesh': 35, 'Suresh': 40}"
      ]
     },
     "execution_count": 10,
     "metadata": {},
     "output_type": "execute_result"
    }
   ],
   "source": [
    "dict2"
   ]
  },
  {
   "cell_type": "code",
   "execution_count": 11,
   "id": "1f73d9c1",
   "metadata": {},
   "outputs": [
    {
     "data": {
      "text/plain": [
       "('Suresh', 40)"
      ]
     },
     "execution_count": 11,
     "metadata": {},
     "output_type": "execute_result"
    }
   ],
   "source": [
    "dict2.popitem()"
   ]
  },
  {
   "cell_type": "code",
   "execution_count": 13,
   "id": "b661b93b",
   "metadata": {},
   "outputs": [
    {
     "data": {
      "text/plain": [
       "('Ramesh', 35)"
      ]
     },
     "execution_count": 13,
     "metadata": {},
     "output_type": "execute_result"
    }
   ],
   "source": [
    "dict2.popitem()"
   ]
  },
  {
   "cell_type": "code",
   "execution_count": 14,
   "id": "4d18f921",
   "metadata": {},
   "outputs": [
    {
     "data": {
      "text/plain": [
       "{'Ram': 25, 'Sita': 22, 'Krsihna': 30}"
      ]
     },
     "execution_count": 14,
     "metadata": {},
     "output_type": "execute_result"
    }
   ],
   "source": [
    "dict2"
   ]
  },
  {
   "cell_type": "code",
   "execution_count": 16,
   "id": "f9c71c4b",
   "metadata": {},
   "outputs": [],
   "source": [
    "del dict2['Krsihna']  # pop"
   ]
  },
  {
   "cell_type": "code",
   "execution_count": 17,
   "id": "e5c02add",
   "metadata": {},
   "outputs": [
    {
     "data": {
      "text/plain": [
       "{'Ram': 25, 'Sita': 22}"
      ]
     },
     "execution_count": 17,
     "metadata": {},
     "output_type": "execute_result"
    }
   ],
   "source": [
    "dict2"
   ]
  },
  {
   "cell_type": "code",
   "execution_count": null,
   "id": "8db49738",
   "metadata": {},
   "outputs": [],
   "source": [
    "#items-values-keys\n",
    "#pop-popitem-del"
   ]
  },
  {
   "cell_type": "code",
   "execution_count": null,
   "id": "4732ec80",
   "metadata": {},
   "outputs": [],
   "source": [
    "# every one try what get method will do"
   ]
  },
  {
   "cell_type": "markdown",
   "id": "77c18a37",
   "metadata": {},
   "source": [
    "$get$"
   ]
  },
  {
   "cell_type": "code",
   "execution_count": 18,
   "id": "210f5b51",
   "metadata": {},
   "outputs": [],
   "source": [
    "dict2['Krsihna']=30\n",
    "dict2['Ramesh']=35\n",
    "dict2['Suresh']=40"
   ]
  },
  {
   "cell_type": "code",
   "execution_count": 19,
   "id": "d312059b",
   "metadata": {},
   "outputs": [
    {
     "data": {
      "text/plain": [
       "{'Ram': 25, 'Sita': 22, 'Krsihna': 30, 'Ramesh': 35, 'Suresh': 40}"
      ]
     },
     "execution_count": 19,
     "metadata": {},
     "output_type": "execute_result"
    }
   ],
   "source": [
    "dict2"
   ]
  },
  {
   "cell_type": "code",
   "execution_count": 21,
   "id": "55b45bd1",
   "metadata": {},
   "outputs": [
    {
     "data": {
      "text/plain": [
       "22"
      ]
     },
     "execution_count": 21,
     "metadata": {},
     "output_type": "execute_result"
    }
   ],
   "source": [
    "dict2.get('Sita')"
   ]
  },
  {
   "cell_type": "code",
   "execution_count": 24,
   "id": "42c216a0",
   "metadata": {},
   "outputs": [
    {
     "data": {
      "text/plain": [
       "22"
      ]
     },
     "execution_count": 24,
     "metadata": {},
     "output_type": "execute_result"
    }
   ],
   "source": [
    "dict2.get('Sita',26)  # you will not get error"
   ]
  },
  {
   "cell_type": "code",
   "execution_count": 25,
   "id": "4cbd8793",
   "metadata": {},
   "outputs": [
    {
     "data": {
      "text/plain": [
       "22"
      ]
     },
     "execution_count": 25,
     "metadata": {},
     "output_type": "execute_result"
    }
   ],
   "source": [
    "dict2['Sita']"
   ]
  },
  {
   "cell_type": "markdown",
   "id": "7d72f8a0",
   "metadata": {},
   "source": [
    "$set-as-default$"
   ]
  },
  {
   "cell_type": "code",
   "execution_count": 26,
   "id": "80effa17",
   "metadata": {},
   "outputs": [
    {
     "data": {
      "text/plain": [
       "{'Ram': 25, 'Sita': 22, 'Krsihna': 30, 'Ramesh': 35, 'Suresh': 40}"
      ]
     },
     "execution_count": 26,
     "metadata": {},
     "output_type": "execute_result"
    }
   ],
   "source": [
    "dict2"
   ]
  },
  {
   "cell_type": "code",
   "execution_count": 27,
   "id": "efeb1449",
   "metadata": {},
   "outputs": [
    {
     "data": {
      "text/plain": [
       "{'Ram': 25,\n",
       " 'Sita': 22,\n",
       " 'Krsihna': 30,\n",
       " 'Ramesh': 35,\n",
       " 'Suresh': 40,\n",
       " 'Laxman': 26}"
      ]
     },
     "execution_count": 27,
     "metadata": {},
     "output_type": "execute_result"
    }
   ],
   "source": [
    "dict2['Laxman']=26\n",
    "dict2"
   ]
  },
  {
   "cell_type": "code",
   "execution_count": 28,
   "id": "ea55a06c",
   "metadata": {},
   "outputs": [
    {
     "data": {
      "text/plain": [
       "{'Ram': 25,\n",
       " 'Sita': 22,\n",
       " 'Krsihna': 30,\n",
       " 'Ramesh': 35,\n",
       " 'Suresh': 40,\n",
       " 'Laxman': 26,\n",
       " 'Bunny': None}"
      ]
     },
     "execution_count": 28,
     "metadata": {},
     "output_type": "execute_result"
    }
   ],
   "source": [
    "dict2.setdefault('Bunny')\n",
    "dict2"
   ]
  },
  {
   "cell_type": "code",
   "execution_count": 29,
   "id": "cbc35929",
   "metadata": {},
   "outputs": [
    {
     "data": {
      "text/plain": [
       "{'Ram': 25,\n",
       " 'Sita': 22,\n",
       " 'Krsihna': 30,\n",
       " 'Ramesh': 35,\n",
       " 'Suresh': 40,\n",
       " 'Laxman': 26,\n",
       " 'Bunny': None,\n",
       " 'chinni': 35}"
      ]
     },
     "execution_count": 29,
     "metadata": {},
     "output_type": "execute_result"
    }
   ],
   "source": [
    "dict2.setdefault(\"chinni\",35)\n",
    "dict2"
   ]
  },
  {
   "cell_type": "code",
   "execution_count": 30,
   "id": "fd8646ba",
   "metadata": {
    "scrolled": true
   },
   "outputs": [
    {
     "data": {
      "text/plain": [
       "{'Ram': 25,\n",
       " 'Sita': 22,\n",
       " 'Krsihna': 30,\n",
       " 'Ramesh': 35,\n",
       " 'Suresh': 40,\n",
       " 'Laxman': 26,\n",
       " 'Bunny': None,\n",
       " 'chinni': 35}"
      ]
     },
     "execution_count": 30,
     "metadata": {},
     "output_type": "execute_result"
    }
   ],
   "source": [
    "dict2.setdefault('Ram',50)\n",
    "dict2\n",
    "\n",
    "# previous key-value pairs will not modify\n",
    "# if a key is not there, it will insert that key with provided value\n",
    "# if not provide the value , the default value is None"
   ]
  },
  {
   "cell_type": "code",
   "execution_count": 31,
   "id": "d29d0293",
   "metadata": {},
   "outputs": [
    {
     "data": {
      "text/plain": [
       "{'Ram': 25,\n",
       " 'Sita': 22,\n",
       " 'Krsihna': 30,\n",
       " 'Ramesh': 35,\n",
       " 'Suresh': 40,\n",
       " 'Laxman': 26,\n",
       " 'Bunny': 10,\n",
       " 'chinni': 35}"
      ]
     },
     "execution_count": 31,
     "metadata": {},
     "output_type": "execute_result"
    }
   ],
   "source": [
    "dict2['Bunny']=10\n",
    "dict2"
   ]
  },
  {
   "cell_type": "code",
   "execution_count": null,
   "id": "571aee54",
   "metadata": {},
   "outputs": [],
   "source": [
    "dict2.setdefault('Bunny') # ===== Bunny: None\n",
    "dict2.setdefault('chinni',35) # ==== chinni: 35\n",
    "dict2.setdefault('Bunny',22) # alreday attach with None  Bunny: None\n",
    "dict2['Bunny']=22      # Bunny: 22"
   ]
  },
  {
   "cell_type": "code",
   "execution_count": null,
   "id": "80c6a516",
   "metadata": {},
   "outputs": [],
   "source": []
  },
  {
   "cell_type": "markdown",
   "id": "874e8521",
   "metadata": {},
   "source": [
    "$fromkeys$"
   ]
  },
  {
   "cell_type": "code",
   "execution_count": 32,
   "id": "9cda19d4",
   "metadata": {},
   "outputs": [
    {
     "data": {
      "text/plain": [
       "{'Ram': 25,\n",
       " 'Sita': 22,\n",
       " 'Krsihna': 30,\n",
       " 'Ramesh': 35,\n",
       " 'Suresh': 40,\n",
       " 'Laxman': 26,\n",
       " 'Bunny': 10,\n",
       " 'chinni': 35,\n",
       " 'bittu': None}"
      ]
     },
     "execution_count": 32,
     "metadata": {},
     "output_type": "execute_result"
    }
   ],
   "source": [
    "dict2.setdefault(\"bittu\")\n",
    "dict2"
   ]
  },
  {
   "cell_type": "code",
   "execution_count": 34,
   "id": "37524ee1",
   "metadata": {},
   "outputs": [
    {
     "data": {
      "text/plain": [
       "{'b': 25, 'i': 25, 't': 25, 'u': 25}"
      ]
     },
     "execution_count": 34,
     "metadata": {},
     "output_type": "execute_result"
    }
   ],
   "source": [
    "dict2.fromkeys('bittu',25)"
   ]
  },
  {
   "cell_type": "code",
   "execution_count": 36,
   "id": "60cbe669",
   "metadata": {},
   "outputs": [
    {
     "data": {
      "text/plain": [
       "{2: 'even', 4: 'even', 6: 'even', 8: 'even'}"
      ]
     },
     "execution_count": 36,
     "metadata": {},
     "output_type": "execute_result"
    }
   ],
   "source": [
    "dict3={}\n",
    "list1=[2,4,6,8]\n",
    "dict3.fromkeys(list1,'even')"
   ]
  },
  {
   "cell_type": "code",
   "execution_count": 37,
   "id": "a62f960e",
   "metadata": {},
   "outputs": [
    {
     "data": {
      "text/plain": [
       "{'apple': 'fruits', 'banana': 'fruits', 'cherry': 'fruits'}"
      ]
     },
     "execution_count": 37,
     "metadata": {},
     "output_type": "execute_result"
    }
   ],
   "source": [
    "tuple1=('apple','banana','cherry')\n",
    "dict4={}\n",
    "dict4.fromkeys(tuple1,'fruits')\n",
    "\n",
    "# providing value to the some list/tuple items\n",
    "# list can be iterable\n",
    "# tuple can be iterable\n",
    "# string also can be iterable"
   ]
  },
  {
   "cell_type": "code",
   "execution_count": 39,
   "id": "b184f5c0",
   "metadata": {},
   "outputs": [
    {
     "name": "stdout",
     "output_type": "stream",
     "text": [
      "1\n",
      "4\n",
      "9\n",
      "16\n"
     ]
    }
   ],
   "source": [
    "list1=[1,2,3,4]\n",
    "# iterate through loop and find the square of the number\n",
    "for i in list1:\n",
    "    print(i*i)"
   ]
  },
  {
   "cell_type": "code",
   "execution_count": 40,
   "id": "9f05ba92",
   "metadata": {},
   "outputs": [
    {
     "data": {
      "text/plain": [
       "{'e': [2, 4, 6, 8], 'v': [2, 4, 6, 8], 'n': [2, 4, 6, 8]}"
      ]
     },
     "execution_count": 40,
     "metadata": {},
     "output_type": "execute_result"
    }
   ],
   "source": [
    "tuple1=('even')\n",
    "dict4={}\n",
    "dict4.fromkeys(tuple1,[2,4,6,8])"
   ]
  },
  {
   "cell_type": "code",
   "execution_count": 41,
   "id": "b75cfe7c",
   "metadata": {},
   "outputs": [
    {
     "name": "stdout",
     "output_type": "stream",
     "text": [
      "e\n",
      "v\n",
      "e\n",
      "n\n"
     ]
    }
   ],
   "source": [
    "for i in tuple1:\n",
    "    print(i)"
   ]
  },
  {
   "cell_type": "markdown",
   "id": "3038475c",
   "metadata": {},
   "source": [
    "$update$"
   ]
  },
  {
   "cell_type": "code",
   "execution_count": 42,
   "id": "4e673a43",
   "metadata": {},
   "outputs": [
    {
     "data": {
      "text/plain": [
       "[1, 2, 3, 'a', 'b', 'c']"
      ]
     },
     "execution_count": 42,
     "metadata": {},
     "output_type": "execute_result"
    }
   ],
   "source": [
    "list1=[1,2,3]\n",
    "list2=['a','b','c']\n",
    "list1.extend(list2)\n",
    "list1"
   ]
  },
  {
   "cell_type": "code",
   "execution_count": 43,
   "id": "609deb08",
   "metadata": {},
   "outputs": [
    {
     "data": {
      "text/plain": [
       "{'A': 65, 'B': 66, 'C': 67, 'a': 97, 'b': 98, 'c': 99}"
      ]
     },
     "execution_count": 43,
     "metadata": {},
     "output_type": "execute_result"
    }
   ],
   "source": [
    "dict1={\"A\":65,\"B\":66,\"C\":67}\n",
    "dict2={\"a\":97,\"b\":98,\"c\":99}\n",
    "dict1.update(dict2)\n",
    "dict1"
   ]
  },
  {
   "cell_type": "code",
   "execution_count": 48,
   "id": "add0ea4c",
   "metadata": {},
   "outputs": [
    {
     "data": {
      "text/plain": [
       "{2: 'even',\n",
       " 4: 'even',\n",
       " 6: 'even',\n",
       " 8: 'even',\n",
       " 10: 'even',\n",
       " 12: 'even',\n",
       " 14: 'even',\n",
       " 16: 'even',\n",
       " 18: 'even'}"
      ]
     },
     "execution_count": 48,
     "metadata": {},
     "output_type": "execute_result"
    }
   ],
   "source": [
    "dict1={}\n",
    "for i in range(1,20):\n",
    "    if i%2==0:\n",
    "        dict1[i]='even'  \n",
    "               \n",
    "# step-1: i=1     False\n",
    "# step-2:  i=2    True    dict1[1]='even'     {1:'even'}\n",
    "\n",
    "dict1"
   ]
  },
  {
   "cell_type": "code",
   "execution_count": 58,
   "id": "da01404c",
   "metadata": {},
   "outputs": [
    {
     "data": {
      "text/plain": [
       "{2: 'even',\n",
       " 4: 'even',\n",
       " 6: 'even',\n",
       " 8: 'even',\n",
       " 10: 'even',\n",
       " 12: 'even',\n",
       " 14: 'even',\n",
       " 16: 'even',\n",
       " 18: 'even'}"
      ]
     },
     "execution_count": 58,
     "metadata": {},
     "output_type": "execute_result"
    }
   ],
   "source": [
    "dict1={}\n",
    "for i in range(1,20):\n",
    "    if i%2==0:\n",
    "        dict1.update({i:'even'})  \n",
    " \n",
    "dict1"
   ]
  },
  {
   "cell_type": "code",
   "execution_count": 54,
   "id": "663b3c51",
   "metadata": {},
   "outputs": [],
   "source": [
    "dict1={2: 'even'}\n",
    "dict2={4: 'even'}\n",
    "dict3={6: 'even'}"
   ]
  },
  {
   "cell_type": "code",
   "execution_count": 55,
   "id": "a31362ed",
   "metadata": {},
   "outputs": [
    {
     "data": {
      "text/plain": [
       "{2: 'even', 4: 'even'}"
      ]
     },
     "execution_count": 55,
     "metadata": {},
     "output_type": "execute_result"
    }
   ],
   "source": [
    "dict1.update(dict2)\n",
    "dict1"
   ]
  },
  {
   "cell_type": "code",
   "execution_count": 56,
   "id": "24d6819f",
   "metadata": {},
   "outputs": [],
   "source": [
    "dict1.update(dict3)"
   ]
  },
  {
   "cell_type": "code",
   "execution_count": 57,
   "id": "6e9ca701",
   "metadata": {},
   "outputs": [
    {
     "data": {
      "text/plain": [
       "{2: 'even', 4: 'even', 6: 'even'}"
      ]
     },
     "execution_count": 57,
     "metadata": {},
     "output_type": "execute_result"
    }
   ],
   "source": [
    "dict1"
   ]
  },
  {
   "cell_type": "code",
   "execution_count": null,
   "id": "4f14efe5",
   "metadata": {},
   "outputs": [],
   "source": [
    "dict1.update(dict2)\n",
    "dict1.update(dict3)\n",
    "dict1.update(dict4)\n",
    "dict1.update({key:vaue})"
   ]
  },
  {
   "cell_type": "code",
   "execution_count": null,
   "id": "ee6f4baf",
   "metadata": {},
   "outputs": [],
   "source": []
  },
  {
   "cell_type": "code",
   "execution_count": 52,
   "id": "0e0c1016",
   "metadata": {},
   "outputs": [
    {
     "data": {
      "text/plain": [
       "'even'"
      ]
     },
     "execution_count": 52,
     "metadata": {},
     "output_type": "execute_result"
    }
   ],
   "source": []
  },
  {
   "cell_type": "code",
   "execution_count": null,
   "id": "76d3b45f",
   "metadata": {},
   "outputs": [],
   "source": [
    "dict1={}\n",
    "even_list,odd_list=[],[]\n",
    "num=eval(input(\"how many you want to enter:\"))\n",
    "for i in range(num):\n",
    "    val=eval(input(\"enter the number:\"))\n",
    "    if val%2==0:\n",
    "        even_list.append(val)\n",
    "        dict1[\"even\"]=even_list\n",
    "        \n",
    "    else:\n",
    "        odd_list.append(val)\n",
    "        dict1[\"odd\"]=odd_list\n",
    "        \n",
    "dict1"
   ]
  },
  {
   "cell_type": "code",
   "execution_count": null,
   "id": "03ad3aa6",
   "metadata": {},
   "outputs": [],
   "source": [
    "dict1={}\n",
    "for i in range(1,20):\n",
    "    if i%2==0:\n",
    "        dict1.update({i:'even'})  \n",
    " \n",
    "dict1\n",
    "\n",
    "\n",
    "{i:'even' for i in range(1,20) if i%2==0}\n",
    "\n",
    "#=============================================================\n",
    "list1=[]\n",
    "for i in range(1,20):\n",
    "    if i%2==0:\n",
    "        list1.append(i)\n",
    "        \n",
    "[i for i in range(1,20) if i%2==0]\n"
   ]
  },
  {
   "cell_type": "code",
   "execution_count": 59,
   "id": "7ced6b54",
   "metadata": {},
   "outputs": [
    {
     "data": {
      "text/plain": [
       "{2: 'even',\n",
       " 4: 'even',\n",
       " 6: 'even',\n",
       " 8: 'even',\n",
       " 10: 'even',\n",
       " 12: 'even',\n",
       " 14: 'even',\n",
       " 16: 'even',\n",
       " 18: 'even'}"
      ]
     },
     "execution_count": 59,
     "metadata": {},
     "output_type": "execute_result"
    }
   ],
   "source": [
    "{i:'even' for i in range(1,20) if i%2==0}"
   ]
  },
  {
   "cell_type": "markdown",
   "id": "e61c08e5",
   "metadata": {},
   "source": [
    "$word$-$frequency$"
   ]
  },
  {
   "cell_type": "code",
   "execution_count": null,
   "id": "daa8f176",
   "metadata": {},
   "outputs": [],
   "source": [
    "string=\"can can you canner can as you can able to can as you\"\n",
    "\n",
    "# output: {'can':5,'you':3,\"canner\":1}\n",
    "\n",
    "# step-1: empty dictionary in the starting\n",
    "# step-2: split the sentence   outpu: list of values =['can','can','you']\n",
    "# step-3: itertae through each word : for i in list1\n",
    "# step-4: count method in list  ===== > number\n",
    "# step-5: create the dictionary with word and number"
   ]
  },
  {
   "cell_type": "code",
   "execution_count": 70,
   "id": "ab5f008a",
   "metadata": {},
   "outputs": [
    {
     "data": {
      "text/plain": [
       "{'can': 5, 'you': 3, 'canner': 1, 'as': 2, 'able': 1, 'to': 1}"
      ]
     },
     "execution_count": 70,
     "metadata": {},
     "output_type": "execute_result"
    }
   ],
   "source": [
    "string=\"can can you canner can as you can able to can as you\"\n",
    "dict3={}\n",
    "count=0\n",
    "list1=string.split()\n",
    "for i in list1:\n",
    "    val1=list1.count(i) \n",
    "    dict3[i]=val1\n",
    "    \n",
    "    \n",
    "# step-1:  i='can'    list1.count('can')=5\n",
    "# step-2:  i='can'    list1.count('can')=5\n",
    "dict3\n",
    "\n",
    "# hacker rank\n",
    "# read the twice"
   ]
  },
  {
   "cell_type": "code",
   "execution_count": 66,
   "id": "abf6562c",
   "metadata": {},
   "outputs": [
    {
     "data": {
      "text/plain": [
       "5"
      ]
     },
     "execution_count": 66,
     "metadata": {},
     "output_type": "execute_result"
    }
   ],
   "source": [
    "l1=['can', 'can', 'you', 'canner', 'can', 'as', 'you', 'can', 'able', 'to', 'can', 'as', 'you']\n",
    "l1.count('can')"
   ]
  },
  {
   "cell_type": "code",
   "execution_count": 67,
   "id": "bd7571e6",
   "metadata": {},
   "outputs": [
    {
     "data": {
      "text/plain": [
       "{'can': 5}"
      ]
     },
     "execution_count": 67,
     "metadata": {},
     "output_type": "execute_result"
    }
   ],
   "source": [
    "dict4={}\n",
    "dict4[i]=val1\n",
    "dict4"
   ]
  },
  {
   "cell_type": "code",
   "execution_count": 72,
   "id": "3038c509",
   "metadata": {},
   "outputs": [
    {
     "data": {
      "text/plain": [
       "1"
      ]
     },
     "execution_count": 72,
     "metadata": {},
     "output_type": "execute_result"
    }
   ],
   "source": [
    "min((1,2,3))"
   ]
  },
  {
   "cell_type": "markdown",
   "id": "bf787bf1",
   "metadata": {},
   "source": [
    "**important**"
   ]
  },
  {
   "cell_type": "code",
   "execution_count": null,
   "id": "059c78ea",
   "metadata": {},
   "outputs": [],
   "source": []
  }
 ],
 "metadata": {
  "kernelspec": {
   "display_name": "Python 3 (ipykernel)",
   "language": "python",
   "name": "python3"
  },
  "language_info": {
   "codemirror_mode": {
    "name": "ipython",
    "version": 3
   },
   "file_extension": ".py",
   "mimetype": "text/x-python",
   "name": "python",
   "nbconvert_exporter": "python",
   "pygments_lexer": "ipython3",
   "version": "3.10.9"
  }
 },
 "nbformat": 4,
 "nbformat_minor": 5
}
