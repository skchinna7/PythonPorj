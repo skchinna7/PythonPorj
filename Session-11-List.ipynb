{
 "cells": [
  {
   "cell_type": "code",
   "execution_count": null,
   "id": "76784ad7",
   "metadata": {},
   "outputs": [],
   "source": [
    "- Strings conecpt is completed ===== > Today you will get an assignemnt on Strings"
   ]
  },
  {
   "cell_type": "markdown",
   "id": "a8482ec0",
   "metadata": {},
   "source": [
    "- Basic syntax\n",
    "\n",
    "- type\n",
    "\n",
    "- len\n",
    "\n",
    "- max\n",
    "\n",
    "- min\n",
    "\n",
    "- concatination\n",
    "\n",
    "- mutable vs immutable\n",
    "\n",
    "- methods"
   ]
  },
  {
   "cell_type": "code",
   "execution_count": 1,
   "id": "cef65429",
   "metadata": {},
   "outputs": [],
   "source": [
    "list1=[1,2,3,4]"
   ]
  },
  {
   "cell_type": "code",
   "execution_count": 2,
   "id": "e5ccce73",
   "metadata": {},
   "outputs": [
    {
     "data": {
      "text/plain": [
       "list"
      ]
     },
     "execution_count": 2,
     "metadata": {},
     "output_type": "execute_result"
    }
   ],
   "source": [
    "type(list1)"
   ]
  },
  {
   "cell_type": "code",
   "execution_count": 3,
   "id": "3c640d61",
   "metadata": {},
   "outputs": [
    {
     "data": {
      "text/plain": [
       "['Apple', 'Ball', 'Bat']"
      ]
     },
     "execution_count": 3,
     "metadata": {},
     "output_type": "execute_result"
    }
   ],
   "source": [
    "list2=['Apple','Ball','Bat']\n",
    "list2"
   ]
  },
  {
   "cell_type": "code",
   "execution_count": 4,
   "id": "1c80e4cf",
   "metadata": {},
   "outputs": [
    {
     "data": {
      "text/plain": [
       "[1, 2, 3, 4, 'Apple', 'Ball', 'Bat', '10.5', 10.5, (10+20j)]"
      ]
     },
     "execution_count": 4,
     "metadata": {},
     "output_type": "execute_result"
    }
   ],
   "source": [
    "list3=[1,2,3,4,'Apple','Ball','Bat','10.5',10.5,10+20j]\n",
    "list3"
   ]
  },
  {
   "cell_type": "code",
   "execution_count": 5,
   "id": "0a00238d",
   "metadata": {},
   "outputs": [
    {
     "data": {
      "text/plain": [
       "[1, 2, 3, 4, ['A', 'B', 'C']]"
      ]
     },
     "execution_count": 5,
     "metadata": {},
     "output_type": "execute_result"
    }
   ],
   "source": [
    "list4=[1,2,3,4,['A','B','C']]\n",
    "list4"
   ]
  },
  {
   "cell_type": "code",
   "execution_count": 6,
   "id": "fc60347a",
   "metadata": {},
   "outputs": [
    {
     "data": {
      "text/plain": [
       "[100, 100, 100]"
      ]
     },
     "execution_count": 6,
     "metadata": {},
     "output_type": "execute_result"
    }
   ],
   "source": [
    "list5=[100,100,100]\n",
    "list5"
   ]
  },
  {
   "cell_type": "markdown",
   "id": "96d7cd00",
   "metadata": {},
   "source": [
    "- list values are in square brackets seperated by comma\n",
    "\n",
    "- list can have any type of values, heterogeneous type can be allowed\n",
    "\n",
    "- list inside list also possible\n",
    "\n",
    "- list can have dupilcates"
   ]
  },
  {
   "cell_type": "code",
   "execution_count": 7,
   "id": "3fd71f7d",
   "metadata": {},
   "outputs": [
    {
     "name": "stdout",
     "output_type": "stream",
     "text": [
      "[1, 2, 3, 4]\n",
      "['Apple', 'Ball', 'Bat']\n",
      "[1, 2, 3, 4, 'Apple', 'Ball', 'Bat', '10.5', 10.5, (10+20j)]\n"
     ]
    }
   ],
   "source": [
    "print(list1)\n",
    "print(list2)\n",
    "print(list3)"
   ]
  },
  {
   "cell_type": "markdown",
   "id": "bb362aa9",
   "metadata": {},
   "source": [
    "$max$"
   ]
  },
  {
   "cell_type": "code",
   "execution_count": 8,
   "id": "7a70de09",
   "metadata": {},
   "outputs": [
    {
     "data": {
      "text/plain": [
       "4"
      ]
     },
     "execution_count": 8,
     "metadata": {},
     "output_type": "execute_result"
    }
   ],
   "source": [
    "max(list1)"
   ]
  },
  {
   "cell_type": "code",
   "execution_count": 9,
   "id": "40868bad",
   "metadata": {},
   "outputs": [
    {
     "data": {
      "text/plain": [
       "'Bat'"
      ]
     },
     "execution_count": 9,
     "metadata": {},
     "output_type": "execute_result"
    }
   ],
   "source": [
    "max(list2)"
   ]
  },
  {
   "cell_type": "code",
   "execution_count": 10,
   "id": "0258457e",
   "metadata": {},
   "outputs": [
    {
     "ename": "TypeError",
     "evalue": "'>' not supported between instances of 'str' and 'int'",
     "output_type": "error",
     "traceback": [
      "\u001b[1;31m---------------------------------------------------------------------------\u001b[0m",
      "\u001b[1;31mTypeError\u001b[0m                                 Traceback (most recent call last)",
      "Cell \u001b[1;32mIn [10], line 1\u001b[0m\n\u001b[1;32m----> 1\u001b[0m \u001b[38;5;28;43mmax\u001b[39;49m\u001b[43m(\u001b[49m\u001b[43mlist3\u001b[49m\u001b[43m)\u001b[49m \n\u001b[0;32m      2\u001b[0m \u001b[38;5;66;03m# it will give an error\u001b[39;00m\n\u001b[0;32m      3\u001b[0m \u001b[38;5;66;03m# we are comparing different data types\u001b[39;00m\n",
      "\u001b[1;31mTypeError\u001b[0m: '>' not supported between instances of 'str' and 'int'"
     ]
    }
   ],
   "source": [
    "max(list3) \n",
    "# it will give an error\n",
    "# we are comparing different data types"
   ]
  },
  {
   "cell_type": "code",
   "execution_count": 11,
   "id": "b946c20a",
   "metadata": {},
   "outputs": [
    {
     "ename": "TypeError",
     "evalue": "'>' not supported between instances of 'list' and 'int'",
     "output_type": "error",
     "traceback": [
      "\u001b[1;31m---------------------------------------------------------------------------\u001b[0m",
      "\u001b[1;31mTypeError\u001b[0m                                 Traceback (most recent call last)",
      "Cell \u001b[1;32mIn [11], line 1\u001b[0m\n\u001b[1;32m----> 1\u001b[0m \u001b[38;5;28;43mmax\u001b[39;49m\u001b[43m(\u001b[49m\u001b[43mlist4\u001b[49m\u001b[43m)\u001b[49m\n",
      "\u001b[1;31mTypeError\u001b[0m: '>' not supported between instances of 'list' and 'int'"
     ]
    }
   ],
   "source": [
    "max(list4)"
   ]
  },
  {
   "cell_type": "code",
   "execution_count": 13,
   "id": "b74813a4",
   "metadata": {},
   "outputs": [
    {
     "data": {
      "text/plain": [
       "[1, 2, 3, 4, ['A', 'B', 'C']]"
      ]
     },
     "execution_count": 13,
     "metadata": {},
     "output_type": "execute_result"
    }
   ],
   "source": [
    "list4  # [int,int,int,int,list]"
   ]
  },
  {
   "cell_type": "code",
   "execution_count": 12,
   "id": "a14e5c36",
   "metadata": {},
   "outputs": [
    {
     "data": {
      "text/plain": [
       "100"
      ]
     },
     "execution_count": 12,
     "metadata": {},
     "output_type": "execute_result"
    }
   ],
   "source": [
    "max(list5)"
   ]
  },
  {
   "cell_type": "markdown",
   "id": "6c66c732",
   "metadata": {},
   "source": [
    "$Min$"
   ]
  },
  {
   "cell_type": "code",
   "execution_count": 14,
   "id": "df56e38c",
   "metadata": {},
   "outputs": [
    {
     "data": {
      "text/plain": [
       "1"
      ]
     },
     "execution_count": 14,
     "metadata": {},
     "output_type": "execute_result"
    }
   ],
   "source": [
    "min(list1)"
   ]
  },
  {
   "cell_type": "code",
   "execution_count": 15,
   "id": "014bc65e",
   "metadata": {},
   "outputs": [
    {
     "data": {
      "text/plain": [
       "'Apple'"
      ]
     },
     "execution_count": 15,
     "metadata": {},
     "output_type": "execute_result"
    }
   ],
   "source": [
    "min(list2)"
   ]
  },
  {
   "cell_type": "code",
   "execution_count": 16,
   "id": "56cab7aa",
   "metadata": {},
   "outputs": [
    {
     "data": {
      "text/plain": [
       "100"
      ]
     },
     "execution_count": 16,
     "metadata": {},
     "output_type": "execute_result"
    }
   ],
   "source": [
    "min(list5)"
   ]
  },
  {
   "cell_type": "code",
   "execution_count": 17,
   "id": "8e1b5460",
   "metadata": {},
   "outputs": [
    {
     "data": {
      "text/plain": [
       "[1, 2, 3, 4, 'Apple', 'Ball', 'Bat']"
      ]
     },
     "execution_count": 17,
     "metadata": {},
     "output_type": "execute_result"
    }
   ],
   "source": [
    "list1+list2"
   ]
  },
  {
   "cell_type": "code",
   "execution_count": 18,
   "id": "c8f601f2",
   "metadata": {},
   "outputs": [
    {
     "data": {
      "text/plain": [
       "[1, 2, 3, 4, 11, 22, 33, 44]"
      ]
     },
     "execution_count": 18,
     "metadata": {},
     "output_type": "execute_result"
    }
   ],
   "source": [
    "list1=[1,2,3,4]\n",
    "list2=[11,22,33,44]\n",
    "list1+list2  # 1+11, 2+22,3+33,4+44 --- > this will not happend"
   ]
  },
  {
   "cell_type": "code",
   "execution_count": 19,
   "id": "30a44a7c",
   "metadata": {},
   "outputs": [
    {
     "data": {
      "text/plain": [
       "[11, 22, 33, 44, 1, 2, 3, 4]"
      ]
     },
     "execution_count": 19,
     "metadata": {},
     "output_type": "execute_result"
    }
   ],
   "source": [
    "list2+list1"
   ]
  },
  {
   "cell_type": "code",
   "execution_count": null,
   "id": "c330d902",
   "metadata": {},
   "outputs": [],
   "source": [
    "list1*list2  # error\n",
    "list1/list2  # error\n",
    "list1-list2  # error\n",
    "\n",
    "# same as strings concept"
   ]
  },
  {
   "cell_type": "markdown",
   "id": "13da82ed",
   "metadata": {},
   "source": [
    "$length$:"
   ]
  },
  {
   "cell_type": "code",
   "execution_count": 29,
   "id": "622d0542",
   "metadata": {},
   "outputs": [
    {
     "name": "stdout",
     "output_type": "stream",
     "text": [
      "[1, 2, 3, 4]\n"
     ]
    },
    {
     "data": {
      "text/plain": [
       "4"
      ]
     },
     "execution_count": 29,
     "metadata": {},
     "output_type": "execute_result"
    }
   ],
   "source": [
    "print(list1)\n",
    "len(list1)"
   ]
  },
  {
   "cell_type": "code",
   "execution_count": 31,
   "id": "e724027e",
   "metadata": {},
   "outputs": [
    {
     "name": "stdout",
     "output_type": "stream",
     "text": [
      "[1, 2, 3, 4, 'Apple', 'Ball', 'Bat', '10.5', 10.5, (10+20j)]\n"
     ]
    },
    {
     "data": {
      "text/plain": [
       "10"
      ]
     },
     "execution_count": 31,
     "metadata": {},
     "output_type": "execute_result"
    }
   ],
   "source": [
    "print(list3)\n",
    "len(list3)"
   ]
  },
  {
   "cell_type": "code",
   "execution_count": null,
   "id": "4db12b1e",
   "metadata": {},
   "outputs": [],
   "source": []
  },
  {
   "cell_type": "markdown",
   "id": "1e217fc0",
   "metadata": {},
   "source": [
    "$index$:"
   ]
  },
  {
   "cell_type": "code",
   "execution_count": 24,
   "id": "c10633f3",
   "metadata": {},
   "outputs": [
    {
     "data": {
      "text/plain": [
       "[11, 22, 33, 44]"
      ]
     },
     "execution_count": 24,
     "metadata": {},
     "output_type": "execute_result"
    }
   ],
   "source": [
    "list2"
   ]
  },
  {
   "cell_type": "code",
   "execution_count": 26,
   "id": "4ae19054",
   "metadata": {},
   "outputs": [
    {
     "name": "stdout",
     "output_type": "stream",
     "text": [
      "11\n",
      "22\n",
      "33\n",
      "44\n"
     ]
    }
   ],
   "source": [
    "# 11 22 33 44\n",
    "# 0  1  2  3\n",
    "print(list2[0])\n",
    "print(list2[1])\n",
    "print(list2[2])\n",
    "print(list2[3])"
   ]
  },
  {
   "cell_type": "code",
   "execution_count": 27,
   "id": "49c0a927",
   "metadata": {},
   "outputs": [
    {
     "name": "stdout",
     "output_type": "stream",
     "text": [
      "p y t h o n "
     ]
    }
   ],
   "source": [
    "str1='python'\n",
    "for i in range(0,len(str1)):\n",
    "    print(str1[i],end=' ')"
   ]
  },
  {
   "cell_type": "code",
   "execution_count": 35,
   "id": "9dc19e1e",
   "metadata": {},
   "outputs": [
    {
     "name": "stdout",
     "output_type": "stream",
     "text": [
      "4\n",
      "0 11\n",
      "1 22\n",
      "2 33\n",
      "3 44\n"
     ]
    }
   ],
   "source": [
    "# print the list2 values using for loop\n",
    "print(len(list2)) #4\n",
    "for i in range(0,len(list2)): # range(0,4) start=0 dir=post gap=1 last=4-1=3\n",
    "    print(i,list2[i])"
   ]
  },
  {
   "cell_type": "markdown",
   "id": "cda0f2b3",
   "metadata": {},
   "source": [
    "$in$"
   ]
  },
  {
   "cell_type": "code",
   "execution_count": 36,
   "id": "adee409a",
   "metadata": {},
   "outputs": [
    {
     "name": "stdout",
     "output_type": "stream",
     "text": [
      "[11, 22, 33, 44]\n"
     ]
    }
   ],
   "source": [
    "print(list2)"
   ]
  },
  {
   "cell_type": "code",
   "execution_count": 38,
   "id": "a227469b",
   "metadata": {},
   "outputs": [
    {
     "data": {
      "text/plain": [
       "True"
      ]
     },
     "execution_count": 38,
     "metadata": {},
     "output_type": "execute_result"
    }
   ],
   "source": [
    "11 in list2\n",
    "22 in list2\n",
    "33 in list2\n",
    "44 in list2\n",
    "\n",
    "# i in list2"
   ]
  },
  {
   "cell_type": "code",
   "execution_count": 39,
   "id": "c157cfa3",
   "metadata": {},
   "outputs": [
    {
     "name": "stdout",
     "output_type": "stream",
     "text": [
      "11 22 33 44 "
     ]
    }
   ],
   "source": [
    "list2=[11,22,33,44]\n",
    "for i in list2:\n",
    "    print(i,end=\" \")"
   ]
  },
  {
   "cell_type": "code",
   "execution_count": null,
   "id": "d05b657a",
   "metadata": {},
   "outputs": [],
   "source": []
  },
  {
   "cell_type": "code",
   "execution_count": 40,
   "id": "a364dc67",
   "metadata": {},
   "outputs": [
    {
     "data": {
      "text/plain": [
       "[1, 2, 3, 4, ['A', 'B', 'C']]"
      ]
     },
     "execution_count": 40,
     "metadata": {},
     "output_type": "execute_result"
    }
   ],
   "source": [
    "list4\n",
    "# retrive the index of 'A'"
   ]
  },
  {
   "cell_type": "code",
   "execution_count": 56,
   "id": "c4e1106e",
   "metadata": {},
   "outputs": [
    {
     "data": {
      "text/plain": [
       "'A'"
      ]
     },
     "execution_count": 56,
     "metadata": {},
     "output_type": "execute_result"
    }
   ],
   "source": [
    "list12=[1,2,3,4,'A']\n",
    "# what is the index of 'A'?\n",
    "list12[4]"
   ]
  },
  {
   "cell_type": "code",
   "execution_count": null,
   "id": "aceaf8fb",
   "metadata": {},
   "outputs": [],
   "source": [
    "[1, 2, 3, 4, ['A', 'B', 'C']]\n",
    " 0  1  2  3  -------4------   "
   ]
  },
  {
   "cell_type": "code",
   "execution_count": 46,
   "id": "97fcdadf",
   "metadata": {},
   "outputs": [
    {
     "data": {
      "text/plain": [
       "'A'"
      ]
     },
     "execution_count": 46,
     "metadata": {},
     "output_type": "execute_result"
    }
   ],
   "source": [
    "new_list=list4[4]\n",
    "new_list[0]"
   ]
  },
  {
   "cell_type": "code",
   "execution_count": 49,
   "id": "660c5cab",
   "metadata": {},
   "outputs": [
    {
     "data": {
      "text/plain": [
       "'A'"
      ]
     },
     "execution_count": 49,
     "metadata": {},
     "output_type": "execute_result"
    }
   ],
   "source": [
    "list4[4][0]  # new_list[0]"
   ]
  },
  {
   "cell_type": "code",
   "execution_count": 50,
   "id": "fb4d9432",
   "metadata": {},
   "outputs": [
    {
     "data": {
      "text/plain": [
       "'B'"
      ]
     },
     "execution_count": 50,
     "metadata": {},
     "output_type": "execute_result"
    }
   ],
   "source": [
    "list4[4][1]"
   ]
  },
  {
   "cell_type": "code",
   "execution_count": 53,
   "id": "8cb8bdfc",
   "metadata": {},
   "outputs": [
    {
     "data": {
      "text/plain": [
       "3"
      ]
     },
     "execution_count": 53,
     "metadata": {},
     "output_type": "execute_result"
    }
   ],
   "source": [
    "len(list4[4])"
   ]
  },
  {
   "cell_type": "code",
   "execution_count": 55,
   "id": "eb9c25e2",
   "metadata": {},
   "outputs": [
    {
     "data": {
      "text/plain": [
       "[1, 2, 3, 4, [[[[['A', 'B', [100]]]]]]]"
      ]
     },
     "execution_count": 55,
     "metadata": {},
     "output_type": "execute_result"
    }
   ],
   "source": [
    "list11=[1,2,3,4,[[[[['A','B',[100]]]]]]]\n",
    "list11 "
   ]
  },
  {
   "cell_type": "code",
   "execution_count": null,
   "id": "c2682b2d",
   "metadata": {},
   "outputs": [],
   "source": [
    "# retrive the index of 100"
   ]
  },
  {
   "cell_type": "code",
   "execution_count": 58,
   "id": "95446d34",
   "metadata": {},
   "outputs": [
    {
     "data": {
      "text/plain": [
       "[[[[['A', 'B', [100]]]]]]"
      ]
     },
     "execution_count": 58,
     "metadata": {},
     "output_type": "execute_result"
    }
   ],
   "source": [
    "list11[4] # [100,200]"
   ]
  },
  {
   "cell_type": "code",
   "execution_count": null,
   "id": "9b5cd516",
   "metadata": {},
   "outputs": [],
   "source": [
    "[50,[50]]  # [[50]]"
   ]
  },
  {
   "cell_type": "code",
   "execution_count": null,
   "id": "0a4f0bd3",
   "metadata": {},
   "outputs": [],
   "source": [
    "[50]  # 1\n",
    "[[50]] # 1\n",
    "[[[50]]]  #1"
   ]
  },
  {
   "cell_type": "code",
   "execution_count": 61,
   "id": "1372544e",
   "metadata": {},
   "outputs": [
    {
     "data": {
      "text/plain": [
       "50"
      ]
     },
     "execution_count": 61,
     "metadata": {},
     "output_type": "execute_result"
    }
   ],
   "source": [
    "list1=[[[50]]]\n",
    "list1[0][0][0]"
   ]
  },
  {
   "cell_type": "code",
   "execution_count": 62,
   "id": "37bf78d1",
   "metadata": {},
   "outputs": [
    {
     "data": {
      "text/plain": [
       "[1, 2, 3, 4, [[[[['A', 'B', [100]]]]]]]"
      ]
     },
     "execution_count": 62,
     "metadata": {},
     "output_type": "execute_result"
    }
   ],
   "source": [
    "list11=[1,2,3,4,[[[[['A','B',[100]]]]]]]\n",
    "list11 \n",
    "# how many values are there : 5---->0 1 2 3 4"
   ]
  },
  {
   "cell_type": "code",
   "execution_count": 72,
   "id": "b97af001",
   "metadata": {},
   "outputs": [
    {
     "data": {
      "text/plain": [
       "100"
      ]
     },
     "execution_count": 72,
     "metadata": {},
     "output_type": "execute_result"
    }
   ],
   "source": [
    "list11[4][0][0][0][0][2][0]"
   ]
  },
  {
   "cell_type": "code",
   "execution_count": 66,
   "id": "0ec7fb65",
   "metadata": {},
   "outputs": [
    {
     "data": {
      "text/plain": [
       "50"
      ]
     },
     "execution_count": 66,
     "metadata": {},
     "output_type": "execute_result"
    }
   ],
   "source": [
    "a=[[50,50]]\n",
    "a[0][0]"
   ]
  },
  {
   "cell_type": "code",
   "execution_count": null,
   "id": "39680728",
   "metadata": {},
   "outputs": [],
   "source": [
    "[1, 2, 3, 4, ['A', 'B', 'C']]"
   ]
  },
  {
   "cell_type": "code",
   "execution_count": 73,
   "id": "f949c2e6",
   "metadata": {},
   "outputs": [],
   "source": [
    "list22=['A','B','C',[100,200,[300,400,[500,600,[700]]]]]\n",
    "# retrive the index of 700 \n",
    "# 3 2 2 2 0"
   ]
  },
  {
   "cell_type": "code",
   "execution_count": 79,
   "id": "576d23cc",
   "metadata": {},
   "outputs": [
    {
     "data": {
      "text/plain": [
       "700"
      ]
     },
     "execution_count": 79,
     "metadata": {},
     "output_type": "execute_result"
    }
   ],
   "source": [
    "list22[3][2][2][2][0]"
   ]
  },
  {
   "cell_type": "code",
   "execution_count": null,
   "id": "94ea89f1",
   "metadata": {},
   "outputs": [],
   "source": [
    "# jsons\n",
    "# list in list\n",
    "# matrix\n",
    "# numpy"
   ]
  },
  {
   "cell_type": "markdown",
   "id": "3d71afd8",
   "metadata": {},
   "source": [
    "$mutable$-$immutable$"
   ]
  },
  {
   "cell_type": "code",
   "execution_count": 80,
   "id": "283d61b9",
   "metadata": {},
   "outputs": [
    {
     "data": {
      "text/plain": [
       "[1, 200, 300]"
      ]
     },
     "execution_count": 80,
     "metadata": {},
     "output_type": "execute_result"
    }
   ],
   "source": [
    "list1=[1,200,300]\n",
    "list1"
   ]
  },
  {
   "cell_type": "code",
   "execution_count": 81,
   "id": "357c0bf1",
   "metadata": {},
   "outputs": [
    {
     "data": {
      "text/plain": [
       "1"
      ]
     },
     "execution_count": 81,
     "metadata": {},
     "output_type": "execute_result"
    }
   ],
   "source": [
    "# i want to change 1 to 100 by using index values\n",
    "list1[0]"
   ]
  },
  {
   "cell_type": "code",
   "execution_count": 82,
   "id": "71bf299e",
   "metadata": {},
   "outputs": [],
   "source": [
    "list1[0]=100"
   ]
  },
  {
   "cell_type": "code",
   "execution_count": 83,
   "id": "dd40b65d",
   "metadata": {},
   "outputs": [
    {
     "data": {
      "text/plain": [
       "[100, 200, 300]"
      ]
     },
     "execution_count": 83,
     "metadata": {},
     "output_type": "execute_result"
    }
   ],
   "source": [
    "list1"
   ]
  },
  {
   "cell_type": "code",
   "execution_count": 84,
   "id": "4155c083",
   "metadata": {},
   "outputs": [
    {
     "data": {
      "text/plain": [
       "['A', 'B', 'C']"
      ]
     },
     "execution_count": 84,
     "metadata": {},
     "output_type": "execute_result"
    }
   ],
   "source": [
    "list2=['A',100,'C']\n",
    "list2[1]='B' # 100 --- > B \n",
    "list2"
   ]
  },
  {
   "cell_type": "code",
   "execution_count": null,
   "id": "e734550d",
   "metadata": {},
   "outputs": [],
   "source": [
    "list3=['HYd','Mum#ai','Chennai','Bengalu#ru']\n",
    "# print the value in list which are having #\n",
    "# 'Mumb$ai','Bengalu#ru']\n",
    "\n",
    "# step-1: iterate the list3 values ======>for loop\n",
    "# step-2: apply the condition if '#' is there in that values === > if"
   ]
  },
  {
   "cell_type": "code",
   "execution_count": 86,
   "id": "f52e240c",
   "metadata": {},
   "outputs": [
    {
     "name": "stdout",
     "output_type": "stream",
     "text": [
      "Mumb#ai\n"
     ]
    }
   ],
   "source": [
    "list1 = ['Hyd', 'Mumb#ai','Chennai','Surat']\n",
    "for i in list1:\n",
    "    if '#'in i:\n",
    "        print(i)\n",
    "        "
   ]
  },
  {
   "cell_type": "code",
   "execution_count": 87,
   "id": "3c1292b3",
   "metadata": {},
   "outputs": [
    {
     "data": {
      "text/plain": [
       "True"
      ]
     },
     "execution_count": 87,
     "metadata": {},
     "output_type": "execute_result"
    }
   ],
   "source": [
    "'a' in 'pple a'"
   ]
  },
  {
   "cell_type": "code",
   "execution_count": 89,
   "id": "d910fd16",
   "metadata": {},
   "outputs": [
    {
     "name": "stdout",
     "output_type": "stream",
     "text": [
      "100 200 300 400 2 4 "
     ]
    }
   ],
   "source": [
    "list1=[100,200,300,400,1,2,3,4]\n",
    "# print the even values\n",
    "# step-1: iertae through list\n",
    "# step-2: if condition\n",
    "for i in list1:\n",
    "    if i%2==0:\n",
    "        print(i,end=' ')"
   ]
  },
  {
   "cell_type": "code",
   "execution_count": null,
   "id": "415b6359",
   "metadata": {},
   "outputs": [],
   "source": [
    "list3=['HYd','Mum#ai','Chennai','Bengalu#ru','delhi']\n",
    "# print the values whose length<=4\n"
   ]
  },
  {
   "cell_type": "code",
   "execution_count": 90,
   "id": "28664470",
   "metadata": {},
   "outputs": [
    {
     "name": "stdout",
     "output_type": "stream",
     "text": [
      "Mumb#ai\n",
      "1\n"
     ]
    }
   ],
   "source": [
    "list1 = ['Hyd', 'Mumb#ai','Chennai','Surat']\n",
    "count=0\n",
    "for i in list1:\n",
    "    if '#'in i:\n",
    "        print(i)\n",
    "        count+=1\n",
    "        \n",
    "print(count)"
   ]
  },
  {
   "cell_type": "code",
   "execution_count": 93,
   "id": "34a8fe02",
   "metadata": {},
   "outputs": [
    {
     "name": "stdout",
     "output_type": "stream",
     "text": [
      "100 200 300 400 2 4 ====================\n",
      "6\n"
     ]
    }
   ],
   "source": [
    "list1=[100,200,300,400,1,2,3,4]\n",
    "count=0\n",
    "for i in list1:\n",
    "    if i%2==0:\n",
    "        print(i,end=' ')\n",
    "        count+=1\n",
    "print(\"====================\")\n",
    "print(count)"
   ]
  },
  {
   "cell_type": "code",
   "execution_count": null,
   "id": "4f103921",
   "metadata": {},
   "outputs": [],
   "source": [
    "list3=['HYd','Mum#ai','Chennai','Bengalu#ru','delhi']\n",
    "# print the values whose length<=4   "
   ]
  },
  {
   "cell_type": "markdown",
   "id": "662b6f3d",
   "metadata": {},
   "source": [
    "$Methods$"
   ]
  },
  {
   "cell_type": "code",
   "execution_count": 94,
   "id": "9cc724e2",
   "metadata": {},
   "outputs": [
    {
     "data": {
      "text/plain": [
       "['__add__',\n",
       " '__class__',\n",
       " '__class_getitem__',\n",
       " '__contains__',\n",
       " '__delattr__',\n",
       " '__delitem__',\n",
       " '__dir__',\n",
       " '__doc__',\n",
       " '__eq__',\n",
       " '__format__',\n",
       " '__ge__',\n",
       " '__getattribute__',\n",
       " '__getitem__',\n",
       " '__gt__',\n",
       " '__hash__',\n",
       " '__iadd__',\n",
       " '__imul__',\n",
       " '__init__',\n",
       " '__init_subclass__',\n",
       " '__iter__',\n",
       " '__le__',\n",
       " '__len__',\n",
       " '__lt__',\n",
       " '__mul__',\n",
       " '__ne__',\n",
       " '__new__',\n",
       " '__reduce__',\n",
       " '__reduce_ex__',\n",
       " '__repr__',\n",
       " '__reversed__',\n",
       " '__rmul__',\n",
       " '__setattr__',\n",
       " '__setitem__',\n",
       " '__sizeof__',\n",
       " '__str__',\n",
       " '__subclasshook__',\n",
       " 'append',\n",
       " 'clear',\n",
       " 'copy',\n",
       " 'count',\n",
       " 'extend',\n",
       " 'index',\n",
       " 'insert',\n",
       " 'pop',\n",
       " 'remove',\n",
       " 'reverse',\n",
       " 'sort']"
      ]
     },
     "execution_count": 94,
     "metadata": {},
     "output_type": "execute_result"
    }
   ],
   "source": [
    "dir(list1)"
   ]
  },
  {
   "cell_type": "code",
   "execution_count": 95,
   "id": "f683e735",
   "metadata": {},
   "outputs": [
    {
     "data": {
      "text/plain": [
       "['__add__',\n",
       " '__class__',\n",
       " '__class_getitem__',\n",
       " '__contains__',\n",
       " '__delattr__',\n",
       " '__delitem__',\n",
       " '__dir__',\n",
       " '__doc__',\n",
       " '__eq__',\n",
       " '__format__',\n",
       " '__ge__',\n",
       " '__getattribute__',\n",
       " '__getitem__',\n",
       " '__gt__',\n",
       " '__hash__',\n",
       " '__iadd__',\n",
       " '__imul__',\n",
       " '__init__',\n",
       " '__init_subclass__',\n",
       " '__iter__',\n",
       " '__le__',\n",
       " '__len__',\n",
       " '__lt__',\n",
       " '__mul__',\n",
       " '__ne__',\n",
       " '__new__',\n",
       " '__reduce__',\n",
       " '__reduce_ex__',\n",
       " '__repr__',\n",
       " '__reversed__',\n",
       " '__rmul__',\n",
       " '__setattr__',\n",
       " '__setitem__',\n",
       " '__sizeof__',\n",
       " '__str__',\n",
       " '__subclasshook__',\n",
       " 'append',\n",
       " 'clear',\n",
       " 'copy',\n",
       " 'count',\n",
       " 'extend',\n",
       " 'index',\n",
       " 'insert',\n",
       " 'pop',\n",
       " 'remove',\n",
       " 'reverse',\n",
       " 'sort']"
      ]
     },
     "execution_count": 95,
     "metadata": {},
     "output_type": "execute_result"
    }
   ],
   "source": [
    "dir([1,2,3])"
   ]
  },
  {
   "cell_type": "markdown",
   "id": "1ef88eb7",
   "metadata": {},
   "source": [
    "$append$"
   ]
  },
  {
   "cell_type": "code",
   "execution_count": 96,
   "id": "a221ae55",
   "metadata": {},
   "outputs": [
    {
     "data": {
      "text/plain": [
       "[]"
      ]
     },
     "execution_count": 96,
     "metadata": {},
     "output_type": "execute_result"
    }
   ],
   "source": [
    "list1=[]\n",
    "list1"
   ]
  },
  {
   "cell_type": "code",
   "execution_count": 97,
   "id": "7160dba7",
   "metadata": {},
   "outputs": [],
   "source": [
    "list1.append(100)"
   ]
  },
  {
   "cell_type": "code",
   "execution_count": 98,
   "id": "72742917",
   "metadata": {},
   "outputs": [
    {
     "data": {
      "text/plain": [
       "[100]"
      ]
     },
     "execution_count": 98,
     "metadata": {},
     "output_type": "execute_result"
    }
   ],
   "source": [
    "list1"
   ]
  },
  {
   "cell_type": "code",
   "execution_count": 99,
   "id": "58030272",
   "metadata": {},
   "outputs": [
    {
     "data": {
      "text/plain": [
       "[100, 200]"
      ]
     },
     "execution_count": 99,
     "metadata": {},
     "output_type": "execute_result"
    }
   ],
   "source": [
    "list1.append(200)\n",
    "list1  #[100,200]"
   ]
  },
  {
   "cell_type": "code",
   "execution_count": 101,
   "id": "f4deedf5",
   "metadata": {},
   "outputs": [
    {
     "data": {
      "text/plain": [
       "['A', 'B', 'C', 'D', 100]"
      ]
     },
     "execution_count": 101,
     "metadata": {},
     "output_type": "execute_result"
    }
   ],
   "source": [
    "list2=['A','B']\n",
    "list2.append('C')  # shift + tab\n",
    "list2.append('D') \n",
    "list2.append(100)\n",
    "list2"
   ]
  },
  {
   "cell_type": "code",
   "execution_count": 104,
   "id": "18c2efba",
   "metadata": {},
   "outputs": [
    {
     "name": "stdout",
     "output_type": "stream",
     "text": [
      "Hyd\n"
     ]
    }
   ],
   "source": [
    "list3=['Hyd','Mumbai','Nagpur','delhi']\n",
    "for i in list3:\n",
    "    if len(i)<=3:   # len('hyd')  ==== >  number\n",
    "        print(i)"
   ]
  },
  {
   "cell_type": "code",
   "execution_count": 105,
   "id": "cd44e75a",
   "metadata": {},
   "outputs": [
    {
     "name": "stdout",
     "output_type": "stream",
     "text": [
      "['Mumb#ai']\n"
     ]
    }
   ],
   "source": [
    "# will save results\n",
    "list1 = ['Hyd', 'Mumb#ai','Chennai','Surat']\n",
    "res=[]\n",
    "for i in list1:\n",
    "    if '#'in i:\n",
    "        res.append(i)\n",
    "        \n",
    "print(res)"
   ]
  },
  {
   "cell_type": "code",
   "execution_count": 106,
   "id": "52c52fad",
   "metadata": {},
   "outputs": [
    {
     "data": {
      "text/plain": [
       "[100, 200, 300, 400, 2, 4]"
      ]
     },
     "execution_count": 106,
     "metadata": {},
     "output_type": "execute_result"
    }
   ],
   "source": [
    "list1=[100,200,300,400,1,2,3,4]\n",
    "res1=[]\n",
    "for i in list1:\n",
    "    if i%2==0:\n",
    "        res1.append(i)\n",
    "\n",
    "res1"
   ]
  },
  {
   "cell_type": "code",
   "execution_count": 108,
   "id": "357b8cef",
   "metadata": {},
   "outputs": [
    {
     "data": {
      "text/plain": [
       "['Hyd']"
      ]
     },
     "execution_count": 108,
     "metadata": {},
     "output_type": "execute_result"
    }
   ],
   "source": [
    "list3=['Hyd','Mumbai','Nagpur','delhi']\n",
    "res3=[]\n",
    "for i in list3:\n",
    "    if len(i)<=3:   # len('hyd')  ==== >  number\n",
    "        res3.append(i)\n",
    "res3"
   ]
  },
  {
   "cell_type": "code",
   "execution_count": null,
   "id": "84e6beb4",
   "metadata": {},
   "outputs": [],
   "source": []
  }
 ],
 "metadata": {
  "kernelspec": {
   "display_name": "Python 3 (ipykernel)",
   "language": "python",
   "name": "python3"
  },
  "language_info": {
   "codemirror_mode": {
    "name": "ipython",
    "version": 3
   },
   "file_extension": ".py",
   "mimetype": "text/x-python",
   "name": "python",
   "nbconvert_exporter": "python",
   "pygments_lexer": "ipython3",
   "version": "3.10.9"
  }
 },
 "nbformat": 4,
 "nbformat_minor": 5
}
